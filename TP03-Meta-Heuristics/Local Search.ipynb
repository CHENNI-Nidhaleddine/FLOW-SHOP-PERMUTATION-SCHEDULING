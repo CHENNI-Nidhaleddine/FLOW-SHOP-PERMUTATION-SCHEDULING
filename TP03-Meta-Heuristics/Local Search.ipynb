{
 "cells": [
  {
   "cell_type": "code",
   "execution_count": 3,
   "id": "09809395",
   "metadata": {},
   "outputs": [],
   "source": [
    "import numpy as np\n",
    "import pandas as pd\n",
    "from pyscheduling.FS import FmCmax, FlowShop\n",
    "import pickle\n",
    "import time\n",
    "import matplotlib.pyplot as plt\n",
    "import numpy as np\n",
    "import random"
   ]
  },
  {
   "cell_type": "markdown",
   "id": "adb60e4e",
   "metadata": {},
   "source": [
    "## Makespan"
   ]
  },
  {
   "cell_type": "code",
   "execution_count": 4,
   "id": "dcbfc3d3",
   "metadata": {},
   "outputs": [],
   "source": [
    "def compute_makespan(schedule, p):\n",
    "    _, m = p.shape\n",
    "    n = len(schedule)\n",
    "    c = [[0]*m for i in range(n)]\n",
    "    for i in range(n):\n",
    "        for j in range(m):\n",
    "            if i == 0 and j == 0:\n",
    "                c[i][j] = p[schedule[i]][j]\n",
    "            elif i == 0:\n",
    "                c[i][j] = c[i][j-1] + p[schedule[i]][j]\n",
    "            elif j == 0:\n",
    "                c[i][j] = c[i-1][j] + p[schedule[i]][j]\n",
    "            else:\n",
    "                c[i][j] = max(c[i][j-1], c[i-1][j]) + p[schedule[i]][j]\n",
    "    return c[n-1][m-1]"
   ]
  },
  {
   "attachments": {},
   "cell_type": "markdown",
   "id": "46e02ed1",
   "metadata": {},
   "source": [
    "## Heuristiques (pour l'initialisation)"
   ]
  },
  {
   "cell_type": "code",
   "execution_count": 28,
   "id": "dbe137ce",
   "metadata": {},
   "outputs": [],
   "source": [
    "def heuristique_Ham(M):\n",
    "    m = M.shape[1]\n",
    "\n",
    "    P1 = np.sum(M[:,:m//2], axis=1) # somme des durées sur la première machine\n",
    "    P2 = np.sum(M[:,m//2:], axis=1) # somme des durées sur la deuxième machine\n",
    "    P2_P1 = P2 - P1 # différence entre les deux sommes\n",
    "    ordre = np.flip(np.argsort(P2_P1)) # tri par ordre décroissant\n",
    "\n",
    "    # Première solution\n",
    "    ordre_1 = ordre\n",
    "    Cmax1 = compute_makespan(ordre_1 , M) # makespan de la première solution\n",
    "\n",
    "    # Deuxième solution\n",
    "    indice_positif = ordre[P2_P1[ordre] >= 0] # indices des tâches avec un indice positif ou nul\n",
    "    indice_negatif = ordre[P2_P1[ordre] < 0] # indices des tâches avec un indice négatif\n",
    "\n",
    "    indice_positif = [indice_positif[i] for i in np.argsort(P1[indice_positif])] # tri croissant selon P1\n",
    "    indice_negatif = [indice_negatif[i] for i in np.flip(np.argsort(P2[indice_negatif]))] # tri décroissant selon P2\n",
    "   \n",
    "    ordre_2 = [int(i) for i in np.concatenate((indice_positif, indice_negatif))]\n",
    "    Cmax2 = compute_makespan(ordre_2 , M) # makespan de la deuxième solution\n",
    "\n",
    "    if (Cmax1 > Cmax2):\n",
    "        return ordre_1, Cmax1\n",
    "    else:\n",
    "        return ordre_2, Cmax2\n",
    "    \n",
    "\n",
    "def heuristique_NEH(M):\n",
    "    n , m = M.shape\n",
    "    p = M.copy()\n",
    "\n",
    "    # Step 1: Compute the processing time of each job\n",
    "    processing_time = [sum(p[i]) for i in range(n)]\n",
    "\n",
    "    # Step 2: Sort the jobs in decreasing order of processing time\n",
    "    sorted_jobs = sorted(range(n), key=lambda i: processing_time[i], reverse=True)\n",
    "\n",
    "    # Step 3: Initialize the schedule with the first job\n",
    "    schedule = [sorted_jobs[0]]\n",
    "\n",
    "    # Step 4: Insert each subsequent job into the schedule in a position that minimizes the makespan\n",
    "    for i in range(1, n):\n",
    "        best_pos = -1\n",
    "        best_makespan = float('inf')\n",
    "        for j in range(len(schedule)+1):\n",
    "            temp_schedule = schedule[:j] + [sorted_jobs[i]] + schedule[j:]\n",
    "            temp_makespan = compute_makespan(temp_schedule, p)\n",
    "            if temp_makespan < best_makespan:\n",
    "                best_makespan = temp_makespan\n",
    "                best_pos = j\n",
    "        schedule.insert(best_pos, sorted_jobs[i])\n",
    "\n",
    "    return schedule, compute_makespan(schedule, p)\n",
    "\n",
    "\n",
    "def johnson_method(processing_times):\n",
    "    \n",
    "    jobs, machines = processing_times.shape\n",
    "    #print(jobs,machines)\n",
    "    copy_processing_times = processing_times.copy()\n",
    "    maximum = processing_times.max() + 1\n",
    "    m1 = []\n",
    "    m2 = []\n",
    "    \n",
    "    if machines != 2:\n",
    "        raise Exception(\"Johson method only works with two machines\")\n",
    "        \n",
    "    for i in range(jobs):\n",
    "        minimum = copy_processing_times.min()\n",
    "        position = np.where(copy_processing_times == minimum)\n",
    "        \n",
    "        if position[1][0] == 0:\n",
    "            m1.append(position[0][0])\n",
    "        else:\n",
    "            m2.insert(0, position[0][0])\n",
    "        \n",
    "        copy_processing_times[position[0][0]] = maximum\n",
    "        # Delete the job appended\n",
    "    return m1+m2\n",
    "\n",
    "\n",
    "def heuristique_CDS(M):\n",
    "    m = M.shape[1]\n",
    "    solutions = []\n",
    "    makespans = []\n",
    "\n",
    "    for k in range(1,m):\n",
    "        P1 = M[:,0:k].sum(axis=1) # sommer les durées sur les k premières machines\n",
    "        P2 = M[:,m-k:m].sum(axis=1) # sommer les durées sur les m-k dernières machines\n",
    "        P1_P2 = np.hstack([P1[:,None],P2[:,None]]) # créer une matrice à deux colonnes avec P1 et P2\n",
    "\n",
    "        johnson_seq = johnson_method(P1_P2) # appliquer la méthode de Johnson sur P1_P2\n",
    "\n",
    "        solutions.append(johnson_seq)\n",
    "        makespans.append(np.apply_along_axis(compute_makespan, 0, johnson_seq, M)) # calculer le makespan de v avec M\n",
    "\n",
    "    score = np.min(makespans) # trouver le score minimal\n",
    "    return solutions[np.argmin(makespans)], score # renvoyer la solution correspondant au score minimal"
   ]
  },
  {
   "attachments": {},
   "cell_type": "markdown",
   "id": "c97bda89",
   "metadata": {},
   "source": [
    "# **Iterated Local Search proposée par dong et al (2009)**\n",
    "##### (https://sci-hub.ru/10.1016/j.cor.2008.04.001)"
   ]
  },
  {
   "attachments": {},
   "cell_type": "markdown",
   "id": "59ffde1e",
   "metadata": {},
   "source": [
    "## **Implémentation**"
   ]
  },
  {
   "attachments": {},
   "cell_type": "markdown",
   "id": "6cd666d9",
   "metadata": {},
   "source": [
    "# Utils"
   ]
  },
  {
   "cell_type": "code",
   "execution_count": 6,
   "id": "2c23c166",
   "metadata": {},
   "outputs": [],
   "source": [
    "def perform_insert(schedule, i, j):\n",
    "    \"\"\"\n",
    "    Performs an INSERT move on the given permutation by moving the job at\n",
    "    position i to position j.\n",
    "    \n",
    "     - i: the position of the job to be moved.\n",
    "     - j: the position where the job should be inserted.\n",
    "    \"\"\"\n",
    "    schedule=list(schedule)\n",
    "    new_schedule = schedule.copy()\n",
    "    job = new_schedule.pop(i)\n",
    "    new_schedule.insert(j, job)\n",
    "    return new_schedule\n",
    "\n",
    "def pairwise_permute_n(schedule, n_perturb):\n",
    "    \"\"\"\n",
    "    Performs n random pairwise permutations between elements in a list.\n",
    "    \n",
    "    \"\"\"\n",
    "    new_schedule = schedule.copy()\n",
    "    for i in range(n_perturb):\n",
    "        idx1, idx2 = random.sample(range(len(new_schedule)), 2)\n",
    "        new_schedule[idx1], new_schedule[idx2] = new_schedule[idx2], new_schedule[idx1]\n",
    "    return new_schedule\n",
    "\n",
    "# job here is the index of job in the schedule not the job \n",
    "# saying schedule [3,0,2,1]  job=1 is 3, job =2 is 0 ...\n",
    "def completeion_time_of_job(machine,job,schedule,processing_times):\n",
    "    if(job==1):\n",
    "        cmp=0\n",
    "        for r in range(machine):\n",
    "            cmp=cmp+processing_times[schedule[0]][r]\n",
    "        return cmp\n",
    "    elif(machine==1):\n",
    "        cmp=0\n",
    "        for r in range(job):\n",
    "            cmp=cmp+processing_times[schedule[r]][0]\n",
    "        return cmp\n",
    "    else:\n",
    "        e1=completeion_time_of_job(machine-1,job,schedule,processing_times)\n",
    "        e2=completeion_time_of_job(machine,job-1,schedule,processing_times)\n",
    "        return processing_times[job-1][machine-1]+max(e1,e2)"
   ]
  },
  {
   "attachments": {},
   "cell_type": "markdown",
   "id": "42119bff",
   "metadata": {},
   "source": [
    "### L'algorithme ILS"
   ]
  },
  {
   "attachments": {
    "image.png": {
     "image/png": "[encoded data removed]"
    }
   },
   "cell_type": "markdown",
   "id": "9bb12d4b",
   "metadata": {},
   "source": [
    "![image.png](attachment:image.png)"
   ]
  },
  {
   "cell_type": "code",
   "execution_count": 7,
   "id": "cebb59d8",
   "metadata": {},
   "outputs": [],
   "source": [
    "def dong_et_al_ils(schedule,processing_times,max_iter,n_perturb):\n",
    "    n_jobs , n_machines = processing_times.shape\n",
    "    cnt=0\n",
    "    schedule=list(schedule)\n",
    "    schedule_best=schedule.copy()\n",
    "    \n",
    "    for itr in range(max_iter):\n",
    "        for j in range(n_jobs):\n",
    "            \n",
    "            #selecting the k\n",
    "            k=schedule.index(schedule_best[j])#step 5 of the algorithm\n",
    "            obj = 0\n",
    "            schedule_optim=schedule.copy()\n",
    "            for e in range(n_jobs):\n",
    "                if (k!=e) :\n",
    "                    new_schedule=perform_insert(schedule, k, e)\n",
    "                    new_obj = compute_makespan(new_schedule, processing_times)\n",
    "                    if(new_obj<obj):\n",
    "                        schedule_optim=new_schedule.copy()\n",
    "                        obj = new_obj\n",
    "\n",
    "            #step 7\n",
    "            if(compute_makespan(schedule_optim, processing_times)<compute_makespan(schedule, processing_times)):\n",
    "                schedule=schedule_optim.copy()\n",
    "                cnt=0\n",
    "            else:\n",
    "                cnt=cnt+1\n",
    "\n",
    "            if(compute_makespan(schedule, processing_times)<compute_makespan(schedule_best, processing_times)):\n",
    "                schedule_best=schedule.copy()\n",
    "\n",
    "            if(cnt>=n_jobs):\n",
    "                ss=pairwise_permute_n(schedule_best, n_perturb)\n",
    "                if(compute_makespan(ss, processing_times)<compute_makespan(schedule_best, processing_times)):\n",
    "                    schedule_best=ss.copy()\n",
    "                cnt=0\n",
    "    return schedule_best,compute_makespan(schedule_best, processing_times)"
   ]
  },
  {
   "attachments": {},
   "cell_type": "markdown",
   "id": "bcddda3a",
   "metadata": {},
   "source": [
    "## **Tests et analyse**"
   ]
  },
  {
   "attachments": {},
   "cell_type": "markdown",
   "id": "3b69eb93",
   "metadata": {},
   "source": [
    "###  **Sur l'instance aléatoire**  :"
   ]
  },
  {
   "attachments": {},
   "cell_type": "markdown",
   "id": "5c53bb64",
   "metadata": {},
   "source": [
    "Avec l'instance aléatoire qui a comme fonction objectif optimale : **1102**, nous avons exécuté une recherche locale itérée sur une solution donnée par des heuristiques telles que : Ham et NEH ILS a amélioré cette solution de **1107** vers **1105** comme fonction objectif, avec les paramètres de l'algorithme fixés à 1000 itérations et 4 perturbations, il est à noter que la variation des paramètres n'a pas influencé la solution donnée par ILS pour cette instance, les résultats sont montrés ci-dessous :"
   ]
  },
  {
   "cell_type": "code",
   "execution_count": 29,
   "id": "291e72c6",
   "metadata": {},
   "outputs": [
    {
     "name": "stdout",
     "output_type": "stream",
     "text": [
      "-------Instance aléatoire---------\n"
     ]
    },
    {
     "data": {
      "image/png": "[encoded data removed]",
      "text/plain": [
       "<Figure size 640x480 with 1 Axes>"
      ]
     },
     "metadata": {},
     "output_type": "display_data"
    }
   ],
   "source": [
    "instance=FmCmax.FmCmax_Instance.read_txt(\"../TP02-Heuristiques/data/random_instance.txt\")\n",
    "processing_times = np.array(instance.P)\n",
    "\n",
    "#Run the algorithms\n",
    "schedule_ham, makespan_ham = heuristique_Ham(processing_times)\n",
    "schedule_ils_ham, makespan_ils_ham = dong_et_al_ils(schedule_ham, processing_times, 1000, 4)\n",
    "schedule_neh, makespan_neh = heuristique_NEH(processing_times)\n",
    "schedule_ils_neh, makespan_ils_neh = dong_et_al_ils(schedule_neh, processing_times, 1000, 4)\n",
    "\n",
    "# Plot the results as a bar chart\n",
    "labels = ['Heuristique Ham', 'ILS + Ham', 'Heuristique NEH', 'ILS + NEH']\n",
    "makespans = [makespan_ham, makespan_ils_ham, makespan_neh, makespan_ils_neh]\n",
    "colors = ['tab:blue', 'tab:orange', 'tab:green', 'tab:red']\n",
    "\n",
    "plt.bar(labels, makespans, color=colors)\n",
    "plt.ylabel('Makespan')\n",
    "plt.title('Comparaison des solutions pour différentes initialisations et optimisations')\n",
    "\n",
    "# Set the minimum value of the y-axis to 1000\n",
    "plt.ylim(bottom=1000)\n",
    "\n",
    "# Add the values as text above the bars\n",
    "for i, v in enumerate(makespans):\n",
    "    plt.text(i, v + 1, str(v), ha='center')\n",
    "\n",
    "plt.show()\n"
   ]
  },
  {
   "attachments": {},
   "cell_type": "markdown",
   "id": "2d1300ef",
   "metadata": {},
   "source": [
    "### **Sur les instances de Taillard** :\n",
    "Dans cette section, nous allons tester l'effet des différents paramètres initiaux :\n",
    "- Nombre d'itérations : de 100 à 1000 itérations.\n",
    "- Intensité de perturbatios : de 4 à 7 perturbations, car d'après l'article, il est plus approprié de fixer l'intensité de la perturbation entre 4 et 7.\n",
    "\n",
    "Ainsi que les différentes initalisations :\n",
    "- Ham.\n",
    "- NEH.\n",
    "- CDS.\n",
    "\n",
    "Sur la performance de ILS avec les **10 instances** du **premier Benchmark de Taillard**."
   ]
  },
  {
   "cell_type": "code",
   "execution_count": 8,
   "id": "774658be",
   "metadata": {},
   "outputs": [],
   "source": [
    "f =  open(\"../TP02-Heuristiques/data/Taillard.pkl\", \"rb\")\n",
    "taillard = pickle.load(f)"
   ]
  },
  {
   "attachments": {},
   "cell_type": "markdown",
   "id": "daa87f9e",
   "metadata": {},
   "source": [
    "\n",
    "### Nombre d'itérations & Déviation avec la première instance du Benchmark:\n",
    "Les autres paramètres sont fixés ainsi : \n",
    "- Initialisation : CDS.\n",
    "- Nombre de perturbations : 4."
   ]
  },
  {
   "cell_type": "code",
   "execution_count": 31,
   "id": "1a885520",
   "metadata": {},
   "outputs": [
    {
     "data": {
      "image/png": "[encoded data removed]",
      "text/plain": [
       "<Figure size 640x480 with 1 Axes>"
      ]
     },
     "metadata": {},
     "output_type": "display_data"
    }
   ],
   "source": [
    "\n",
    "nb_perturb=4\n",
    "processing_times = np.array(taillard[0][\"P\"]).transpose()\n",
    "upper_bound = taillard[0][\"ub\"]\n",
    "init_schedule,init_obj=heuristique_CDS(processing_times)\n",
    "iter=[]\n",
    "dev=[]\n",
    "times=[]\n",
    "for max_iter in range(100,1000,100):\n",
    "    iter.append(max_iter)\n",
    "    start_time = time.time()\n",
    "    schedule,obj=dong_et_al_ils(init_schedule,processing_times,max_iter,nb_perturb)\n",
    "    end_time = time.time()\n",
    "    dev.append(100*(compute_makespan(schedule,processing_times)-upper_bound)/upper_bound)\n",
    "    elapsed_time = end_time - start_time\n",
    "    times.append(elapsed_time)\n",
    "\n",
    "# Create a figure and axis object\n",
    "fig, ax = plt.subplots()\n",
    "\n",
    "# Plot the data\n",
    "ax.plot(iter, dev)\n",
    "\n",
    "# Add axis labels and a title\n",
    "ax.set_xlabel('Nombre ditérations')\n",
    "ax.set_ylabel('Déviation')\n",
    "ax.set_title('Variation de la déviation trouvée par ILS en fonction du nombre ditérations')\n",
    "\n",
    "# Display the graph\n",
    "plt.show()"
   ]
  },
  {
   "attachments": {},
   "cell_type": "markdown",
   "id": "6b700df0",
   "metadata": {},
   "source": [
    "### Intensité de perturbation & déviation avec la première instance du Benchmark :\n",
    "Les autres paramètres sont fixés comme suit : \n",
    "- Initialisation : Ham.\n",
    "- Nombre d'itérations : 100."
   ]
  },
  {
   "cell_type": "code",
   "execution_count": 23,
   "id": "70fb4b79",
   "metadata": {},
   "outputs": [
    {
     "data": {
      "image/png": "[encoded data removed]",
      "text/plain": [
       "<Figure size 640x480 with 1 Axes>"
      ]
     },
     "metadata": {},
     "output_type": "display_data"
    }
   ],
   "source": [
    "max_iter=100\n",
    "processing_times = np.array(taillard[0][\"P\"]).transpose()\n",
    "upper_bound = taillard[0][\"ub\"]\n",
    "init_schedule,init_obj=heuristique_Ham(processing_times)\n",
    "perturb=[]\n",
    "dev=[]\n",
    "times=[]\n",
    "for nb_perturb in range(1,15,1):\n",
    "    perturb.append(nb_perturb)\n",
    "    start_time = time.time()\n",
    "    schedule,obj=dong_et_al_ils(init_schedule,processing_times,max_iter,nb_perturb)\n",
    "    end_time = time.time()\n",
    "    dev.append(100*(compute_makespan(schedule,processing_times)-upper_bound)/upper_bound)\n",
    "    elapsed_time = end_time - start_time\n",
    "    times.append(elapsed_time)\n",
    "\n",
    "# Create a figure and axis object\n",
    "fig, ax = plt.subplots()\n",
    "\n",
    "# Plot the data\n",
    "ax.plot(perturb, dev)\n",
    "\n",
    "# Add axis labels and a title\n",
    "ax.set_xlabel('Nombre ditérations')\n",
    "ax.set_ylabel('Déviation')\n",
    "ax.set_title('Variation de la déviation trouvée par ILS en fonction du nombre ditérations')\n",
    "\n",
    "# Display the graph\n",
    "plt.show()"
   ]
  },
  {
   "attachments": {},
   "cell_type": "markdown",
   "id": "83b6c734",
   "metadata": {},
   "source": [
    "### Conclusion sur l'effet des deux paramètres : \n",
    "Vu la nature aléatoire de l'algorithme dans la phase des perturbations, on ne peut pas généraliser l'effet du nombre des itérations sur la déviation obtenue par rapport aux instances de Taillard, mais le nombre de perturbations a clairement un effet sur la performance de l'algorithme, trop pertuber va donner un caractère aléatoire excessif à l'algorithme qui ne sera pas bon pour l'optimisation, mais si l'intensité de perturbation est trop faible, l'algorithme aura relativement peu de chances de sortir d'une zone locale."
   ]
  },
  {
   "attachments": {},
   "cell_type": "markdown",
   "id": "c74cc09c",
   "metadata": {},
   "source": [
    "### Effet de l'initialisation sur la déviation obtenue :\n",
    "Dans ce test, nous allons initialiser avec Ham et NEH pour les 10 instances du 1er Benchmark en fixant le nombre d'itérations à 100 et l'intensité de perturbation à 4."
   ]
  },
  {
   "cell_type": "code",
   "execution_count": 32,
   "id": "74f96c4f",
   "metadata": {},
   "outputs": [],
   "source": [
    "max_iter=100\n",
    "nb_perturb=4\n",
    "dev_Ham=[]\n",
    "dev_NEH=[]\n",
    "dev_CDS=[]\n",
    "dev_ham_ils=[]\n",
    "dev_neh_ils=[]\n",
    "dev_cds_ils=[]\n",
    "instances=list(range(1,11))\n",
    "for i in range(10):\n",
    "    processing_times = np.array(taillard[i][\"P\"]).transpose()\n",
    "    upper_bound = taillard[i][\"ub\"]\n",
    "    schedule_ham, makespan_ham = heuristique_Ham(processing_times)\n",
    "    schedule_ils_ham, makespan_ils_ham = dong_et_al_ils(schedule_ham, processing_times, max_iter, nb_perturb)\n",
    "    schedule_neh, makespan_neh = heuristique_NEH(processing_times)\n",
    "    schedule_ils_neh, makespan_ils_neh = dong_et_al_ils(schedule_neh, processing_times, max_iter, nb_perturb)\n",
    "    schedule_cds, makespan_cds = heuristique_CDS(processing_times)\n",
    "    schedule_ils_cds, makespan_ils_cds = dong_et_al_ils(schedule_cds, processing_times, max_iter, nb_perturb)\n",
    "    dev_Ham.append(100*(makespan_ham-upper_bound)/upper_bound)\n",
    "    dev_NEH.append(100*(makespan_neh-upper_bound)/upper_bound)\n",
    "    dev_CDS.append(100*(makespan_cds-upper_bound)/upper_bound)\n",
    "    dev_ham_ils.append(100*(makespan_ils_ham-upper_bound)/upper_bound)\n",
    "    dev_neh_ils.append(100*(makespan_ils_neh-upper_bound)/upper_bound)\n",
    "    dev_cds_ils.append(100*(makespan_ils_cds-upper_bound)/upper_bound)"
   ]
  },
  {
   "cell_type": "code",
   "execution_count": 43,
   "id": "26091c5f",
   "metadata": {},
   "outputs": [
    {
     "name": "stdout",
     "output_type": "stream",
     "text": [
      "[4.225352112676056, 2.2810890360559233, 10.730804810360777, 6.419180201082753, 5.744336569579288, 6.945606694560669, 5.488297013720743, 8.872305140961858, 8.048780487804878, 4.783393501805054]\n",
      "[8.763693270735525, 4.7829286239882265, 15.541165587419057, 9.667440061871616, 7.038834951456311, 9.790794979079498, 12.429378531073446, 11.194029850746269, 10.56910569105691, 5.054151624548736]\n"
     ]
    },
    {
     "data": {
      "text/plain": [
       "[1, 2, 3, 4, 5, 6, 7, 8, 9, 10]"
      ]
     },
     "execution_count": 43,
     "metadata": {},
     "output_type": "execute_result"
    }
   ],
   "source": [
    "print(dev_cds_ils)\n",
    "print(dev_CDS)\n",
    "instances"
   ]
  },
  {
   "cell_type": "code",
   "execution_count": 47,
   "id": "bf017505",
   "metadata": {},
   "outputs": [
    {
     "data": {
      "text/html": [
       "        <script type=\"text/javascript\">\n",
       "        window.PlotlyConfig = {MathJaxConfig: 'local'};\n",
       "        if (window.MathJax && window.MathJax.Hub && window.MathJax.Hub.Config) {window.MathJax.Hub.Config({SVG: {font: \"STIX-Web\"}});}\n",
       "        if (typeof require !== 'undefined') {\n",
       "        require.undef(\"plotly\");\n",
       "        requirejs.config({\n",
       "            paths: {\n",
       "                'plotly': ['https://cdn.plot.ly/plotly-2.12.1.min']\n",
       "            }\n",
       "        });\n",
       "        require(['plotly'], function(Plotly) {\n",
       "            window._Plotly = Plotly;\n",
       "        });\n",
       "        }\n",
       "        </script>\n",
       "        "
      ]
     },
     "metadata": {},
     "output_type": "display_data"
    },
    {
     "data": {
      "application/vnd.plotly.v1+json": {
       "config": {
        "plotlyServerURL": "https://plot.ly"
       },
       "data": [
        {
         "marker": {
          "color": "steelblue"
         },
         "name": "Ham",
         "type": "bar",
         "x": [
          1,
          2,
          3,
          4,
          5,
          6,
          7,
          8,
          9,
          10
         ],
         "y": [
          12.44131455399061,
          9.492273730684326,
          30.157261794634596,
          19.56689868522815,
          11.245954692556634,
          11.548117154811715,
          16.707021791767556,
          23.217247097844112,
          25.040650406504064,
          17.32851985559567
         ]
        },
        {
         "marker": {
          "color": "teal"
         },
         "name": "Ham+ILS",
         "type": "bar",
         "x": [
          1,
          2,
          3,
          4,
          5,
          6,
          7,
          8,
          9,
          10
         ],
         "y": [
          4.773082942097027,
          1.7660044150110374,
          10.730804810360777,
          10.59551430781129,
          6.957928802588997,
          7.112970711297071,
          3.712671509281679,
          9.45273631840796,
          11.05691056910569,
          11.552346570397113
         ]
        },
        {
         "marker": {
          "color": "darkred"
         },
         "name": "CDS",
         "type": "bar",
         "x": [
          1,
          2,
          3,
          4,
          5,
          6,
          7,
          8,
          9,
          10
         ],
         "y": [
          8.763693270735525,
          4.7829286239882265,
          15.541165587419057,
          9.667440061871616,
          7.038834951456311,
          9.790794979079498,
          12.429378531073446,
          11.194029850746269,
          10.56910569105691,
          5.054151624548736
         ]
        },
        {
         "marker": {
          "color": "palevioletred"
         },
         "name": "CDS+ILS",
         "type": "bar",
         "x": [
          1,
          2,
          3,
          4,
          5,
          6,
          7,
          8,
          9,
          10
         ],
         "y": [
          4.225352112676056,
          2.2810890360559233,
          10.730804810360777,
          6.419180201082753,
          5.744336569579288,
          6.945606694560669,
          5.488297013720743,
          8.872305140961858,
          8.048780487804878,
          4.783393501805054
         ]
        },
        {
         "marker": {
          "color": "darkgoldenrod"
         },
         "name": "NEH",
         "type": "bar",
         "x": [
          1,
          2,
          3,
          4,
          5,
          6,
          7,
          8,
          9,
          10
         ],
         "y": [
          0.6259780907668232,
          0.44150110375275936,
          7.215541165587419,
          2.474864655839134,
          5.58252427184466,
          2.7615062761506275,
          3.1476997578692494,
          1.4096185737976783,
          4.959349593495935,
          3.88086642599278
         ]
        },
        {
         "marker": {
          "color": "orange"
         },
         "name": "NEH+ILS",
         "type": "bar",
         "x": [
          1,
          2,
          3,
          4,
          5,
          6,
          7,
          8,
          9,
          10
         ],
         "y": [
          0.6259780907668232,
          0.44150110375275936,
          7.215541165587419,
          2.474864655839134,
          5.258899676375404,
          2.426778242677824,
          2.58272800645682,
          1.4096185737976783,
          4.390243902439025,
          3.88086642599278
         ]
        }
       ],
       "layout": {
        "barmode": "group",
        "template": {
         "data": {
          "bar": [
           {
            "error_x": {
             "color": "#2a3f5f"
            },
            "error_y": {
             "color": "#2a3f5f"
            },
            "marker": {
             "line": {
              "color": "#E5ECF6",
              "width": 0.5
             },
             "pattern": {
              "fillmode": "overlay",
              "size": 10,
              "solidity": 0.2
             }
            },
            "type": "bar"
           }
          ],
          "barpolar": [
           {
            "marker": {
             "line": {
              "color": "#E5ECF6",
              "width": 0.5
             },
             "pattern": {
              "fillmode": "overlay",
              "size": 10,
              "solidity": 0.2
             }
            },
            "type": "barpolar"
           }
          ],
          "carpet": [
           {
            "aaxis": {
             "endlinecolor": "#2a3f5f",
             "gridcolor": "white",
             "linecolor": "white",
             "minorgridcolor": "white",
             "startlinecolor": "#2a3f5f"
            },
            "baxis": {
             "endlinecolor": "#2a3f5f",
             "gridcolor": "white",
             "linecolor": "white",
             "minorgridcolor": "white",
             "startlinecolor": "#2a3f5f"
            },
            "type": "carpet"
           }
          ],
          "choropleth": [
           {
            "colorbar": {
             "outlinewidth": 0,
             "ticks": ""
            },
            "type": "choropleth"
           }
          ],
          "contour": [
           {
            "colorbar": {
             "outlinewidth": 0,
             "ticks": ""
            },
            "colorscale": [
             [
              0,
              "#0d0887"
             ],
             [
              0.1111111111111111,
              "#46039f"
             ],
             [
              0.2222222222222222,
              "#7201a8"
             ],
             [
              0.3333333333333333,
              "#9c179e"
             ],
             [
              0.4444444444444444,
              "#bd3786"
             ],
             [
              0.5555555555555556,
              "#d8576b"
             ],
             [
              0.6666666666666666,
              "#ed7953"
             ],
             [
              0.7777777777777778,
              "#fb9f3a"
             ],
             [
              0.8888888888888888,
              "#fdca26"
             ],
             [
              1,
              "#f0f921"
             ]
            ],
            "type": "contour"
           }
          ],
          "contourcarpet": [
           {
            "colorbar": {
             "outlinewidth": 0,
             "ticks": ""
            },
            "type": "contourcarpet"
           }
          ],
          "heatmap": [
           {
            "colorbar": {
             "outlinewidth": 0,
             "ticks": ""
            },
            "colorscale": [
             [
              0,
              "#0d0887"
             ],
             [
              0.1111111111111111,
              "#46039f"
             ],
             [
              0.2222222222222222,
              "#7201a8"
             ],
             [
              0.3333333333333333,
              "#9c179e"
             ],
             [
              0.4444444444444444,
              "#bd3786"
             ],
             [
              0.5555555555555556,
              "#d8576b"
             ],
             [
              0.6666666666666666,
              "#ed7953"
             ],
             [
              0.7777777777777778,
              "#fb9f3a"
             ],
             [
              0.8888888888888888,
              "#fdca26"
             ],
             [
              1,
              "#f0f921"
             ]
            ],
            "type": "heatmap"
           }
          ],
          "heatmapgl": [
           {
            "colorbar": {
             "outlinewidth": 0,
             "ticks": ""
            },
            "colorscale": [
             [
              0,
              "#0d0887"
             ],
             [
              0.1111111111111111,
              "#46039f"
             ],
             [
              0.2222222222222222,
              "#7201a8"
             ],
             [
              0.3333333333333333,
              "#9c179e"
             ],
             [
              0.4444444444444444,
              "#bd3786"
             ],
             [
              0.5555555555555556,
              "#d8576b"
             ],
             [
              0.6666666666666666,
              "#ed7953"
             ],
             [
              0.7777777777777778,
              "#fb9f3a"
             ],
             [
              0.8888888888888888,
              "#fdca26"
             ],
             [
              1,
              "#f0f921"
             ]
            ],
            "type": "heatmapgl"
           }
          ],
          "histogram": [
           {
            "marker": {
             "pattern": {
              "fillmode": "overlay",
              "size": 10,
              "solidity": 0.2
             }
            },
            "type": "histogram"
           }
          ],
          "histogram2d": [
           {
            "colorbar": {
             "outlinewidth": 0,
             "ticks": ""
            },
            "colorscale": [
             [
              0,
              "#0d0887"
             ],
             [
              0.1111111111111111,
              "#46039f"
             ],
             [
              0.2222222222222222,
              "#7201a8"
             ],
             [
              0.3333333333333333,
              "#9c179e"
             ],
             [
              0.4444444444444444,
              "#bd3786"
             ],
             [
              0.5555555555555556,
              "#d8576b"
             ],
             [
              0.6666666666666666,
              "#ed7953"
             ],
             [
              0.7777777777777778,
              "#fb9f3a"
             ],
             [
              0.8888888888888888,
              "#fdca26"
             ],
             [
              1,
              "#f0f921"
             ]
            ],
            "type": "histogram2d"
           }
          ],
          "histogram2dcontour": [
           {
            "colorbar": {
             "outlinewidth": 0,
             "ticks": ""
            },
            "colorscale": [
             [
              0,
              "#0d0887"
             ],
             [
              0.1111111111111111,
              "#46039f"
             ],
             [
              0.2222222222222222,
              "#7201a8"
             ],
             [
              0.3333333333333333,
              "#9c179e"
             ],
             [
              0.4444444444444444,
              "#bd3786"
             ],
             [
              0.5555555555555556,
              "#d8576b"
             ],
             [
              0.6666666666666666,
              "#ed7953"
             ],
             [
              0.7777777777777778,
              "#fb9f3a"
             ],
             [
              0.8888888888888888,
              "#fdca26"
             ],
             [
              1,
              "#f0f921"
             ]
            ],
            "type": "histogram2dcontour"
           }
          ],
          "mesh3d": [
           {
            "colorbar": {
             "outlinewidth": 0,
             "ticks": ""
            },
            "type": "mesh3d"
           }
          ],
          "parcoords": [
           {
            "line": {
             "colorbar": {
              "outlinewidth": 0,
              "ticks": ""
             }
            },
            "type": "parcoords"
           }
          ],
          "pie": [
           {
            "automargin": true,
            "type": "pie"
           }
          ],
          "scatter": [
           {
            "fillpattern": {
             "fillmode": "overlay",
             "size": 10,
             "solidity": 0.2
            },
            "type": "scatter"
           }
          ],
          "scatter3d": [
           {
            "line": {
             "colorbar": {
              "outlinewidth": 0,
              "ticks": ""
             }
            },
            "marker": {
             "colorbar": {
              "outlinewidth": 0,
              "ticks": ""
             }
            },
            "type": "scatter3d"
           }
          ],
          "scattercarpet": [
           {
            "marker": {
             "colorbar": {
              "outlinewidth": 0,
              "ticks": ""
             }
            },
            "type": "scattercarpet"
           }
          ],
          "scattergeo": [
           {
            "marker": {
             "colorbar": {
              "outlinewidth": 0,
              "ticks": ""
             }
            },
            "type": "scattergeo"
           }
          ],
          "scattergl": [
           {
            "marker": {
             "colorbar": {
              "outlinewidth": 0,
              "ticks": ""
             }
            },
            "type": "scattergl"
           }
          ],
          "scattermapbox": [
           {
            "marker": {
             "colorbar": {
              "outlinewidth": 0,
              "ticks": ""
             }
            },
            "type": "scattermapbox"
           }
          ],
          "scatterpolar": [
           {
            "marker": {
             "colorbar": {
              "outlinewidth": 0,
              "ticks": ""
             }
            },
            "type": "scatterpolar"
           }
          ],
          "scatterpolargl": [
           {
            "marker": {
             "colorbar": {
              "outlinewidth": 0,
              "ticks": ""
             }
            },
            "type": "scatterpolargl"
           }
          ],
          "scatterternary": [
           {
            "marker": {
             "colorbar": {
              "outlinewidth": 0,
              "ticks": ""
             }
            },
            "type": "scatterternary"
           }
          ],
          "surface": [
           {
            "colorbar": {
             "outlinewidth": 0,
             "ticks": ""
            },
            "colorscale": [
             [
              0,
              "#0d0887"
             ],
             [
              0.1111111111111111,
              "#46039f"
             ],
             [
              0.2222222222222222,
              "#7201a8"
             ],
             [
              0.3333333333333333,
              "#9c179e"
             ],
             [
              0.4444444444444444,
              "#bd3786"
             ],
             [
              0.5555555555555556,
              "#d8576b"
             ],
             [
              0.6666666666666666,
              "#ed7953"
             ],
             [
              0.7777777777777778,
              "#fb9f3a"
             ],
             [
              0.8888888888888888,
              "#fdca26"
             ],
             [
              1,
              "#f0f921"
             ]
            ],
            "type": "surface"
           }
          ],
          "table": [
           {
            "cells": {
             "fill": {
              "color": "#EBF0F8"
             },
             "line": {
              "color": "white"
             }
            },
            "header": {
             "fill": {
              "color": "#C8D4E3"
             },
             "line": {
              "color": "white"
             }
            },
            "type": "table"
           }
          ]
         },
         "layout": {
          "annotationdefaults": {
           "arrowcolor": "#2a3f5f",
           "arrowhead": 0,
           "arrowwidth": 1
          },
          "autotypenumbers": "strict",
          "coloraxis": {
           "colorbar": {
            "outlinewidth": 0,
            "ticks": ""
           }
          },
          "colorscale": {
           "diverging": [
            [
             0,
             "#8e0152"
            ],
            [
             0.1,
             "#c51b7d"
            ],
            [
             0.2,
             "#de77ae"
            ],
            [
             0.3,
             "#f1b6da"
            ],
            [
             0.4,
             "#fde0ef"
            ],
            [
             0.5,
             "#f7f7f7"
            ],
            [
             0.6,
             "#e6f5d0"
            ],
            [
             0.7,
             "#b8e186"
            ],
            [
             0.8,
             "#7fbc41"
            ],
            [
             0.9,
             "#4d9221"
            ],
            [
             1,
             "#276419"
            ]
           ],
           "sequential": [
            [
             0,
             "#0d0887"
            ],
            [
             0.1111111111111111,
             "#46039f"
            ],
            [
             0.2222222222222222,
             "#7201a8"
            ],
            [
             0.3333333333333333,
             "#9c179e"
            ],
            [
             0.4444444444444444,
             "#bd3786"
            ],
            [
             0.5555555555555556,
             "#d8576b"
            ],
            [
             0.6666666666666666,
             "#ed7953"
            ],
            [
             0.7777777777777778,
             "#fb9f3a"
            ],
            [
             0.8888888888888888,
             "#fdca26"
            ],
            [
             1,
             "#f0f921"
            ]
           ],
           "sequentialminus": [
            [
             0,
             "#0d0887"
            ],
            [
             0.1111111111111111,
             "#46039f"
            ],
            [
             0.2222222222222222,
             "#7201a8"
            ],
            [
             0.3333333333333333,
             "#9c179e"
            ],
            [
             0.4444444444444444,
             "#bd3786"
            ],
            [
             0.5555555555555556,
             "#d8576b"
            ],
            [
             0.6666666666666666,
             "#ed7953"
            ],
            [
             0.7777777777777778,
             "#fb9f3a"
            ],
            [
             0.8888888888888888,
             "#fdca26"
            ],
            [
             1,
             "#f0f921"
            ]
           ]
          },
          "colorway": [
           "#636efa",
           "#EF553B",
           "#00cc96",
           "#ab63fa",
           "#FFA15A",
           "#19d3f3",
           "#FF6692",
           "#B6E880",
           "#FF97FF",
           "#FECB52"
          ],
          "font": {
           "color": "#2a3f5f"
          },
          "geo": {
           "bgcolor": "white",
           "lakecolor": "white",
           "landcolor": "#E5ECF6",
           "showlakes": true,
           "showland": true,
           "subunitcolor": "white"
          },
          "hoverlabel": {
           "align": "left"
          },
          "hovermode": "closest",
          "mapbox": {
           "style": "light"
          },
          "paper_bgcolor": "white",
          "plot_bgcolor": "#E5ECF6",
          "polar": {
           "angularaxis": {
            "gridcolor": "white",
            "linecolor": "white",
            "ticks": ""
           },
           "bgcolor": "#E5ECF6",
           "radialaxis": {
            "gridcolor": "white",
            "linecolor": "white",
            "ticks": ""
           }
          },
          "scene": {
           "xaxis": {
            "backgroundcolor": "#E5ECF6",
            "gridcolor": "white",
            "gridwidth": 2,
            "linecolor": "white",
            "showbackground": true,
            "ticks": "",
            "zerolinecolor": "white"
           },
           "yaxis": {
            "backgroundcolor": "#E5ECF6",
            "gridcolor": "white",
            "gridwidth": 2,
            "linecolor": "white",
            "showbackground": true,
            "ticks": "",
            "zerolinecolor": "white"
           },
           "zaxis": {
            "backgroundcolor": "#E5ECF6",
            "gridcolor": "white",
            "gridwidth": 2,
            "linecolor": "white",
            "showbackground": true,
            "ticks": "",
            "zerolinecolor": "white"
           }
          },
          "shapedefaults": {
           "line": {
            "color": "#2a3f5f"
           }
          },
          "ternary": {
           "aaxis": {
            "gridcolor": "white",
            "linecolor": "white",
            "ticks": ""
           },
           "baxis": {
            "gridcolor": "white",
            "linecolor": "white",
            "ticks": ""
           },
           "bgcolor": "#E5ECF6",
           "caxis": {
            "gridcolor": "white",
            "linecolor": "white",
            "ticks": ""
           }
          },
          "title": {
           "x": 0.05
          },
          "xaxis": {
           "automargin": true,
           "gridcolor": "white",
           "linecolor": "white",
           "ticks": "",
           "title": {
            "standoff": 15
           },
           "zerolinecolor": "white",
           "zerolinewidth": 2
          },
          "yaxis": {
           "automargin": true,
           "gridcolor": "white",
           "linecolor": "white",
           "ticks": "",
           "title": {
            "standoff": 15
           },
           "zerolinecolor": "white",
           "zerolinewidth": 2
          }
         }
        },
        "title": {
         "text": "Déviations obtenues par ILS avec différentes initialisations heuristiques"
        },
        "xaxis": {
         "tickangle": -45,
         "title": {
          "text": "Instance"
         }
        },
        "yaxis": {
         "title": {
          "text": "Deviation"
         }
        }
       }
      },
      "text/html": [
       "<div>                            <div id=\"cac971f6-28db-4e60-be24-2cab796de440\" class=\"plotly-graph-div\" style=\"height:525px; width:100%;\"></div>            <script type=\"text/javascript\">                require([\"plotly\"], function(Plotly) {                    window.PLOTLYENV=window.PLOTLYENV || {};                                    if (document.getElementById(\"cac971f6-28db-4e60-be24-2cab796de440\")) {                    Plotly.newPlot(                        \"cac971f6-28db-4e60-be24-2cab796de440\",                        [{\"marker\":{\"color\":\"steelblue\"},\"name\":\"Ham\",\"x\":[1,2,3,4,5,6,7,8,9,10],\"y\":[12.44131455399061,9.492273730684326,30.157261794634596,19.56689868522815,11.245954692556634,11.548117154811715,16.707021791767556,23.217247097844112,25.040650406504064,17.32851985559567],\"type\":\"bar\"},{\"marker\":{\"color\":\"teal\"},\"name\":\"Ham+ILS\",\"x\":[1,2,3,4,5,6,7,8,9,10],\"y\":[4.773082942097027,1.7660044150110374,10.730804810360777,10.59551430781129,6.957928802588997,7.112970711297071,3.712671509281679,9.45273631840796,11.05691056910569,11.552346570397113],\"type\":\"bar\"},{\"marker\":{\"color\":\"darkred\"},\"name\":\"CDS\",\"x\":[1,2,3,4,5,6,7,8,9,10],\"y\":[8.763693270735525,4.7829286239882265,15.541165587419057,9.667440061871616,7.038834951456311,9.790794979079498,12.429378531073446,11.194029850746269,10.56910569105691,5.054151624548736],\"type\":\"bar\"},{\"marker\":{\"color\":\"palevioletred\"},\"name\":\"CDS+ILS\",\"x\":[1,2,3,4,5,6,7,8,9,10],\"y\":[4.225352112676056,2.2810890360559233,10.730804810360777,6.419180201082753,5.744336569579288,6.945606694560669,5.488297013720743,8.872305140961858,8.048780487804878,4.783393501805054],\"type\":\"bar\"},{\"marker\":{\"color\":\"darkgoldenrod\"},\"name\":\"NEH\",\"x\":[1,2,3,4,5,6,7,8,9,10],\"y\":[0.6259780907668232,0.44150110375275936,7.215541165587419,2.474864655839134,5.58252427184466,2.7615062761506275,3.1476997578692494,1.4096185737976783,4.959349593495935,3.88086642599278],\"type\":\"bar\"},{\"marker\":{\"color\":\"orange\"},\"name\":\"NEH+ILS\",\"x\":[1,2,3,4,5,6,7,8,9,10],\"y\":[0.6259780907668232,0.44150110375275936,7.215541165587419,2.474864655839134,5.258899676375404,2.426778242677824,2.58272800645682,1.4096185737976783,4.390243902439025,3.88086642599278],\"type\":\"bar\"}],                        {\"template\":{\"data\":{\"histogram2dcontour\":[{\"type\":\"histogram2dcontour\",\"colorbar\":{\"outlinewidth\":0,\"ticks\":\"\"},\"colorscale\":[[0.0,\"#0d0887\"],[0.1111111111111111,\"#46039f\"],[0.2222222222222222,\"#7201a8\"],[0.3333333333333333,\"#9c179e\"],[0.4444444444444444,\"#bd3786\"],[0.5555555555555556,\"#d8576b\"],[0.6666666666666666,\"#ed7953\"],[0.7777777777777778,\"#fb9f3a\"],[0.8888888888888888,\"#fdca26\"],[1.0,\"#f0f921\"]]}],\"choropleth\":[{\"type\":\"choropleth\",\"colorbar\":{\"outlinewidth\":0,\"ticks\":\"\"}}],\"histogram2d\":[{\"type\":\"histogram2d\",\"colorbar\":{\"outlinewidth\":0,\"ticks\":\"\"},\"colorscale\":[[0.0,\"#0d0887\"],[0.1111111111111111,\"#46039f\"],[0.2222222222222222,\"#7201a8\"],[0.3333333333333333,\"#9c179e\"],[0.4444444444444444,\"#bd3786\"],[0.5555555555555556,\"#d8576b\"],[0.6666666666666666,\"#ed7953\"],[0.7777777777777778,\"#fb9f3a\"],[0.8888888888888888,\"#fdca26\"],[1.0,\"#f0f921\"]]}],\"heatmap\":[{\"type\":\"heatmap\",\"colorbar\":{\"outlinewidth\":0,\"ticks\":\"\"},\"colorscale\":[[0.0,\"#0d0887\"],[0.1111111111111111,\"#46039f\"],[0.2222222222222222,\"#7201a8\"],[0.3333333333333333,\"#9c179e\"],[0.4444444444444444,\"#bd3786\"],[0.5555555555555556,\"#d8576b\"],[0.6666666666666666,\"#ed7953\"],[0.7777777777777778,\"#fb9f3a\"],[0.8888888888888888,\"#fdca26\"],[1.0,\"#f0f921\"]]}],\"heatmapgl\":[{\"type\":\"heatmapgl\",\"colorbar\":{\"outlinewidth\":0,\"ticks\":\"\"},\"colorscale\":[[0.0,\"#0d0887\"],[0.1111111111111111,\"#46039f\"],[0.2222222222222222,\"#7201a8\"],[0.3333333333333333,\"#9c179e\"],[0.4444444444444444,\"#bd3786\"],[0.5555555555555556,\"#d8576b\"],[0.6666666666666666,\"#ed7953\"],[0.7777777777777778,\"#fb9f3a\"],[0.8888888888888888,\"#fdca26\"],[1.0,\"#f0f921\"]]}],\"contourcarpet\":[{\"type\":\"contourcarpet\",\"colorbar\":{\"outlinewidth\":0,\"ticks\":\"\"}}],\"contour\":[{\"type\":\"contour\",\"colorbar\":{\"outlinewidth\":0,\"ticks\":\"\"},\"colorscale\":[[0.0,\"#0d0887\"],[0.1111111111111111,\"#46039f\"],[0.2222222222222222,\"#7201a8\"],[0.3333333333333333,\"#9c179e\"],[0.4444444444444444,\"#bd3786\"],[0.5555555555555556,\"#d8576b\"],[0.6666666666666666,\"#ed7953\"],[0.7777777777777778,\"#fb9f3a\"],[0.8888888888888888,\"#fdca26\"],[1.0,\"#f0f921\"]]}],\"surface\":[{\"type\":\"surface\",\"colorbar\":{\"outlinewidth\":0,\"ticks\":\"\"},\"colorscale\":[[0.0,\"#0d0887\"],[0.1111111111111111,\"#46039f\"],[0.2222222222222222,\"#7201a8\"],[0.3333333333333333,\"#9c179e\"],[0.4444444444444444,\"#bd3786\"],[0.5555555555555556,\"#d8576b\"],[0.6666666666666666,\"#ed7953\"],[0.7777777777777778,\"#fb9f3a\"],[0.8888888888888888,\"#fdca26\"],[1.0,\"#f0f921\"]]}],\"mesh3d\":[{\"type\":\"mesh3d\",\"colorbar\":{\"outlinewidth\":0,\"ticks\":\"\"}}],\"scatter\":[{\"fillpattern\":{\"fillmode\":\"overlay\",\"size\":10,\"solidity\":0.2},\"type\":\"scatter\"}],\"parcoords\":[{\"type\":\"parcoords\",\"line\":{\"colorbar\":{\"outlinewidth\":0,\"ticks\":\"\"}}}],\"scatterpolargl\":[{\"type\":\"scatterpolargl\",\"marker\":{\"colorbar\":{\"outlinewidth\":0,\"ticks\":\"\"}}}],\"bar\":[{\"error_x\":{\"color\":\"#2a3f5f\"},\"error_y\":{\"color\":\"#2a3f5f\"},\"marker\":{\"line\":{\"color\":\"#E5ECF6\",\"width\":0.5},\"pattern\":{\"fillmode\":\"overlay\",\"size\":10,\"solidity\":0.2}},\"type\":\"bar\"}],\"scattergeo\":[{\"type\":\"scattergeo\",\"marker\":{\"colorbar\":{\"outlinewidth\":0,\"ticks\":\"\"}}}],\"scatterpolar\":[{\"type\":\"scatterpolar\",\"marker\":{\"colorbar\":{\"outlinewidth\":0,\"ticks\":\"\"}}}],\"histogram\":[{\"marker\":{\"pattern\":{\"fillmode\":\"overlay\",\"size\":10,\"solidity\":0.2}},\"type\":\"histogram\"}],\"scattergl\":[{\"type\":\"scattergl\",\"marker\":{\"colorbar\":{\"outlinewidth\":0,\"ticks\":\"\"}}}],\"scatter3d\":[{\"type\":\"scatter3d\",\"line\":{\"colorbar\":{\"outlinewidth\":0,\"ticks\":\"\"}},\"marker\":{\"colorbar\":{\"outlinewidth\":0,\"ticks\":\"\"}}}],\"scattermapbox\":[{\"type\":\"scattermapbox\",\"marker\":{\"colorbar\":{\"outlinewidth\":0,\"ticks\":\"\"}}}],\"scatterternary\":[{\"type\":\"scatterternary\",\"marker\":{\"colorbar\":{\"outlinewidth\":0,\"ticks\":\"\"}}}],\"scattercarpet\":[{\"type\":\"scattercarpet\",\"marker\":{\"colorbar\":{\"outlinewidth\":0,\"ticks\":\"\"}}}],\"carpet\":[{\"aaxis\":{\"endlinecolor\":\"#2a3f5f\",\"gridcolor\":\"white\",\"linecolor\":\"white\",\"minorgridcolor\":\"white\",\"startlinecolor\":\"#2a3f5f\"},\"baxis\":{\"endlinecolor\":\"#2a3f5f\",\"gridcolor\":\"white\",\"linecolor\":\"white\",\"minorgridcolor\":\"white\",\"startlinecolor\":\"#2a3f5f\"},\"type\":\"carpet\"}],\"table\":[{\"cells\":{\"fill\":{\"color\":\"#EBF0F8\"},\"line\":{\"color\":\"white\"}},\"header\":{\"fill\":{\"color\":\"#C8D4E3\"},\"line\":{\"color\":\"white\"}},\"type\":\"table\"}],\"barpolar\":[{\"marker\":{\"line\":{\"color\":\"#E5ECF6\",\"width\":0.5},\"pattern\":{\"fillmode\":\"overlay\",\"size\":10,\"solidity\":0.2}},\"type\":\"barpolar\"}],\"pie\":[{\"automargin\":true,\"type\":\"pie\"}]},\"layout\":{\"autotypenumbers\":\"strict\",\"colorway\":[\"#636efa\",\"#EF553B\",\"#00cc96\",\"#ab63fa\",\"#FFA15A\",\"#19d3f3\",\"#FF6692\",\"#B6E880\",\"#FF97FF\",\"#FECB52\"],\"font\":{\"color\":\"#2a3f5f\"},\"hovermode\":\"closest\",\"hoverlabel\":{\"align\":\"left\"},\"paper_bgcolor\":\"white\",\"plot_bgcolor\":\"#E5ECF6\",\"polar\":{\"bgcolor\":\"#E5ECF6\",\"angularaxis\":{\"gridcolor\":\"white\",\"linecolor\":\"white\",\"ticks\":\"\"},\"radialaxis\":{\"gridcolor\":\"white\",\"linecolor\":\"white\",\"ticks\":\"\"}},\"ternary\":{\"bgcolor\":\"#E5ECF6\",\"aaxis\":{\"gridcolor\":\"white\",\"linecolor\":\"white\",\"ticks\":\"\"},\"baxis\":{\"gridcolor\":\"white\",\"linecolor\":\"white\",\"ticks\":\"\"},\"caxis\":{\"gridcolor\":\"white\",\"linecolor\":\"white\",\"ticks\":\"\"}},\"coloraxis\":{\"colorbar\":{\"outlinewidth\":0,\"ticks\":\"\"}},\"colorscale\":{\"sequential\":[[0.0,\"#0d0887\"],[0.1111111111111111,\"#46039f\"],[0.2222222222222222,\"#7201a8\"],[0.3333333333333333,\"#9c179e\"],[0.4444444444444444,\"#bd3786\"],[0.5555555555555556,\"#d8576b\"],[0.6666666666666666,\"#ed7953\"],[0.7777777777777778,\"#fb9f3a\"],[0.8888888888888888,\"#fdca26\"],[1.0,\"#f0f921\"]],\"sequentialminus\":[[0.0,\"#0d0887\"],[0.1111111111111111,\"#46039f\"],[0.2222222222222222,\"#7201a8\"],[0.3333333333333333,\"#9c179e\"],[0.4444444444444444,\"#bd3786\"],[0.5555555555555556,\"#d8576b\"],[0.6666666666666666,\"#ed7953\"],[0.7777777777777778,\"#fb9f3a\"],[0.8888888888888888,\"#fdca26\"],[1.0,\"#f0f921\"]],\"diverging\":[[0,\"#8e0152\"],[0.1,\"#c51b7d\"],[0.2,\"#de77ae\"],[0.3,\"#f1b6da\"],[0.4,\"#fde0ef\"],[0.5,\"#f7f7f7\"],[0.6,\"#e6f5d0\"],[0.7,\"#b8e186\"],[0.8,\"#7fbc41\"],[0.9,\"#4d9221\"],[1,\"#276419\"]]},\"xaxis\":{\"gridcolor\":\"white\",\"linecolor\":\"white\",\"ticks\":\"\",\"title\":{\"standoff\":15},\"zerolinecolor\":\"white\",\"automargin\":true,\"zerolinewidth\":2},\"yaxis\":{\"gridcolor\":\"white\",\"linecolor\":\"white\",\"ticks\":\"\",\"title\":{\"standoff\":15},\"zerolinecolor\":\"white\",\"automargin\":true,\"zerolinewidth\":2},\"scene\":{\"xaxis\":{\"backgroundcolor\":\"#E5ECF6\",\"gridcolor\":\"white\",\"linecolor\":\"white\",\"showbackground\":true,\"ticks\":\"\",\"zerolinecolor\":\"white\",\"gridwidth\":2},\"yaxis\":{\"backgroundcolor\":\"#E5ECF6\",\"gridcolor\":\"white\",\"linecolor\":\"white\",\"showbackground\":true,\"ticks\":\"\",\"zerolinecolor\":\"white\",\"gridwidth\":2},\"zaxis\":{\"backgroundcolor\":\"#E5ECF6\",\"gridcolor\":\"white\",\"linecolor\":\"white\",\"showbackground\":true,\"ticks\":\"\",\"zerolinecolor\":\"white\",\"gridwidth\":2}},\"shapedefaults\":{\"line\":{\"color\":\"#2a3f5f\"}},\"annotationdefaults\":{\"arrowcolor\":\"#2a3f5f\",\"arrowhead\":0,\"arrowwidth\":1},\"geo\":{\"bgcolor\":\"white\",\"landcolor\":\"#E5ECF6\",\"subunitcolor\":\"white\",\"showland\":true,\"showlakes\":true,\"lakecolor\":\"white\"},\"title\":{\"x\":0.05},\"mapbox\":{\"style\":\"light\"}}},\"xaxis\":{\"tickangle\":-45,\"title\":{\"text\":\"Instance\"}},\"title\":{\"text\":\"D\\u00e9viations obtenues par ILS avec diff\\u00e9rentes initialisations heuristiques\"},\"barmode\":\"group\",\"yaxis\":{\"title\":{\"text\":\"Deviation\"}}},                        {\"responsive\": true}                    ).then(function(){\n",
       "                            \n",
       "var gd = document.getElementById('cac971f6-28db-4e60-be24-2cab796de440');\n",
       "var x = new MutationObserver(function (mutations, observer) {{\n",
       "        var display = window.getComputedStyle(gd).display;\n",
       "        if (!display || display === 'none') {{\n",
       "            console.log([gd, 'removed!']);\n",
       "            Plotly.purge(gd);\n",
       "            observer.disconnect();\n",
       "        }}\n",
       "}});\n",
       "\n",
       "// Listen for the removal of the full notebook cells\n",
       "var notebookContainer = gd.closest('#notebook-container');\n",
       "if (notebookContainer) {{\n",
       "    x.observe(notebookContainer, {childList: true});\n",
       "}}\n",
       "\n",
       "// Listen for the clearing of the current output cell\n",
       "var outputEl = gd.closest('.output');\n",
       "if (outputEl) {{\n",
       "    x.observe(outputEl, {childList: true});\n",
       "}}\n",
       "\n",
       "                        })                };                });            </script>        </div>"
      ]
     },
     "metadata": {},
     "output_type": "display_data"
    }
   ],
   "source": [
    "import plotly.graph_objects as go\n",
    "from plotly.offline import iplot, init_notebook_mode\n",
    "init_notebook_mode(connected=True)\n",
    "\n",
    "\n",
    "\n",
    "fig = go.Figure()\n",
    "fig.add_trace(go.Bar(\n",
    "    x=instances,\n",
    "    y=dev_Ham,\n",
    "    name='Ham',\n",
    "    marker_color='steelblue'\n",
    "))\n",
    "fig.add_trace(go.Bar(\n",
    "    x=instances,\n",
    "    y=dev_ham_ils,\n",
    "    name='Ham+ILS',\n",
    "    marker_color='teal'\n",
    "))\n",
    "fig.add_trace(go.Bar(\n",
    "    x=instances,\n",
    "    y=dev_CDS,\n",
    "    name='CDS',\n",
    "    marker_color='darkred'\n",
    "))\n",
    "fig.add_trace(go.Bar(\n",
    "    x=instances,\n",
    "    y=dev_cds_ils,\n",
    "    name='CDS+ILS',\n",
    "    marker_color='palevioletred'\n",
    "))\n",
    "fig.add_trace(go.Bar(\n",
    "    x=instances,\n",
    "    y=dev_NEH,\n",
    "    name='NEH',\n",
    "    marker_color='darkgoldenrod'\n",
    "))\n",
    "fig.add_trace(go.Bar(\n",
    "    x=instances,\n",
    "    y=dev_neh_ils,\n",
    "    name='NEH+ILS',\n",
    "    marker_color='orange'\n",
    "))\n",
    "\n",
    "# Here we modify the tickangle of the xaxis, resulting in rotated labels.\n",
    "fig.update_layout(barmode='group', xaxis_tickangle=-45, xaxis_title =\"Instance\", yaxis_title=\"Deviation\", title_text=\"Déviations obtenues par ILS avec différentes initialisations heuristiques\")\n",
    "fig.show()"
   ]
  },
  {
   "attachments": {},
   "cell_type": "markdown",
   "id": "f31ee858",
   "metadata": {},
   "source": [
    "# New Tests"
   ]
  },
  {
   "cell_type": "code",
   "execution_count": 30,
   "id": "a8cc42ea",
   "metadata": {},
   "outputs": [
    {
     "name": "stdout",
     "output_type": "stream",
     "text": [
      "-------------- Instance  1 ------------------\n",
      "instance 1 : deviation:  1.486697965571205 % \n",
      "improved compared to Ham :  83.03571428571429\n",
      "Elapsed time: 5.501362085342407 seconds\n",
      "-------------------------------------------------\n",
      "\n",
      "\n",
      "-------------- Instance  2 ------------------\n",
      "instance 2 : deviation:  1.030169242089772 % \n",
      "improved compared to Ham :  78.46153846153847\n",
      "Elapsed time: 5.652413606643677 seconds\n",
      "-------------------------------------------------\n",
      "\n",
      "\n",
      "-------------- Instance  3 ------------------\n",
      "instance 3 : deviation:  7.493061979648473 % \n",
      "improved compared to Ham :  51.785714285714285\n",
      "Elapsed time: 5.523793697357178 seconds\n",
      "-------------------------------------------------\n",
      "\n",
      "\n",
      "-------------- Instance  4 ------------------\n",
      "instance 4 : deviation:  7.115235885537509 % \n",
      "improved compared to Ham :  26.4\n",
      "Elapsed time: 5.5186684131622314 seconds\n",
      "-------------------------------------------------\n",
      "\n",
      "\n",
      "-------------- Instance  5 ------------------\n",
      "instance 5 : deviation:  5.4207119741100325 % \n",
      "improved compared to Ham :  22.988505747126435\n",
      "Elapsed time: 5.59952187538147 seconds\n",
      "-------------------------------------------------\n",
      "\n",
      "\n",
      "-------------- Instance  6 ------------------\n",
      "instance 6 : deviation:  2.426778242677824 % \n",
      "improved compared to Ham :  75.21367521367522\n",
      "Elapsed time: 5.406614542007446 seconds\n",
      "-------------------------------------------------\n",
      "\n",
      "\n",
      "-------------- Instance  7 ------------------\n",
      "instance 7 : deviation:  4.196933010492333 % \n",
      "improved compared to Ham :  66.23376623376623\n",
      "Elapsed time: 5.6323347091674805 seconds\n",
      "-------------------------------------------------\n",
      "\n",
      "\n",
      "-------------- Instance  8 ------------------\n",
      "instance 8 : deviation:  8.457711442786069 % \n",
      "improved compared to Ham :  24.444444444444443\n",
      "Elapsed time: 5.5536370277404785 seconds\n",
      "-------------------------------------------------\n",
      "\n",
      "\n",
      "-------------- Instance  9 ------------------\n",
      "instance 9 : deviation:  5.203252032520325 % \n",
      "improved compared to Ham :  50.76923076923077\n",
      "Elapsed time: 5.389417886734009 seconds\n",
      "-------------------------------------------------\n",
      "\n",
      "\n",
      "-------------- Instance  10 ------------------\n",
      "instance 10 : deviation:  4.783393501805054 % \n",
      "improved compared to Ham :  5.357142857142857\n",
      "Elapsed time: 5.70788836479187 seconds\n",
      "-------------------------------------------------\n",
      "\n",
      "\n"
     ]
    }
   ],
   "source": [
    "f =  open(\"../TP02-Heuristiques/data/Taillard.pkl\", \"rb\")\n",
    "taillard = pickle.load(f)\n",
    "i=0\n",
    "max_iter=200\n",
    "nb_perturb=4\n",
    "M = np.array(taillard[i][\"P\"]).transpose()\n",
    "upper_bound = taillard[i][\"ub\"]\n",
    "schedule,b=heuristique_CDS(M)\n",
    "processing_times=M\n",
    "schedule=list(schedule)\n",
    "upper_bound,schedule,compute_makespan(schedule, M)\n",
    "\n",
    "for i in range(10):\n",
    "    processing_times = np.array(taillard[i][\"P\"]).transpose()\n",
    "    upper_bound = taillard[i][\"ub\"]\n",
    "    init_schedule,init_obj=heuristique_CDS(processing_times)\n",
    "    start_time = time.time()\n",
    "    schedule,obj=dong_et_al_ils(init_schedule,processing_times,max_iter,nb_perturb)\n",
    "    end_time = time.time()\n",
    "    print(\"-------------- Instance \",i+1,\"------------------\")\n",
    "    print(\"instance\",i+1,\":\",\"deviation: \",100*(compute_makespan(schedule,processing_times)-upper_bound)/upper_bound,\"% \")\n",
    "    print(\"improved compared to Ham : \",100*(init_obj-obj)/(init_obj-upper_bound))\n",
    "    elapsed_time = end_time - start_time\n",
    "    print(f\"Elapsed time: {elapsed_time} seconds\")\n",
    "    print(\"-------------------------------------------------\\n\\n\")"
   ]
  },
  {
   "cell_type": "code",
   "execution_count": 114,
   "id": "0a4100c5",
   "metadata": {},
   "outputs": [
    {
     "data": {
      "text/plain": [
       "(1297, [14, 3, 2, 15, 12, 0, 18, 8, 7, 16, 4, 5, 11, 17, 6, 10, 1, 13, 9, 19])"
      ]
     },
     "execution_count": 114,
     "metadata": {},
     "output_type": "execute_result"
    }
   ],
   "source": [
    "max_iter=400\n",
    "n_jobs=20\n",
    "n_machines=5\n",
    "schedule_best=schedule\n",
    "cnt=0\n",
    "pert_times=6\n",
    "for i in range(max_iter):\n",
    "    for j in range(n_jobs):\n",
    "        \n",
    "        #selecting the k\n",
    "        k=0\n",
    "        # obj=completeion_time_of_job(n_machines,1,schedule,processing_times)\n",
    "        # for e in range(n_jobs-1):\n",
    "        #     if(completeion_time_of_job(n_machines,e+1,schedule,processing_times)<obj):\n",
    "        #         obj=completeion_time_of_job(n_machines,e+1,schedule,processing_times)\n",
    "        #         k=e\n",
    "        k=np.where(np.array(schedule),schedule_best[i])\n",
    "\n",
    "        # do insertions:\n",
    "        obj=compute_makespan(schedule, processing_times)\n",
    "        schedule_fat7a=schedule\n",
    "        schedule_optim=schedule\n",
    "        for e in range(n_jobs):\n",
    "            new_schedule=perform_insert(schedule, k, e)\n",
    "            if(compute_makespan(new_schedule, processing_times)<obj):\n",
    "                schedule_optim=new_schedule\n",
    "        \n",
    "        if(compute_makespan(schedule_optim, processing_times)<compute_makespan(schedule, processing_times)):\n",
    "            schedule=schedule_optim\n",
    "            cnt=0\n",
    "        else:\n",
    "            cnt=cnt+1\n",
    "        \n",
    "        if(compute_makespan(schedule, processing_times)<compute_makespan(schedule_best, processing_times)):\n",
    "            schedule_best=schedule\n",
    "        \n",
    "        if(cnt>=n_jobs):\n",
    "            ss=pairwise_permute_n(schedule_best, pert_times)\n",
    "            if(compute_makespan(ss, processing_times)<compute_makespan(schedule_best, processing_times)):\n",
    "                schedule_best=ss\n",
    "            cnt=0\n",
    "compute_makespan(schedule_best, processing_times),schedule_best"
   ]
  },
  {
   "cell_type": "markdown",
   "id": "a55f5c20",
   "metadata": {},
   "source": [
    "## Guided Local Search "
   ]
  },
  {
   "cell_type": "markdown",
   "id": "6a57f8a5",
   "metadata": {},
   "source": [
    "### Tabu Search"
   ]
  },
  {
   "cell_type": "markdown",
   "id": "dd8e75e4",
   "metadata": {},
   "source": [
    "### Pseudo code:\n",
    "1-Initialize the tabu list and set the initial solution as the current solution.\n",
    "2-Define a neighborhood structure that generates candidate solutions by swapping adjacent jobs in the current solution.\n",
    "3-Evaluate the quality of the initial solution using an objective function that measures the total processing time on all machines.\n",
    "4-Repeat until a stopping criterion is met:\n",
    "    a. Generate a set of candidate solutions by applying the neighborhood structure to the current solution.\n",
    "    b. Remove any candidate solutions that are in the tabu list.\n",
    "    c. Evaluate the remaining candidate solutions using the objective function.\n",
    "    d. Select the best candidate solution as the new current solution.\n",
    "    e. Update the tabu list with the current solution.\n",
    "    f. If the new current solution is better than the best solution found so far, update the best solution.\n",
    "5Return the best solution found."
   ]
  },
  {
   "cell_type": "code",
   "execution_count": 40,
   "id": "9a612899",
   "metadata": {},
   "outputs": [],
   "source": [
    "def tabu_search(init_schedule,processing_times, neighbors_size=10, max_iter=1000, tabu_size=10):\n",
    "    \n",
    "    n_jobs , n_machines = processing_times.shape\n",
    "    current_schedule = init_schedule.copy()\n",
    "    best_schedule = init_schedule.copy()\n",
    "    \n",
    "    tabu_list = []\n",
    "    \n",
    "    iter = 0\n",
    "    for _ in range(max_iter):\n",
    "        \n",
    "        # Générer un ensemble de solutions candidates\n",
    "        candidates = []\n",
    "        for i in range(neighbors_size):\n",
    "            candidate = current_schedule.copy()\n",
    "            j = random.randint(0, n_jobs-2)\n",
    "            k = random.randint(j+1, n_jobs-1)\n",
    "            candidate[j:k+1] = reversed(candidate[j:k+1])\n",
    "            \n",
    "            # Supprimer le candidat s'il figure dans la liste taboue\n",
    "            if(candidate not in tabu_list):\n",
    "                candidates.append(candidate)\n",
    "        \n",
    "        # Évaluer les solutions candidates restantes\n",
    "        candidate_scores = [compute_makespan(candidate, processing_times) for candidate in candidates]\n",
    "        \n",
    "        # Sélectionner la meilleure solution candidate comme nouvelle solution actuelle\n",
    "        best_candidate_idx = min(range(len(candidate_scores)), key=lambda i: candidate_scores[i])\n",
    "        current_schedule = candidates[best_candidate_idx]\n",
    "        \n",
    "        # Ajouter la solution actuelle à la liste taboue\n",
    "        tabu_list.append(current_schedule.copy())\n",
    "        if len(tabu_list) > tabu_size:\n",
    "            tabu_list.pop(0)\n",
    "            \n",
    "        # Vérifier si le meilleur candidat est meilleur que la solution actuelle\n",
    "        if candidate_scores[best_candidate_idx] < compute_makespan(best_schedule, processing_times):\n",
    "            best_schedule = current_schedule.copy()\n",
    "\n",
    "    return best_schedule"
   ]
  },
  {
   "cell_type": "markdown",
   "id": "a403fc7d",
   "metadata": {},
   "source": [
    "## Tests"
   ]
  },
  {
   "cell_type": "code",
   "execution_count": 37,
   "id": "6b5be3b2",
   "metadata": {},
   "outputs": [
    {
     "data": {
      "text/plain": [
       "array([[71, 79, 85, 82, 83],\n",
       "       [84, 71, 66, 68, 81],\n",
       "       [78, 81, 75, 72, 87],\n",
       "       [78, 75, 66, 72, 88],\n",
       "       [72, 88, 83, 85, 88],\n",
       "       [86, 88, 79, 82, 78],\n",
       "       [75, 66, 86, 78, 78],\n",
       "       [80, 79, 66, 83, 78],\n",
       "       [73, 73, 67, 77, 71],\n",
       "       [80, 77, 83, 78, 67]])"
      ]
     },
     "execution_count": 37,
     "metadata": {},
     "output_type": "execute_result"
    }
   ],
   "source": [
    "instance=FmCmax.FmCmax_Instance.read_txt(\"../TP02-Heuristiques/data/random_instance.txt\")\n",
    "processing_times = np.array(instance.P)\n",
    "# schedule,b=heuristique_Ham(M)\n",
    "# upper_bound,schedule,compute_makespan(schedule, M)\n",
    "processing_times"
   ]
  },
  {
   "cell_type": "code",
   "execution_count": 38,
   "id": "9730383b",
   "metadata": {},
   "outputs": [
    {
     "data": {
      "text/plain": [
       "1102"
      ]
     },
     "execution_count": 38,
     "metadata": {},
     "output_type": "execute_result"
    }
   ],
   "source": [
    "initial_solution = list(range(10))\n",
    "random.shuffle(initial_solution)\n",
    "compute_makespan(tabu_search(initial_solution, processing_times,neighbors_size=20, max_iter=5000, tabu_size=100),processing_times)"
   ]
  },
  {
   "cell_type": "markdown",
   "id": "0499fd41",
   "metadata": {},
   "source": [
    "### taillard"
   ]
  },
  {
   "cell_type": "code",
   "execution_count": 50,
   "id": "d5d916a3",
   "metadata": {},
   "outputs": [
    {
     "name": "stdout",
     "output_type": "stream",
     "text": [
      "-------------- Instance  1 ------------------\n",
      "instance 1 : deviation:  0.0 % \n",
      "improved compared to init solution:  100.0\n",
      "Elapsed time: 5.7258055210113525 seconds\n",
      "-------------------------------------------------\n",
      "\n",
      "\n",
      "-------------- Instance  2 ------------------\n",
      "instance 2 : deviation:  0.07358351729212656 % \n",
      "improved compared to init solution:  99.46236559139786\n",
      "Elapsed time: 5.869294881820679 seconds\n",
      "-------------------------------------------------\n",
      "\n",
      "\n",
      "-------------- Instance  3 ------------------\n",
      "instance 3 : deviation:  0.7400555041628122 % \n",
      "improved compared to init solution:  97.4921630094044\n",
      "Elapsed time: 5.828875541687012 seconds\n",
      "-------------------------------------------------\n",
      "\n",
      "\n",
      "-------------- Instance  4 ------------------\n",
      "instance 4 : deviation:  0.6187161639597835 % \n",
      "improved compared to init solution:  97.2508591065292\n",
      "Elapsed time: 5.937375783920288 seconds\n",
      "-------------------------------------------------\n",
      "\n",
      "\n",
      "-------------- Instance  5 ------------------\n",
      "instance 5 : deviation:  0.4045307443365696 % \n",
      "improved compared to init solution:  98.39228295819936\n",
      "Elapsed time: 5.844107389450073 seconds\n",
      "-------------------------------------------------\n",
      "\n",
      "\n",
      "-------------- Instance  6 ------------------\n",
      "instance 6 : deviation:  1.2552301255230125 % \n",
      "improved compared to init solution:  95.0657894736842\n",
      "Elapsed time: 5.837254285812378 seconds\n",
      "-------------------------------------------------\n",
      "\n",
      "\n",
      "-------------- Instance  7 ------------------\n",
      "instance 7 : deviation:  0.0 % \n",
      "improved compared to init solution:  100.0\n",
      "Elapsed time: 6.428668737411499 seconds\n",
      "-------------------------------------------------\n",
      "\n",
      "\n",
      "-------------- Instance  8 ------------------\n",
      "instance 8 : deviation:  0.0 % \n",
      "improved compared to init solution:  100.0\n",
      "Elapsed time: 6.3621437549591064 seconds\n",
      "-------------------------------------------------\n",
      "\n",
      "\n",
      "-------------- Instance  9 ------------------\n",
      "instance 9 : deviation:  1.8699186991869918 % \n",
      "improved compared to init solution:  92.94478527607362\n",
      "Elapsed time: 6.24462103843689 seconds\n",
      "-------------------------------------------------\n",
      "\n",
      "\n",
      "-------------- Instance  10 ------------------\n",
      "instance 10 : deviation:  0.27075812274368233 % \n",
      "improved compared to init solution:  99.08536585365853\n",
      "Elapsed time: 5.800091028213501 seconds\n",
      "-------------------------------------------------\n",
      "\n",
      "\n"
     ]
    }
   ],
   "source": [
    "f =  open(\"../TP02-Heuristiques/data/Taillard.pkl\", \"rb\")\n",
    "taillard = pickle.load(f)\n",
    "i=0;\n",
    "max_iter=5000\n",
    "tabu_size=100\n",
    "neighbors_size=20\n",
    "for i in range(10):\n",
    "    processing_times = np.array(taillard[i][\"P\"]).transpose()\n",
    "    upper_bound = taillard[i][\"ub\"]\n",
    "    init_schedule=list(range(20));\n",
    "    random.shuffle(init_schedule)\n",
    "    init_obj=compute_makespan(init_schedule,processing_times)\n",
    "    start_time = time.time()\n",
    "    schedule=tabu_search(init_schedule, processing_times,neighbors_size, max_iter, tabu_size)\n",
    "    end_time = time.time()\n",
    "    obj=compute_makespan(schedule,processing_times)\n",
    "    print(\"-------------- Instance \",i+1,\"------------------\")\n",
    "    print(\"instance\",i+1,\":\",\"deviation: \",100*(obj-upper_bound)/upper_bound,\"% \")\n",
    "    print(\"improved compared to init solution: \",100*(init_obj-obj)/(init_obj-upper_bound))\n",
    "    elapsed_time = end_time - start_time\n",
    "    print(f\"Elapsed time: {elapsed_time} seconds\")\n",
    "    print(\"-------------------------------------------------\\n\\n\")"
   ]
  },
  {
   "cell_type": "code",
   "execution_count": 52,
   "id": "2fbf299d",
   "metadata": {},
   "outputs": [
    {
     "name": "stdout",
     "output_type": "stream",
     "text": [
      "-------------- Instance  1 ------------------\n",
      "instance 1 : deviation:  0.0 % \n",
      "improved compared to init solution:  100.0\n",
      "Elapsed time: 12.948039770126343 seconds\n",
      "-------------------------------------------------\n",
      "\n",
      "\n",
      "-------------- Instance  2 ------------------\n",
      "instance 2 : deviation:  0.515084621044886 % \n",
      "improved compared to init solution:  92.78350515463917\n",
      "Elapsed time: 13.03857684135437 seconds\n",
      "-------------------------------------------------\n",
      "\n",
      "\n",
      "-------------- Instance  3 ------------------\n",
      "instance 3 : deviation:  0.0 % \n",
      "improved compared to init solution:  100.0\n",
      "Elapsed time: 13.531136512756348 seconds\n",
      "-------------------------------------------------\n",
      "\n",
      "\n",
      "-------------- Instance  4 ------------------\n",
      "instance 4 : deviation:  0.46403712296983757 % \n",
      "improved compared to init solution:  97.63779527559055\n",
      "Elapsed time: 12.997552394866943 seconds\n",
      "-------------------------------------------------\n",
      "\n",
      "\n",
      "-------------- Instance  5 ------------------\n",
      "instance 5 : deviation:  -0.08090614886731391 % \n",
      "improved compared to init solution:  100.31446540880503\n",
      "Elapsed time: 13.052368640899658 seconds\n",
      "-------------------------------------------------\n",
      "\n",
      "\n",
      "-------------- Instance  6 ------------------\n",
      "instance 6 : deviation:  1.2552301255230125 % \n",
      "improved compared to init solution:  94.91525423728814\n",
      "Elapsed time: 12.592042922973633 seconds\n",
      "-------------------------------------------------\n",
      "\n",
      "\n",
      "-------------- Instance  7 ------------------\n",
      "instance 7 : deviation:  0.9685230024213075 % \n",
      "improved compared to init solution:  95.0\n",
      "Elapsed time: 13.629952430725098 seconds\n",
      "-------------------------------------------------\n",
      "\n",
      "\n",
      "-------------- Instance  8 ------------------\n",
      "instance 8 : deviation:  0.0 % \n",
      "improved compared to init solution:  100.0\n",
      "Elapsed time: 12.850776195526123 seconds\n",
      "-------------------------------------------------\n",
      "\n",
      "\n",
      "-------------- Instance  9 ------------------\n",
      "instance 9 : deviation:  2.032520325203252 % \n",
      "improved compared to init solution:  91.98717948717949\n",
      "Elapsed time: 12.582913875579834 seconds\n",
      "-------------------------------------------------\n",
      "\n",
      "\n",
      "-------------- Instance  10 ------------------\n",
      "instance 10 : deviation:  0.0 % \n",
      "improved compared to init solution:  100.0\n",
      "Elapsed time: 12.64396619796753 seconds\n",
      "-------------------------------------------------\n",
      "\n",
      "\n"
     ]
    }
   ],
   "source": [
    "f =  open(\"../TP02-Heuristiques/data/Taillard.pkl\", \"rb\")\n",
    "taillard = pickle.load(f)\n",
    "i=0;\n",
    "max_iter=5000\n",
    "tabu_size=10\n",
    "neighbors_size=40\n",
    "for i in range(10):\n",
    "    processing_times = np.array(taillard[i][\"P\"]).transpose()\n",
    "    upper_bound = taillard[i][\"ub\"]\n",
    "    init_schedule=list(range(20));\n",
    "    random.shuffle(init_schedule)\n",
    "    init_obj=compute_makespan(init_schedule,processing_times)\n",
    "    start_time = time.time()\n",
    "    schedule=tabu_search(init_schedule, processing_times,neighbors_size, max_iter, tabu_size)\n",
    "    end_time = time.time()\n",
    "    obj=compute_makespan(schedule,processing_times)\n",
    "    print(\"-------------- Instance \",i+1,\"------------------\")\n",
    "    print(\"instance\",i+1,\":\",\"deviation: \",100*(obj-upper_bound)/upper_bound,\"% \")\n",
    "    print(\"improved compared to init solution: \",100*(init_obj-obj)/(init_obj-upper_bound))\n",
    "    elapsed_time = end_time - start_time\n",
    "    print(f\"Elapsed time: {elapsed_time} seconds\")\n",
    "    print(\"-------------------------------------------------\\n\\n\")"
   ]
  },
  {
   "cell_type": "code",
   "execution_count": 54,
   "id": "3cbf72de",
   "metadata": {},
   "outputs": [
    {
     "name": "stdout",
     "output_type": "stream",
     "text": [
      "-------------- Instance  5 ------------------\n",
      "[11, 18, 2, 8, 3, 9, 16, 15, 1, 12, 4, 14, 5, 10, 13, 6, 17, 0, 19, 7] 1235 1236\n",
      "instance 5 : deviation:  -0.08090614886731391 % \n",
      "improved compared to init solution:  100.47846889952153\n",
      "Elapsed time: 11.21304178237915 seconds\n",
      "-------------------------------------------------\n",
      "\n",
      "\n"
     ]
    }
   ],
   "source": [
    "f =  open(\"../TP02-Heuristiques/data/Taillard.pkl\", \"rb\")\n",
    "taillard = pickle.load(f)\n",
    "i=0;\n",
    "max_iter=5000\n",
    "tabu_size=10\n",
    "neighbors_size=40\n",
    "for i in range(1):\n",
    "    i=4\n",
    "    processing_times = np.array(taillard[i][\"P\"]).transpose()\n",
    "    upper_bound = taillard[i][\"ub\"]\n",
    "    init_schedule=list(range(20));\n",
    "    random.shuffle(init_schedule)\n",
    "    init_obj=compute_makespan(init_schedule,processing_times)\n",
    "    start_time = time.time()\n",
    "    schedule=tabu_search(init_schedule, processing_times,neighbors_size, max_iter, tabu_size)\n",
    "    end_time = time.time()\n",
    "    obj=compute_makespan(schedule,processing_times)\n",
    "    print(\"-------------- Instance \",i+1,\"------------------\")\n",
    "    print(schedule,obj,upper_bound)\n",
    "    print(\"instance\",i+1,\":\",\"deviation: \",100*(obj-upper_bound)/upper_bound,\"% \")\n",
    "    print(\"improved compared to init solution: \",100*(init_obj-obj)/(init_obj-upper_bound))\n",
    "    elapsed_time = end_time - start_time\n",
    "    print(f\"Elapsed time: {elapsed_time} seconds\")\n",
    "    print(\"-------------------------------------------------\\n\\n\")"
   ]
  },
  {
   "cell_type": "code",
   "execution_count": null,
   "id": "e3ab503d",
   "metadata": {},
   "outputs": [],
   "source": []
  }
 ],
 "metadata": {
  "kernelspec": {
   "display_name": "Python 3 (ipykernel)",
   "language": "python",
   "name": "python3"
  },
  "language_info": {
   "codemirror_mode": {
    "name": "ipython",
    "version": 3
   },
   "file_extension": ".py",
   "mimetype": "text/x-python",
   "name": "python",
   "nbconvert_exporter": "python",
   "pygments_lexer": "ipython3",
   "version": "3.9.13"
  }
 },
 "nbformat": 4,
 "nbformat_minor": 5
}
