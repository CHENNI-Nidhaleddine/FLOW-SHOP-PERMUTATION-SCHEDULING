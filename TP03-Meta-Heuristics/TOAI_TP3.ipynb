{
 "cells": [
  {
   "cell_type": "code",
   "execution_count": 12,
   "id": "c35699eb",
   "metadata": {},
   "outputs": [],
   "source": [
    "import numpy as np\n",
    "import pandas as pd\n",
    "from pyscheduling.FS import FmCmax, FlowShop\n",
    "import pickle\n",
    "import time\n",
    "import matplotlib.pyplot as plt\n",
    "import numpy as np"
   ]
  },
  {
   "cell_type": "markdown",
   "id": "a808a342",
   "metadata": {},
   "source": [
    "## Makespan"
   ]
  },
  {
   "cell_type": "code",
   "execution_count": 13,
   "id": "506ada2d",
   "metadata": {},
   "outputs": [],
   "source": [
    "def compute_makespan(schedule, p):\n",
    "    _, m = p.shape\n",
    "    n = len(schedule)\n",
    "    c = [[0]*m for i in range(n)]\n",
    "    for i in range(n):\n",
    "        for j in range(m):\n",
    "            if i == 0 and j == 0:\n",
    "                c[i][j] = p[schedule[i]][j]\n",
    "            elif i == 0:\n",
    "                c[i][j] = c[i][j-1] + p[schedule[i]][j]\n",
    "            elif j == 0:\n",
    "                c[i][j] = c[i-1][j] + p[schedule[i]][j]\n",
    "            else:\n",
    "                c[i][j] = max(c[i][j-1], c[i-1][j]) + p[schedule[i]][j]\n",
    "    return c[n-1][m-1]"
   ]
  },
  {
   "cell_type": "markdown",
   "id": "5ac85882",
   "metadata": {},
   "source": [
    "## Jaya Algorithm"
   ]
  },
  {
   "cell_type": "markdown",
   "id": "190aa406",
   "metadata": {},
   "source": [
    "## Brève introduction de l'algorithme de Jaya\n",
    "L'algorithme de Jaya est basé sur le principe que la solution au problème donné doit se rapprocher vers la meilleure solution connue et s'éloigne de la pire solution.\n",
    "Les étapes de l'application de l'algorithme de Jaya sont brièvement résumées ci-dessous :\n",
    "<ul>\n",
    "<li>Initialiser la taille de la population et le critère de terminaison (max-iter)</li>\n",
    "<li>Identifier la pire et la meilleure solution dans la population</li>\n",
    "<li>Modifier la variable de conception (dans notre cas la priorite (ordre) des jobs) des autres solutions sur la base de la meilleure et de la pire solution selon l'équation (1)</li>\n",
    "<li>Comparez la solution actualisée à la solution précédente. Si la solution actualisée est meilleure, remplacez-la sinon conservez l'ancienne solution.</li>\n",
    "<li>Déclarer la solution optimale</li>\n",
    "</ul>\n",
    "<br/>\n",
    "<img width=\"700\" height=\"500\" src=\"images/jaya_formula1.png\"/>\n",
    "<!-- <i>\n",
    "   <ul> $x'$<sub><i>$i,k,l$</i></sub> = $x$<sub><i>$i,k,l$</i></sub> + $r$<sub><i>$1,i,l$</i></sub> * ( $x$<sub><i>$i,k,lbest$</i></sub> - |$x$<sub><i>$i,k,l$</i></sub>|) + $r$<sub><i>$2,i,l$</i></sub> * ( $x$<sub><i>$i,k,lworst$</i></sub> - |$x$<sub><i>$i,k,l$</i></sub>|) ......................... (1)</ul>\n",
    "<p>\n",
    "<br/>\n",
    "    <ul>where:</ul>\n",
    "<ul>\n",
    "  <ol>  $x$<sub><i>$i,k,l$</i></sub> : la valeur d'une i ème variable dans la k ème population au cours de la l ème itération</ol>\n",
    "  <ol>$x$<sub><i>$i,k,lbest$</i></sub> : la valeur d'une ième variable dans la population ayant la meilleure solution </ol>\n",
    "  <ol>$x$<sub><i>$i,k,lworst$</i></sub> : la valeur d'une ième variable dans la population ayant la plus mauvaise solution </ol>\n",
    "  <ol>$x'$<sub><i>$i,k,l$</i></sub> : valeur actualisée de $x$<sub><i>$i,k,l$</i></sub> </ol>\n",
    "  <ol>$r$<sub><i>$1,i,l$</i></sub> $r$<sub><i>$2,i,l$</i></sub> : des nombres aléatoires pour la ième variable de la lème itération pour la meilleure et la pire solution respectivement dans  [0, 1] </ol>\n",
    " </ul>\n",
    "</p>\n",
    "   </i> -->\n"
   ]
  },
  {
   "cell_type": "markdown",
   "id": "30e0b618",
   "metadata": {},
   "source": [
    "## Implementation"
   ]
  },
  {
   "cell_type": "code",
   "execution_count": 11,
   "id": "e31ef75d",
   "metadata": {},
   "outputs": [],
   "source": [
    "def generate_job_proirity(num_jobs):\n",
    "    p=[]\n",
    "    for i in range(num_jobs):\n",
    "        p.append(1+np.random.random()*(num_jobs-1))\n",
    "    return p\n",
    "def proiroty_to_sequence(job_priority):\n",
    "    s=[]\n",
    "    p=job_priority.copy()\n",
    "    for i in range(len(p)):\n",
    "        s.append(np.argmax(p))\n",
    "        p[s[-1]]=-float('inf')\n",
    "    return s\n",
    "def newP(old,best,worst):\n",
    "    return old+np.random.random()*(best-np.abs(old))-np.random.random()*(worst-np.abs(old))\n",
    "def jaya_algo(num_jobs,size_p,process_times,max_iter):\n",
    "    #generate population\n",
    "    population=[]\n",
    "    makespans=[_ for _ in range(size_p)]\n",
    "    \n",
    "    #iter 1\n",
    "    for i in range(size_p):\n",
    "        population.append(generate_job_proirity(num_jobs))\n",
    "    #covert to sequence\n",
    "    for i in range(size_p):\n",
    "        makespans[i]=compute_makespan(proiroty_to_sequence(population[i]),process_times)\n",
    "    pi_best=np.min(makespans)\n",
    "    i_min=np.argmin(makespans)\n",
    "    i_max=np.argmax(makespans)\n",
    "    pi_worst=np.max(makespans)\n",
    "    # other iters\n",
    "    for _ in range(max_iter-1):\n",
    "        for i in range(size_p):\n",
    "            for j in range(num_jobs):\n",
    "                population[i][j]=newP(population[i][j],population[i_min][j],population[i_max][j])\n",
    "        for i in range(size_p):\n",
    "            makespans[i]=compute_makespan(proiroty_to_sequence(population[i]),process_times)\n",
    "        pi_best=np.min(makespans)\n",
    "        i_min=np.argmin(makespans)\n",
    "        pi_worst=np.max(makespans)\n",
    "        i_max=np.argmax(makespans)\n",
    "    return proiroty_to_sequence(population[np.argmin(makespans)])"
   ]
  },
  {
   "cell_type": "markdown",
   "id": "828b7509",
   "metadata": {},
   "source": [
    "## Tests"
   ]
  },
  {
   "cell_type": "code",
   "execution_count": 14,
   "id": "ad036762",
   "metadata": {},
   "outputs": [
    {
     "data": {
      "text/plain": [
       "([2, 0, 1], [1.199738443623204, 1.1693589977092422, 1.997453518727237], 2)"
      ]
     },
     "execution_count": 14,
     "metadata": {},
     "output_type": "execute_result"
    }
   ],
   "source": [
    "p=generate_job_proirity(3)\n",
    "proiroty_to_sequence(p),p,np.argmax(p)"
   ]
  },
  {
   "cell_type": "markdown",
   "id": "fdaea25e",
   "metadata": {},
   "source": [
    "### 1- Instance random"
   ]
  },
  {
   "cell_type": "code",
   "execution_count": 29,
   "id": "691991b4",
   "metadata": {},
   "outputs": [
    {
     "name": "stdout",
     "output_type": "stream",
     "text": [
      "makespan 1102\n"
     ]
    }
   ],
   "source": [
    "instance=FmCmax.FmCmax_Instance.read_txt(\"../TP02-Heuristiques/data/random_instance.txt\")\n",
    "n = instance.n\n",
    "m = instance.m\n",
    "M = np.array(instance.P)\n",
    "size_population=250\n",
    "max_iter=100\n",
    "schedule=jaya_algo(n,size_population,M,max_iter)\n",
    "print(\"makespan\",compute_makespan(schedule,M))"
   ]
  },
  {
   "cell_type": "markdown",
   "id": "4a668625",
   "metadata": {},
   "source": [
    "### 2- Instance Taillard"
   ]
  },
  {
   "cell_type": "code",
   "execution_count": 31,
   "id": "cec09dff",
   "metadata": {},
   "outputs": [
    {
     "name": "stdout",
     "output_type": "stream",
     "text": [
      "instance 1 : 1.486697965571205 %\n",
      "instance 2 : 0.9565857247976454 %\n",
      "instance 3 : 4.25531914893617 %\n",
      "instance 4 : 4.176334106728539 %\n",
      "instance 5 : 2.9935275080906147 %\n",
      "instance 6 : 5.188284518828452 %\n",
      "instance 7 : 4.600484261501211 %\n",
      "instance 8 : 3.067993366500829 %\n",
      "instance 9 : 6.260162601626016 %\n",
      "instance 10 : 6.046931407942238 %\n"
     ]
    }
   ],
   "source": [
    "f =  open(\"../TP02-Heuristiques/data/Taillard.pkl\", \"rb\")\n",
    "taillard = pickle.load(f)\n",
    "for i in range(10):\n",
    "    M = np.array(taillard[i][\"P\"]).transpose()\n",
    "    upper_bound = taillard[i][\"ub\"]\n",
    "    schedule=jaya_algo(20,500,M,100)\n",
    "    print(\"instance\",i+1,\":\",100*(compute_makespan(schedule,M)-upper_bound)/upper_bound,\"%\")"
   ]
  },
  {
   "cell_type": "code",
   "execution_count": 32,
   "id": "e82a5e92",
   "metadata": {},
   "outputs": [
    {
     "name": "stdout",
     "output_type": "stream",
     "text": [
      "instance 1 : 1.486697965571205 %\n",
      "instance 2 : 0.0 %\n",
      "instance 3 : 2.4051803885291396 %\n",
      "instance 4 : 1.237432327919567 %\n",
      "instance 5 : 1.132686084142395 %\n",
      "instance 6 : 2.426778242677824 %\n",
      "instance 7 : 1.4527845036319613 %\n",
      "instance 8 : 1.9900497512437811 %\n",
      "instance 9 : 2.5203252032520327 %\n",
      "instance 10 : 4.332129963898917 %\n"
     ]
    }
   ],
   "source": [
    "for i in range(10):\n",
    "    M = np.array(taillard[i][\"P\"]).transpose()\n",
    "    upper_bound = taillard[i][\"ub\"]\n",
    "    schedule=jaya_algo(20,5000,M,100)\n",
    "    print(\"instance\",i+1,\":\",100*(compute_makespan(schedule,M)-upper_bound)/upper_bound,\"%\")"
   ]
  },
  {
   "cell_type": "code",
   "execution_count": 215,
   "id": "cf889431",
   "metadata": {},
   "outputs": [
    {
     "name": "stdout",
     "output_type": "stream",
     "text": [
      "instance 1 : 1.486697965571205 %\n",
      "instance 2 : 0.515084621044886 %\n",
      "instance 3 : 3.145235892691952 %\n",
      "instance 4 : 1.3921113689095128 %\n",
      "instance 5 : 1.4563106796116505 %\n",
      "instance 6 : 2.426778242677824 %\n",
      "instance 7 : 0.9685230024213075 %\n",
      "instance 8 : 1.492537313432836 %\n",
      "instance 9 : 1.8699186991869918 %\n",
      "instance 10 : 2.707581227436823 %\n"
     ]
    }
   ],
   "source": [
    "for i in range(10):\n",
    "    M = np.array(taillard[i][\"P\"]).transpose()\n",
    "    upper_bound = taillard[i][\"ub\"]\n",
    "    schedule=jaya_algo(20,10000,M,10)\n",
    "    print(\"instance\",i+1,\":\",100*(compute_makespan(schedule,M)-upper_bound)/upper_bound,\"%\")"
   ]
  },
  {
   "cell_type": "code",
   "execution_count": null,
   "id": "66464df8",
   "metadata": {},
   "outputs": [],
   "source": []
  }
 ],
 "metadata": {
  "kernelspec": {
   "display_name": "Python 3 (ipykernel)",
   "language": "python",
   "name": "python3"
  },
  "language_info": {
   "codemirror_mode": {
    "name": "ipython",
    "version": 3
   },
   "file_extension": ".py",
   "mimetype": "text/x-python",
   "name": "python",
   "nbconvert_exporter": "python",
   "pygments_lexer": "ipython3",
   "version": "3.9.13"
  }
 },
 "nbformat": 4,
 "nbformat_minor": 5
}
