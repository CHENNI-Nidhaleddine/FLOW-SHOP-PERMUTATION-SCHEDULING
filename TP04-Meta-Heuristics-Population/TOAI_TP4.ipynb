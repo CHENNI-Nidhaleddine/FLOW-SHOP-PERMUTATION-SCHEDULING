{
 "cells": [
  {
   "cell_type": "code",
   "execution_count": 1,
   "id": "c35699eb",
   "metadata": {},
   "outputs": [],
   "source": [
    "import numpy as np\n",
    "import pandas as pd\n",
    "from pyscheduling.FS import FmCmax, FlowShop\n",
    "import pickle\n",
    "import time\n",
    "import matplotlib.pyplot as plt\n",
    "import numpy as np"
   ]
  },
  {
   "cell_type": "markdown",
   "id": "a808a342",
   "metadata": {},
   "source": [
    "## Makespan"
   ]
  },
  {
   "cell_type": "code",
   "execution_count": 2,
   "id": "506ada2d",
   "metadata": {},
   "outputs": [],
   "source": [
    "def compute_makespan(schedule, p):\n",
    "    _, m = p.shape\n",
    "    n = len(schedule)\n",
    "    c = [[0]*m for i in range(n)]\n",
    "    for i in range(n):\n",
    "        for j in range(m):\n",
    "            if i == 0 and j == 0:\n",
    "                c[i][j] = p[schedule[i]][j]\n",
    "            elif i == 0:\n",
    "                c[i][j] = c[i][j-1] + p[schedule[i]][j]\n",
    "            elif j == 0:\n",
    "                c[i][j] = c[i-1][j] + p[schedule[i]][j]\n",
    "            else:\n",
    "                c[i][j] = max(c[i][j-1], c[i-1][j]) + p[schedule[i]][j]\n",
    "    return c[n-1][m-1]"
   ]
  },
  {
   "cell_type": "markdown",
   "id": "5ac85882",
   "metadata": {},
   "source": [
    "## Jaya Algorithm"
   ]
  },
  {
   "cell_type": "markdown",
   "id": "190aa406",
   "metadata": {},
   "source": [
    "## Brève introduction de l'algorithme de Jaya\n",
    "L'algorithme de Jaya est basé sur le principe que la solution au problème donné doit se rapprocher vers la meilleure solution connue et s'éloigne de la pire solution.\n",
    "Les étapes de l'application de l'algorithme de Jaya sont brièvement résumées ci-dessous :\n",
    "<ul>\n",
    "<li>Initialiser la taille de la population et le critère de terminaison (max-iter)</li>\n",
    "<li>Identifier la pire et la meilleure solution dans la population</li>\n",
    "<li>Modifier la variable de conception (dans notre cas la priorite (ordre) des jobs) des autres solutions sur la base de la meilleure et de la pire solution selon l'équation (1)</li>\n",
    "<li>Comparez la solution actualisée à la solution précédente. Si la solution actualisée est meilleure, remplacez-la sinon conservez l'ancienne solution.</li>\n",
    "<li>Déclarer la solution optimale</li>\n",
    "</ul>\n",
    "<br/>\n",
    "<img width=\"700\" height=\"500\" src=\"images/jaya_formula1.png\"/>\n",
    "<!-- <i>\n",
    "   <ul> $x'$<sub><i>$i,k,l$</i></sub> = $x$<sub><i>$i,k,l$</i></sub> + $r$<sub><i>$1,i,l$</i></sub> * ( $x$<sub><i>$i,k,lbest$</i></sub> - |$x$<sub><i>$i,k,l$</i></sub>|) + $r$<sub><i>$2,i,l$</i></sub> * ( $x$<sub><i>$i,k,lworst$</i></sub> - |$x$<sub><i>$i,k,l$</i></sub>|) ......................... (1)</ul>\n",
    "<p>\n",
    "<br/>\n",
    "    <ul>where:</ul>\n",
    "<ul>\n",
    "  <ol>  $x$<sub><i>$i,k,l$</i></sub> : la valeur d'une i ème variable dans la k ème population au cours de la l ème itération</ol>\n",
    "  <ol>$x$<sub><i>$i,k,lbest$</i></sub> : la valeur d'une ième variable dans la population ayant la meilleure solution </ol>\n",
    "  <ol>$x$<sub><i>$i,k,lworst$</i></sub> : la valeur d'une ième variable dans la population ayant la plus mauvaise solution </ol>\n",
    "  <ol>$x'$<sub><i>$i,k,l$</i></sub> : valeur actualisée de $x$<sub><i>$i,k,l$</i></sub> </ol>\n",
    "  <ol>$r$<sub><i>$1,i,l$</i></sub> $r$<sub><i>$2,i,l$</i></sub> : des nombres aléatoires pour la ième variable de la lème itération pour la meilleure et la pire solution respectivement dans  [0, 1] </ol>\n",
    " </ul>\n",
    "</p>\n",
    "   </i> -->\n"
   ]
  },
  {
   "cell_type": "markdown",
   "id": "30e0b618",
   "metadata": {},
   "source": [
    "## Implementation"
   ]
  },
  {
   "cell_type": "code",
   "execution_count": 23,
   "id": "e31ef75d",
   "metadata": {},
   "outputs": [],
   "source": [
    "def generate_job_proirity(num_jobs):\n",
    "    p=[]\n",
    "    for i in range(num_jobs):\n",
    "        p.append(1+np.random.random()*(num_jobs-1))\n",
    "    return p\n",
    "def proiroty_to_sequence(job_priority):\n",
    "    s=[]\n",
    "    p=job_priority.copy()\n",
    "    for i in range(len(p)):\n",
    "        s.append(np.argmax(p))\n",
    "        p[s[-1]]=-float('inf')\n",
    "    return s\n",
    "def newP(old,best,worst):\n",
    "    return old+np.random.random()*(best-np.abs(old))-np.random.random()*(worst-np.abs(old))\n",
    "def jaya_algo(num_jobs,size_p,process_times,max_iter):\n",
    "    #generate population\n",
    "    population=[]\n",
    "    makespans=[_ for _ in range(size_p)]\n",
    "    \n",
    "    #iter 1\n",
    "    for i in range(size_p):\n",
    "        population.append(generate_job_proirity(num_jobs))\n",
    "    #covert to sequence\n",
    "    for i in range(size_p):\n",
    "        makespans[i]=compute_makespan(proiroty_to_sequence(population[i]),process_times)\n",
    "    pi_best=np.min(makespans)\n",
    "    i_min=np.argmin(makespans)\n",
    "    i_max=np.argmax(makespans)\n",
    "    pi_worst=np.max(makespans)\n",
    "    # other iters\n",
    "    for _ in range(max_iter-1):\n",
    "        for i in range(size_p):\n",
    "            for j in range(num_jobs):\n",
    "                population[i][j]=newP(population[i][j],population[i_min][j],population[i_max][j])\n",
    "        for i in range(size_p):\n",
    "            makespans[i]=compute_makespan(proiroty_to_sequence(population[i]),process_times)\n",
    "        pi_best=np.min(makespans)\n",
    "        i_min=np.argmin(makespans)\n",
    "        pi_worst=np.max(makespans)\n",
    "        i_max=np.argmax(makespans)\n",
    "    return proiroty_to_sequence(population[np.argmin(makespans)])"
   ]
  },
  {
   "cell_type": "markdown",
   "id": "828b7509",
   "metadata": {},
   "source": [
    "## Tests"
   ]
  },
  {
   "cell_type": "code",
   "execution_count": 14,
   "id": "ad036762",
   "metadata": {},
   "outputs": [
    {
     "data": {
      "text/plain": [
       "([2, 0, 1], [1.199738443623204, 1.1693589977092422, 1.997453518727237], 2)"
      ]
     },
     "execution_count": 14,
     "metadata": {},
     "output_type": "execute_result"
    }
   ],
   "source": [
    "p=generate_job_proirity(3)\n",
    "proiroty_to_sequence(p),p,np.argmax(p)"
   ]
  },
  {
   "cell_type": "markdown",
   "id": "fdaea25e",
   "metadata": {},
   "source": [
    "### 1- Instance random"
   ]
  },
  {
   "cell_type": "code",
   "execution_count": 29,
   "id": "691991b4",
   "metadata": {},
   "outputs": [
    {
     "name": "stdout",
     "output_type": "stream",
     "text": [
      "makespan 1102\n"
     ]
    }
   ],
   "source": [
    "instance=FmCmax.FmCmax_Instance.read_txt(\"../TP02-Heuristiques/data/random_instance.txt\")\n",
    "n = instance.n\n",
    "m = instance.m\n",
    "M = np.array(instance.P)\n",
    "size_population=250\n",
    "max_iter=100\n",
    "schedule=jaya_algo(n,size_population,M,max_iter)\n",
    "print(\"makespan\",compute_makespan(schedule,M))"
   ]
  },
  {
   "cell_type": "markdown",
   "id": "4a668625",
   "metadata": {},
   "source": [
    "### 2- Instance Taillard"
   ]
  },
  {
   "cell_type": "code",
   "execution_count": 31,
   "id": "cec09dff",
   "metadata": {},
   "outputs": [
    {
     "name": "stdout",
     "output_type": "stream",
     "text": [
      "instance 1 : 1.486697965571205 %\n",
      "instance 2 : 0.9565857247976454 %\n",
      "instance 3 : 4.25531914893617 %\n",
      "instance 4 : 4.176334106728539 %\n",
      "instance 5 : 2.9935275080906147 %\n",
      "instance 6 : 5.188284518828452 %\n",
      "instance 7 : 4.600484261501211 %\n",
      "instance 8 : 3.067993366500829 %\n",
      "instance 9 : 6.260162601626016 %\n",
      "instance 10 : 6.046931407942238 %\n"
     ]
    }
   ],
   "source": [
    "f =  open(\"../TP02-Heuristiques/data/Taillard.pkl\", \"rb\")\n",
    "taillard = pickle.load(f)\n",
    "for i in range(10):\n",
    "    M = np.array(taillard[i][\"P\"]).transpose()\n",
    "    upper_bound = taillard[i][\"ub\"]\n",
    "    schedule=jaya_algo(20,500,M,100)\n",
    "    print(\"instance\",i+1,\":\",100*(compute_makespan(schedule,M)-upper_bound)/upper_bound,\"%\")"
   ]
  },
  {
   "cell_type": "code",
   "execution_count": 32,
   "id": "e82a5e92",
   "metadata": {},
   "outputs": [
    {
     "name": "stdout",
     "output_type": "stream",
     "text": [
      "instance 1 : 1.486697965571205 %\n",
      "instance 2 : 0.0 %\n",
      "instance 3 : 2.4051803885291396 %\n",
      "instance 4 : 1.237432327919567 %\n",
      "instance 5 : 1.132686084142395 %\n",
      "instance 6 : 2.426778242677824 %\n",
      "instance 7 : 1.4527845036319613 %\n",
      "instance 8 : 1.9900497512437811 %\n",
      "instance 9 : 2.5203252032520327 %\n",
      "instance 10 : 4.332129963898917 %\n"
     ]
    }
   ],
   "source": [
    "for i in range(10):\n",
    "    M = np.array(taillard[i][\"P\"]).transpose()\n",
    "    upper_bound = taillard[i][\"ub\"]\n",
    "    schedule=jaya_algo(20,5000,M,100)\n",
    "    print(\"instance\",i+1,\":\",100*(compute_makespan(schedule,M)-upper_bound)/upper_bound,\"%\")"
   ]
  },
  {
   "cell_type": "code",
   "execution_count": 215,
   "id": "cf889431",
   "metadata": {},
   "outputs": [
    {
     "name": "stdout",
     "output_type": "stream",
     "text": [
      "instance 1 : 1.486697965571205 %\n",
      "instance 2 : 0.515084621044886 %\n",
      "instance 3 : 3.145235892691952 %\n",
      "instance 4 : 1.3921113689095128 %\n",
      "instance 5 : 1.4563106796116505 %\n",
      "instance 6 : 2.426778242677824 %\n",
      "instance 7 : 0.9685230024213075 %\n",
      "instance 8 : 1.492537313432836 %\n",
      "instance 9 : 1.8699186991869918 %\n",
      "instance 10 : 2.707581227436823 %\n"
     ]
    }
   ],
   "source": [
    "for i in range(10):\n",
    "    M = np.array(taillard[i][\"P\"]).transpose()\n",
    "    upper_bound = taillard[i][\"ub\"]\n",
    "    schedule=jaya_algo(20,10000,M,10)\n",
    "    print(\"instance\",i+1,\":\",100*(compute_makespan(schedule,M)-upper_bound)/upper_bound,\"%\")"
   ]
  },
  {
   "cell_type": "markdown",
   "id": "764e95c3",
   "metadata": {},
   "source": [
    "## Genetic algorithm\n",
    "<!-- link (https://dergipark.org.tr/en/download/article-file/950358) -->"
   ]
  },
  {
   "cell_type": "markdown",
   "id": "2c1cb6db",
   "metadata": {},
   "source": [
    "### Utils"
   ]
  },
  {
   "cell_type": "code",
   "execution_count": 6,
   "id": "89878293",
   "metadata": {},
   "outputs": [],
   "source": [
    "#utilities\n",
    "def init_population(n_jobs,size_p):\n",
    "    population=[]\n",
    "    i=0\n",
    "    while (i<size_p):\n",
    "        _=numbers = list(range(n_jobs))\n",
    "        random.shuffle(_)\n",
    "        if(_ not in population):\n",
    "            population.append(_)\n",
    "            i=i+1\n",
    "    return population\n",
    "        \n",
    "def fitness(schedule,processing_times):\n",
    "    return compute_makespan(schedule,processing_times)\n",
    "\n",
    "def crossover(schedule1,schedule2):\n",
    "    n=len(schedule1)\n",
    "    i=random.randint(0,n-1)\n",
    "    j=random.randint(i+1,n)\n",
    "    new_schedule1=[-1]*n\n",
    "    new_schedule2=[-1]*n\n",
    "    \n",
    "    for idx in range(i,j):\n",
    "        new_schedule1[idx]=schedule1[idx]\n",
    "        new_schedule2[idx]=schedule2[idx]\n",
    "        \n",
    "    idx=j%n\n",
    "    for k in range(n):\n",
    "        if(schedule2[k] not in new_schedule1):\n",
    "            new_schedule1[idx]=schedule2[k]\n",
    "            idx=(idx+1)%n\n",
    "    \n",
    "    idx=j%n\n",
    "    for k in range(n):\n",
    "        if(schedule1[k] not in new_schedule2):\n",
    "            new_schedule2[idx]=schedule1[k]\n",
    "            idx=(idx+1)%n\n",
    "    \n",
    "    \n",
    "    return new_schedule1,new_schedule2\n",
    "\n",
    "def mutation_swap(schedule):\n",
    "    i=random.randint(0,len(schedule)-2)\n",
    "    j=random.randint(i+1,len(schedule)-1)\n",
    "    schedule[i],schedule[j]=schedule[j],schedule[i]\n",
    "    return schedule\n",
    "\n",
    "def mutation_reverse_sequence(schedule):\n",
    "    i=random.randint(0,len(schedule)-2)\n",
    "    j=random.randint(i+1,len(schedule))\n",
    "    schedule=schedule[:i]+list(reversed(schedule[i:j]))+schedule[j:]\n",
    "    return schedule\n",
    "\n",
    "def roulette_wheel_selection(population, processing_times):\n",
    "    fitness_values = [fitness(schedule, processing_times) for schedule in population]\n",
    "    total_fitness = sum(fitness_values)\n",
    "    probabilities = [fitness_value / total_fitness for fitness_value in fitness_values]\n",
    "    cumulative_probabilities = [sum(probabilities[:i+1]) for i in range(len(probabilities))]\n",
    "    selection_point = random.uniform(0, 1)\n",
    "    for i, probability in enumerate(cumulative_probabilities):\n",
    "        if selection_point <= probability:\n",
    "            return population[i]\n",
    "\n",
    "def tournament_selection(population,tournament_size,processing_times):\n",
    "    tournament = random.sample(population, tournament_size)\n",
    "    winner = min(tournament, key=lambda x: fitness(x, processing_times))\n",
    "    return winner\n",
    "    \n",
    "def elitism(population,n_select,processing_times):\n",
    "    fitness_values = [(schedule, fitness(schedule, processing_times)) for schedule in population]\n",
    "    sorted_population = [x[0] for x in sorted(fitness_values, key=lambda x: x[1])]\n",
    "    return sorted_population[:n_select]"
   ]
  },
  {
   "cell_type": "markdown",
   "id": "1db12b4b",
   "metadata": {},
   "source": [
    "### Main algo"
   ]
  },
  {
   "cell_type": "code",
   "execution_count": 7,
   "id": "0292709b",
   "metadata": {},
   "outputs": [],
   "source": [
    "def genetic_algo(processing_times,size_population,num_generations,tournament_size,crossover_rate,mutation_rate,n_select):\n",
    "    n_jobs,n_machines=processing_times.shape\n",
    "    population=init_population(n_jobs,size_population)\n",
    "    \n",
    "    for _ in range(num_generations):\n",
    "        #elitism\n",
    "        hello=elitism(population,n_select,processing_times)\n",
    "        idx=0\n",
    "        #crossover\n",
    "        for i in range(size_population):\n",
    "            if(random.uniform(0,1)<crossover_rate):\n",
    "                #selection\n",
    "                schedule1=tournament_selection(population,tournament_size,processing_times)\n",
    "                schedule2=tournament_selection(population,tournament_size,processing_times)\n",
    "                new1,new2=crossover(schedule1,schedule2)\n",
    "                obj1,obj2=fitness(new1,processing_times),fitness(new2,processing_times)\n",
    "                if(obj1>obj2):\n",
    "                    population[i]=new2\n",
    "                else:\n",
    "                    population[i]=new1\n",
    "            elif(idx<n_select):\n",
    "                population[i]=hello[idx]\n",
    "                idx=idx+1\n",
    "                    \n",
    "        for i in range(size_population):\n",
    "            if(random.uniform(0,1)<mutation_rate):\n",
    "                population[i]=mutation_reverse_sequence(population[i])\n",
    "                \n",
    "    fitness_values = [(schedule, fitness(schedule, processing_times)) for schedule in population]\n",
    "    # Sort the population by fitness in ascending order\n",
    "    fitness_values.sort(key=lambda x: x[1])\n",
    "    best_one=fitness_values[0]\n",
    "    return best_one"
   ]
  },
  {
   "cell_type": "code",
   "execution_count": 66,
   "id": "b74ef07c",
   "metadata": {},
   "outputs": [
    {
     "name": "stdout",
     "output_type": "stream",
     "text": [
      "([3, 2, 7, 6, 8, 0, 1, 4, 5, 9], 1102)\n"
     ]
    }
   ],
   "source": [
    "instance=FmCmax.FmCmax_Instance.read_txt(\"../TP02-Heuristiques/data/random_instance.txt\")\n",
    "n = instance.n\n",
    "m = instance.m\n",
    "M = np.array(instance.P)\n",
    "schedule=genetic_algo(M,size_population=500,num_generations=100,tournament_size=30,crossover_rate=0.8,mutation_rate=0.8,n_select=10)\n",
    "print(schedule)"
   ]
  },
  {
   "cell_type": "code",
   "execution_count": 70,
   "id": "137eb871",
   "metadata": {},
   "outputs": [
    {
     "name": "stdout",
     "output_type": "stream",
     "text": [
      "instance 1 : 1.486697965571205 %\n",
      "instance 2 : 0.515084621044886 %\n",
      "instance 3 : 1.572617946345976 %\n",
      "instance 4 : 1.237432327919567 %\n",
      "instance 5 : 1.132686084142395 %\n",
      "instance 6 : 1.2552301255230125 %\n",
      "instance 7 : 0.9685230024213075 %\n",
      "instance 8 : 0.0 %\n",
      "instance 9 : 2.032520325203252 %\n",
      "instance 10 : 1.263537906137184 %\n"
     ]
    }
   ],
   "source": [
    "f =  open(\"../TP02-Heuristiques/data/Taillard.pkl\", \"rb\")\n",
    "taillard = pickle.load(f)\n",
    "for i in range(10):\n",
    "    M = np.array(taillard[i][\"P\"]).transpose()\n",
    "    upper_bound = taillard[i][\"ub\"]\n",
    "    schedule,obj=genetic_algo(M,size_population=400,num_generations=100,tournament_size=100,crossover_rate=0.8,mutation_rate=0.8,n_select=10)\n",
    "    print(\"instance\",i+1,\":\",100*(obj-upper_bound)/upper_bound,\"%\")"
   ]
  },
  {
   "cell_type": "code",
   "execution_count": 11,
   "id": "b7d58786",
   "metadata": {},
   "outputs": [
    {
     "name": "stdout",
     "output_type": "stream",
     "text": [
      "instance 1 : 1.486697965571205 %\n",
      "instance 2 : 0.5886681383370125 %\n",
      "instance 3 : 3.145235892691952 %\n",
      "instance 4 : 3.2482598607888633 %\n",
      "instance 5 : 3.802588996763754 %\n",
      "instance 6 : 2.426778242677824 %\n",
      "instance 7 : 0.9685230024213075 %\n",
      "instance 8 : 5.638474295190713 %\n",
      "instance 9 : 7.3983739837398375 %\n",
      "instance 10 : 2.0758122743682312 %\n"
     ]
    }
   ],
   "source": [
    "f =  open(\"../TP02-Heuristiques/data/Taillard.pkl\", \"rb\")\n",
    "taillard = pickle.load(f)\n",
    "for i in range(10):\n",
    "    M = np.array(taillard[i][\"P\"]).transpose()\n",
    "    upper_bound = taillard[i][\"ub\"]\n",
    "    schedule,obj=genetic_algo(M,size_population=100,num_generations=50,tournament_size=10,crossover_rate=0.8,mutation_rate=0.8,n_select=2)\n",
    "    print(\"instance\",i+1,\":\",100*(obj-upper_bound)/upper_bound,\"%\")"
   ]
  },
  {
   "cell_type": "markdown",
   "id": "9ed74166",
   "metadata": {},
   "source": [
    "### ANT COLONY\n",
    "link (https://www.researchgate.net/profile/Thomas-Stuetzle/publication/2593620_An_Ant_Approach_to_the_Flow_Shop_Problem/links/0046353a2c198330ee000000/An-Ant-Approach-to-the-Flow-Shop-Problem.pdf)"
   ]
  },
  {
   "cell_type": "code",
   "execution_count": 34,
   "id": "3f97583f",
   "metadata": {},
   "outputs": [],
   "source": [
    "#utilities\n",
    "def local_search(solution,processing_times):\n",
    "    for i in range(num_jobs):\n",
    "        for j in range(num_jobs):\n",
    "            if i != j:\n",
    "                new_solution = solution.copy()\n",
    "                new_solution[i], new_solution[j] = new_solution[j], new_solution[i]\n",
    "                new_makespan = compute_makespan(new_solution,processing_times)\n",
    "                if new_makespan < compute_makespan(solution,processing_times):\n",
    "                    solution = new_solution\n",
    "    return solution\n",
    "def insertion_local_search(solution, processing_times): # generated by chatgpt not verified yet\n",
    "    num_jobs = len(solution)\n",
    "    solution=list(solution)\n",
    "    makespan = compute_makespan(solution, processing_times)\n",
    "    \n",
    "    # Iterate over each job in the solution\n",
    "    for i in range(1, num_jobs):\n",
    "        # Save the job that will be moved\n",
    "        job = solution[i]\n",
    "        \n",
    "        # Try moving the job to every position in the sequence\n",
    "        for j in range(i):\n",
    "            # Remove the job from its current position\n",
    "            solution.pop(i)\n",
    "            \n",
    "            # Insert the job at the new position\n",
    "            solution.insert(j, job)\n",
    "            \n",
    "            # Compute the makespan of the new solution\n",
    "            new_makespan = compute_makespan(solution, processing_times)\n",
    "            \n",
    "            # If the new solution is better, accept it\n",
    "            if new_makespan < makespan:\n",
    "                makespan = new_makespan\n",
    "                # Continue searching from the new solution\n",
    "                i = 1\n",
    "                break\n",
    "            else:\n",
    "                # Revert the solution to its previous state\n",
    "                solution.pop(j)\n",
    "                solution.insert(i, job)\n",
    "    \n",
    "    return solution, makespan\n"
   ]
  },
  {
   "cell_type": "code",
   "execution_count": 37,
   "id": "38b09c70",
   "metadata": {},
   "outputs": [],
   "source": [
    "def max_min_ant_system(processing_times,num_ants,rho,q,max_iterations):\n",
    "    num_jobs,num_machines=processing_times.shape\n",
    "#     pheromone_trails[i,j,k] represents the amount of pheromone associated with the decision of assigning job i immediately before job j on machine k.\n",
    "    pheromone_trails = np.ones((num_jobs, num_jobs, num_machines))\n",
    "\n",
    "    best_solution = None\n",
    "    best_makespan = np.inf\n",
    "    \n",
    "    pheromone_min = 0.01\n",
    "    pheromone_max = 1.0\n",
    "    \n",
    "    # Loop over iterations\n",
    "    for iteration in range(max_iterations):\n",
    "        ant_solutions = []\n",
    "        ant_makespans = []\n",
    "        \n",
    "        #construct a solution for the ant\n",
    "        #Improve solution by local search\n",
    "        for ant in range(num_ants):\n",
    "            solution = np.random.permutation(num_jobs)\n",
    "            solution,_=insertion_local_search(solution, processing_times)\n",
    "#             solution = local_search(solution,processing_times)\n",
    "            makespan = compute_makespan(solution,processing_times)\n",
    "            if makespan < best_makespan:\n",
    "                best_solution = solution\n",
    "                best_makespan = makespan\n",
    "            ant_solutions.append(solution)\n",
    "            ant_makespans.append(makespan)\n",
    "        \n",
    "        \n",
    "        # Update pheromone trails\n",
    "        delta_pheromones = np.zeros((num_jobs, num_jobs, num_machines))\n",
    "        for ant in range(num_ants):\n",
    "            for i in range(num_jobs):\n",
    "                for j in range(num_jobs):\n",
    "                    if i != j:\n",
    "                        for k in range(num_machines):\n",
    "                            delta_pheromones[i,j,k] += q / ant_makespans[ant] if ant_solutions[ant][i] == j else 0\n",
    "        \n",
    "        pheromone_trails *= (1 - rho)\n",
    "        pheromone_trails += delta_pheromones\n",
    "        \n",
    "        # Perform MAX-MIN pheromone trail update\n",
    "        for i in range(num_jobs):\n",
    "            for j in range(num_jobs):\n",
    "                if i != j:\n",
    "                    for k in range(num_machines):\n",
    "                        pheromone_trails[i,j,k] = max(pheromone_min, min(pheromone_max, pheromone_trails[i,j,k]))\n",
    "        pheromone_trails /= np.sum(pheromone_trails)\n",
    "    \n",
    "    return best_solution"
   ]
  },
  {
   "cell_type": "code",
   "execution_count": null,
   "id": "2cf9235a",
   "metadata": {},
   "outputs": [],
   "source": []
  },
  {
   "cell_type": "code",
   "execution_count": 39,
   "id": "6c675ad2",
   "metadata": {},
   "outputs": [
    {
     "data": {
      "text/plain": [
       "([3, 2, 7, 6, 8, 0, 1, 4, 5, 9], 1102)"
      ]
     },
     "execution_count": 39,
     "metadata": {},
     "output_type": "execute_result"
    }
   ],
   "source": [
    "import numpy as np\n",
    "\n",
    "# Define FSP problem parameters\n",
    "instance=FmCmax.FmCmax_Instance.read_txt(\"../TP02-Heuristiques/data/random_instance.txt\")\n",
    "num_jobs = instance.n\n",
    "num_machines = instance.m\n",
    "processing_times = np.array(instance.P)\n",
    "\n",
    "\n",
    "\n",
    "# Define algorithm parameters\n",
    "num_ants = 10\n",
    "alpha = 1\n",
    "beta = 2\n",
    "rho = 0.5\n",
    "q = 100\n",
    "max_iterations = 100\n",
    "\n",
    "sol=max_min_ant_system(processing_times,num_ants,rho,q,max_iterations)\n",
    "sol,compute_makespan(sol,processing_times)"
   ]
  },
  {
   "cell_type": "code",
   "execution_count": 28,
   "id": "c1ec17b7",
   "metadata": {},
   "outputs": [
    {
     "name": "stdout",
     "output_type": "stream",
     "text": [
      "instance 1 : 1.6431924882629108 %\n",
      "instance 2 : 0.5886681383370125 %\n",
      "instance 3 : 7.493061979648473 %\n",
      "instance 4 : 6.0324825986078885 %\n",
      "instance 5 : 5.339805825242719 %\n",
      "instance 6 : 7.02928870292887 %\n",
      "instance 7 : 0.9685230024213075 %\n",
      "instance 8 : 7.711442786069652 %\n",
      "instance 9 : 5.528455284552845 %\n",
      "instance 10 : 5.324909747292419 %\n"
     ]
    }
   ],
   "source": [
    "f =  open(\"../TP02-Heuristiques/data/Taillard.pkl\", \"rb\")\n",
    "taillard = pickle.load(f)\n",
    "for i in range(10):\n",
    "    M = np.array(taillard[i][\"P\"]).transpose()\n",
    "    upper_bound = taillard[i][\"ub\"]\n",
    "    schedule=max_min_ant_system(M,num_ants=10,rho=0.4,q=100,max_iterations=200)\n",
    "    obj=compute_makespan(schedule,M)\n",
    "    print(\"instance\",i+1,\":\",100*(obj-upper_bound)/upper_bound,\"%\")"
   ]
  },
  {
   "cell_type": "code",
   "execution_count": 29,
   "id": "86ad2acc",
   "metadata": {},
   "outputs": [
    {
     "name": "stdout",
     "output_type": "stream",
     "text": [
      "instance 1 : 2.5821596244131455 %\n",
      "instance 2 : 0.515084621044886 %\n",
      "instance 3 : 6.753006475485662 %\n",
      "instance 4 : 6.8058778035576175 %\n",
      "instance 5 : 5.258899676375404 %\n",
      "instance 6 : 3.7656903765690375 %\n",
      "instance 7 : 1.3720742534301857 %\n",
      "instance 8 : 4.975124378109452 %\n",
      "instance 9 : 5.121951219512195 %\n",
      "instance 10 : 5.956678700361011 %\n"
     ]
    }
   ],
   "source": [
    "f =  open(\"../TP02-Heuristiques/data/Taillard.pkl\", \"rb\")\n",
    "taillard = pickle.load(f)\n",
    "for i in range(10):\n",
    "    M = np.array(taillard[i][\"P\"]).transpose()\n",
    "    upper_bound = taillard[i][\"ub\"]\n",
    "    schedule=max_min_ant_system(M,num_ants=30,rho=0.4,q=100,max_iterations=300)\n",
    "    obj=compute_makespan(schedule,M)\n",
    "    print(\"instance\",i+1,\":\",100*(obj-upper_bound)/upper_bound,\"%\")"
   ]
  },
  {
   "cell_type": "code",
   "execution_count": 30,
   "id": "09f3d679",
   "metadata": {},
   "outputs": [
    {
     "name": "stdout",
     "output_type": "stream",
     "text": [
      "instance 1 : 1.486697965571205 %\n",
      "instance 2 : 0.515084621044886 %\n",
      "instance 3 : 6.012950971322849 %\n",
      "instance 4 : 4.872389791183295 %\n",
      "instance 5 : 3.3171521035598706 %\n"
     ]
    },
    {
     "ename": "KeyboardInterrupt",
     "evalue": "",
     "output_type": "error",
     "traceback": [
      "\u001b[1;31m---------------------------------------------------------------------------\u001b[0m",
      "\u001b[1;31mKeyboardInterrupt\u001b[0m                         Traceback (most recent call last)",
      "\u001b[1;32m~\\AppData\\Local\\Temp\\ipykernel_8404\\1128168760.py\u001b[0m in \u001b[0;36m<module>\u001b[1;34m\u001b[0m\n\u001b[0;32m      4\u001b[0m     \u001b[0mM\u001b[0m \u001b[1;33m=\u001b[0m \u001b[0mnp\u001b[0m\u001b[1;33m.\u001b[0m\u001b[0marray\u001b[0m\u001b[1;33m(\u001b[0m\u001b[0mtaillard\u001b[0m\u001b[1;33m[\u001b[0m\u001b[0mi\u001b[0m\u001b[1;33m]\u001b[0m\u001b[1;33m[\u001b[0m\u001b[1;34m\"P\"\u001b[0m\u001b[1;33m]\u001b[0m\u001b[1;33m)\u001b[0m\u001b[1;33m.\u001b[0m\u001b[0mtranspose\u001b[0m\u001b[1;33m(\u001b[0m\u001b[1;33m)\u001b[0m\u001b[1;33m\u001b[0m\u001b[1;33m\u001b[0m\u001b[0m\n\u001b[0;32m      5\u001b[0m     \u001b[0mupper_bound\u001b[0m \u001b[1;33m=\u001b[0m \u001b[0mtaillard\u001b[0m\u001b[1;33m[\u001b[0m\u001b[0mi\u001b[0m\u001b[1;33m]\u001b[0m\u001b[1;33m[\u001b[0m\u001b[1;34m\"ub\"\u001b[0m\u001b[1;33m]\u001b[0m\u001b[1;33m\u001b[0m\u001b[1;33m\u001b[0m\u001b[0m\n\u001b[1;32m----> 6\u001b[1;33m     \u001b[0mschedule\u001b[0m\u001b[1;33m=\u001b[0m\u001b[0mmax_min_ant_system\u001b[0m\u001b[1;33m(\u001b[0m\u001b[0mM\u001b[0m\u001b[1;33m,\u001b[0m\u001b[0mnum_ants\u001b[0m\u001b[1;33m=\u001b[0m\u001b[1;36m50\u001b[0m\u001b[1;33m,\u001b[0m\u001b[0mrho\u001b[0m\u001b[1;33m=\u001b[0m\u001b[1;36m0.75\u001b[0m\u001b[1;33m,\u001b[0m\u001b[0mq\u001b[0m\u001b[1;33m=\u001b[0m\u001b[1;36m200\u001b[0m\u001b[1;33m,\u001b[0m\u001b[0mmax_iterations\u001b[0m\u001b[1;33m=\u001b[0m\u001b[1;36m500\u001b[0m\u001b[1;33m,\u001b[0m\u001b[0malpha\u001b[0m\u001b[1;33m=\u001b[0m\u001b[1;36m1\u001b[0m\u001b[1;33m,\u001b[0m\u001b[0mbeta\u001b[0m\u001b[1;33m=\u001b[0m\u001b[1;36m2\u001b[0m\u001b[1;33m)\u001b[0m\u001b[1;33m\u001b[0m\u001b[1;33m\u001b[0m\u001b[0m\n\u001b[0m\u001b[0;32m      7\u001b[0m     \u001b[0mobj\u001b[0m\u001b[1;33m=\u001b[0m\u001b[0mcompute_makespan\u001b[0m\u001b[1;33m(\u001b[0m\u001b[0mschedule\u001b[0m\u001b[1;33m,\u001b[0m\u001b[0mM\u001b[0m\u001b[1;33m)\u001b[0m\u001b[1;33m\u001b[0m\u001b[1;33m\u001b[0m\u001b[0m\n\u001b[0;32m      8\u001b[0m     \u001b[0mprint\u001b[0m\u001b[1;33m(\u001b[0m\u001b[1;34m\"instance\"\u001b[0m\u001b[1;33m,\u001b[0m\u001b[0mi\u001b[0m\u001b[1;33m+\u001b[0m\u001b[1;36m1\u001b[0m\u001b[1;33m,\u001b[0m\u001b[1;34m\":\"\u001b[0m\u001b[1;33m,\u001b[0m\u001b[1;36m100\u001b[0m\u001b[1;33m*\u001b[0m\u001b[1;33m(\u001b[0m\u001b[0mobj\u001b[0m\u001b[1;33m-\u001b[0m\u001b[0mupper_bound\u001b[0m\u001b[1;33m)\u001b[0m\u001b[1;33m/\u001b[0m\u001b[0mupper_bound\u001b[0m\u001b[1;33m,\u001b[0m\u001b[1;34m\"%\"\u001b[0m\u001b[1;33m)\u001b[0m\u001b[1;33m\u001b[0m\u001b[1;33m\u001b[0m\u001b[0m\n",
      "\u001b[1;32m~\\AppData\\Local\\Temp\\ipykernel_8404\\3620631573.py\u001b[0m in \u001b[0;36mmax_min_ant_system\u001b[1;34m(processing_times, num_ants, rho, q, max_iterations, alpha, beta)\u001b[0m\n\u001b[0;32m     38\u001b[0m                     \u001b[1;32mif\u001b[0m \u001b[0mi\u001b[0m \u001b[1;33m!=\u001b[0m \u001b[0mj\u001b[0m\u001b[1;33m:\u001b[0m\u001b[1;33m\u001b[0m\u001b[1;33m\u001b[0m\u001b[0m\n\u001b[0;32m     39\u001b[0m                         \u001b[1;32mfor\u001b[0m \u001b[0mk\u001b[0m \u001b[1;32min\u001b[0m \u001b[0mrange\u001b[0m\u001b[1;33m(\u001b[0m\u001b[0mnum_machines\u001b[0m\u001b[1;33m)\u001b[0m\u001b[1;33m:\u001b[0m\u001b[1;33m\u001b[0m\u001b[1;33m\u001b[0m\u001b[0m\n\u001b[1;32m---> 40\u001b[1;33m                             \u001b[0mdelta_pheromones\u001b[0m\u001b[1;33m[\u001b[0m\u001b[0mi\u001b[0m\u001b[1;33m,\u001b[0m\u001b[0mj\u001b[0m\u001b[1;33m,\u001b[0m\u001b[0mk\u001b[0m\u001b[1;33m]\u001b[0m \u001b[1;33m+=\u001b[0m \u001b[0mq\u001b[0m \u001b[1;33m/\u001b[0m \u001b[0mant_makespans\u001b[0m\u001b[1;33m[\u001b[0m\u001b[0mant\u001b[0m\u001b[1;33m]\u001b[0m \u001b[1;32mif\u001b[0m \u001b[0mant_solutions\u001b[0m\u001b[1;33m[\u001b[0m\u001b[0mant\u001b[0m\u001b[1;33m]\u001b[0m\u001b[1;33m[\u001b[0m\u001b[0mi\u001b[0m\u001b[1;33m]\u001b[0m \u001b[1;33m==\u001b[0m \u001b[0mj\u001b[0m \u001b[1;32melse\u001b[0m \u001b[1;36m0\u001b[0m\u001b[1;33m\u001b[0m\u001b[1;33m\u001b[0m\u001b[0m\n\u001b[0m\u001b[0;32m     41\u001b[0m \u001b[1;33m\u001b[0m\u001b[0m\n\u001b[0;32m     42\u001b[0m         \u001b[0mpheromone_trails\u001b[0m \u001b[1;33m*=\u001b[0m \u001b[1;33m(\u001b[0m\u001b[1;36m1\u001b[0m \u001b[1;33m-\u001b[0m \u001b[0mrho\u001b[0m\u001b[1;33m)\u001b[0m\u001b[1;33m\u001b[0m\u001b[1;33m\u001b[0m\u001b[0m\n",
      "\u001b[1;31mKeyboardInterrupt\u001b[0m: "
     ]
    }
   ],
   "source": [
    "f =  open(\"../TP02-Heuristiques/data/Taillard.pkl\", \"rb\")\n",
    "taillard = pickle.load(f)\n",
    "for i in range(10):\n",
    "    M = np.array(taillard[i][\"P\"]).transpose()\n",
    "    upper_bound = taillard[i][\"ub\"]\n",
    "    schedule=max_min_ant_system(M,num_ants=50,rho=0.75,q=200,max_iterations=500)\n",
    "    obj=compute_makespan(schedule,M)\n",
    "    print(\"instance\",i+1,\":\",100*(obj-upper_bound)/upper_bound,\"%\")"
   ]
  },
  {
   "cell_type": "markdown",
   "id": "d40c67f6",
   "metadata": {},
   "source": [
    "#### using insertion local search (recommended by the paper)"
   ]
  },
  {
   "cell_type": "code",
   "execution_count": 35,
   "id": "2e2b4de6",
   "metadata": {},
   "outputs": [
    {
     "name": "stdout",
     "output_type": "stream",
     "text": [
      "instance 1 : 1.7214397496087637 %\n",
      "instance 2 : 0.29433406916850624 %\n",
      "instance 3 : 4.717853839037928 %\n",
      "instance 4 : 3.17092034029389 %\n",
      "instance 5 : 1.5372168284789645 %\n",
      "instance 6 : 3.2635983263598325 %\n",
      "instance 7 : 0.9685230024213075 %\n",
      "instance 8 : 2.0729684908789388 %\n",
      "instance 9 : 2.032520325203252 %\n",
      "instance 10 : 1.7148014440433212 %\n"
     ]
    }
   ],
   "source": [
    "f =  open(\"../TP02-Heuristiques/data/Taillard.pkl\", \"rb\")\n",
    "taillard = pickle.load(f)\n",
    "for i in range(10):\n",
    "    M = np.array(taillard[i][\"P\"]).transpose()\n",
    "    upper_bound = taillard[i][\"ub\"]\n",
    "    schedule=max_min_ant_system(M,num_ants=10,rho=0.4,q=100,max_iterations=200)\n",
    "    obj=compute_makespan(schedule,M)\n",
    "    print(\"instance\",i+1,\":\",100*(obj-upper_bound)/upper_bound,\"%\")"
   ]
  },
  {
   "cell_type": "code",
   "execution_count": 36,
   "id": "ec8a2d18",
   "metadata": {},
   "outputs": [
    {
     "name": "stdout",
     "output_type": "stream",
     "text": [
      "instance 1 : 0.9389671361502347 %\n",
      "instance 2 : 0.515084621044886 %\n",
      "instance 3 : 3.515263644773358 %\n",
      "instance 4 : 1.9334880123743232 %\n",
      "instance 5 : 2.5080906148867315 %\n",
      "instance 6 : 1.2552301255230125 %\n",
      "instance 7 : 0.9685230024213075 %\n",
      "instance 8 : 2.6533996683250414 %\n",
      "instance 9 : 2.6016260162601625 %\n",
      "instance 10 : 3.068592057761733 %\n"
     ]
    }
   ],
   "source": [
    "f =  open(\"../TP02-Heuristiques/data/Taillard.pkl\", \"rb\")\n",
    "taillard = pickle.load(f)\n",
    "for i in range(10):\n",
    "    M = np.array(taillard[i][\"P\"]).transpose()\n",
    "    upper_bound = taillard[i][\"ub\"]\n",
    "    schedule=max_min_ant_system(M,num_ants=30,rho=0.4,q=100,max_iterations=200)\n",
    "    obj=compute_makespan(schedule,M)\n",
    "    print(\"instance\",i+1,\":\",100*(obj-upper_bound)/upper_bound,\"%\")"
   ]
  },
  {
   "cell_type": "code",
   "execution_count": null,
   "id": "28ee84bd",
   "metadata": {},
   "outputs": [],
   "source": []
  },
  {
   "cell_type": "code",
   "execution_count": null,
   "id": "99678214",
   "metadata": {},
   "outputs": [],
   "source": []
  },
  {
   "cell_type": "code",
   "execution_count": 40,
   "id": "e97965b0",
   "metadata": {},
   "outputs": [
    {
     "ename": "NameError",
     "evalue": "name 'jaya_algo' is not defined",
     "output_type": "error",
     "traceback": [
      "\u001b[1;31m---------------------------------------------------------------------------\u001b[0m",
      "\u001b[1;31mNameError\u001b[0m                                 Traceback (most recent call last)",
      "\u001b[1;32m~\\AppData\\Local\\Temp\\ipykernel_8404\\1494232390.py\u001b[0m in \u001b[0;36m<module>\u001b[1;34m\u001b[0m\n\u001b[0;32m      4\u001b[0m \u001b[0mm\u001b[0m \u001b[1;33m=\u001b[0m \u001b[0minstance\u001b[0m\u001b[1;33m.\u001b[0m\u001b[0mm\u001b[0m\u001b[1;33m\u001b[0m\u001b[1;33m\u001b[0m\u001b[0m\n\u001b[0;32m      5\u001b[0m \u001b[0mM\u001b[0m \u001b[1;33m=\u001b[0m \u001b[0mnp\u001b[0m\u001b[1;33m.\u001b[0m\u001b[0marray\u001b[0m\u001b[1;33m(\u001b[0m\u001b[0minstance\u001b[0m\u001b[1;33m.\u001b[0m\u001b[0mP\u001b[0m\u001b[1;33m)\u001b[0m\u001b[1;33m\u001b[0m\u001b[1;33m\u001b[0m\u001b[0m\n\u001b[1;32m----> 6\u001b[1;33m \u001b[0mcompute_makespan\u001b[0m\u001b[1;33m(\u001b[0m\u001b[0mjaya_algo\u001b[0m\u001b[1;33m(\u001b[0m\u001b[1;36m10\u001b[0m\u001b[1;33m,\u001b[0m\u001b[1;36m200\u001b[0m\u001b[1;33m,\u001b[0m\u001b[0mM\u001b[0m\u001b[1;33m,\u001b[0m\u001b[1;36m500\u001b[0m\u001b[1;33m)\u001b[0m\u001b[1;33m,\u001b[0m\u001b[0mM\u001b[0m\u001b[1;33m)\u001b[0m\u001b[1;33m\u001b[0m\u001b[1;33m\u001b[0m\u001b[0m\n\u001b[0m\u001b[0;32m      7\u001b[0m \u001b[1;33m\u001b[0m\u001b[0m\n\u001b[0;32m      8\u001b[0m \u001b[1;32mimport\u001b[0m \u001b[0mrandom\u001b[0m\u001b[1;33m\u001b[0m\u001b[1;33m\u001b[0m\u001b[0m\n",
      "\u001b[1;31mNameError\u001b[0m: name 'jaya_algo' is not defined"
     ]
    }
   ],
   "source": [
    "#chatgpt\n",
    "instance=FmCmax.FmCmax_Instance.read_txt(\"../TP02-Heuristiques/data/random_instance.txt\")\n",
    "n = instance.n\n",
    "m = instance.m\n",
    "M = np.array(instance.P)\n",
    "compute_makespan(jaya_algo(10,200,M,500),M)\n",
    "\n",
    "import random\n",
    "\n",
    "# Define the problem instance\n",
    "n = 10  # Number of jobs\n",
    "m = 5  # Number of machines\n",
    "processing_times = M.transpose()\n",
    "\n",
    "# Define the ACO parameters\n",
    "num_ants = 50\n",
    "num_iterations = 500\n",
    "evaporation_rate = 0.3\n",
    "alpha = 1\n",
    "beta = 2\n",
    "pheromone_deposit = 1\n",
    "initial_pheromone = 1\n",
    "\n",
    "# Initialize the pheromone matrix\n",
    "pheromones = [[initial_pheromone] * n for _ in range(n)]\n",
    "\n",
    "# Define the objective function\n",
    "def makespan(schedule,p=processing_times.transpose()):\n",
    "    _, m = p.shape\n",
    "    n = len(schedule)\n",
    "    c = [[0]*m for i in range(n)]\n",
    "    for i in range(n):\n",
    "        for j in range(m):\n",
    "            if i == 0 and j == 0:\n",
    "                c[i][j] = p[schedule[i]][j]\n",
    "            elif i == 0:\n",
    "                c[i][j] = c[i][j-1] + p[schedule[i]][j]\n",
    "            elif j == 0:\n",
    "                c[i][j] = c[i-1][j] + p[schedule[i]][j]\n",
    "            else:\n",
    "                c[i][j] = max(c[i][j-1], c[i-1][j]) + p[schedule[i]][j]\n",
    "    return c[n-1][m-1]\n",
    "\n",
    "# Define the ant class\n",
    "class Ant:\n",
    "    def __init__(self):\n",
    "        self.visited = [False] * n\n",
    "        self.permutation = [-1] * n\n",
    "    \n",
    "    def choose_next(self):\n",
    "        curr = self.permutation[-1]\n",
    "        unvisited = [i for i in range(n) if not self.visited[i]]\n",
    "        if not unvisited:\n",
    "            return None\n",
    "        probs = [0] * n\n",
    "        total = 0\n",
    "        for j in unvisited:\n",
    "            tau = pheromones[curr][j]\n",
    "            eta = 1 / processing_times[curr][j]\n",
    "            probs[j] = (tau ** alpha) * (eta ** beta)\n",
    "            total += probs[j]\n",
    "        r = random.uniform(0, total)\n",
    "        curr_total = 0\n",
    "        for j in unvisited:\n",
    "            curr_total += probs[j]\n",
    "            if curr_total >= r:\n",
    "                return j\n",
    "    \n",
    "    def generate_permutation(self):\n",
    "        self.permutation[0] = random.randrange(n)\n",
    "        self.visited[self.permutation[0]] = True\n",
    "        for i in range(1, n):\n",
    "            j = self.choose_next()\n",
    "            if j is None:\n",
    "                return\n",
    "            self.permutation[i] = j\n",
    "            self.visited[j] = True\n",
    "    \n",
    "    def update_pheromones(self):\n",
    "        for i in range(n - 1):\n",
    "            pheromones[self.permutation[i]][self.permutation[i + 1]] += pheromone_deposit / makespan(self.permutation)\n",
    "    \n",
    "# Define the ACO algorithm\n",
    "best_permutation = None\n",
    "best_makespan = float('inf')\n",
    "for iteration in range(num_iterations):\n",
    "    ants = [Ant() for _ in range(num_ants)]\n",
    "    for ant in ants:\n",
    "        ant.generate_permutation()\n",
    "    for ant in ants:\n",
    "        ant.update_pheromones()\n",
    "        makespan_ant = makespan(ant.permutation)\n",
    "        if makespan_ant < best_makespan:\n",
    "            best_permutation = ant.permutation.copy()\n",
    "            best_makespan = makespan_ant\n",
    "    for i in range(m):\n",
    "        for j in range(n):\n",
    "            pheromones[i][j] *= evaporation_rate\n",
    "\n",
    "print(\"Best permutation:\", best_permutation)\n",
    "print(\"Best makespan:\", best_makespan)\n"
   ]
  },
  {
   "cell_type": "code",
   "execution_count": null,
   "id": "a750ca0a",
   "metadata": {},
   "outputs": [],
   "source": []
  }
 ],
 "metadata": {
  "kernelspec": {
   "display_name": "Python 3 (ipykernel)",
   "language": "python",
   "name": "python3"
  },
  "language_info": {
   "codemirror_mode": {
    "name": "ipython",
    "version": 3
   },
   "file_extension": ".py",
   "mimetype": "text/x-python",
   "name": "python",
   "nbconvert_exporter": "python",
   "pygments_lexer": "ipython3",
   "version": "3.9.13"
  }
 },
 "nbformat": 4,
 "nbformat_minor": 5
}
