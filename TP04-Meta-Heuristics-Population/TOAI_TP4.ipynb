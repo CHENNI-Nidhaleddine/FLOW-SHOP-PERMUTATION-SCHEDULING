{
 "cells": [
  {
   "cell_type": "code",
   "execution_count": 1,
   "id": "c35699eb",
   "metadata": {},
   "outputs": [],
   "source": [
    "import numpy as np\n",
    "import pandas as pd\n",
    "from pyscheduling.FS import FmCmax, FlowShop\n",
    "import pickle\n",
    "import time\n",
    "import matplotlib.pyplot as plt\n",
    "import numpy as np"
   ]
  },
  {
   "cell_type": "markdown",
   "id": "a808a342",
   "metadata": {},
   "source": [
    "## Makespan"
   ]
  },
  {
   "cell_type": "code",
   "execution_count": 2,
   "id": "506ada2d",
   "metadata": {},
   "outputs": [],
   "source": [
    "def compute_makespan(schedule, p):\n",
    "    _, m = p.shape\n",
    "    n = len(schedule)\n",
    "    c = [[0]*m for i in range(n)]\n",
    "    for i in range(n):\n",
    "        for j in range(m):\n",
    "            if i == 0 and j == 0:\n",
    "                c[i][j] = p[schedule[i]][j]\n",
    "            elif i == 0:\n",
    "                c[i][j] = c[i][j-1] + p[schedule[i]][j]\n",
    "            elif j == 0:\n",
    "                c[i][j] = c[i-1][j] + p[schedule[i]][j]\n",
    "            else:\n",
    "                c[i][j] = max(c[i][j-1], c[i-1][j]) + p[schedule[i]][j]\n",
    "    return c[n-1][m-1]"
   ]
  },
  {
   "cell_type": "markdown",
   "id": "5ac85882",
   "metadata": {},
   "source": [
    "## Jaya Algorithm"
   ]
  },
  {
   "cell_type": "markdown",
   "id": "190aa406",
   "metadata": {},
   "source": [
    "## Brève introduction de l'algorithme de Jaya\n",
    "L'algorithme de Jaya est basé sur le principe que la solution au problème donné doit se rapprocher vers la meilleure solution connue et s'éloigne de la pire solution.\n",
    "Les étapes de l'application de l'algorithme de Jaya sont brièvement résumées ci-dessous :\n",
    "<ul>\n",
    "<li>Initialiser la taille de la population et le critère de terminaison (max-iter)</li>\n",
    "<li>Identifier la pire et la meilleure solution dans la population</li>\n",
    "<li>Modifier la variable de conception (dans notre cas la priorite (ordre) des jobs) des autres solutions sur la base de la meilleure et de la pire solution selon l'équation (1)</li>\n",
    "<li>Comparez la solution actualisée à la solution précédente. Si la solution actualisée est meilleure, remplacez-la sinon conservez l'ancienne solution.</li>\n",
    "<li>Déclarer la solution optimale</li>\n",
    "</ul>\n",
    "<br/>\n",
    "<img width=\"700\" height=\"500\" src=\"images/jaya_formula1.png\"/>\n",
    "<!-- <i>\n",
    "   <ul> $x'$<sub><i>$i,k,l$</i></sub> = $x$<sub><i>$i,k,l$</i></sub> + $r$<sub><i>$1,i,l$</i></sub> * ( $x$<sub><i>$i,k,lbest$</i></sub> - |$x$<sub><i>$i,k,l$</i></sub>|) + $r$<sub><i>$2,i,l$</i></sub> * ( $x$<sub><i>$i,k,lworst$</i></sub> - |$x$<sub><i>$i,k,l$</i></sub>|) ......................... (1)</ul>\n",
    "<p>\n",
    "<br/>\n",
    "    <ul>where:</ul>\n",
    "<ul>\n",
    "  <ol>  $x$<sub><i>$i,k,l$</i></sub> : la valeur d'une i ème variable dans la k ème population au cours de la l ème itération</ol>\n",
    "  <ol>$x$<sub><i>$i,k,lbest$</i></sub> : la valeur d'une ième variable dans la population ayant la meilleure solution </ol>\n",
    "  <ol>$x$<sub><i>$i,k,lworst$</i></sub> : la valeur d'une ième variable dans la population ayant la plus mauvaise solution </ol>\n",
    "  <ol>$x'$<sub><i>$i,k,l$</i></sub> : valeur actualisée de $x$<sub><i>$i,k,l$</i></sub> </ol>\n",
    "  <ol>$r$<sub><i>$1,i,l$</i></sub> $r$<sub><i>$2,i,l$</i></sub> : des nombres aléatoires pour la ième variable de la lème itération pour la meilleure et la pire solution respectivement dans  [0, 1] </ol>\n",
    " </ul>\n",
    "</p>\n",
    "   </i> -->\n"
   ]
  },
  {
   "cell_type": "markdown",
   "id": "30e0b618",
   "metadata": {},
   "source": [
    "## Implementation"
   ]
  },
  {
   "cell_type": "code",
   "execution_count": 11,
   "id": "e31ef75d",
   "metadata": {},
   "outputs": [],
   "source": [
    "def generate_job_proirity(num_jobs):\n",
    "    p=[]\n",
    "    for i in range(num_jobs):\n",
    "        p.append(1+np.random.random()*(num_jobs-1))\n",
    "    return p\n",
    "def proiroty_to_sequence(job_priority):\n",
    "    s=[]\n",
    "    p=job_priority.copy()\n",
    "    for i in range(len(p)):\n",
    "        s.append(np.argmax(p))\n",
    "        p[s[-1]]=-float('inf')\n",
    "    return s\n",
    "def newP(old,best,worst):\n",
    "    return old+np.random.random()*(best-np.abs(old))-np.random.random()*(worst-np.abs(old))\n",
    "def jaya_algo(num_jobs,size_p,process_times,max_iter):\n",
    "    #generate population\n",
    "    population=[]\n",
    "    makespans=[_ for _ in range(size_p)]\n",
    "    \n",
    "    #iter 1\n",
    "    for i in range(size_p):\n",
    "        population.append(generate_job_proirity(num_jobs))\n",
    "    #covert to sequence\n",
    "    for i in range(size_p):\n",
    "        makespans[i]=compute_makespan(proiroty_to_sequence(population[i]),process_times)\n",
    "    pi_best=np.min(makespans)\n",
    "    i_min=np.argmin(makespans)\n",
    "    i_max=np.argmax(makespans)\n",
    "    pi_worst=np.max(makespans)\n",
    "    # other iters\n",
    "    for _ in range(max_iter-1):\n",
    "        for i in range(size_p):\n",
    "            for j in range(num_jobs):\n",
    "                population[i][j]=newP(population[i][j],population[i_min][j],population[i_max][j])\n",
    "        for i in range(size_p):\n",
    "            makespans[i]=compute_makespan(proiroty_to_sequence(population[i]),process_times)\n",
    "        pi_best=np.min(makespans)\n",
    "        i_min=np.argmin(makespans)\n",
    "        pi_worst=np.max(makespans)\n",
    "        i_max=np.argmax(makespans)\n",
    "    return proiroty_to_sequence(population[np.argmin(makespans)])"
   ]
  },
  {
   "cell_type": "markdown",
   "id": "828b7509",
   "metadata": {},
   "source": [
    "## Tests"
   ]
  },
  {
   "cell_type": "code",
   "execution_count": 14,
   "id": "ad036762",
   "metadata": {},
   "outputs": [
    {
     "data": {
      "text/plain": [
       "([2, 0, 1], [1.199738443623204, 1.1693589977092422, 1.997453518727237], 2)"
      ]
     },
     "execution_count": 14,
     "metadata": {},
     "output_type": "execute_result"
    }
   ],
   "source": [
    "p=generate_job_proirity(3)\n",
    "proiroty_to_sequence(p),p,np.argmax(p)"
   ]
  },
  {
   "cell_type": "markdown",
   "id": "fdaea25e",
   "metadata": {},
   "source": [
    "### 1- Instance random"
   ]
  },
  {
   "cell_type": "code",
   "execution_count": 29,
   "id": "691991b4",
   "metadata": {},
   "outputs": [
    {
     "name": "stdout",
     "output_type": "stream",
     "text": [
      "makespan 1102\n"
     ]
    }
   ],
   "source": [
    "instance=FmCmax.FmCmax_Instance.read_txt(\"../TP02-Heuristiques/data/random_instance.txt\")\n",
    "n = instance.n\n",
    "m = instance.m\n",
    "M = np.array(instance.P)\n",
    "size_population=250\n",
    "max_iter=100\n",
    "schedule=jaya_algo(n,size_population,M,max_iter)\n",
    "print(\"makespan\",compute_makespan(schedule,M))"
   ]
  },
  {
   "cell_type": "markdown",
   "id": "4a668625",
   "metadata": {},
   "source": [
    "### 2- Instance Taillard"
   ]
  },
  {
   "cell_type": "code",
   "execution_count": 31,
   "id": "cec09dff",
   "metadata": {},
   "outputs": [
    {
     "name": "stdout",
     "output_type": "stream",
     "text": [
      "instance 1 : 1.486697965571205 %\n",
      "instance 2 : 0.9565857247976454 %\n",
      "instance 3 : 4.25531914893617 %\n",
      "instance 4 : 4.176334106728539 %\n",
      "instance 5 : 2.9935275080906147 %\n",
      "instance 6 : 5.188284518828452 %\n",
      "instance 7 : 4.600484261501211 %\n",
      "instance 8 : 3.067993366500829 %\n",
      "instance 9 : 6.260162601626016 %\n",
      "instance 10 : 6.046931407942238 %\n"
     ]
    }
   ],
   "source": [
    "f =  open(\"../TP02-Heuristiques/data/Taillard.pkl\", \"rb\")\n",
    "taillard = pickle.load(f)\n",
    "for i in range(10):\n",
    "    M = np.array(taillard[i][\"P\"]).transpose()\n",
    "    upper_bound = taillard[i][\"ub\"]\n",
    "    schedule=jaya_algo(20,500,M,100)\n",
    "    print(\"instance\",i+1,\":\",100*(compute_makespan(schedule,M)-upper_bound)/upper_bound,\"%\")"
   ]
  },
  {
   "cell_type": "code",
   "execution_count": 32,
   "id": "e82a5e92",
   "metadata": {},
   "outputs": [
    {
     "name": "stdout",
     "output_type": "stream",
     "text": [
      "instance 1 : 1.486697965571205 %\n",
      "instance 2 : 0.0 %\n",
      "instance 3 : 2.4051803885291396 %\n",
      "instance 4 : 1.237432327919567 %\n",
      "instance 5 : 1.132686084142395 %\n",
      "instance 6 : 2.426778242677824 %\n",
      "instance 7 : 1.4527845036319613 %\n",
      "instance 8 : 1.9900497512437811 %\n",
      "instance 9 : 2.5203252032520327 %\n",
      "instance 10 : 4.332129963898917 %\n"
     ]
    }
   ],
   "source": [
    "for i in range(10):\n",
    "    M = np.array(taillard[i][\"P\"]).transpose()\n",
    "    upper_bound = taillard[i][\"ub\"]\n",
    "    schedule=jaya_algo(20,5000,M,100)\n",
    "    print(\"instance\",i+1,\":\",100*(compute_makespan(schedule,M)-upper_bound)/upper_bound,\"%\")"
   ]
  },
  {
   "cell_type": "code",
   "execution_count": 215,
   "id": "cf889431",
   "metadata": {},
   "outputs": [
    {
     "name": "stdout",
     "output_type": "stream",
     "text": [
      "instance 1 : 1.486697965571205 %\n",
      "instance 2 : 0.515084621044886 %\n",
      "instance 3 : 3.145235892691952 %\n",
      "instance 4 : 1.3921113689095128 %\n",
      "instance 5 : 1.4563106796116505 %\n",
      "instance 6 : 2.426778242677824 %\n",
      "instance 7 : 0.9685230024213075 %\n",
      "instance 8 : 1.492537313432836 %\n",
      "instance 9 : 1.8699186991869918 %\n",
      "instance 10 : 2.707581227436823 %\n"
     ]
    }
   ],
   "source": [
    "for i in range(10):\n",
    "    M = np.array(taillard[i][\"P\"]).transpose()\n",
    "    upper_bound = taillard[i][\"ub\"]\n",
    "    schedule=jaya_algo(20,10000,M,10)\n",
    "    print(\"instance\",i+1,\":\",100*(compute_makespan(schedule,M)-upper_bound)/upper_bound,\"%\")"
   ]
  },
  {
   "cell_type": "markdown",
   "id": "764e95c3",
   "metadata": {},
   "source": [
    "## Genetic algorithm\n",
    "link (https://dergipark.org.tr/en/download/article-file/950358)"
   ]
  },
  {
   "cell_type": "markdown",
   "id": "0f6e0fb8",
   "metadata": {},
   "source": [
    "### Utils"
   ]
  },
  {
   "cell_type": "code",
   "execution_count": 46,
   "id": "65f796fc",
   "metadata": {},
   "outputs": [],
   "source": [
    "#utilities\n",
    "def init_population(n_jobs,size_p):\n",
    "    population=[]\n",
    "    i=0\n",
    "    while (i<size_p):\n",
    "        _=numbers = list(range(n_jobs))\n",
    "        random.shuffle(_)\n",
    "        if(_ not in population):\n",
    "            population.append(_)\n",
    "            i=i+1\n",
    "    return population\n",
    "        \n",
    "def fitness(schedule,processing_times):\n",
    "    return compute_makespan(schedule,processing_times)\n",
    "\n",
    "def crossover(schedule1,schedule2):\n",
    "    n=len(schedule1)\n",
    "    i=random.randint(0,n-1)\n",
    "    j=random.randint(i+1,n)\n",
    "    new_schedule1=[-1]*n\n",
    "    new_schedule2=[-1]*n\n",
    "    \n",
    "    for idx in range(i,j):\n",
    "        new_schedule1[idx]=schedule1[idx]\n",
    "        new_schedule2[idx]=schedule2[idx]\n",
    "        \n",
    "    idx=j%n\n",
    "    for k in range(n):\n",
    "        if(schedule2[k] not in new_schedule1):\n",
    "            new_schedule1[idx]=schedule2[k]\n",
    "            idx=(idx+1)%n\n",
    "    \n",
    "    idx=j%n\n",
    "    for k in range(n):\n",
    "        if(schedule1[k] not in new_schedule2):\n",
    "            new_schedule2[idx]=schedule1[k]\n",
    "            idx=(idx+1)%n\n",
    "    \n",
    "    \n",
    "    return new_schedule1,new_schedule2\n",
    "\n",
    "def mutation_swap(schedule):\n",
    "    i=random.randint(0,len(schedule)-2)\n",
    "    j=random.randint(i+1,len(schedule)-1)\n",
    "    schedule[i],schedule[j]=schedule[j],schedule[i]\n",
    "    return schedule\n",
    "\n",
    "def mutation_reverse_sequence(schedule):\n",
    "    i=random.randint(0,len(schedule)-2)\n",
    "    j=random.randint(i+1,len(schedule))\n",
    "    schedule=schedule[:i]+list(reversed(schedule[i:j]))+schedule[j:]\n",
    "    return schedule\n",
    "\n",
    "def roulette_wheel_selection(population, processing_times):\n",
    "    fitness_values = [fitness(schedule, processing_times) for schedule in population]\n",
    "    total_fitness = sum(fitness_values)\n",
    "    probabilities = [fitness_value / total_fitness for fitness_value in fitness_values]\n",
    "    cumulative_probabilities = [sum(probabilities[:i+1]) for i in range(len(probabilities))]\n",
    "    selection_point = random.uniform(0, 1)\n",
    "    for i, probability in enumerate(cumulative_probabilities):\n",
    "        if selection_point <= probability:\n",
    "            return population[i]\n",
    "\n",
    "def tournament_selection(population,tournament_size,processing_times):\n",
    "    tournament = random.sample(population, tournament_size)\n",
    "    winner = min(tournament, key=lambda x: fitness(x, processing_times))\n",
    "    return winner\n",
    "    \n",
    "def elitism(population,n_select,processing_times):\n",
    "    fitness_values = [(schedule, fitness(schedule, processing_times)) for schedule in population]\n",
    "    sorted_population = [x[0] for x in sorted(fitness_values, key=lambda x: x[1])]\n",
    "    return sorted_population[:n_select]"
   ]
  },
  {
   "cell_type": "markdown",
   "id": "ac934776",
   "metadata": {},
   "source": [
    "### Main algo"
   ]
  },
  {
   "cell_type": "code",
   "execution_count": 62,
   "id": "bfc721c1",
   "metadata": {},
   "outputs": [],
   "source": [
    "def genetic_algo(processing_times,size_population,num_generations,tournament_size,crossover_rate,mutation_rate,n_select):\n",
    "    n_jobs,n_machines=processing_times.shape\n",
    "    population=init_population(n_jobs,size_population)\n",
    "    \n",
    "    for _ in range(num_generations):\n",
    "        #elitism\n",
    "        hello=elitism(population,n_select,processing_times)\n",
    "        idx=0\n",
    "        #crossover\n",
    "        for i in range(size_population):\n",
    "            if(random.uniform(0,1)<crossover_rate):\n",
    "                #selection\n",
    "                schedule1=tournament_selection(population,tournament_size,processing_times)\n",
    "                schedule2=tournament_selection(population,tournament_size,processing_times)\n",
    "                new1,new2=crossover(schedule1,schedule2)\n",
    "                obj1,obj2=fitness(new1,processing_times),fitness(new2,processing_times)\n",
    "                if(obj1>obj2):\n",
    "                    population[i]=new2\n",
    "                else:\n",
    "                    population[i]=new1\n",
    "            elif(idx<n_select):\n",
    "                population[i]=hello[idx]\n",
    "                idx=idx+1\n",
    "                    \n",
    "        for i in range(size_population):\n",
    "            if(random.uniform(0,1)<mutation_rate):\n",
    "                population[i]=mutation_reverse_sequence(population[i])\n",
    "                \n",
    "        fitness_values = [(schedule, fitness(schedule, processing_times)) for schedule in population]\n",
    "        # Sort the population by fitness in ascending order\n",
    "        fitness_values.sort(key=lambda x: x[1])\n",
    "        best_one=fitness_values[0]\n",
    "    return best_one"
   ]
  },
  {
   "cell_type": "code",
   "execution_count": 66,
   "id": "b74ef07c",
   "metadata": {},
   "outputs": [
    {
     "name": "stdout",
     "output_type": "stream",
     "text": [
      "([3, 2, 7, 6, 8, 0, 1, 4, 5, 9], 1102)\n"
     ]
    }
   ],
   "source": [
    "instance=FmCmax.FmCmax_Instance.read_txt(\"../TP02-Heuristiques/data/random_instance.txt\")\n",
    "n = instance.n\n",
    "m = instance.m\n",
    "M = np.array(instance.P)\n",
    "schedule=genetic_algo(M,size_population=500,num_generations=100,tournament_size=30,crossover_rate=0.8,mutation_rate=0.8,n_select=10)\n",
    "print(schedule)"
   ]
  },
  {
   "cell_type": "code",
   "execution_count": 16,
   "id": "137eb871",
   "metadata": {},
   "outputs": [
    {
     "data": {
      "text/plain": [
       "[1, 2, 3, 4, 5, 6]"
      ]
     },
     "execution_count": 16,
     "metadata": {},
     "output_type": "execute_result"
    }
   ],
   "source": []
  },
  {
   "cell_type": "code",
   "execution_count": 40,
   "id": "9a85e6d1",
   "metadata": {},
   "outputs": [
    {
     "data": {
      "text/plain": [
       "([6, 5, 3, 2, 1, 4], [5, 6, 1, 2, 3, 4])"
      ]
     },
     "execution_count": 40,
     "metadata": {},
     "output_type": "execute_result"
    }
   ],
   "source": [
    "crossover([1,2,3,4,5,6],[3,2,1,4,6,5])"
   ]
  },
  {
   "cell_type": "code",
   "execution_count": null,
   "id": "c054a5e7",
   "metadata": {},
   "outputs": [],
   "source": []
  }
 ],
 "metadata": {
  "kernelspec": {
   "display_name": "Python 3 (ipykernel)",
   "language": "python",
   "name": "python3"
  },
  "language_info": {
   "codemirror_mode": {
    "name": "ipython",
    "version": 3
   },
   "file_extension": ".py",
   "mimetype": "text/x-python",
   "name": "python",
   "nbconvert_exporter": "python",
   "pygments_lexer": "ipython3",
   "version": "3.9.13"
  }
 },
 "nbformat": 4,
 "nbformat_minor": 5
}
