{
 "cells": [
  {
   "attachments": {},
   "cell_type": "markdown",
   "id": "fcea0f6d",
   "metadata": {},
   "source": [
    "# **TP N°3 : Méta-heuristiques pour la résolution du problème du FSP**"
   ]
  },
  {
   "attachments": {},
   "cell_type": "markdown",
   "id": "1cd7fd5e",
   "metadata": {},
   "source": [
    "## **Table de matières**\n",
    "* [Importations et heuristiques](#chapter0)\n",
    "* [Recherche locale itérée](#chapter1)\n",
    "    * [implémentaion](#section_1_1)\n",
    "    * [Tests](#section_1_2) \n",
    "* [Recherche Tabou](#chapter2)\n",
    "    * [implémentaion](#section_2_1)\n",
    "    * [Tests](#section_2_2) \n",
    "* [Recherche par voisinage : GVNS](#chapter3)\n",
    "    * [implémentaion](#section_3_1)\n",
    "    * [Tests](#section_3_2) \n",
    "* [Recherche adaptative GRASP](#chapter4)\n",
    "    * [implémentaion](#section_4_1)\n",
    "    * [Tests](#section_4_2) \n",
    "* [Comparaison](#chapter5)\n",
    "    * [Temps d'exécution](#section_5_1)\n",
    "    * [Déviation](#section_5_2)"
   ]
  },
  {
   "attachments": {},
   "cell_type": "markdown",
   "id": "baa9953b",
   "metadata": {},
   "source": [
    "# **Importations et heuristiques** <a class=\"anchor\" id=\"chapter0\"></a>"
   ]
  },
  {
   "cell_type": "code",
   "execution_count": 1,
   "id": "09809395",
   "metadata": {},
   "outputs": [],
   "source": [
    "import numpy as np\n",
    "import pandas as pd\n",
    "from pyscheduling.FS import FmCmax, FlowShop\n",
    "import pickle\n",
    "import time\n",
    "import matplotlib.pyplot as plt\n",
    "import numpy as np\n",
    "import random"
   ]
  },
  {
   "attachments": {},
   "cell_type": "markdown",
   "id": "adb60e4e",
   "metadata": {},
   "source": [
    "## Makespan"
   ]
  },
  {
   "cell_type": "code",
   "execution_count": 2,
   "id": "dcbfc3d3",
   "metadata": {},
   "outputs": [],
   "source": [
    "def compute_makespan(schedule, p):\n",
    "    _, m = p.shape\n",
    "    n = len(schedule)\n",
    "    c = [[0]*m for i in range(n)]\n",
    "    for i in range(n):\n",
    "        for j in range(m):\n",
    "            if i == 0 and j == 0:\n",
    "                c[i][j] = p[schedule[i]][j]\n",
    "            elif i == 0:\n",
    "                c[i][j] = c[i][j-1] + p[schedule[i]][j]\n",
    "            elif j == 0:\n",
    "                c[i][j] = c[i-1][j] + p[schedule[i]][j]\n",
    "            else:\n",
    "                c[i][j] = max(c[i][j-1], c[i-1][j]) + p[schedule[i]][j]\n",
    "    return c[n-1][m-1]"
   ]
  },
  {
   "attachments": {},
   "cell_type": "markdown",
   "id": "46e02ed1",
   "metadata": {},
   "source": [
    "## Heuristiques (pour l'initialisation)"
   ]
  },
  {
   "cell_type": "code",
   "execution_count": 3,
   "id": "dbe137ce",
   "metadata": {},
   "outputs": [],
   "source": [
    "def heuristique_Ham(M):\n",
    "    m = M.shape[1]\n",
    "\n",
    "    P1 = np.sum(M[:,:m//2], axis=1) # somme des durées sur la première machine\n",
    "    P2 = np.sum(M[:,m//2:], axis=1) # somme des durées sur la deuxième machine\n",
    "    P2_P1 = P2 - P1 # différence entre les deux sommes\n",
    "    ordre = np.flip(np.argsort(P2_P1)) # tri par ordre décroissant\n",
    "\n",
    "    # Première solution\n",
    "    ordre_1 = ordre\n",
    "    Cmax1 = compute_makespan(ordre_1 , M) # makespan de la première solution\n",
    "\n",
    "    # Deuxième solution\n",
    "    indice_positif = ordre[P2_P1[ordre] >= 0] # indices des tâches avec un indice positif ou nul\n",
    "    indice_negatif = ordre[P2_P1[ordre] < 0] # indices des tâches avec un indice négatif\n",
    "\n",
    "    indice_positif = [indice_positif[i] for i in np.argsort(P1[indice_positif])] # tri croissant selon P1\n",
    "    indice_negatif = [indice_negatif[i] for i in np.flip(np.argsort(P2[indice_negatif]))] # tri décroissant selon P2\n",
    "   \n",
    "    ordre_2 = [int(i) for i in np.concatenate((indice_positif, indice_negatif))]\n",
    "    Cmax2 = compute_makespan(ordre_2 , M) # makespan de la deuxième solution\n",
    "\n",
    "    if (Cmax1 > Cmax2):\n",
    "        return ordre_1, Cmax1\n",
    "    else:\n",
    "        return ordre_2, Cmax2\n",
    "    \n",
    "\n",
    "def heuristique_NEH(M):\n",
    "    n , m = M.shape\n",
    "    p = M.copy()\n",
    "\n",
    "    # Step 1: Compute the processing time of each job\n",
    "    processing_time = [sum(p[i]) for i in range(n)]\n",
    "\n",
    "    # Step 2: Sort the jobs in decreasing order of processing time\n",
    "    sorted_jobs = sorted(range(n), key=lambda i: processing_time[i], reverse=True)\n",
    "\n",
    "    # Step 3: Initialize the schedule with the first job\n",
    "    schedule = [sorted_jobs[0]]\n",
    "\n",
    "    # Step 4: Insert each subsequent job into the schedule in a position that minimizes the makespan\n",
    "    for i in range(1, n):\n",
    "        best_pos = -1\n",
    "        best_makespan = float('inf')\n",
    "        for j in range(len(schedule)+1):\n",
    "            temp_schedule = schedule[:j] + [sorted_jobs[i]] + schedule[j:]\n",
    "            temp_makespan = compute_makespan(temp_schedule, p)\n",
    "            if temp_makespan < best_makespan:\n",
    "                best_makespan = temp_makespan\n",
    "                best_pos = j\n",
    "        schedule.insert(best_pos, sorted_jobs[i])\n",
    "\n",
    "    return schedule, compute_makespan(schedule, p)\n",
    "\n",
    "\n",
    "def johnson_method(processing_times):\n",
    "    \n",
    "    jobs, machines = processing_times.shape\n",
    "    #print(jobs,machines)\n",
    "    copy_processing_times = processing_times.copy()\n",
    "    maximum = processing_times.max() + 1\n",
    "    m1 = []\n",
    "    m2 = []\n",
    "    \n",
    "    if machines != 2:\n",
    "        raise Exception(\"Johson method only works with two machines\")\n",
    "        \n",
    "    for i in range(jobs):\n",
    "        minimum = copy_processing_times.min()\n",
    "        position = np.where(copy_processing_times == minimum)\n",
    "        \n",
    "        if position[1][0] == 0:\n",
    "            m1.append(position[0][0])\n",
    "        else:\n",
    "            m2.insert(0, position[0][0])\n",
    "        \n",
    "        copy_processing_times[position[0][0]] = maximum\n",
    "        # Delete the job appended\n",
    "    return m1+m2\n",
    "\n",
    "\n",
    "def heuristique_CDS(M):\n",
    "    m = M.shape[1]\n",
    "    solutions = []\n",
    "    makespans = []\n",
    "\n",
    "    for k in range(1,m):\n",
    "        P1 = M[:,0:k].sum(axis=1) # sommer les durées sur les k premières machines\n",
    "        P2 = M[:,m-k:m].sum(axis=1) # sommer les durées sur les m-k dernières machines\n",
    "        P1_P2 = np.hstack([P1[:,None],P2[:,None]]) # créer une matrice à deux colonnes avec P1 et P2\n",
    "\n",
    "        johnson_seq = johnson_method(P1_P2) # appliquer la méthode de Johnson sur P1_P2\n",
    "\n",
    "        solutions.append(johnson_seq)\n",
    "        makespans.append(np.apply_along_axis(compute_makespan, 0, johnson_seq, M)) # calculer le makespan de v avec M\n",
    "\n",
    "    score = np.min(makespans) # trouver le score minimal\n",
    "    return solutions[np.argmin(makespans)], score # renvoyer la solution correspondant au score minimal"
   ]
  },
  {
   "attachments": {},
   "cell_type": "markdown",
   "id": "c97bda89",
   "metadata": {},
   "source": [
    "# **1. Recherche locale itérée ou Iterated Local Search (ILS) proposée par dong et al (2009)** <a class=\"anchor\" id=\"chapter1\"></a>\n",
    "\n",
    "##### (https://sci-hub.ru/10.1016/j.cor.2008.04.001)"
   ]
  },
  {
   "attachments": {},
   "cell_type": "markdown",
   "id": "59ffde1e",
   "metadata": {},
   "source": [
    "## **Implémentation** <a class=\"anchor\" id=\"section_1_1\"></a>"
   ]
  },
  {
   "attachments": {},
   "cell_type": "markdown",
   "id": "6cd666d9",
   "metadata": {},
   "source": [
    "### Utils"
   ]
  },
  {
   "cell_type": "code",
   "execution_count": 4,
   "id": "2c23c166",
   "metadata": {},
   "outputs": [],
   "source": [
    "def perform_insert(schedule, i, j):\n",
    "    \"\"\"\n",
    "    Performs an INSERT move on the given permutation by moving the job at\n",
    "    position i to position j.\n",
    "    \n",
    "     - i: the position of the job to be moved.\n",
    "     - j: the position where the job should be inserted.\n",
    "    \"\"\"\n",
    "    schedule=list(schedule)\n",
    "    new_schedule = schedule.copy()\n",
    "    job = new_schedule.pop(i)\n",
    "    new_schedule.insert(j, job)\n",
    "    return new_schedule\n",
    "\n",
    "def pairwise_permute_n(schedule, n_perturb):\n",
    "    \"\"\"\n",
    "    Performs n random pairwise permutations between elements in a list.\n",
    "    \n",
    "    \"\"\"\n",
    "    new_schedule = schedule.copy()\n",
    "    for i in range(n_perturb):\n",
    "        idx1, idx2 = random.sample(range(len(new_schedule)), 2)\n",
    "        new_schedule[idx1], new_schedule[idx2] = new_schedule[idx2], new_schedule[idx1]\n",
    "    return new_schedule\n",
    "\n",
    "# job here is the index of job in the schedule not the job \n",
    "# saying schedule [3,0,2,1]  job=1 is 3, job =2 is 0 ...\n",
    "def completeion_time_of_job(machine,job,schedule,processing_times):\n",
    "    if(job==1):\n",
    "        cmp=0\n",
    "        for r in range(machine):\n",
    "            cmp=cmp+processing_times[schedule[0]][r]\n",
    "        return cmp\n",
    "    elif(machine==1):\n",
    "        cmp=0\n",
    "        for r in range(job):\n",
    "            cmp=cmp+processing_times[schedule[r]][0]\n",
    "        return cmp\n",
    "    else:\n",
    "        e1=completeion_time_of_job(machine-1,job,schedule,processing_times)\n",
    "        e2=completeion_time_of_job(machine,job-1,schedule,processing_times)\n",
    "        return processing_times[job-1][machine-1]+max(e1,e2)"
   ]
  },
  {
   "attachments": {},
   "cell_type": "markdown",
   "id": "42119bff",
   "metadata": {},
   "source": [
    "### L'algorithme ILS"
   ]
  },
  {
   "attachments": {
    "image.png": {
     "image/png": "[encoded data removed]"
    }
   },
   "cell_type": "markdown",
   "id": "9bb12d4b",
   "metadata": {},
   "source": [
    "![image.png](attachment:image.png)"
   ]
  },
  {
   "cell_type": "code",
   "execution_count": 21,
   "id": "cebb59d8",
   "metadata": {},
   "outputs": [],
   "source": [
    "def dong_et_al_ils(schedule,processing_times,max_iter,n_perturb):\n",
    "    n_jobs , n_machines = processing_times.shape\n",
    "    cnt=0\n",
    "    schedule=list(schedule)\n",
    "    schedule_best=schedule.copy()\n",
    "    \n",
    "    for itr in range(max_iter):\n",
    "        # for j in range(n_jobs):\n",
    "            \n",
    "            # #selecting the k\n",
    "            # k=schedule.index(schedule_best[j])#step 5 of the algorithm\n",
    "            # obj = 0\n",
    "            # schedule_optim=schedule.copy()\n",
    "            # for e in range(n_jobs):\n",
    "            #     if (k!=e) :\n",
    "            #         new_schedule=perform_insert(schedule, k, e)\n",
    "            #         new_obj = compute_makespan(new_schedule, processing_times)\n",
    "            #         if(new_obj<obj):\n",
    "            #             schedule_optim=new_schedule.copy()\n",
    "            #             obj = new_obj\n",
    "\n",
    "            schedule_optim = local_search(combined_destruction_construction(schedule,7, processing_times),processing_times)\n",
    "            # schedule_optim = \n",
    "            # new_obj = compute_makespan(new_schedule, processing_times)\n",
    "\n",
    "            #step 7\n",
    "            if(compute_makespan(schedule_optim, processing_times)<compute_makespan(schedule, processing_times)):\n",
    "                schedule=schedule_optim.copy()\n",
    "                cnt=0\n",
    "            else:\n",
    "                cnt=cnt+1\n",
    "\n",
    "            if(compute_makespan(schedule, processing_times)<compute_makespan(schedule_best, processing_times)):\n",
    "                schedule_best=schedule.copy()\n",
    "\n",
    "            if(cnt>=n_jobs):\n",
    "                ss=pairwise_permute_n(schedule_best, n_perturb)\n",
    "                if(compute_makespan(ss, processing_times)<compute_makespan(schedule_best, processing_times)):\n",
    "                    schedule_best=ss.copy()\n",
    "                cnt=0\n",
    "    return schedule_best,compute_makespan(schedule_best, processing_times)"
   ]
  },
  {
   "attachments": {},
   "cell_type": "markdown",
   "id": "bcddda3a",
   "metadata": {},
   "source": [
    "## **Tests et analyse** <a class=\"anchor\" id=\"section_1_2\"></a>"
   ]
  },
  {
   "attachments": {},
   "cell_type": "markdown",
   "id": "3b69eb93",
   "metadata": {},
   "source": [
    "###  **Sur l'instance aléatoire**  :"
   ]
  },
  {
   "attachments": {},
   "cell_type": "markdown",
   "id": "5c53bb64",
   "metadata": {},
   "source": [
    "Avec l'instance aléatoire qui a comme fonction objectif optimale : **1102**, nous avons exécuté une recherche locale itérée sur une solution donnée par des heuristiques telles que : Ham et NEH ILS a amélioré cette solution de **1107** vers **1105** comme fonction objectif, avec les paramètres de l'algorithme fixés à 1000 itérations et 4 perturbations, il est à noter que la variation des paramètres n'a pas influencé la solution donnée par ILS pour cette instance, les résultats sont montrés ci-dessous :"
   ]
  },
  {
   "cell_type": "code",
   "execution_count": 31,
   "id": "291e72c6",
   "metadata": {},
   "outputs": [
    {
     "name": "stdout",
     "output_type": "stream",
     "text": [
      "1103\n"
     ]
    }
   ],
   "source": [
    "instance=FmCmax.FmCmax_Instance.read_txt(\"../TP02-Heuristiques/data/random_instance.txt\")\n",
    "processing_times = np.array(instance.P)\n",
    "\n",
    "#Run the algorithms\n",
    "# schedule_ham, makespan_ham = heuristique_Ham(processing_times)\n",
    "# schedule_ils_ham, makespan_ils_ham = dong_et_al_ils(schedule_ham, processing_times, 1000, 4)\n",
    "schedule_neh, makespan_neh = heuristique_NEH(processing_times)\n",
    "schedule_ils_neh, makespan_ils_neh = dong_et_al_ils(schedule_neh, processing_times, 1000, 7)\n",
    "print(makespan_ils_neh)\n",
    "\n",
    "# # Plot the results as a bar chart\n",
    "# labels = ['Heuristique Ham', 'ILS + Ham', 'Heuristique NEH', 'ILS + NEH']\n",
    "# makespans = [makespan_ham, makespan_ils_ham, makespan_neh, makespan_ils_neh]\n",
    "# colors = ['tab:reD', 'tab:blue', 'tab:red', 'tab:blue']\n",
    "\n",
    "# plt.bar(labels, makespans, color=colors)\n",
    "# plt.ylabel('Makespan')\n",
    "# plt.title('Comparaison des solutions pour différentes initialisations et optimisations')\n",
    "\n",
    "# # Set the minimum value of the y-axis to 1000\n",
    "# plt.ylim(bottom=1000)\n",
    "\n",
    "# # Add the values as text above the bars\n",
    "# for i, v in enumerate(makespans):\n",
    "#     plt.text(i, v + 1, str(v), ha='center')\n",
    "\n",
    "# plt.show()\n"
   ]
  },
  {
   "attachments": {},
   "cell_type": "markdown",
   "id": "2d1300ef",
   "metadata": {},
   "source": [
    "### **Sur les instances de Taillard** :\n",
    "Dans cette section, nous allons tester l'effet des différents paramètres initiaux :\n",
    "- Nombre d'itérations : de 100 à 1000 itérations.\n",
    "- Intensité de perturbatios : de 4 à 7 perturbations, car d'après l'article, il est plus approprié de fixer l'intensité de la perturbation entre 4 et 7.\n",
    "\n",
    "Ainsi que les différentes initalisations :\n",
    "- Ham.\n",
    "- NEH.\n",
    "- CDS.\n",
    "\n",
    "Sur la performance de ILS avec les **10 instances** du **premier Benchmark de Taillard**."
   ]
  },
  {
   "cell_type": "code",
   "execution_count": 32,
   "id": "774658be",
   "metadata": {},
   "outputs": [],
   "source": [
    "f =  open(\"../TP02-Heuristiques/data/Taillard.pkl\", \"rb\")\n",
    "taillard = pickle.load(f)"
   ]
  },
  {
   "attachments": {},
   "cell_type": "markdown",
   "id": "daa87f9e",
   "metadata": {},
   "source": [
    "\n",
    "### Nombre d'itérations & Déviation avec la première instance du Benchmark:\n",
    "Les autres paramètres sont fixés ainsi : \n",
    "- Initialisation : CDS.\n",
    "- Nombre de perturbations : 4."
   ]
  },
  {
   "cell_type": "code",
   "execution_count": 33,
   "id": "1a885520",
   "metadata": {},
   "outputs": [
    {
     "data": {
      "image/png": "[encoded data removed]",
      "text/plain": [
       "<Figure size 640x480 with 1 Axes>"
      ]
     },
     "metadata": {},
     "output_type": "display_data"
    }
   ],
   "source": [
    "\n",
    "nb_perturb=4\n",
    "processing_times = np.array(taillard[0][\"P\"]).transpose()\n",
    "upper_bound = taillard[0][\"ub\"]\n",
    "init_schedule,init_obj=heuristique_CDS(processing_times)\n",
    "iter=[]\n",
    "dev=[]\n",
    "\n",
    "for max_iter in range(100,1000,100):\n",
    "    iter.append(max_iter)\n",
    "    schedule,obj=dong_et_al_ils(init_schedule,processing_times,max_iter,nb_perturb)\n",
    "    dev.append(100*(compute_makespan(schedule,processing_times)-upper_bound)/upper_bound)\n",
    "\n",
    "# Create a figure and axis object\n",
    "fig, ax = plt.subplots()\n",
    "\n",
    "# Plot the data\n",
    "ax.plot(iter, dev)\n",
    "\n",
    "# Add axis labels and a title\n",
    "ax.set_xlabel('Nombre ditérations')\n",
    "ax.set_ylabel('Déviation')\n",
    "ax.set_title('Variation de la déviation trouvée par ILS en fonction du nombre ditérations')\n",
    "\n",
    "# Display the graph\n",
    "plt.show()"
   ]
  },
  {
   "attachments": {},
   "cell_type": "markdown",
   "id": "6b700df0",
   "metadata": {},
   "source": [
    "### Intensité de perturbation & déviation avec la première instance du Benchmark :\n",
    "Les autres paramètres sont fixés comme suit : \n",
    "- Initialisation : Ham.\n",
    "- Nombre d'itérations : 500."
   ]
  },
  {
   "cell_type": "code",
   "execution_count": 34,
   "id": "70fb4b79",
   "metadata": {},
   "outputs": [
    {
     "ename": "KeyboardInterrupt",
     "evalue": "",
     "output_type": "error",
     "traceback": [
      "\u001b[1;31m---------------------------------------------------------------------------\u001b[0m",
      "\u001b[1;31mKeyboardInterrupt\u001b[0m                         Traceback (most recent call last)",
      "\u001b[1;32m~\\AppData\\Local\\Temp\\ipykernel_14248\\4120311968.py\u001b[0m in \u001b[0;36m<module>\u001b[1;34m\u001b[0m\n\u001b[0;32m      9\u001b[0m     \u001b[0mperturb\u001b[0m\u001b[1;33m.\u001b[0m\u001b[0mappend\u001b[0m\u001b[1;33m(\u001b[0m\u001b[0mnb_perturb\u001b[0m\u001b[1;33m)\u001b[0m\u001b[1;33m\u001b[0m\u001b[1;33m\u001b[0m\u001b[0m\n\u001b[0;32m     10\u001b[0m     \u001b[0mstart_time\u001b[0m \u001b[1;33m=\u001b[0m \u001b[0mtime\u001b[0m\u001b[1;33m.\u001b[0m\u001b[0mtime\u001b[0m\u001b[1;33m(\u001b[0m\u001b[1;33m)\u001b[0m\u001b[1;33m\u001b[0m\u001b[1;33m\u001b[0m\u001b[0m\n\u001b[1;32m---> 11\u001b[1;33m     \u001b[0mschedule\u001b[0m\u001b[1;33m,\u001b[0m\u001b[0mobj\u001b[0m\u001b[1;33m=\u001b[0m\u001b[0mdong_et_al_ils\u001b[0m\u001b[1;33m(\u001b[0m\u001b[0minit_schedule\u001b[0m\u001b[1;33m,\u001b[0m\u001b[0mprocessing_times\u001b[0m\u001b[1;33m,\u001b[0m\u001b[0mmax_iter\u001b[0m\u001b[1;33m,\u001b[0m\u001b[0mnb_perturb\u001b[0m\u001b[1;33m)\u001b[0m\u001b[1;33m\u001b[0m\u001b[1;33m\u001b[0m\u001b[0m\n\u001b[0m\u001b[0;32m     12\u001b[0m     \u001b[0mend_time\u001b[0m \u001b[1;33m=\u001b[0m \u001b[0mtime\u001b[0m\u001b[1;33m.\u001b[0m\u001b[0mtime\u001b[0m\u001b[1;33m(\u001b[0m\u001b[1;33m)\u001b[0m\u001b[1;33m\u001b[0m\u001b[1;33m\u001b[0m\u001b[0m\n\u001b[0;32m     13\u001b[0m     \u001b[0mdev\u001b[0m\u001b[1;33m.\u001b[0m\u001b[0mappend\u001b[0m\u001b[1;33m(\u001b[0m\u001b[1;36m100\u001b[0m\u001b[1;33m*\u001b[0m\u001b[1;33m(\u001b[0m\u001b[0mcompute_makespan\u001b[0m\u001b[1;33m(\u001b[0m\u001b[0mschedule\u001b[0m\u001b[1;33m,\u001b[0m\u001b[0mprocessing_times\u001b[0m\u001b[1;33m)\u001b[0m\u001b[1;33m-\u001b[0m\u001b[0mupper_bound\u001b[0m\u001b[1;33m)\u001b[0m\u001b[1;33m/\u001b[0m\u001b[0mupper_bound\u001b[0m\u001b[1;33m)\u001b[0m\u001b[1;33m\u001b[0m\u001b[1;33m\u001b[0m\u001b[0m\n",
      "\u001b[1;32m~\\AppData\\Local\\Temp\\ipykernel_14248\\2334359758.py\u001b[0m in \u001b[0;36mdong_et_al_ils\u001b[1;34m(schedule, processing_times, max_iter, n_perturb)\u001b[0m\n\u001b[0;32m     20\u001b[0m             \u001b[1;31m#             obj = new_obj\u001b[0m\u001b[1;33m\u001b[0m\u001b[1;33m\u001b[0m\u001b[0m\n\u001b[0;32m     21\u001b[0m \u001b[1;33m\u001b[0m\u001b[0m\n\u001b[1;32m---> 22\u001b[1;33m             \u001b[0mschedule_optim\u001b[0m \u001b[1;33m=\u001b[0m \u001b[0mlocal_search\u001b[0m\u001b[1;33m(\u001b[0m\u001b[0mcombined_destruction_construction\u001b[0m\u001b[1;33m(\u001b[0m\u001b[0mschedule\u001b[0m\u001b[1;33m,\u001b[0m\u001b[1;36m7\u001b[0m\u001b[1;33m,\u001b[0m \u001b[0mprocessing_times\u001b[0m\u001b[1;33m)\u001b[0m\u001b[1;33m,\u001b[0m\u001b[0mprocessing_times\u001b[0m\u001b[1;33m)\u001b[0m\u001b[1;33m\u001b[0m\u001b[1;33m\u001b[0m\u001b[0m\n\u001b[0m\u001b[0;32m     23\u001b[0m             \u001b[1;31m# schedule_optim =\u001b[0m\u001b[1;33m\u001b[0m\u001b[1;33m\u001b[0m\u001b[0m\n\u001b[0;32m     24\u001b[0m             \u001b[1;31m# new_obj = compute_makespan(new_schedule, processing_times)\u001b[0m\u001b[1;33m\u001b[0m\u001b[1;33m\u001b[0m\u001b[0m\n",
      "\u001b[1;32m~\\AppData\\Local\\Temp\\ipykernel_14248\\1068443273.py\u001b[0m in \u001b[0;36mlocal_search\u001b[1;34m(schedule, processing_times)\u001b[0m\n\u001b[0;32m     80\u001b[0m             \u001b[0mneighbor_schedule\u001b[0m\u001b[1;33m[\u001b[0m\u001b[0mi\u001b[0m\u001b[1;33m]\u001b[0m\u001b[1;33m,\u001b[0m \u001b[0mneighbor_schedule\u001b[0m\u001b[1;33m[\u001b[0m\u001b[0mj\u001b[0m\u001b[1;33m]\u001b[0m \u001b[1;33m=\u001b[0m \u001b[0mneighbor_schedule\u001b[0m\u001b[1;33m[\u001b[0m\u001b[0mj\u001b[0m\u001b[1;33m]\u001b[0m\u001b[1;33m,\u001b[0m \u001b[0mneighbor_schedule\u001b[0m\u001b[1;33m[\u001b[0m\u001b[0mi\u001b[0m\u001b[1;33m]\u001b[0m\u001b[1;33m\u001b[0m\u001b[1;33m\u001b[0m\u001b[0m\n\u001b[0;32m     81\u001b[0m             \u001b[0mneighbor_obj\u001b[0m \u001b[1;33m=\u001b[0m \u001b[0mcompute_makespan\u001b[0m\u001b[1;33m(\u001b[0m\u001b[0mneighbor_schedule\u001b[0m\u001b[1;33m,\u001b[0m \u001b[0mprocessing_times\u001b[0m\u001b[1;33m)\u001b[0m\u001b[1;33m\u001b[0m\u001b[1;33m\u001b[0m\u001b[0m\n\u001b[1;32m---> 82\u001b[1;33m             \u001b[1;32mif\u001b[0m \u001b[0mneighbor_obj\u001b[0m \u001b[1;33m<\u001b[0m \u001b[0mcompute_makespan\u001b[0m\u001b[1;33m(\u001b[0m\u001b[0mimproved_schedule\u001b[0m\u001b[1;33m,\u001b[0m \u001b[0mprocessing_times\u001b[0m\u001b[1;33m)\u001b[0m\u001b[1;33m:\u001b[0m\u001b[1;33m\u001b[0m\u001b[1;33m\u001b[0m\u001b[0m\n\u001b[0m\u001b[0;32m     83\u001b[0m                 \u001b[0mimproved_schedule\u001b[0m \u001b[1;33m=\u001b[0m \u001b[0mneighbor_schedule\u001b[0m\u001b[1;33m\u001b[0m\u001b[1;33m\u001b[0m\u001b[0m\n\u001b[0;32m     84\u001b[0m     \u001b[1;32mreturn\u001b[0m \u001b[0mimproved_schedule\u001b[0m\u001b[1;33m\u001b[0m\u001b[1;33m\u001b[0m\u001b[0m\n",
      "\u001b[1;32m~\\AppData\\Local\\Temp\\ipykernel_14248\\76201899.py\u001b[0m in \u001b[0;36mcompute_makespan\u001b[1;34m(schedule, p)\u001b[0m\n\u001b[0;32m     10\u001b[0m                 \u001b[0mc\u001b[0m\u001b[1;33m[\u001b[0m\u001b[0mi\u001b[0m\u001b[1;33m]\u001b[0m\u001b[1;33m[\u001b[0m\u001b[0mj\u001b[0m\u001b[1;33m]\u001b[0m \u001b[1;33m=\u001b[0m \u001b[0mc\u001b[0m\u001b[1;33m[\u001b[0m\u001b[0mi\u001b[0m\u001b[1;33m]\u001b[0m\u001b[1;33m[\u001b[0m\u001b[0mj\u001b[0m\u001b[1;33m-\u001b[0m\u001b[1;36m1\u001b[0m\u001b[1;33m]\u001b[0m \u001b[1;33m+\u001b[0m \u001b[0mp\u001b[0m\u001b[1;33m[\u001b[0m\u001b[0mschedule\u001b[0m\u001b[1;33m[\u001b[0m\u001b[0mi\u001b[0m\u001b[1;33m]\u001b[0m\u001b[1;33m]\u001b[0m\u001b[1;33m[\u001b[0m\u001b[0mj\u001b[0m\u001b[1;33m]\u001b[0m\u001b[1;33m\u001b[0m\u001b[1;33m\u001b[0m\u001b[0m\n\u001b[0;32m     11\u001b[0m             \u001b[1;32melif\u001b[0m \u001b[0mj\u001b[0m \u001b[1;33m==\u001b[0m \u001b[1;36m0\u001b[0m\u001b[1;33m:\u001b[0m\u001b[1;33m\u001b[0m\u001b[1;33m\u001b[0m\u001b[0m\n\u001b[1;32m---> 12\u001b[1;33m                 \u001b[0mc\u001b[0m\u001b[1;33m[\u001b[0m\u001b[0mi\u001b[0m\u001b[1;33m]\u001b[0m\u001b[1;33m[\u001b[0m\u001b[0mj\u001b[0m\u001b[1;33m]\u001b[0m \u001b[1;33m=\u001b[0m \u001b[0mc\u001b[0m\u001b[1;33m[\u001b[0m\u001b[0mi\u001b[0m\u001b[1;33m-\u001b[0m\u001b[1;36m1\u001b[0m\u001b[1;33m]\u001b[0m\u001b[1;33m[\u001b[0m\u001b[0mj\u001b[0m\u001b[1;33m]\u001b[0m \u001b[1;33m+\u001b[0m \u001b[0mp\u001b[0m\u001b[1;33m[\u001b[0m\u001b[0mschedule\u001b[0m\u001b[1;33m[\u001b[0m\u001b[0mi\u001b[0m\u001b[1;33m]\u001b[0m\u001b[1;33m]\u001b[0m\u001b[1;33m[\u001b[0m\u001b[0mj\u001b[0m\u001b[1;33m]\u001b[0m\u001b[1;33m\u001b[0m\u001b[1;33m\u001b[0m\u001b[0m\n\u001b[0m\u001b[0;32m     13\u001b[0m             \u001b[1;32melse\u001b[0m\u001b[1;33m:\u001b[0m\u001b[1;33m\u001b[0m\u001b[1;33m\u001b[0m\u001b[0m\n\u001b[0;32m     14\u001b[0m                 \u001b[0mc\u001b[0m\u001b[1;33m[\u001b[0m\u001b[0mi\u001b[0m\u001b[1;33m]\u001b[0m\u001b[1;33m[\u001b[0m\u001b[0mj\u001b[0m\u001b[1;33m]\u001b[0m \u001b[1;33m=\u001b[0m \u001b[0mmax\u001b[0m\u001b[1;33m(\u001b[0m\u001b[0mc\u001b[0m\u001b[1;33m[\u001b[0m\u001b[0mi\u001b[0m\u001b[1;33m]\u001b[0m\u001b[1;33m[\u001b[0m\u001b[0mj\u001b[0m\u001b[1;33m-\u001b[0m\u001b[1;36m1\u001b[0m\u001b[1;33m]\u001b[0m\u001b[1;33m,\u001b[0m \u001b[0mc\u001b[0m\u001b[1;33m[\u001b[0m\u001b[0mi\u001b[0m\u001b[1;33m-\u001b[0m\u001b[1;36m1\u001b[0m\u001b[1;33m]\u001b[0m\u001b[1;33m[\u001b[0m\u001b[0mj\u001b[0m\u001b[1;33m]\u001b[0m\u001b[1;33m)\u001b[0m \u001b[1;33m+\u001b[0m \u001b[0mp\u001b[0m\u001b[1;33m[\u001b[0m\u001b[0mschedule\u001b[0m\u001b[1;33m[\u001b[0m\u001b[0mi\u001b[0m\u001b[1;33m]\u001b[0m\u001b[1;33m]\u001b[0m\u001b[1;33m[\u001b[0m\u001b[0mj\u001b[0m\u001b[1;33m]\u001b[0m\u001b[1;33m\u001b[0m\u001b[1;33m\u001b[0m\u001b[0m\n",
      "\u001b[1;31mKeyboardInterrupt\u001b[0m: "
     ]
    }
   ],
   "source": [
    "max_iter=1000\n",
    "processing_times = np.array(taillard[0][\"P\"]).transpose()\n",
    "upper_bound = taillard[0][\"ub\"]\n",
    "init_schedule,init_obj=heuristique_Ham(processing_times)\n",
    "perturb=[]\n",
    "dev=[]\n",
    "times=[]\n",
    "for nb_perturb in range(1,15,1):\n",
    "    perturb.append(nb_perturb)\n",
    "    start_time = time.time()\n",
    "    schedule,obj=dong_et_al_ils(init_schedule,processing_times,max_iter,nb_perturb)\n",
    "    end_time = time.time()\n",
    "    dev.append(100*(compute_makespan(schedule,processing_times)-upper_bound)/upper_bound)\n",
    "    elapsed_time = end_time - start_time\n",
    "    times.append(elapsed_time)\n",
    "\n",
    "# Create a figure and axis object\n",
    "fig, ax = plt.subplots()\n",
    "\n",
    "# Plot the data\n",
    "ax.plot(perturb, dev)\n",
    "\n",
    "# Add axis labels and a title\n",
    "ax.set_xlabel('Intensité de perturbation')\n",
    "ax.set_ylabel('Déviation')\n",
    "ax.set_title('Variation de la déviation trouvée par ILS en fonction de lintensité de perturbation')\n",
    "\n",
    "# Display the graph\n",
    "plt.show()"
   ]
  },
  {
   "attachments": {},
   "cell_type": "markdown",
   "id": "83b6c734",
   "metadata": {},
   "source": [
    "### Conclusion sur l'effet des deux paramètres : \n",
    "Vu la nature aléatoire de l'algorithme dans la phase des perturbations, on ne peut pas généraliser l'effet du nombre des itérations sur la déviation obtenue par rapport aux instances de Taillard, mais le nombre de perturbations a clairement un effet sur la performance de l'algorithme, trop pertuber va donner un caractère aléatoire excessif à l'algorithme qui ne sera pas bon pour l'optimisation, mais si l'intensité de perturbation est trop faible, l'algorithme aura relativement peu de chances de sortir d'une zone locale."
   ]
  },
  {
   "attachments": {},
   "cell_type": "markdown",
   "id": "c74cc09c",
   "metadata": {},
   "source": [
    "### Effet de la méthode d'initialisation sur la déviation obtenue :\n",
    "Dans ce test, nous allons initialiser avec Ham et NEH pour les 10 instances du 1er Benchmark en fixant le nombre d'itérations à 600 et l'intensité de perturbation à 4, nous enregitrons aussi le temps d'exécution de la méthode afin de pouvoir comparer les méthodes obtenues à la fin."
   ]
  },
  {
   "cell_type": "code",
   "execution_count": 35,
   "id": "74f96c4f",
   "metadata": {},
   "outputs": [
    {
     "name": "stdout",
     "output_type": "stream",
     "text": [
      "0.6259780907668232\n",
      "0.44150110375275936\n",
      "4.995374653098982\n",
      "2.474864655839134\n",
      "0.4854368932038835\n",
      "1.3389121338912133\n",
      "0.9685230024213075\n",
      "1.4096185737976783\n",
      "4.065040650406504\n",
      "3.88086642599278\n"
     ]
    }
   ],
   "source": [
    "max_iter=1000\n",
    "nb_perturb=4\n",
    "dev_Ham=[]\n",
    "dev_NEH=[]\n",
    "dev_CDS=[]\n",
    "dev_ham_ils=[]\n",
    "dev_neh_ils=[]\n",
    "dev_cds_ils=[]\n",
    "times_ils=[]     \n",
    "instances=list(range(1,11))\n",
    "for i in range(10):\n",
    "    processing_times = np.array(taillard[i][\"P\"]).transpose()\n",
    "    upper_bound = taillard[i][\"ub\"]\n",
    "    # schedule_ham, makespan_ham = heuristique_Ham(processing_times)\n",
    "    # schedule_ils_ham, makespan_ils_ham = dong_et_al_ils(schedule_ham, processing_times, max_iter, nb_perturb)\n",
    "    schedule_neh, makespan_neh = heuristique_NEH(processing_times)\n",
    "    schedule_ils_neh, makespan_ils_neh = dong_et_al_ils(schedule_neh, processing_times, max_iter, nb_perturb)\n",
    "    # schedule_cds, makespan_cds = heuristique_CDS(processing_times)\n",
    "    # start_time = time.time()\n",
    "    # schedule_ils_cds, makespan_ils_cds = dong_et_al_ils(schedule_cds, processing_times, max_iter, nb_perturb)\n",
    "    # end_time = time.time() \n",
    "    # elapsed_time = end_time - start_time\n",
    "    # times_ils.append(elapsed_time)\n",
    "    # dev_Ham.append(100*(makespan_ham-upper_bound)/upper_bound)\n",
    "    # dev_NEH.append(100*(makespan_neh-upper_bound)/upper_bound)\n",
    "    # dev_CDS.append(100*(makespan_cds-upper_bound)/upper_bound)\n",
    "    # dev_ham_ils.append(100*(makespan_ils_ham-upper_bound)/upper_bound)\n",
    "    dev_neh_ils.append(100*(makespan_ils_neh-upper_bound)/upper_bound)\n",
    "    print(100*(makespan_ils_neh-upper_bound)/upper_bound)\n",
    "    # dev_cds_ils.append(100*(makespan_ils_cds-upper_bound)/upper_bound)"
   ]
  },
  {
   "cell_type": "code",
   "execution_count": 30,
   "id": "bf017505",
   "metadata": {},
   "outputs": [
    {
     "data": {
      "text/html": [
       "        <script type=\"text/javascript\">\n",
       "        window.PlotlyConfig = {MathJaxConfig: 'local'};\n",
       "        if (window.MathJax && window.MathJax.Hub && window.MathJax.Hub.Config) {window.MathJax.Hub.Config({SVG: {font: \"STIX-Web\"}});}\n",
       "        if (typeof require !== 'undefined') {\n",
       "        require.undef(\"plotly\");\n",
       "        requirejs.config({\n",
       "            paths: {\n",
       "                'plotly': ['https://cdn.plot.ly/plotly-2.12.1.min']\n",
       "            }\n",
       "        });\n",
       "        require(['plotly'], function(Plotly) {\n",
       "            window._Plotly = Plotly;\n",
       "        });\n",
       "        }\n",
       "        </script>\n",
       "        "
      ]
     },
     "metadata": {},
     "output_type": "display_data"
    },
    {
     "data": {
      "application/vnd.plotly.v1+json": {
       "config": {
        "plotlyServerURL": "https://plot.ly"
       },
       "data": [
        {
         "marker": {
          "color": "#176ab4"
         },
         "name": "Ham",
         "type": "bar",
         "x": [
          1,
          2,
          3,
          4,
          5,
          6,
          7,
          8,
          9,
          10
         ],
         "y": [
          12.44131455399061,
          9.492273730684326,
          30.157261794634596,
          19.56689868522815,
          11.245954692556634,
          11.548117154811715,
          16.707021791767556,
          23.217247097844112,
          25.040650406504064,
          17.32851985559567
         ]
        },
        {
         "marker": {
          "color": "#4b9cd3"
         },
         "name": "Ham+ILS",
         "type": "bar",
         "x": [
          1,
          2,
          3,
          4,
          5,
          6,
          7,
          8,
          9,
          10
         ],
         "y": [
          1.486697965571205,
          1.7660044150110374,
          6.567992599444958,
          7.192575406032483,
          3.3171521035598706,
          3.430962343096234,
          3.7933817594834545,
          6.218905472636816,
          8.373983739837398,
          6.227436823104693
         ]
        },
        {
         "marker": {
          "color": "#6c3483"
         },
         "name": "CDS",
         "type": "bar",
         "x": [
          1,
          2,
          3,
          4,
          5,
          6,
          7,
          8,
          9,
          10
         ],
         "y": [
          8.763693270735525,
          4.7829286239882265,
          15.541165587419057,
          9.667440061871616,
          7.038834951456311,
          9.790794979079498,
          12.429378531073446,
          11.194029850746269,
          10.56910569105691,
          5.054151624548736
         ]
        },
        {
         "marker": {
          "color": "#9b59b6"
         },
         "name": "CDS+ILS",
         "type": "bar",
         "x": [
          1,
          2,
          3,
          4,
          5,
          6,
          7,
          8,
          9,
          10
         ],
         "y": [
          3.4428794992175273,
          0.8830022075055187,
          4.717853839037928,
          6.2645011600928076,
          2.831715210355987,
          3.096234309623431,
          2.9862792574656982,
          5.555555555555555,
          4.634146341463414,
          4.783393501805054
         ]
        },
        {
         "marker": {
          "color": "#6b9c34"
         },
         "name": "NEH",
         "type": "bar",
         "x": [
          1,
          2,
          3,
          4,
          5,
          6,
          7,
          8,
          9,
          10
         ],
         "y": [
          0.6259780907668232,
          0.44150110375275936,
          7.215541165587419,
          2.474864655839134,
          5.58252427184466,
          2.7615062761506275,
          3.1476997578692494,
          1.4096185737976783,
          4.959349593495935,
          3.88086642599278
         ]
        },
        {
         "marker": {
          "color": "#8cc63f"
         },
         "name": "NEH+ILS",
         "type": "bar",
         "x": [
          1,
          2,
          3,
          4,
          5,
          6,
          7,
          8,
          9,
          10
         ],
         "y": [
          0.6259780907668232,
          0.44150110375275936,
          5.272895467160037,
          2.474864655839134,
          1.6181229773462784,
          2.510460251046025,
          2.2598870056497176,
          1.4096185737976783,
          4.959349593495935,
          3.88086642599278
         ]
        }
       ],
       "layout": {
        "barmode": "group",
        "template": {
         "data": {
          "bar": [
           {
            "error_x": {
             "color": "#2a3f5f"
            },
            "error_y": {
             "color": "#2a3f5f"
            },
            "marker": {
             "line": {
              "color": "#E5ECF6",
              "width": 0.5
             },
             "pattern": {
              "fillmode": "overlay",
              "size": 10,
              "solidity": 0.2
             }
            },
            "type": "bar"
           }
          ],
          "barpolar": [
           {
            "marker": {
             "line": {
              "color": "#E5ECF6",
              "width": 0.5
             },
             "pattern": {
              "fillmode": "overlay",
              "size": 10,
              "solidity": 0.2
             }
            },
            "type": "barpolar"
           }
          ],
          "carpet": [
           {
            "aaxis": {
             "endlinecolor": "#2a3f5f",
             "gridcolor": "white",
             "linecolor": "white",
             "minorgridcolor": "white",
             "startlinecolor": "#2a3f5f"
            },
            "baxis": {
             "endlinecolor": "#2a3f5f",
             "gridcolor": "white",
             "linecolor": "white",
             "minorgridcolor": "white",
             "startlinecolor": "#2a3f5f"
            },
            "type": "carpet"
           }
          ],
          "choropleth": [
           {
            "colorbar": {
             "outlinewidth": 0,
             "ticks": ""
            },
            "type": "choropleth"
           }
          ],
          "contour": [
           {
            "colorbar": {
             "outlinewidth": 0,
             "ticks": ""
            },
            "colorscale": [
             [
              0,
              "#0d0887"
             ],
             [
              0.1111111111111111,
              "#46039f"
             ],
             [
              0.2222222222222222,
              "#7201a8"
             ],
             [
              0.3333333333333333,
              "#9c179e"
             ],
             [
              0.4444444444444444,
              "#bd3786"
             ],
             [
              0.5555555555555556,
              "#d8576b"
             ],
             [
              0.6666666666666666,
              "#ed7953"
             ],
             [
              0.7777777777777778,
              "#fb9f3a"
             ],
             [
              0.8888888888888888,
              "#fdca26"
             ],
             [
              1,
              "#f0f921"
             ]
            ],
            "type": "contour"
           }
          ],
          "contourcarpet": [
           {
            "colorbar": {
             "outlinewidth": 0,
             "ticks": ""
            },
            "type": "contourcarpet"
           }
          ],
          "heatmap": [
           {
            "colorbar": {
             "outlinewidth": 0,
             "ticks": ""
            },
            "colorscale": [
             [
              0,
              "#0d0887"
             ],
             [
              0.1111111111111111,
              "#46039f"
             ],
             [
              0.2222222222222222,
              "#7201a8"
             ],
             [
              0.3333333333333333,
              "#9c179e"
             ],
             [
              0.4444444444444444,
              "#bd3786"
             ],
             [
              0.5555555555555556,
              "#d8576b"
             ],
             [
              0.6666666666666666,
              "#ed7953"
             ],
             [
              0.7777777777777778,
              "#fb9f3a"
             ],
             [
              0.8888888888888888,
              "#fdca26"
             ],
             [
              1,
              "#f0f921"
             ]
            ],
            "type": "heatmap"
           }
          ],
          "heatmapgl": [
           {
            "colorbar": {
             "outlinewidth": 0,
             "ticks": ""
            },
            "colorscale": [
             [
              0,
              "#0d0887"
             ],
             [
              0.1111111111111111,
              "#46039f"
             ],
             [
              0.2222222222222222,
              "#7201a8"
             ],
             [
              0.3333333333333333,
              "#9c179e"
             ],
             [
              0.4444444444444444,
              "#bd3786"
             ],
             [
              0.5555555555555556,
              "#d8576b"
             ],
             [
              0.6666666666666666,
              "#ed7953"
             ],
             [
              0.7777777777777778,
              "#fb9f3a"
             ],
             [
              0.8888888888888888,
              "#fdca26"
             ],
             [
              1,
              "#f0f921"
             ]
            ],
            "type": "heatmapgl"
           }
          ],
          "histogram": [
           {
            "marker": {
             "pattern": {
              "fillmode": "overlay",
              "size": 10,
              "solidity": 0.2
             }
            },
            "type": "histogram"
           }
          ],
          "histogram2d": [
           {
            "colorbar": {
             "outlinewidth": 0,
             "ticks": ""
            },
            "colorscale": [
             [
              0,
              "#0d0887"
             ],
             [
              0.1111111111111111,
              "#46039f"
             ],
             [
              0.2222222222222222,
              "#7201a8"
             ],
             [
              0.3333333333333333,
              "#9c179e"
             ],
             [
              0.4444444444444444,
              "#bd3786"
             ],
             [
              0.5555555555555556,
              "#d8576b"
             ],
             [
              0.6666666666666666,
              "#ed7953"
             ],
             [
              0.7777777777777778,
              "#fb9f3a"
             ],
             [
              0.8888888888888888,
              "#fdca26"
             ],
             [
              1,
              "#f0f921"
             ]
            ],
            "type": "histogram2d"
           }
          ],
          "histogram2dcontour": [
           {
            "colorbar": {
             "outlinewidth": 0,
             "ticks": ""
            },
            "colorscale": [
             [
              0,
              "#0d0887"
             ],
             [
              0.1111111111111111,
              "#46039f"
             ],
             [
              0.2222222222222222,
              "#7201a8"
             ],
             [
              0.3333333333333333,
              "#9c179e"
             ],
             [
              0.4444444444444444,
              "#bd3786"
             ],
             [
              0.5555555555555556,
              "#d8576b"
             ],
             [
              0.6666666666666666,
              "#ed7953"
             ],
             [
              0.7777777777777778,
              "#fb9f3a"
             ],
             [
              0.8888888888888888,
              "#fdca26"
             ],
             [
              1,
              "#f0f921"
             ]
            ],
            "type": "histogram2dcontour"
           }
          ],
          "mesh3d": [
           {
            "colorbar": {
             "outlinewidth": 0,
             "ticks": ""
            },
            "type": "mesh3d"
           }
          ],
          "parcoords": [
           {
            "line": {
             "colorbar": {
              "outlinewidth": 0,
              "ticks": ""
             }
            },
            "type": "parcoords"
           }
          ],
          "pie": [
           {
            "automargin": true,
            "type": "pie"
           }
          ],
          "scatter": [
           {
            "fillpattern": {
             "fillmode": "overlay",
             "size": 10,
             "solidity": 0.2
            },
            "type": "scatter"
           }
          ],
          "scatter3d": [
           {
            "line": {
             "colorbar": {
              "outlinewidth": 0,
              "ticks": ""
             }
            },
            "marker": {
             "colorbar": {
              "outlinewidth": 0,
              "ticks": ""
             }
            },
            "type": "scatter3d"
           }
          ],
          "scattercarpet": [
           {
            "marker": {
             "colorbar": {
              "outlinewidth": 0,
              "ticks": ""
             }
            },
            "type": "scattercarpet"
           }
          ],
          "scattergeo": [
           {
            "marker": {
             "colorbar": {
              "outlinewidth": 0,
              "ticks": ""
             }
            },
            "type": "scattergeo"
           }
          ],
          "scattergl": [
           {
            "marker": {
             "colorbar": {
              "outlinewidth": 0,
              "ticks": ""
             }
            },
            "type": "scattergl"
           }
          ],
          "scattermapbox": [
           {
            "marker": {
             "colorbar": {
              "outlinewidth": 0,
              "ticks": ""
             }
            },
            "type": "scattermapbox"
           }
          ],
          "scatterpolar": [
           {
            "marker": {
             "colorbar": {
              "outlinewidth": 0,
              "ticks": ""
             }
            },
            "type": "scatterpolar"
           }
          ],
          "scatterpolargl": [
           {
            "marker": {
             "colorbar": {
              "outlinewidth": 0,
              "ticks": ""
             }
            },
            "type": "scatterpolargl"
           }
          ],
          "scatterternary": [
           {
            "marker": {
             "colorbar": {
              "outlinewidth": 0,
              "ticks": ""
             }
            },
            "type": "scatterternary"
           }
          ],
          "surface": [
           {
            "colorbar": {
             "outlinewidth": 0,
             "ticks": ""
            },
            "colorscale": [
             [
              0,
              "#0d0887"
             ],
             [
              0.1111111111111111,
              "#46039f"
             ],
             [
              0.2222222222222222,
              "#7201a8"
             ],
             [
              0.3333333333333333,
              "#9c179e"
             ],
             [
              0.4444444444444444,
              "#bd3786"
             ],
             [
              0.5555555555555556,
              "#d8576b"
             ],
             [
              0.6666666666666666,
              "#ed7953"
             ],
             [
              0.7777777777777778,
              "#fb9f3a"
             ],
             [
              0.8888888888888888,
              "#fdca26"
             ],
             [
              1,
              "#f0f921"
             ]
            ],
            "type": "surface"
           }
          ],
          "table": [
           {
            "cells": {
             "fill": {
              "color": "#EBF0F8"
             },
             "line": {
              "color": "white"
             }
            },
            "header": {
             "fill": {
              "color": "#C8D4E3"
             },
             "line": {
              "color": "white"
             }
            },
            "type": "table"
           }
          ]
         },
         "layout": {
          "annotationdefaults": {
           "arrowcolor": "#2a3f5f",
           "arrowhead": 0,
           "arrowwidth": 1
          },
          "autotypenumbers": "strict",
          "coloraxis": {
           "colorbar": {
            "outlinewidth": 0,
            "ticks": ""
           }
          },
          "colorscale": {
           "diverging": [
            [
             0,
             "#8e0152"
            ],
            [
             0.1,
             "#c51b7d"
            ],
            [
             0.2,
             "#de77ae"
            ],
            [
             0.3,
             "#f1b6da"
            ],
            [
             0.4,
             "#fde0ef"
            ],
            [
             0.5,
             "#f7f7f7"
            ],
            [
             0.6,
             "#e6f5d0"
            ],
            [
             0.7,
             "#b8e186"
            ],
            [
             0.8,
             "#7fbc41"
            ],
            [
             0.9,
             "#4d9221"
            ],
            [
             1,
             "#276419"
            ]
           ],
           "sequential": [
            [
             0,
             "#0d0887"
            ],
            [
             0.1111111111111111,
             "#46039f"
            ],
            [
             0.2222222222222222,
             "#7201a8"
            ],
            [
             0.3333333333333333,
             "#9c179e"
            ],
            [
             0.4444444444444444,
             "#bd3786"
            ],
            [
             0.5555555555555556,
             "#d8576b"
            ],
            [
             0.6666666666666666,
             "#ed7953"
            ],
            [
             0.7777777777777778,
             "#fb9f3a"
            ],
            [
             0.8888888888888888,
             "#fdca26"
            ],
            [
             1,
             "#f0f921"
            ]
           ],
           "sequentialminus": [
            [
             0,
             "#0d0887"
            ],
            [
             0.1111111111111111,
             "#46039f"
            ],
            [
             0.2222222222222222,
             "#7201a8"
            ],
            [
             0.3333333333333333,
             "#9c179e"
            ],
            [
             0.4444444444444444,
             "#bd3786"
            ],
            [
             0.5555555555555556,
             "#d8576b"
            ],
            [
             0.6666666666666666,
             "#ed7953"
            ],
            [
             0.7777777777777778,
             "#fb9f3a"
            ],
            [
             0.8888888888888888,
             "#fdca26"
            ],
            [
             1,
             "#f0f921"
            ]
           ]
          },
          "colorway": [
           "#636efa",
           "#EF553B",
           "#00cc96",
           "#ab63fa",
           "#FFA15A",
           "#19d3f3",
           "#FF6692",
           "#B6E880",
           "#FF97FF",
           "#FECB52"
          ],
          "font": {
           "color": "#2a3f5f"
          },
          "geo": {
           "bgcolor": "white",
           "lakecolor": "white",
           "landcolor": "#E5ECF6",
           "showlakes": true,
           "showland": true,
           "subunitcolor": "white"
          },
          "hoverlabel": {
           "align": "left"
          },
          "hovermode": "closest",
          "mapbox": {
           "style": "light"
          },
          "paper_bgcolor": "white",
          "plot_bgcolor": "#E5ECF6",
          "polar": {
           "angularaxis": {
            "gridcolor": "white",
            "linecolor": "white",
            "ticks": ""
           },
           "bgcolor": "#E5ECF6",
           "radialaxis": {
            "gridcolor": "white",
            "linecolor": "white",
            "ticks": ""
           }
          },
          "scene": {
           "xaxis": {
            "backgroundcolor": "#E5ECF6",
            "gridcolor": "white",
            "gridwidth": 2,
            "linecolor": "white",
            "showbackground": true,
            "ticks": "",
            "zerolinecolor": "white"
           },
           "yaxis": {
            "backgroundcolor": "#E5ECF6",
            "gridcolor": "white",
            "gridwidth": 2,
            "linecolor": "white",
            "showbackground": true,
            "ticks": "",
            "zerolinecolor": "white"
           },
           "zaxis": {
            "backgroundcolor": "#E5ECF6",
            "gridcolor": "white",
            "gridwidth": 2,
            "linecolor": "white",
            "showbackground": true,
            "ticks": "",
            "zerolinecolor": "white"
           }
          },
          "shapedefaults": {
           "line": {
            "color": "#2a3f5f"
           }
          },
          "ternary": {
           "aaxis": {
            "gridcolor": "white",
            "linecolor": "white",
            "ticks": ""
           },
           "baxis": {
            "gridcolor": "white",
            "linecolor": "white",
            "ticks": ""
           },
           "bgcolor": "#E5ECF6",
           "caxis": {
            "gridcolor": "white",
            "linecolor": "white",
            "ticks": ""
           }
          },
          "title": {
           "x": 0.05
          },
          "xaxis": {
           "automargin": true,
           "gridcolor": "white",
           "linecolor": "white",
           "ticks": "",
           "title": {
            "standoff": 15
           },
           "zerolinecolor": "white",
           "zerolinewidth": 2
          },
          "yaxis": {
           "automargin": true,
           "gridcolor": "white",
           "linecolor": "white",
           "ticks": "",
           "title": {
            "standoff": 15
           },
           "zerolinecolor": "white",
           "zerolinewidth": 2
          }
         }
        },
        "title": {
         "text": "Déviations obtenues par ILS avec différentes initialisations heuristiques"
        },
        "xaxis": {
         "tickangle": -45,
         "title": {
          "text": "Instance"
         }
        },
        "yaxis": {
         "title": {
          "text": "Deviation (%)"
         }
        }
       }
      },
      "text/html": [
       "<div>                            <div id=\"3624f54a-1b20-4460-8639-11e065bc083a\" class=\"plotly-graph-div\" style=\"height:525px; width:100%;\"></div>            <script type=\"text/javascript\">                require([\"plotly\"], function(Plotly) {                    window.PLOTLYENV=window.PLOTLYENV || {};                                    if (document.getElementById(\"3624f54a-1b20-4460-8639-11e065bc083a\")) {                    Plotly.newPlot(                        \"3624f54a-1b20-4460-8639-11e065bc083a\",                        [{\"marker\":{\"color\":\"#176ab4\"},\"name\":\"Ham\",\"x\":[1,2,3,4,5,6,7,8,9,10],\"y\":[12.44131455399061,9.492273730684326,30.157261794634596,19.56689868522815,11.245954692556634,11.548117154811715,16.707021791767556,23.217247097844112,25.040650406504064,17.32851985559567],\"type\":\"bar\"},{\"marker\":{\"color\":\"#4b9cd3\"},\"name\":\"Ham+ILS\",\"x\":[1,2,3,4,5,6,7,8,9,10],\"y\":[1.486697965571205,1.7660044150110374,6.567992599444958,7.192575406032483,3.3171521035598706,3.430962343096234,3.7933817594834545,6.218905472636816,8.373983739837398,6.227436823104693],\"type\":\"bar\"},{\"marker\":{\"color\":\"#6c3483\"},\"name\":\"CDS\",\"x\":[1,2,3,4,5,6,7,8,9,10],\"y\":[8.763693270735525,4.7829286239882265,15.541165587419057,9.667440061871616,7.038834951456311,9.790794979079498,12.429378531073446,11.194029850746269,10.56910569105691,5.054151624548736],\"type\":\"bar\"},{\"marker\":{\"color\":\"#9b59b6\"},\"name\":\"CDS+ILS\",\"x\":[1,2,3,4,5,6,7,8,9,10],\"y\":[3.4428794992175273,0.8830022075055187,4.717853839037928,6.2645011600928076,2.831715210355987,3.096234309623431,2.9862792574656982,5.555555555555555,4.634146341463414,4.783393501805054],\"type\":\"bar\"},{\"marker\":{\"color\":\"#6b9c34\"},\"name\":\"NEH\",\"x\":[1,2,3,4,5,6,7,8,9,10],\"y\":[0.6259780907668232,0.44150110375275936,7.215541165587419,2.474864655839134,5.58252427184466,2.7615062761506275,3.1476997578692494,1.4096185737976783,4.959349593495935,3.88086642599278],\"type\":\"bar\"},{\"marker\":{\"color\":\"#8cc63f\"},\"name\":\"NEH+ILS\",\"x\":[1,2,3,4,5,6,7,8,9,10],\"y\":[0.6259780907668232,0.44150110375275936,5.272895467160037,2.474864655839134,1.6181229773462784,2.510460251046025,2.2598870056497176,1.4096185737976783,4.959349593495935,3.88086642599278],\"type\":\"bar\"}],                        {\"template\":{\"data\":{\"histogram2dcontour\":[{\"type\":\"histogram2dcontour\",\"colorbar\":{\"outlinewidth\":0,\"ticks\":\"\"},\"colorscale\":[[0.0,\"#0d0887\"],[0.1111111111111111,\"#46039f\"],[0.2222222222222222,\"#7201a8\"],[0.3333333333333333,\"#9c179e\"],[0.4444444444444444,\"#bd3786\"],[0.5555555555555556,\"#d8576b\"],[0.6666666666666666,\"#ed7953\"],[0.7777777777777778,\"#fb9f3a\"],[0.8888888888888888,\"#fdca26\"],[1.0,\"#f0f921\"]]}],\"choropleth\":[{\"type\":\"choropleth\",\"colorbar\":{\"outlinewidth\":0,\"ticks\":\"\"}}],\"histogram2d\":[{\"type\":\"histogram2d\",\"colorbar\":{\"outlinewidth\":0,\"ticks\":\"\"},\"colorscale\":[[0.0,\"#0d0887\"],[0.1111111111111111,\"#46039f\"],[0.2222222222222222,\"#7201a8\"],[0.3333333333333333,\"#9c179e\"],[0.4444444444444444,\"#bd3786\"],[0.5555555555555556,\"#d8576b\"],[0.6666666666666666,\"#ed7953\"],[0.7777777777777778,\"#fb9f3a\"],[0.8888888888888888,\"#fdca26\"],[1.0,\"#f0f921\"]]}],\"heatmap\":[{\"type\":\"heatmap\",\"colorbar\":{\"outlinewidth\":0,\"ticks\":\"\"},\"colorscale\":[[0.0,\"#0d0887\"],[0.1111111111111111,\"#46039f\"],[0.2222222222222222,\"#7201a8\"],[0.3333333333333333,\"#9c179e\"],[0.4444444444444444,\"#bd3786\"],[0.5555555555555556,\"#d8576b\"],[0.6666666666666666,\"#ed7953\"],[0.7777777777777778,\"#fb9f3a\"],[0.8888888888888888,\"#fdca26\"],[1.0,\"#f0f921\"]]}],\"heatmapgl\":[{\"type\":\"heatmapgl\",\"colorbar\":{\"outlinewidth\":0,\"ticks\":\"\"},\"colorscale\":[[0.0,\"#0d0887\"],[0.1111111111111111,\"#46039f\"],[0.2222222222222222,\"#7201a8\"],[0.3333333333333333,\"#9c179e\"],[0.4444444444444444,\"#bd3786\"],[0.5555555555555556,\"#d8576b\"],[0.6666666666666666,\"#ed7953\"],[0.7777777777777778,\"#fb9f3a\"],[0.8888888888888888,\"#fdca26\"],[1.0,\"#f0f921\"]]}],\"contourcarpet\":[{\"type\":\"contourcarpet\",\"colorbar\":{\"outlinewidth\":0,\"ticks\":\"\"}}],\"contour\":[{\"type\":\"contour\",\"colorbar\":{\"outlinewidth\":0,\"ticks\":\"\"},\"colorscale\":[[0.0,\"#0d0887\"],[0.1111111111111111,\"#46039f\"],[0.2222222222222222,\"#7201a8\"],[0.3333333333333333,\"#9c179e\"],[0.4444444444444444,\"#bd3786\"],[0.5555555555555556,\"#d8576b\"],[0.6666666666666666,\"#ed7953\"],[0.7777777777777778,\"#fb9f3a\"],[0.8888888888888888,\"#fdca26\"],[1.0,\"#f0f921\"]]}],\"surface\":[{\"type\":\"surface\",\"colorbar\":{\"outlinewidth\":0,\"ticks\":\"\"},\"colorscale\":[[0.0,\"#0d0887\"],[0.1111111111111111,\"#46039f\"],[0.2222222222222222,\"#7201a8\"],[0.3333333333333333,\"#9c179e\"],[0.4444444444444444,\"#bd3786\"],[0.5555555555555556,\"#d8576b\"],[0.6666666666666666,\"#ed7953\"],[0.7777777777777778,\"#fb9f3a\"],[0.8888888888888888,\"#fdca26\"],[1.0,\"#f0f921\"]]}],\"mesh3d\":[{\"type\":\"mesh3d\",\"colorbar\":{\"outlinewidth\":0,\"ticks\":\"\"}}],\"scatter\":[{\"fillpattern\":{\"fillmode\":\"overlay\",\"size\":10,\"solidity\":0.2},\"type\":\"scatter\"}],\"parcoords\":[{\"type\":\"parcoords\",\"line\":{\"colorbar\":{\"outlinewidth\":0,\"ticks\":\"\"}}}],\"scatterpolargl\":[{\"type\":\"scatterpolargl\",\"marker\":{\"colorbar\":{\"outlinewidth\":0,\"ticks\":\"\"}}}],\"bar\":[{\"error_x\":{\"color\":\"#2a3f5f\"},\"error_y\":{\"color\":\"#2a3f5f\"},\"marker\":{\"line\":{\"color\":\"#E5ECF6\",\"width\":0.5},\"pattern\":{\"fillmode\":\"overlay\",\"size\":10,\"solidity\":0.2}},\"type\":\"bar\"}],\"scattergeo\":[{\"type\":\"scattergeo\",\"marker\":{\"colorbar\":{\"outlinewidth\":0,\"ticks\":\"\"}}}],\"scatterpolar\":[{\"type\":\"scatterpolar\",\"marker\":{\"colorbar\":{\"outlinewidth\":0,\"ticks\":\"\"}}}],\"histogram\":[{\"marker\":{\"pattern\":{\"fillmode\":\"overlay\",\"size\":10,\"solidity\":0.2}},\"type\":\"histogram\"}],\"scattergl\":[{\"type\":\"scattergl\",\"marker\":{\"colorbar\":{\"outlinewidth\":0,\"ticks\":\"\"}}}],\"scatter3d\":[{\"type\":\"scatter3d\",\"line\":{\"colorbar\":{\"outlinewidth\":0,\"ticks\":\"\"}},\"marker\":{\"colorbar\":{\"outlinewidth\":0,\"ticks\":\"\"}}}],\"scattermapbox\":[{\"type\":\"scattermapbox\",\"marker\":{\"colorbar\":{\"outlinewidth\":0,\"ticks\":\"\"}}}],\"scatterternary\":[{\"type\":\"scatterternary\",\"marker\":{\"colorbar\":{\"outlinewidth\":0,\"ticks\":\"\"}}}],\"scattercarpet\":[{\"type\":\"scattercarpet\",\"marker\":{\"colorbar\":{\"outlinewidth\":0,\"ticks\":\"\"}}}],\"carpet\":[{\"aaxis\":{\"endlinecolor\":\"#2a3f5f\",\"gridcolor\":\"white\",\"linecolor\":\"white\",\"minorgridcolor\":\"white\",\"startlinecolor\":\"#2a3f5f\"},\"baxis\":{\"endlinecolor\":\"#2a3f5f\",\"gridcolor\":\"white\",\"linecolor\":\"white\",\"minorgridcolor\":\"white\",\"startlinecolor\":\"#2a3f5f\"},\"type\":\"carpet\"}],\"table\":[{\"cells\":{\"fill\":{\"color\":\"#EBF0F8\"},\"line\":{\"color\":\"white\"}},\"header\":{\"fill\":{\"color\":\"#C8D4E3\"},\"line\":{\"color\":\"white\"}},\"type\":\"table\"}],\"barpolar\":[{\"marker\":{\"line\":{\"color\":\"#E5ECF6\",\"width\":0.5},\"pattern\":{\"fillmode\":\"overlay\",\"size\":10,\"solidity\":0.2}},\"type\":\"barpolar\"}],\"pie\":[{\"automargin\":true,\"type\":\"pie\"}]},\"layout\":{\"autotypenumbers\":\"strict\",\"colorway\":[\"#636efa\",\"#EF553B\",\"#00cc96\",\"#ab63fa\",\"#FFA15A\",\"#19d3f3\",\"#FF6692\",\"#B6E880\",\"#FF97FF\",\"#FECB52\"],\"font\":{\"color\":\"#2a3f5f\"},\"hovermode\":\"closest\",\"hoverlabel\":{\"align\":\"left\"},\"paper_bgcolor\":\"white\",\"plot_bgcolor\":\"#E5ECF6\",\"polar\":{\"bgcolor\":\"#E5ECF6\",\"angularaxis\":{\"gridcolor\":\"white\",\"linecolor\":\"white\",\"ticks\":\"\"},\"radialaxis\":{\"gridcolor\":\"white\",\"linecolor\":\"white\",\"ticks\":\"\"}},\"ternary\":{\"bgcolor\":\"#E5ECF6\",\"aaxis\":{\"gridcolor\":\"white\",\"linecolor\":\"white\",\"ticks\":\"\"},\"baxis\":{\"gridcolor\":\"white\",\"linecolor\":\"white\",\"ticks\":\"\"},\"caxis\":{\"gridcolor\":\"white\",\"linecolor\":\"white\",\"ticks\":\"\"}},\"coloraxis\":{\"colorbar\":{\"outlinewidth\":0,\"ticks\":\"\"}},\"colorscale\":{\"sequential\":[[0.0,\"#0d0887\"],[0.1111111111111111,\"#46039f\"],[0.2222222222222222,\"#7201a8\"],[0.3333333333333333,\"#9c179e\"],[0.4444444444444444,\"#bd3786\"],[0.5555555555555556,\"#d8576b\"],[0.6666666666666666,\"#ed7953\"],[0.7777777777777778,\"#fb9f3a\"],[0.8888888888888888,\"#fdca26\"],[1.0,\"#f0f921\"]],\"sequentialminus\":[[0.0,\"#0d0887\"],[0.1111111111111111,\"#46039f\"],[0.2222222222222222,\"#7201a8\"],[0.3333333333333333,\"#9c179e\"],[0.4444444444444444,\"#bd3786\"],[0.5555555555555556,\"#d8576b\"],[0.6666666666666666,\"#ed7953\"],[0.7777777777777778,\"#fb9f3a\"],[0.8888888888888888,\"#fdca26\"],[1.0,\"#f0f921\"]],\"diverging\":[[0,\"#8e0152\"],[0.1,\"#c51b7d\"],[0.2,\"#de77ae\"],[0.3,\"#f1b6da\"],[0.4,\"#fde0ef\"],[0.5,\"#f7f7f7\"],[0.6,\"#e6f5d0\"],[0.7,\"#b8e186\"],[0.8,\"#7fbc41\"],[0.9,\"#4d9221\"],[1,\"#276419\"]]},\"xaxis\":{\"gridcolor\":\"white\",\"linecolor\":\"white\",\"ticks\":\"\",\"title\":{\"standoff\":15},\"zerolinecolor\":\"white\",\"automargin\":true,\"zerolinewidth\":2},\"yaxis\":{\"gridcolor\":\"white\",\"linecolor\":\"white\",\"ticks\":\"\",\"title\":{\"standoff\":15},\"zerolinecolor\":\"white\",\"automargin\":true,\"zerolinewidth\":2},\"scene\":{\"xaxis\":{\"backgroundcolor\":\"#E5ECF6\",\"gridcolor\":\"white\",\"linecolor\":\"white\",\"showbackground\":true,\"ticks\":\"\",\"zerolinecolor\":\"white\",\"gridwidth\":2},\"yaxis\":{\"backgroundcolor\":\"#E5ECF6\",\"gridcolor\":\"white\",\"linecolor\":\"white\",\"showbackground\":true,\"ticks\":\"\",\"zerolinecolor\":\"white\",\"gridwidth\":2},\"zaxis\":{\"backgroundcolor\":\"#E5ECF6\",\"gridcolor\":\"white\",\"linecolor\":\"white\",\"showbackground\":true,\"ticks\":\"\",\"zerolinecolor\":\"white\",\"gridwidth\":2}},\"shapedefaults\":{\"line\":{\"color\":\"#2a3f5f\"}},\"annotationdefaults\":{\"arrowcolor\":\"#2a3f5f\",\"arrowhead\":0,\"arrowwidth\":1},\"geo\":{\"bgcolor\":\"white\",\"landcolor\":\"#E5ECF6\",\"subunitcolor\":\"white\",\"showland\":true,\"showlakes\":true,\"lakecolor\":\"white\"},\"title\":{\"x\":0.05},\"mapbox\":{\"style\":\"light\"}}},\"xaxis\":{\"tickangle\":-45,\"title\":{\"text\":\"Instance\"}},\"title\":{\"text\":\"D\\u00e9viations obtenues par ILS avec diff\\u00e9rentes initialisations heuristiques\"},\"barmode\":\"group\",\"yaxis\":{\"title\":{\"text\":\"Deviation (%)\"}}},                        {\"responsive\": true}                    ).then(function(){\n",
       "                            \n",
       "var gd = document.getElementById('3624f54a-1b20-4460-8639-11e065bc083a');\n",
       "var x = new MutationObserver(function (mutations, observer) {{\n",
       "        var display = window.getComputedStyle(gd).display;\n",
       "        if (!display || display === 'none') {{\n",
       "            console.log([gd, 'removed!']);\n",
       "            Plotly.purge(gd);\n",
       "            observer.disconnect();\n",
       "        }}\n",
       "}});\n",
       "\n",
       "// Listen for the removal of the full notebook cells\n",
       "var notebookContainer = gd.closest('#notebook-container');\n",
       "if (notebookContainer) {{\n",
       "    x.observe(notebookContainer, {childList: true});\n",
       "}}\n",
       "\n",
       "// Listen for the clearing of the current output cell\n",
       "var outputEl = gd.closest('.output');\n",
       "if (outputEl) {{\n",
       "    x.observe(outputEl, {childList: true});\n",
       "}}\n",
       "\n",
       "                        })                };                });            </script>        </div>"
      ]
     },
     "metadata": {},
     "output_type": "display_data"
    }
   ],
   "source": [
    "import plotly.graph_objects as go\n",
    "from plotly.offline import iplot, init_notebook_mode\n",
    "init_notebook_mode(connected=True)\n",
    "\n",
    "\n",
    "\n",
    "fig = go.Figure()\n",
    "\n",
    "fig.add_trace(go.Bar(\n",
    "    x=instances,\n",
    "    y=dev_Ham,\n",
    "    name='Ham',\n",
    "    marker_color='#176ab4'\n",
    "))\n",
    "fig.add_trace(go.Bar(\n",
    "    x=instances,\n",
    "    y=dev_ham_ils,\n",
    "    name='Ham+ILS',\n",
    "    marker_color='#4b9cd3'\n",
    "))\n",
    "fig.add_trace(go.Bar(\n",
    "    x=instances,\n",
    "    y=dev_CDS,\n",
    "    name='CDS',\n",
    "    marker_color='#6c3483'\n",
    "))\n",
    "fig.add_trace(go.Bar(\n",
    "    x=instances,\n",
    "    y=dev_cds_ils,\n",
    "    name='CDS+ILS',\n",
    "    marker_color='#9b59b6'\n",
    "))\n",
    "fig.add_trace(go.Bar(\n",
    "    x=instances,\n",
    "    y=dev_NEH,\n",
    "    name='NEH',\n",
    "    marker_color='#6b9c34'\n",
    "))\n",
    "fig.add_trace(go.Bar(\n",
    "    x=instances,\n",
    "    y=dev_neh_ils,\n",
    "    name='NEH+ILS',\n",
    "    marker_color='#8cc63f'\n",
    "))\n",
    "\n",
    "# Here we modify the tickangle of the xaxis, resulting in rotated labels.\n",
    "fig.update_layout(barmode='group', xaxis_tickangle=-45, xaxis_title =\"Instance\", yaxis_title=\"Deviation (%)\", title_text=\"Déviations obtenues par ILS avec différentes initialisations heuristiques\")\n",
    "fig.show()"
   ]
  },
  {
   "attachments": {},
   "cell_type": "markdown",
   "id": "a55f5c20",
   "metadata": {},
   "source": [
    "# **2. Recherche Taboue : Tabu Search (TS)** <a class=\"anchor\" id=\"chapter2\"></a>"
   ]
  },
  {
   "attachments": {},
   "cell_type": "markdown",
   "id": "dd8e75e4",
   "metadata": {},
   "source": [
    "##  **Implémentation:** <a class=\"anchor\" id=\"section_2_1\"></a>\n",
    "1. Initialiser la liste de tabous et définir la solution initiale comme solution courante.\n",
    "2. Définir une structure de voisinage qui génère des solutions candidates en échangeant les tâches adjacentes dans la solution courante.\n",
    "3. Évaluer la qualité de la solution initiale à l'aide d'une fonction objective qui mesure le temps de traitement total sur toutes les machines.\n",
    "4. Répétez l'opération jusqu'à ce qu'un critère d'arrêt soit rempli :\\\n",
    "    a. Générer un ensemble de solutions candidates en appliquant la structure de voisinage à la solution actuelle.\\\n",
    "    b. Supprimer toutes les solutions candidates qui se trouvent dans la liste de tabou.\\ \n",
    "    c. Évaluer les solutions candidates restantes à l'aide de la fonction objective.\\   \n",
    "    d. Sélectionner la meilleure solution candidate comme nouvelle solution courante.\\   \n",
    "    e. Mettre à jour la liste de tabous avec la solution actuelle.\\  \n",
    "    f. Si la nouvelle solution actuelle est meilleure que la meilleure solution trouvée jusqu'à présent, mettre à jour la meilleure solution.\n",
    "5. Renvoyer la meilleure solution trouvée.\n"
   ]
  },
  {
   "cell_type": "code",
   "execution_count": 10,
   "id": "9a612899",
   "metadata": {},
   "outputs": [],
   "source": [
    "def tabu_search(init_schedule,processing_times, neighbors_size=10, max_iter=1000, tabu_size=10):\n",
    "    \n",
    "    n_jobs , n_machines = processing_times.shape\n",
    "    current_schedule = init_schedule.copy()\n",
    "    best_schedule = init_schedule.copy()\n",
    "    \n",
    "    tabu_list = []\n",
    "    \n",
    "    iter = 0\n",
    "    for _ in range(max_iter):\n",
    "        \n",
    "        # Générer un ensemble de solutions candidates\n",
    "        candidates = []\n",
    "        for i in range(neighbors_size):\n",
    "            candidate = current_schedule.copy()\n",
    "            j = random.randint(0, n_jobs-2)\n",
    "            k = random.randint(j+1, n_jobs-1)\n",
    "            candidate[j:k+1] = reversed(candidate[j:k+1])\n",
    "            \n",
    "            # Supprimer le candidat s'il figure dans la liste taboue\n",
    "            if(candidate not in tabu_list):\n",
    "                candidates.append(candidate)\n",
    "        \n",
    "        # Évaluer les solutions candidates restantes\n",
    "        candidate_scores = [compute_makespan(candidate, processing_times) for candidate in candidates]\n",
    "        \n",
    "        # Sélectionner la meilleure solution candidate comme nouvelle solution actuelle\n",
    "        best_candidate_idx = min(range(len(candidate_scores)), key=lambda i: candidate_scores[i])\n",
    "        current_schedule = candidates[best_candidate_idx]\n",
    "        \n",
    "        # Ajouter la solution actuelle à la liste taboue\n",
    "        tabu_list.append(current_schedule.copy())\n",
    "        if len(tabu_list) > tabu_size:\n",
    "            tabu_list.pop(0)\n",
    "            \n",
    "        # Vérifier si le meilleur candidat est meilleur que la solution actuelle\n",
    "        if candidate_scores[best_candidate_idx] < compute_makespan(best_schedule, processing_times):\n",
    "            best_schedule = current_schedule.copy()\n",
    "\n",
    "    return best_schedule"
   ]
  },
  {
   "attachments": {},
   "cell_type": "markdown",
   "id": "a403fc7d",
   "metadata": {},
   "source": [
    "## **Tests :** <a class=\"anchor\" id=\"section_2_2\"></a>"
   ]
  },
  {
   "attachments": {},
   "cell_type": "markdown",
   "id": "cc18f1b7",
   "metadata": {},
   "source": [
    "### **Sur l'instance aléatoire :**\n",
    "Dans un premier lieu, nous avons exécuté la recherche tabou sur une instance générée aléatoirement qui a pour solution optimale **1102**, avec différentes initailisations heuristiques et des paramètres initiaux fixés à :\n",
    "- Nombre d'itérations : 5000.\n",
    "- Taille de la liste taboue : 100.\n",
    "- Taille de voisinage : 20.\n",
    "\n",
    "La recherche Tabou avec ces paramètres atteint toujours la meilleure solution avec une déviation nulle comme montré ci-sessous."
   ]
  },
  {
   "cell_type": "code",
   "execution_count": 17,
   "id": "6706df2a",
   "metadata": {},
   "outputs": [
    {
     "data": {
      "image/png": "[encoded data removed]",
      "text/plain": [
       "<Figure size 640x480 with 1 Axes>"
      ]
     },
     "metadata": {},
     "output_type": "display_data"
    }
   ],
   "source": [
    "instance=FmCmax.FmCmax_Instance.read_txt(\"../TP02-Heuristiques/data/random_instance.txt\")\n",
    "processing_times = np.array(instance.P)\n",
    "\n",
    "#Run the algorithms\n",
    "schedule_rand = list(range(10))\n",
    "random.shuffle(schedule_rand)\n",
    "makespan_rand=compute_makespan(schedule_rand,processing_times)\n",
    "makespan_ts_rand=compute_makespan(tabu_search(schedule_rand, processing_times,neighbors_size=20, max_iter=5000, tabu_size=100),processing_times)\n",
    "schedule_ham, makespan_ham = heuristique_Ham(processing_times)\n",
    "makespan_ts_ham = compute_makespan(tabu_search(schedule_ham, processing_times,neighbors_size=20, max_iter=5000, tabu_size=100),processing_times)\n",
    "schedule_neh,makespan_neh = heuristique_NEH(processing_times)\n",
    "makespan_ts_neh = compute_makespan(tabu_search(schedule_neh, processing_times,neighbors_size=20, max_iter=5000, tabu_size=100),processing_times)\n",
    "schedule_cds,makespan_cds = heuristique_CDS(processing_times)\n",
    "makespan_ts_cds = compute_makespan(tabu_search(schedule_cds, processing_times,neighbors_size=20, max_iter=5000, tabu_size=100),processing_times)\n",
    "\n",
    "# Plot the results as a bar chart\n",
    "labels = ['Rand','TS + Rand','Ham', 'TS + Ham', 'NEH', 'TS + NEH','CDS','TS + CDS']\n",
    "makespans = [makespan_rand,makespan_ts_rand,makespan_ham, makespan_ts_ham, makespan_neh, makespan_ts_neh,makespan_cds,makespan_ts_cds]\n",
    "colors = ['tab:red','tab:blue','tab:red','tab:blue','tab:red','tab:blue','tab:red','tab:blue']\n",
    "\n",
    "plt.bar(labels, makespans, color=colors)\n",
    "plt.ylabel('Makespan')\n",
    "plt.title('Comparaison des solutions pour différentes initialisations et optimisations')\n",
    "\n",
    "plt.xticks(fontsize=8)\n",
    "# Set the minimum value of the y-axis to 1000\n",
    "plt.ylim(bottom=1000)\n",
    "\n",
    "# Add the values as text above the bars\n",
    "for i, v in enumerate(makespans):\n",
    "    plt.text(i, v + 1, str(v), ha='center')\n",
    "\n",
    "plt.show()\n"
   ]
  },
  {
   "attachments": {},
   "cell_type": "markdown",
   "id": "0499fd41",
   "metadata": {},
   "source": [
    "### **Sur les instances du premier Benchmark de Taillard**\n",
    "Dans cette section, nous allons tester l'effet des différentes initalisations :\n",
    "- Aléatoire.\n",
    "- NEH.\n",
    "- CDS.\n",
    "\n",
    "Sur la performance de la recherche Tabou avec les **10 instances** du **premier Benchmark de Taillard**, en calculant la déviation par rapport à la meilleure solution trouvée par Taillard.\n",
    "\n",
    "Nous avons commencé par tester l'effet des paramètres initiaux sur la performance de la recherche taboue, y compris : \n",
    "- Le nombre d'itérations.\n",
    "- La taille de la liste tabou.\n",
    "- La taille de voisinage."
   ]
  },
  {
   "attachments": {},
   "cell_type": "markdown",
   "id": "f810be0e",
   "metadata": {},
   "source": [
    "### Nombre d'itérations & déviation :\n",
    "Avec :\n",
    "- Taille de la liste taboue = 10\n",
    "- Taille du voisinage = 10\n",
    "- Initialisation : CDS"
   ]
  },
  {
   "cell_type": "code",
   "execution_count": 22,
   "id": "86e2c12f",
   "metadata": {},
   "outputs": [
    {
     "data": {
      "image/png": "[encoded data removed]",
      "text/plain": [
       "<Figure size 640x480 with 1 Axes>"
      ]
     },
     "metadata": {},
     "output_type": "display_data"
    }
   ],
   "source": [
    "\n",
    "tabu_size=10\n",
    "neighbors_size=10\n",
    "processing_times = np.array(taillard[0][\"P\"]).transpose()\n",
    "upper_bound = taillard[0][\"ub\"]\n",
    "init_schedule,init_obj=heuristique_CDS(processing_times)\n",
    "iter=[]\n",
    "dev=[]\n",
    "\n",
    "for max_iter in range(100,1000,100):\n",
    "    iter.append(max_iter)\n",
    "    makespan_ts_cds = compute_makespan(tabu_search(init_schedule, processing_times,neighbors_size, max_iter, tabu_size),processing_times)\n",
    "    dev.append(100*(makespan_ts_cds-upper_bound)/upper_bound)\n",
    "\n",
    "# Create a figure and axis object\n",
    "fig, ax = plt.subplots()\n",
    "\n",
    "# Plot the data\n",
    "ax.plot(iter, dev)\n",
    "\n",
    "# Add axis labels and a title\n",
    "ax.set_xlabel('Nombre ditérations')\n",
    "ax.set_ylabel('Déviation (%)')\n",
    "ax.set_title('Variation de la déviation trouvée par TS en fonction du nombre ditérations')\n",
    "\n",
    "# Display the graph\n",
    "plt.show()"
   ]
  },
  {
   "attachments": {},
   "cell_type": "markdown",
   "id": "3fd5d968",
   "metadata": {},
   "source": [
    "**Interprétaion :** il est clair que l'effet du nombre d'itérations n'affecte pas vraiment le résultat obtenu, d'après la variance de la déviation du graphe précédent, et le fait que chaque exécution donne un résultat différent (grace au caratère aléatoire des perturbations utilisées de la méthode) avec une petite variance voire négligeable. "
   ]
  },
  {
   "attachments": {},
   "cell_type": "markdown",
   "id": "5e60ed29",
   "metadata": {},
   "source": [
    "### Effet de la taille de la liste Tabou\n",
    "Avec : \n",
    "- Nombre d'itérations = 1000\n",
    "- Taille du voisinage = 10\n",
    "- Initialisation : CDS"
   ]
  },
  {
   "cell_type": "code",
   "execution_count": 30,
   "id": "b5c1cd64",
   "metadata": {},
   "outputs": [
    {
     "data": {
      "image/png": "[encoded data removed]",
      "text/plain": [
       "<Figure size 640x480 with 1 Axes>"
      ]
     },
     "metadata": {},
     "output_type": "display_data"
    }
   ],
   "source": [
    "\n",
    "tabu_size=0\n",
    "max_iter=500\n",
    "neighbors_size=10\n",
    "processing_times = np.array(taillard[0][\"P\"]).transpose()\n",
    "upper_bound = taillard[0][\"ub\"]\n",
    "init_schedule,init_obj=heuristique_CDS(processing_times)\n",
    "size=[]\n",
    "dev=[]\n",
    "\n",
    "for tabu_size in range(0,500,10):\n",
    "    size.append(tabu_size)\n",
    "    makespan_ts_cds = compute_makespan(tabu_search(init_schedule, processing_times,neighbors_size, max_iter, tabu_size),processing_times)\n",
    "    dev.append(100*(makespan_ts_cds-upper_bound)/upper_bound)\n",
    "\n",
    "# Create a figure and axis object\n",
    "fig, ax = plt.subplots()\n",
    "\n",
    "# Plot the data\n",
    "ax.plot(size, dev)\n",
    "\n",
    "# Add axis labels and a title\n",
    "ax.set_xlabel('Taille de la liste taboue')\n",
    "ax.set_ylabel('Déviation (%)')\n",
    "ax.set_title('Variation de la déviation trouvée par TS en fonction de la taille de la liste tabou')\n",
    "\n",
    "# Display the graph\n",
    "plt.show()"
   ]
  },
  {
   "attachments": {},
   "cell_type": "markdown",
   "id": "27e06f04",
   "metadata": {},
   "source": [
    "### Effet de la taille du voisinage \n",
    "Avec : \n",
    "- Nombre d'itérations = 500\n",
    "- Taille e la liste Taboue = 10\n",
    "- Initialisation : CDS"
   ]
  },
  {
   "cell_type": "code",
   "execution_count": 34,
   "id": "869f5815",
   "metadata": {},
   "outputs": [
    {
     "data": {
      "image/png": "[encoded data removed]",
      "text/plain": [
       "<Figure size 640x480 with 1 Axes>"
      ]
     },
     "metadata": {},
     "output_type": "display_data"
    }
   ],
   "source": [
    "\n",
    "tabu_size=10\n",
    "max_iter=500\n",
    "neighbors_size=10\n",
    "processing_times = np.array(taillard[0][\"P\"]).transpose()\n",
    "upper_bound = taillard[0][\"ub\"]\n",
    "init_schedule,init_obj=heuristique_CDS(processing_times)\n",
    "neighb=[]\n",
    "dev=[]\n",
    "\n",
    "for neighbors_size in range(10,100,10):\n",
    "    neighb.append(neighbors_size)\n",
    "    makespan_ts_cds = compute_makespan(tabu_search(init_schedule, processing_times,neighbors_size, max_iter, tabu_size),processing_times)\n",
    "    dev.append(100*(makespan_ts_cds-upper_bound)/upper_bound)\n",
    "\n",
    "# Create a figure and axis object\n",
    "fig, ax = plt.subplots()\n",
    "\n",
    "# Plot the data\n",
    "ax.plot(neighb, dev)\n",
    "\n",
    "# Add axis labels and a title\n",
    "ax.set_xlabel('Taille du voisinage')\n",
    "ax.set_ylabel('Déviation (%)')\n",
    "ax.set_title('Variation de la déviation trouvée par TS en fonction de la taille du voisinage')\n",
    "\n",
    "# Display the graph\n",
    "plt.show()"
   ]
  },
  {
   "attachments": {},
   "cell_type": "markdown",
   "id": "ffdb8fdc",
   "metadata": {},
   "source": [
    "### Effet de la méthode d'initalisation \n",
    "Avec :\n",
    "- Nombre d'itérations = 500\n",
    "- Taille du voisinage = 50\n",
    "- Taille de la liste tabou = 50"
   ]
  },
  {
   "cell_type": "code",
   "execution_count": 14,
   "id": "d5d916a3",
   "metadata": {},
   "outputs": [],
   "source": [
    "f =  open(\"../TP02-Heuristiques/data/Taillard.pkl\", \"rb\")\n",
    "taillard = pickle.load(f)\n",
    "i=0\n",
    "max_iter=500\n",
    "tabu_size=50\n",
    "neighbors_size=50\n",
    "dev_rand=[]\n",
    "dev_Ham=[]\n",
    "dev_NEH=[]\n",
    "dev_CDS=[]\n",
    "dev_rand_ts=[]\n",
    "dev_ham_ts=[]\n",
    "dev_neh_ts=[]\n",
    "dev_cds_ts=[]\n",
    "times_ts=[]\n",
    "instances=list(range(1,11))\n",
    "for i in range(10):\n",
    "    processing_times = np.array(taillard[i][\"P\"]).transpose()\n",
    "    upper_bound = taillard[i][\"ub\"]\n",
    "    schedule_rand = list(range(20))\n",
    "    random.shuffle(schedule_rand)\n",
    "    makespan_rand=compute_makespan(schedule_rand,processing_times)\n",
    "    makespan_ts_rand=compute_makespan(tabu_search(schedule_rand, processing_times,neighbors_size=20, max_iter=5000, tabu_size=100),processing_times)\n",
    "    schedule_neh,makespan_neh = heuristique_NEH(processing_times)\n",
    "    makespan_ts_neh = compute_makespan(tabu_search(schedule_neh, processing_times,neighbors_size=20, max_iter=5000, tabu_size=100),processing_times)\n",
    "    start_time = time.time() \n",
    "    schedule_cds,makespan_cds = heuristique_CDS(processing_times)\n",
    "    makespan_ts_cds = compute_makespan(tabu_search(schedule_cds, processing_times,neighbors_size=20, max_iter=5000, tabu_size=100),processing_times)\n",
    "    end_time = time.time() \n",
    "    elapsed_time = end_time - start_time\n",
    "    times_ts.append(elapsed_time)\n",
    "    dev_rand.append(100*(makespan_rand-upper_bound)/upper_bound)\n",
    "    dev_CDS.append(100*(makespan_cds-upper_bound)/upper_bound)\n",
    "    dev_NEH.append(100*(makespan_neh-upper_bound)/upper_bound)\n",
    "    dev_rand_ts.append(100*(makespan_ts_rand-upper_bound)/upper_bound)\n",
    "    dev_cds_ts.append(100*(makespan_ts_cds-upper_bound)/upper_bound)\n",
    "    dev_neh_ts.append(100*(makespan_ts_neh-upper_bound)/upper_bound)"
   ]
  },
  {
   "cell_type": "code",
   "execution_count": 65,
   "id": "292d8d27",
   "metadata": {},
   "outputs": [
    {
     "data": {
      "text/html": [
       "        <script type=\"text/javascript\">\n",
       "        window.PlotlyConfig = {MathJaxConfig: 'local'};\n",
       "        if (window.MathJax && window.MathJax.Hub && window.MathJax.Hub.Config) {window.MathJax.Hub.Config({SVG: {font: \"STIX-Web\"}});}\n",
       "        if (typeof require !== 'undefined') {\n",
       "        require.undef(\"plotly\");\n",
       "        requirejs.config({\n",
       "            paths: {\n",
       "                'plotly': ['https://cdn.plot.ly/plotly-2.12.1.min']\n",
       "            }\n",
       "        });\n",
       "        require(['plotly'], function(Plotly) {\n",
       "            window._Plotly = Plotly;\n",
       "        });\n",
       "        }\n",
       "        </script>\n",
       "        "
      ]
     },
     "metadata": {},
     "output_type": "display_data"
    },
    {
     "data": {
      "application/vnd.plotly.v1+json": {
       "config": {
        "plotlyServerURL": "https://plot.ly"
       },
       "data": [
        {
         "marker": {
          "color": "#176ab4"
         },
         "name": "Rand",
         "type": "bar",
         "x": [
          1,
          2,
          3,
          4,
          5,
          6,
          7,
          8,
          9,
          10
         ],
         "y": [
          25.665101721439747,
          18.24871228844739,
          40.24051803885291,
          33.101314771848415,
          21.521035598705502,
          20.753138075313807,
          15.738498789346247,
          25.538971807628524,
          31.54471544715447,
          34.47653429602888
         ]
        },
        {
         "marker": {
          "color": "#4b9cd3"
         },
         "name": "Rand+TS",
         "type": "bar",
         "x": [
          1,
          2,
          3,
          4,
          5,
          6,
          7,
          8,
          9,
          10
         ],
         "y": [
          0,
          0.515084621044886,
          0.6475485661424607,
          0.5413766434648105,
          0.5663430420711975,
          1.2552301255230125,
          0.9685230024213075,
          0,
          1.1382113821138211,
          0
         ]
        },
        {
         "marker": {
          "color": "#6c3483"
         },
         "name": "CDS",
         "type": "bar",
         "x": [
          1,
          2,
          3,
          4,
          5,
          6,
          7,
          8,
          9,
          10
         ],
         "y": [
          8.763693270735525,
          4.7829286239882265,
          15.541165587419057,
          9.667440061871616,
          7.038834951456311,
          9.790794979079498,
          12.429378531073446,
          11.19402985074627,
          10.56910569105691,
          5.054151624548736
         ]
        },
        {
         "marker": {
          "color": "#9b59b6"
         },
         "name": "CDS+ts",
         "type": "bar",
         "x": [
          1,
          2,
          3,
          4,
          5,
          6,
          7,
          8,
          9,
          10
         ],
         "y": [
          1.0172143974960877,
          0,
          0.7400555041628123,
          0.46403712296983757,
          0.5663430420711975,
          1.00418410041841,
          0.8071025020177561,
          0,
          0,
          0
         ]
        },
        {
         "marker": {
          "color": "#6b9c34"
         },
         "name": "NEH",
         "type": "bar",
         "x": [
          1,
          2,
          3,
          4,
          5,
          6,
          7,
          8,
          9,
          10
         ],
         "y": [
          0.6259780907668232,
          0.44150110375275936,
          7.215541165587419,
          2.474864655839134,
          5.58252427184466,
          2.761506276150628,
          3.1476997578692494,
          1.4096185737976783,
          4.959349593495935,
          3.88086642599278
         ]
        },
        {
         "marker": {
          "color": "#8cc63f"
         },
         "name": "NEH+ts",
         "type": "bar",
         "x": [
          1,
          2,
          3,
          4,
          5,
          6,
          7,
          8,
          9,
          10
         ],
         "y": [
          0.6259780907668232,
          0.07358351729212656,
          0.18501387604070307,
          0,
          0.6472491909385114,
          0,
          0.9685230024213075,
          0,
          1.3821138211382114,
          0
         ]
        }
       ],
       "layout": {
        "barmode": "group",
        "template": {
         "data": {
          "bar": [
           {
            "error_x": {
             "color": "#2a3f5f"
            },
            "error_y": {
             "color": "#2a3f5f"
            },
            "marker": {
             "line": {
              "color": "#E5ECF6",
              "width": 0.5
             },
             "pattern": {
              "fillmode": "overlay",
              "size": 10,
              "solidity": 0.2
             }
            },
            "type": "bar"
           }
          ],
          "barpolar": [
           {
            "marker": {
             "line": {
              "color": "#E5ECF6",
              "width": 0.5
             },
             "pattern": {
              "fillmode": "overlay",
              "size": 10,
              "solidity": 0.2
             }
            },
            "type": "barpolar"
           }
          ],
          "carpet": [
           {
            "aaxis": {
             "endlinecolor": "#2a3f5f",
             "gridcolor": "white",
             "linecolor": "white",
             "minorgridcolor": "white",
             "startlinecolor": "#2a3f5f"
            },
            "baxis": {
             "endlinecolor": "#2a3f5f",
             "gridcolor": "white",
             "linecolor": "white",
             "minorgridcolor": "white",
             "startlinecolor": "#2a3f5f"
            },
            "type": "carpet"
           }
          ],
          "choropleth": [
           {
            "colorbar": {
             "outlinewidth": 0,
             "ticks": ""
            },
            "type": "choropleth"
           }
          ],
          "contour": [
           {
            "colorbar": {
             "outlinewidth": 0,
             "ticks": ""
            },
            "colorscale": [
             [
              0,
              "#0d0887"
             ],
             [
              0.1111111111111111,
              "#46039f"
             ],
             [
              0.2222222222222222,
              "#7201a8"
             ],
             [
              0.3333333333333333,
              "#9c179e"
             ],
             [
              0.4444444444444444,
              "#bd3786"
             ],
             [
              0.5555555555555556,
              "#d8576b"
             ],
             [
              0.6666666666666666,
              "#ed7953"
             ],
             [
              0.7777777777777778,
              "#fb9f3a"
             ],
             [
              0.8888888888888888,
              "#fdca26"
             ],
             [
              1,
              "#f0f921"
             ]
            ],
            "type": "contour"
           }
          ],
          "contourcarpet": [
           {
            "colorbar": {
             "outlinewidth": 0,
             "ticks": ""
            },
            "type": "contourcarpet"
           }
          ],
          "heatmap": [
           {
            "colorbar": {
             "outlinewidth": 0,
             "ticks": ""
            },
            "colorscale": [
             [
              0,
              "#0d0887"
             ],
             [
              0.1111111111111111,
              "#46039f"
             ],
             [
              0.2222222222222222,
              "#7201a8"
             ],
             [
              0.3333333333333333,
              "#9c179e"
             ],
             [
              0.4444444444444444,
              "#bd3786"
             ],
             [
              0.5555555555555556,
              "#d8576b"
             ],
             [
              0.6666666666666666,
              "#ed7953"
             ],
             [
              0.7777777777777778,
              "#fb9f3a"
             ],
             [
              0.8888888888888888,
              "#fdca26"
             ],
             [
              1,
              "#f0f921"
             ]
            ],
            "type": "heatmap"
           }
          ],
          "heatmapgl": [
           {
            "colorbar": {
             "outlinewidth": 0,
             "ticks": ""
            },
            "colorscale": [
             [
              0,
              "#0d0887"
             ],
             [
              0.1111111111111111,
              "#46039f"
             ],
             [
              0.2222222222222222,
              "#7201a8"
             ],
             [
              0.3333333333333333,
              "#9c179e"
             ],
             [
              0.4444444444444444,
              "#bd3786"
             ],
             [
              0.5555555555555556,
              "#d8576b"
             ],
             [
              0.6666666666666666,
              "#ed7953"
             ],
             [
              0.7777777777777778,
              "#fb9f3a"
             ],
             [
              0.8888888888888888,
              "#fdca26"
             ],
             [
              1,
              "#f0f921"
             ]
            ],
            "type": "heatmapgl"
           }
          ],
          "histogram": [
           {
            "marker": {
             "pattern": {
              "fillmode": "overlay",
              "size": 10,
              "solidity": 0.2
             }
            },
            "type": "histogram"
           }
          ],
          "histogram2d": [
           {
            "colorbar": {
             "outlinewidth": 0,
             "ticks": ""
            },
            "colorscale": [
             [
              0,
              "#0d0887"
             ],
             [
              0.1111111111111111,
              "#46039f"
             ],
             [
              0.2222222222222222,
              "#7201a8"
             ],
             [
              0.3333333333333333,
              "#9c179e"
             ],
             [
              0.4444444444444444,
              "#bd3786"
             ],
             [
              0.5555555555555556,
              "#d8576b"
             ],
             [
              0.6666666666666666,
              "#ed7953"
             ],
             [
              0.7777777777777778,
              "#fb9f3a"
             ],
             [
              0.8888888888888888,
              "#fdca26"
             ],
             [
              1,
              "#f0f921"
             ]
            ],
            "type": "histogram2d"
           }
          ],
          "histogram2dcontour": [
           {
            "colorbar": {
             "outlinewidth": 0,
             "ticks": ""
            },
            "colorscale": [
             [
              0,
              "#0d0887"
             ],
             [
              0.1111111111111111,
              "#46039f"
             ],
             [
              0.2222222222222222,
              "#7201a8"
             ],
             [
              0.3333333333333333,
              "#9c179e"
             ],
             [
              0.4444444444444444,
              "#bd3786"
             ],
             [
              0.5555555555555556,
              "#d8576b"
             ],
             [
              0.6666666666666666,
              "#ed7953"
             ],
             [
              0.7777777777777778,
              "#fb9f3a"
             ],
             [
              0.8888888888888888,
              "#fdca26"
             ],
             [
              1,
              "#f0f921"
             ]
            ],
            "type": "histogram2dcontour"
           }
          ],
          "mesh3d": [
           {
            "colorbar": {
             "outlinewidth": 0,
             "ticks": ""
            },
            "type": "mesh3d"
           }
          ],
          "parcoords": [
           {
            "line": {
             "colorbar": {
              "outlinewidth": 0,
              "ticks": ""
             }
            },
            "type": "parcoords"
           }
          ],
          "pie": [
           {
            "automargin": true,
            "type": "pie"
           }
          ],
          "scatter": [
           {
            "fillpattern": {
             "fillmode": "overlay",
             "size": 10,
             "solidity": 0.2
            },
            "type": "scatter"
           }
          ],
          "scatter3d": [
           {
            "line": {
             "colorbar": {
              "outlinewidth": 0,
              "ticks": ""
             }
            },
            "marker": {
             "colorbar": {
              "outlinewidth": 0,
              "ticks": ""
             }
            },
            "type": "scatter3d"
           }
          ],
          "scattercarpet": [
           {
            "marker": {
             "colorbar": {
              "outlinewidth": 0,
              "ticks": ""
             }
            },
            "type": "scattercarpet"
           }
          ],
          "scattergeo": [
           {
            "marker": {
             "colorbar": {
              "outlinewidth": 0,
              "ticks": ""
             }
            },
            "type": "scattergeo"
           }
          ],
          "scattergl": [
           {
            "marker": {
             "colorbar": {
              "outlinewidth": 0,
              "ticks": ""
             }
            },
            "type": "scattergl"
           }
          ],
          "scattermapbox": [
           {
            "marker": {
             "colorbar": {
              "outlinewidth": 0,
              "ticks": ""
             }
            },
            "type": "scattermapbox"
           }
          ],
          "scatterpolar": [
           {
            "marker": {
             "colorbar": {
              "outlinewidth": 0,
              "ticks": ""
             }
            },
            "type": "scatterpolar"
           }
          ],
          "scatterpolargl": [
           {
            "marker": {
             "colorbar": {
              "outlinewidth": 0,
              "ticks": ""
             }
            },
            "type": "scatterpolargl"
           }
          ],
          "scatterternary": [
           {
            "marker": {
             "colorbar": {
              "outlinewidth": 0,
              "ticks": ""
             }
            },
            "type": "scatterternary"
           }
          ],
          "surface": [
           {
            "colorbar": {
             "outlinewidth": 0,
             "ticks": ""
            },
            "colorscale": [
             [
              0,
              "#0d0887"
             ],
             [
              0.1111111111111111,
              "#46039f"
             ],
             [
              0.2222222222222222,
              "#7201a8"
             ],
             [
              0.3333333333333333,
              "#9c179e"
             ],
             [
              0.4444444444444444,
              "#bd3786"
             ],
             [
              0.5555555555555556,
              "#d8576b"
             ],
             [
              0.6666666666666666,
              "#ed7953"
             ],
             [
              0.7777777777777778,
              "#fb9f3a"
             ],
             [
              0.8888888888888888,
              "#fdca26"
             ],
             [
              1,
              "#f0f921"
             ]
            ],
            "type": "surface"
           }
          ],
          "table": [
           {
            "cells": {
             "fill": {
              "color": "#EBF0F8"
             },
             "line": {
              "color": "white"
             }
            },
            "header": {
             "fill": {
              "color": "#C8D4E3"
             },
             "line": {
              "color": "white"
             }
            },
            "type": "table"
           }
          ]
         },
         "layout": {
          "annotationdefaults": {
           "arrowcolor": "#2a3f5f",
           "arrowhead": 0,
           "arrowwidth": 1
          },
          "autotypenumbers": "strict",
          "coloraxis": {
           "colorbar": {
            "outlinewidth": 0,
            "ticks": ""
           }
          },
          "colorscale": {
           "diverging": [
            [
             0,
             "#8e0152"
            ],
            [
             0.1,
             "#c51b7d"
            ],
            [
             0.2,
             "#de77ae"
            ],
            [
             0.3,
             "#f1b6da"
            ],
            [
             0.4,
             "#fde0ef"
            ],
            [
             0.5,
             "#f7f7f7"
            ],
            [
             0.6,
             "#e6f5d0"
            ],
            [
             0.7,
             "#b8e186"
            ],
            [
             0.8,
             "#7fbc41"
            ],
            [
             0.9,
             "#4d9221"
            ],
            [
             1,
             "#276419"
            ]
           ],
           "sequential": [
            [
             0,
             "#0d0887"
            ],
            [
             0.1111111111111111,
             "#46039f"
            ],
            [
             0.2222222222222222,
             "#7201a8"
            ],
            [
             0.3333333333333333,
             "#9c179e"
            ],
            [
             0.4444444444444444,
             "#bd3786"
            ],
            [
             0.5555555555555556,
             "#d8576b"
            ],
            [
             0.6666666666666666,
             "#ed7953"
            ],
            [
             0.7777777777777778,
             "#fb9f3a"
            ],
            [
             0.8888888888888888,
             "#fdca26"
            ],
            [
             1,
             "#f0f921"
            ]
           ],
           "sequentialminus": [
            [
             0,
             "#0d0887"
            ],
            [
             0.1111111111111111,
             "#46039f"
            ],
            [
             0.2222222222222222,
             "#7201a8"
            ],
            [
             0.3333333333333333,
             "#9c179e"
            ],
            [
             0.4444444444444444,
             "#bd3786"
            ],
            [
             0.5555555555555556,
             "#d8576b"
            ],
            [
             0.6666666666666666,
             "#ed7953"
            ],
            [
             0.7777777777777778,
             "#fb9f3a"
            ],
            [
             0.8888888888888888,
             "#fdca26"
            ],
            [
             1,
             "#f0f921"
            ]
           ]
          },
          "colorway": [
           "#636efa",
           "#EF553B",
           "#00cc96",
           "#ab63fa",
           "#FFA15A",
           "#19d3f3",
           "#FF6692",
           "#B6E880",
           "#FF97FF",
           "#FECB52"
          ],
          "font": {
           "color": "#2a3f5f"
          },
          "geo": {
           "bgcolor": "white",
           "lakecolor": "white",
           "landcolor": "#E5ECF6",
           "showlakes": true,
           "showland": true,
           "subunitcolor": "white"
          },
          "hoverlabel": {
           "align": "left"
          },
          "hovermode": "closest",
          "mapbox": {
           "style": "light"
          },
          "paper_bgcolor": "white",
          "plot_bgcolor": "#E5ECF6",
          "polar": {
           "angularaxis": {
            "gridcolor": "white",
            "linecolor": "white",
            "ticks": ""
           },
           "bgcolor": "#E5ECF6",
           "radialaxis": {
            "gridcolor": "white",
            "linecolor": "white",
            "ticks": ""
           }
          },
          "scene": {
           "xaxis": {
            "backgroundcolor": "#E5ECF6",
            "gridcolor": "white",
            "gridwidth": 2,
            "linecolor": "white",
            "showbackground": true,
            "ticks": "",
            "zerolinecolor": "white"
           },
           "yaxis": {
            "backgroundcolor": "#E5ECF6",
            "gridcolor": "white",
            "gridwidth": 2,
            "linecolor": "white",
            "showbackground": true,
            "ticks": "",
            "zerolinecolor": "white"
           },
           "zaxis": {
            "backgroundcolor": "#E5ECF6",
            "gridcolor": "white",
            "gridwidth": 2,
            "linecolor": "white",
            "showbackground": true,
            "ticks": "",
            "zerolinecolor": "white"
           }
          },
          "shapedefaults": {
           "line": {
            "color": "#2a3f5f"
           }
          },
          "ternary": {
           "aaxis": {
            "gridcolor": "white",
            "linecolor": "white",
            "ticks": ""
           },
           "baxis": {
            "gridcolor": "white",
            "linecolor": "white",
            "ticks": ""
           },
           "bgcolor": "#E5ECF6",
           "caxis": {
            "gridcolor": "white",
            "linecolor": "white",
            "ticks": ""
           }
          },
          "title": {
           "x": 0.05
          },
          "xaxis": {
           "automargin": true,
           "gridcolor": "white",
           "linecolor": "white",
           "ticks": "",
           "title": {
            "standoff": 15
           },
           "zerolinecolor": "white",
           "zerolinewidth": 2
          },
          "yaxis": {
           "automargin": true,
           "gridcolor": "white",
           "linecolor": "white",
           "ticks": "",
           "title": {
            "standoff": 15
           },
           "zerolinecolor": "white",
           "zerolinewidth": 2
          }
         }
        },
        "title": {
         "text": "Déviations obtenues par la recherche tabou avec différentes initialisations heuristiques"
        },
        "xaxis": {
         "tickangle": -45,
         "title": {
          "text": "Instance"
         }
        },
        "yaxis": {
         "title": {
          "text": "Deviation (%)"
         }
        }
       }
      },
      "text/html": [
       "<div>                            <div id=\"16d5c3a7-1485-46a8-9c85-ec271670b5d1\" class=\"plotly-graph-div\" style=\"height:525px; width:100%;\"></div>            <script type=\"text/javascript\">                require([\"plotly\"], function(Plotly) {                    window.PLOTLYENV=window.PLOTLYENV || {};                                    if (document.getElementById(\"16d5c3a7-1485-46a8-9c85-ec271670b5d1\")) {                    Plotly.newPlot(                        \"16d5c3a7-1485-46a8-9c85-ec271670b5d1\",                        [{\"marker\":{\"color\":\"#176ab4\"},\"name\":\"Rand\",\"x\":[1,2,3,4,5,6,7,8,9,10],\"y\":[25.665101721439747,18.24871228844739,40.24051803885291,33.101314771848415,21.521035598705502,20.753138075313807,15.738498789346247,25.538971807628524,31.54471544715447,34.47653429602888],\"type\":\"bar\"},{\"marker\":{\"color\":\"#4b9cd3\"},\"name\":\"Rand+TS\",\"x\":[1,2,3,4,5,6,7,8,9,10],\"y\":[0.0,0.515084621044886,0.6475485661424607,0.5413766434648105,0.5663430420711975,1.2552301255230125,0.9685230024213075,0.0,1.1382113821138211,0.0],\"type\":\"bar\"},{\"marker\":{\"color\":\"#6c3483\"},\"name\":\"CDS\",\"x\":[1,2,3,4,5,6,7,8,9,10],\"y\":[8.763693270735525,4.7829286239882265,15.541165587419057,9.667440061871616,7.038834951456311,9.790794979079498,12.429378531073446,11.19402985074627,10.56910569105691,5.054151624548736],\"type\":\"bar\"},{\"marker\":{\"color\":\"#9b59b6\"},\"name\":\"CDS+ts\",\"x\":[1,2,3,4,5,6,7,8,9,10],\"y\":[1.0172143974960877,0.0,0.7400555041628123,0.46403712296983757,0.5663430420711975,1.00418410041841,0.8071025020177561,0.0,0.0,0.0],\"type\":\"bar\"},{\"marker\":{\"color\":\"#6b9c34\"},\"name\":\"NEH\",\"x\":[1,2,3,4,5,6,7,8,9,10],\"y\":[0.6259780907668232,0.44150110375275936,7.215541165587419,2.474864655839134,5.58252427184466,2.761506276150628,3.1476997578692494,1.4096185737976783,4.959349593495935,3.88086642599278],\"type\":\"bar\"},{\"marker\":{\"color\":\"#8cc63f\"},\"name\":\"NEH+ts\",\"x\":[1,2,3,4,5,6,7,8,9,10],\"y\":[0.6259780907668232,0.07358351729212656,0.18501387604070307,0.0,0.6472491909385114,0.0,0.9685230024213075,0.0,1.3821138211382114,0.0],\"type\":\"bar\"}],                        {\"template\":{\"data\":{\"histogram2dcontour\":[{\"type\":\"histogram2dcontour\",\"colorbar\":{\"outlinewidth\":0,\"ticks\":\"\"},\"colorscale\":[[0.0,\"#0d0887\"],[0.1111111111111111,\"#46039f\"],[0.2222222222222222,\"#7201a8\"],[0.3333333333333333,\"#9c179e\"],[0.4444444444444444,\"#bd3786\"],[0.5555555555555556,\"#d8576b\"],[0.6666666666666666,\"#ed7953\"],[0.7777777777777778,\"#fb9f3a\"],[0.8888888888888888,\"#fdca26\"],[1.0,\"#f0f921\"]]}],\"choropleth\":[{\"type\":\"choropleth\",\"colorbar\":{\"outlinewidth\":0,\"ticks\":\"\"}}],\"histogram2d\":[{\"type\":\"histogram2d\",\"colorbar\":{\"outlinewidth\":0,\"ticks\":\"\"},\"colorscale\":[[0.0,\"#0d0887\"],[0.1111111111111111,\"#46039f\"],[0.2222222222222222,\"#7201a8\"],[0.3333333333333333,\"#9c179e\"],[0.4444444444444444,\"#bd3786\"],[0.5555555555555556,\"#d8576b\"],[0.6666666666666666,\"#ed7953\"],[0.7777777777777778,\"#fb9f3a\"],[0.8888888888888888,\"#fdca26\"],[1.0,\"#f0f921\"]]}],\"heatmap\":[{\"type\":\"heatmap\",\"colorbar\":{\"outlinewidth\":0,\"ticks\":\"\"},\"colorscale\":[[0.0,\"#0d0887\"],[0.1111111111111111,\"#46039f\"],[0.2222222222222222,\"#7201a8\"],[0.3333333333333333,\"#9c179e\"],[0.4444444444444444,\"#bd3786\"],[0.5555555555555556,\"#d8576b\"],[0.6666666666666666,\"#ed7953\"],[0.7777777777777778,\"#fb9f3a\"],[0.8888888888888888,\"#fdca26\"],[1.0,\"#f0f921\"]]}],\"heatmapgl\":[{\"type\":\"heatmapgl\",\"colorbar\":{\"outlinewidth\":0,\"ticks\":\"\"},\"colorscale\":[[0.0,\"#0d0887\"],[0.1111111111111111,\"#46039f\"],[0.2222222222222222,\"#7201a8\"],[0.3333333333333333,\"#9c179e\"],[0.4444444444444444,\"#bd3786\"],[0.5555555555555556,\"#d8576b\"],[0.6666666666666666,\"#ed7953\"],[0.7777777777777778,\"#fb9f3a\"],[0.8888888888888888,\"#fdca26\"],[1.0,\"#f0f921\"]]}],\"contourcarpet\":[{\"type\":\"contourcarpet\",\"colorbar\":{\"outlinewidth\":0,\"ticks\":\"\"}}],\"contour\":[{\"type\":\"contour\",\"colorbar\":{\"outlinewidth\":0,\"ticks\":\"\"},\"colorscale\":[[0.0,\"#0d0887\"],[0.1111111111111111,\"#46039f\"],[0.2222222222222222,\"#7201a8\"],[0.3333333333333333,\"#9c179e\"],[0.4444444444444444,\"#bd3786\"],[0.5555555555555556,\"#d8576b\"],[0.6666666666666666,\"#ed7953\"],[0.7777777777777778,\"#fb9f3a\"],[0.8888888888888888,\"#fdca26\"],[1.0,\"#f0f921\"]]}],\"surface\":[{\"type\":\"surface\",\"colorbar\":{\"outlinewidth\":0,\"ticks\":\"\"},\"colorscale\":[[0.0,\"#0d0887\"],[0.1111111111111111,\"#46039f\"],[0.2222222222222222,\"#7201a8\"],[0.3333333333333333,\"#9c179e\"],[0.4444444444444444,\"#bd3786\"],[0.5555555555555556,\"#d8576b\"],[0.6666666666666666,\"#ed7953\"],[0.7777777777777778,\"#fb9f3a\"],[0.8888888888888888,\"#fdca26\"],[1.0,\"#f0f921\"]]}],\"mesh3d\":[{\"type\":\"mesh3d\",\"colorbar\":{\"outlinewidth\":0,\"ticks\":\"\"}}],\"scatter\":[{\"fillpattern\":{\"fillmode\":\"overlay\",\"size\":10,\"solidity\":0.2},\"type\":\"scatter\"}],\"parcoords\":[{\"type\":\"parcoords\",\"line\":{\"colorbar\":{\"outlinewidth\":0,\"ticks\":\"\"}}}],\"scatterpolargl\":[{\"type\":\"scatterpolargl\",\"marker\":{\"colorbar\":{\"outlinewidth\":0,\"ticks\":\"\"}}}],\"bar\":[{\"error_x\":{\"color\":\"#2a3f5f\"},\"error_y\":{\"color\":\"#2a3f5f\"},\"marker\":{\"line\":{\"color\":\"#E5ECF6\",\"width\":0.5},\"pattern\":{\"fillmode\":\"overlay\",\"size\":10,\"solidity\":0.2}},\"type\":\"bar\"}],\"scattergeo\":[{\"type\":\"scattergeo\",\"marker\":{\"colorbar\":{\"outlinewidth\":0,\"ticks\":\"\"}}}],\"scatterpolar\":[{\"type\":\"scatterpolar\",\"marker\":{\"colorbar\":{\"outlinewidth\":0,\"ticks\":\"\"}}}],\"histogram\":[{\"marker\":{\"pattern\":{\"fillmode\":\"overlay\",\"size\":10,\"solidity\":0.2}},\"type\":\"histogram\"}],\"scattergl\":[{\"type\":\"scattergl\",\"marker\":{\"colorbar\":{\"outlinewidth\":0,\"ticks\":\"\"}}}],\"scatter3d\":[{\"type\":\"scatter3d\",\"line\":{\"colorbar\":{\"outlinewidth\":0,\"ticks\":\"\"}},\"marker\":{\"colorbar\":{\"outlinewidth\":0,\"ticks\":\"\"}}}],\"scattermapbox\":[{\"type\":\"scattermapbox\",\"marker\":{\"colorbar\":{\"outlinewidth\":0,\"ticks\":\"\"}}}],\"scatterternary\":[{\"type\":\"scatterternary\",\"marker\":{\"colorbar\":{\"outlinewidth\":0,\"ticks\":\"\"}}}],\"scattercarpet\":[{\"type\":\"scattercarpet\",\"marker\":{\"colorbar\":{\"outlinewidth\":0,\"ticks\":\"\"}}}],\"carpet\":[{\"aaxis\":{\"endlinecolor\":\"#2a3f5f\",\"gridcolor\":\"white\",\"linecolor\":\"white\",\"minorgridcolor\":\"white\",\"startlinecolor\":\"#2a3f5f\"},\"baxis\":{\"endlinecolor\":\"#2a3f5f\",\"gridcolor\":\"white\",\"linecolor\":\"white\",\"minorgridcolor\":\"white\",\"startlinecolor\":\"#2a3f5f\"},\"type\":\"carpet\"}],\"table\":[{\"cells\":{\"fill\":{\"color\":\"#EBF0F8\"},\"line\":{\"color\":\"white\"}},\"header\":{\"fill\":{\"color\":\"#C8D4E3\"},\"line\":{\"color\":\"white\"}},\"type\":\"table\"}],\"barpolar\":[{\"marker\":{\"line\":{\"color\":\"#E5ECF6\",\"width\":0.5},\"pattern\":{\"fillmode\":\"overlay\",\"size\":10,\"solidity\":0.2}},\"type\":\"barpolar\"}],\"pie\":[{\"automargin\":true,\"type\":\"pie\"}]},\"layout\":{\"autotypenumbers\":\"strict\",\"colorway\":[\"#636efa\",\"#EF553B\",\"#00cc96\",\"#ab63fa\",\"#FFA15A\",\"#19d3f3\",\"#FF6692\",\"#B6E880\",\"#FF97FF\",\"#FECB52\"],\"font\":{\"color\":\"#2a3f5f\"},\"hovermode\":\"closest\",\"hoverlabel\":{\"align\":\"left\"},\"paper_bgcolor\":\"white\",\"plot_bgcolor\":\"#E5ECF6\",\"polar\":{\"bgcolor\":\"#E5ECF6\",\"angularaxis\":{\"gridcolor\":\"white\",\"linecolor\":\"white\",\"ticks\":\"\"},\"radialaxis\":{\"gridcolor\":\"white\",\"linecolor\":\"white\",\"ticks\":\"\"}},\"ternary\":{\"bgcolor\":\"#E5ECF6\",\"aaxis\":{\"gridcolor\":\"white\",\"linecolor\":\"white\",\"ticks\":\"\"},\"baxis\":{\"gridcolor\":\"white\",\"linecolor\":\"white\",\"ticks\":\"\"},\"caxis\":{\"gridcolor\":\"white\",\"linecolor\":\"white\",\"ticks\":\"\"}},\"coloraxis\":{\"colorbar\":{\"outlinewidth\":0,\"ticks\":\"\"}},\"colorscale\":{\"sequential\":[[0.0,\"#0d0887\"],[0.1111111111111111,\"#46039f\"],[0.2222222222222222,\"#7201a8\"],[0.3333333333333333,\"#9c179e\"],[0.4444444444444444,\"#bd3786\"],[0.5555555555555556,\"#d8576b\"],[0.6666666666666666,\"#ed7953\"],[0.7777777777777778,\"#fb9f3a\"],[0.8888888888888888,\"#fdca26\"],[1.0,\"#f0f921\"]],\"sequentialminus\":[[0.0,\"#0d0887\"],[0.1111111111111111,\"#46039f\"],[0.2222222222222222,\"#7201a8\"],[0.3333333333333333,\"#9c179e\"],[0.4444444444444444,\"#bd3786\"],[0.5555555555555556,\"#d8576b\"],[0.6666666666666666,\"#ed7953\"],[0.7777777777777778,\"#fb9f3a\"],[0.8888888888888888,\"#fdca26\"],[1.0,\"#f0f921\"]],\"diverging\":[[0,\"#8e0152\"],[0.1,\"#c51b7d\"],[0.2,\"#de77ae\"],[0.3,\"#f1b6da\"],[0.4,\"#fde0ef\"],[0.5,\"#f7f7f7\"],[0.6,\"#e6f5d0\"],[0.7,\"#b8e186\"],[0.8,\"#7fbc41\"],[0.9,\"#4d9221\"],[1,\"#276419\"]]},\"xaxis\":{\"gridcolor\":\"white\",\"linecolor\":\"white\",\"ticks\":\"\",\"title\":{\"standoff\":15},\"zerolinecolor\":\"white\",\"automargin\":true,\"zerolinewidth\":2},\"yaxis\":{\"gridcolor\":\"white\",\"linecolor\":\"white\",\"ticks\":\"\",\"title\":{\"standoff\":15},\"zerolinecolor\":\"white\",\"automargin\":true,\"zerolinewidth\":2},\"scene\":{\"xaxis\":{\"backgroundcolor\":\"#E5ECF6\",\"gridcolor\":\"white\",\"linecolor\":\"white\",\"showbackground\":true,\"ticks\":\"\",\"zerolinecolor\":\"white\",\"gridwidth\":2},\"yaxis\":{\"backgroundcolor\":\"#E5ECF6\",\"gridcolor\":\"white\",\"linecolor\":\"white\",\"showbackground\":true,\"ticks\":\"\",\"zerolinecolor\":\"white\",\"gridwidth\":2},\"zaxis\":{\"backgroundcolor\":\"#E5ECF6\",\"gridcolor\":\"white\",\"linecolor\":\"white\",\"showbackground\":true,\"ticks\":\"\",\"zerolinecolor\":\"white\",\"gridwidth\":2}},\"shapedefaults\":{\"line\":{\"color\":\"#2a3f5f\"}},\"annotationdefaults\":{\"arrowcolor\":\"#2a3f5f\",\"arrowhead\":0,\"arrowwidth\":1},\"geo\":{\"bgcolor\":\"white\",\"landcolor\":\"#E5ECF6\",\"subunitcolor\":\"white\",\"showland\":true,\"showlakes\":true,\"lakecolor\":\"white\"},\"title\":{\"x\":0.05},\"mapbox\":{\"style\":\"light\"}}},\"xaxis\":{\"tickangle\":-45,\"title\":{\"text\":\"Instance\"}},\"title\":{\"text\":\"D\\u00e9viations obtenues par la recherche tabou avec diff\\u00e9rentes initialisations heuristiques\"},\"barmode\":\"group\",\"yaxis\":{\"title\":{\"text\":\"Deviation (%)\"}}},                        {\"responsive\": true}                    ).then(function(){\n",
       "                            \n",
       "var gd = document.getElementById('16d5c3a7-1485-46a8-9c85-ec271670b5d1');\n",
       "var x = new MutationObserver(function (mutations, observer) {{\n",
       "        var display = window.getComputedStyle(gd).display;\n",
       "        if (!display || display === 'none') {{\n",
       "            console.log([gd, 'removed!']);\n",
       "            Plotly.purge(gd);\n",
       "            observer.disconnect();\n",
       "        }}\n",
       "}});\n",
       "\n",
       "// Listen for the removal of the full notebook cells\n",
       "var notebookContainer = gd.closest('#notebook-container');\n",
       "if (notebookContainer) {{\n",
       "    x.observe(notebookContainer, {childList: true});\n",
       "}}\n",
       "\n",
       "// Listen for the clearing of the current output cell\n",
       "var outputEl = gd.closest('.output');\n",
       "if (outputEl) {{\n",
       "    x.observe(outputEl, {childList: true});\n",
       "}}\n",
       "\n",
       "                        })                };                });            </script>        </div>"
      ]
     },
     "metadata": {},
     "output_type": "display_data"
    }
   ],
   "source": [
    "import plotly.graph_objects as go\n",
    "from plotly.offline import iplot, init_notebook_mode\n",
    "init_notebook_mode(connected=True)\n",
    "\n",
    "\n",
    "\n",
    "fig = go.Figure()\n",
    "fig.add_trace(go.Bar(\n",
    "    x=instances,\n",
    "    y=dev_rand,\n",
    "    name='Rand',\n",
    "    marker_color='#176ab4'\n",
    "))\n",
    "fig.add_trace(go.Bar(\n",
    "    x=instances,\n",
    "    y=dev_rand_ts,\n",
    "    name='Rand+TS',\n",
    "    marker_color='#4b9cd3'\n",
    "))\n",
    "fig.add_trace(go.Bar(\n",
    "    x=instances,\n",
    "    y=dev_CDS,\n",
    "    name='CDS',\n",
    "    marker_color='#6c3483'\n",
    "))\n",
    "fig.add_trace(go.Bar(\n",
    "    x=instances,\n",
    "    y=dev_cds_ts,\n",
    "    name='CDS+ts',\n",
    "    marker_color='#9b59b6'\n",
    "))\n",
    "fig.add_trace(go.Bar(\n",
    "    x=instances,\n",
    "    y=dev_NEH,\n",
    "    name='NEH',\n",
    "    marker_color='#6b9c34'\n",
    "))\n",
    "fig.add_trace(go.Bar(\n",
    "    x=instances,\n",
    "    y=dev_neh_ts,\n",
    "    name='NEH+ts',\n",
    "    marker_color='#8cc63f'\n",
    "))\n",
    "\n",
    "# Here we modify the tickangle of the xaxis, resulting in rotated labels.\n",
    "fig.update_layout(barmode='group', xaxis_tickangle=-45, xaxis_title =\"Instance\", yaxis_title=\"Deviation (%)\", title_text=\"Déviations obtenues par la recherche tabou avec différentes initialisations heuristiques\")\n",
    "fig.show()"
   ]
  },
  {
   "attachments": {},
   "cell_type": "markdown",
   "id": "6146c3c8",
   "metadata": {},
   "source": [
    "# **3. Recherche par voisinage : General Variable Neighborhood Search (GVNS)** <a class=\"anchor\" id=\"chapter3\"></a>\n",
    "https://sci-hub.ru/10.1007/978-3-319-03753-0_3"
   ]
  },
  {
   "attachments": {},
   "cell_type": "markdown",
   "id": "75451300",
   "metadata": {},
   "source": [
    "## **Implémentation** <a class=\"anchor\" id=\"section_3_1\"></a>"
   ]
  },
  {
   "attachments": {
    "image-2.png": {
     "image/png": "[encoded data removed]"
    },
    "image.png": {
     "image/png": "[encoded data removed]"
    }
   },
   "cell_type": "markdown",
   "id": "718df82a",
   "metadata": {},
   "source": [
    "### Pseudo code :\n",
    "Voici le pseudo-code de l'algorithme GVNS présenté dans l'article :\n",
    "\n",
    "![image.png](attachment:image-2.png)\n",
    "\n",
    "L'algorithme VND comprend les étapes suivantes :\n",
    "\n",
    "![image.png](attachment:image.png)\n",
    "\n",
    "L'étape de perturbation de l'algorithme GVNS peut être mise en œuvre à l'aide de diverses techniques, telles que les mouvements de permutation et d'insertion.\n",
    "\n",
    "**combined_destruction_construction :** cette fonction met en œuvre une variante de l'heuristique de construction pour le problème d'ordonnancement de l'atelier qui implique à la fois des étapes destructives et constructives. Elle détruit aléatoirement un sous-ensemble de travaux de la permutation courante pi, construit une permutation partielle pi_prime en supprimant les travaux détruits, puis construit une permutation complète pi_double_prime en insérant itérativement les travaux dont le délai de disponibilité est le plus court sur chaque machine de pi_prime. Les travaux détruits sont ensuite réinsérés aléatoirement dans pi_double_prime à la fin.\n",
    "\n",
    "**Local search :** effectuer toutes les permutations possibles entre les jobs et choisir la meilleure à chaque fois si elle améliore la solution courante."
   ]
  },
  {
   "cell_type": "code",
   "execution_count": 12,
   "id": "360bf167",
   "metadata": {},
   "outputs": [],
   "source": [
    "#utilities\n",
    "def combined_destruction_construction(pi, d, processing_times):\n",
    "    # Select a random subset of d jobs from the current permutation pi\n",
    "    pi_d = random.sample(pi, d)\n",
    "    \n",
    "    # Remove the selected jobs from pi to create a partial permutation pi'\n",
    "    pi_prime = [job for job in pi if job not in pi_d]\n",
    "    \n",
    "    # Initialize an empty permutation pi''\n",
    "    pi_double_prime = []\n",
    "    \n",
    "    # While pi'' is not a complete permutation\n",
    "    while len(pi_double_prime) != len(pi)-d:\n",
    "        # For each machine i\n",
    "        for i in range(processing_times.shape[1]):\n",
    "            # Select the job j with the earliest available time on machine i in pi'\n",
    "            jobs_on_i = [(job, processing_times[job, i]) for job in pi_prime if any(job == k for k in range(processing_times.shape[0]) if processing_times[k, i] > 0)]\n",
    "            if len(jobs_on_i) > 0:\n",
    "                j, _ = min(jobs_on_i, key=lambda x: x[1])\n",
    "                # Insert job j at the end of pi''\n",
    "                pi_double_prime.append(j)\n",
    "                # Remove job j from pi'\n",
    "                pi_prime.remove(j)\n",
    "    \n",
    "    # Insert the destructed jobs back into pi'' at random positions\n",
    "    for job in pi_d:\n",
    "        pos = random.randint(0, len(pi_double_prime))\n",
    "        pi_double_prime.insert(pos, job)\n",
    "    \n",
    "    # Return the complete permutation pi''\n",
    "    return pi_double_prime\n",
    "\n",
    "def N1(schedule,processing_times):\n",
    "    new_schedule=combined_destruction_construction(schedule, 4, processing_times)\n",
    "    flag=True\n",
    "    while(flag):\n",
    "        newnew_schedule=local_search(schedule,processing_times)\n",
    "        if(compute_makespan(newnew_schedule,processing_times)<compute_makespan(new_schedule,processing_times)):\n",
    "            new_schedule=newnew_schedule\n",
    "            flag=True\n",
    "        else:\n",
    "            flag=False\n",
    "    return new_schedule  \n",
    "\n",
    "def N2(schedule,processing_times,n_perturb=5):\n",
    "    for _ in range(n_perturb):\n",
    "        schedule=swap_perturb(schedule)\n",
    "    new_schedule=schedule\n",
    "    flag=True\n",
    "    while(flag):\n",
    "        newnew_schedule=local_search(schedule,processing_times)\n",
    "        if(compute_makespan(newnew_schedule,processing_times)<compute_makespan(new_schedule,processing_times)):\n",
    "            new_schedule=newnew_schedule\n",
    "            flag=True\n",
    "        else:\n",
    "            flag=False\n",
    "    return new_schedule\n",
    "\n",
    "def RIS(schedule, processing_times):\n",
    "    num_jobs,num_machines=processing_times.shape\n",
    "    improved_schedule = schedule\n",
    "    for i in range(len(schedule)-1):\n",
    "        for j in range(i+1, len(schedule)):\n",
    "            neighbor_schedule = improved_schedule\n",
    "            neighbor_schedule[i], neighbor_schedule[j] = neighbor_schedule[j], neighbor_schedule[i]\n",
    "\n",
    "            neighbor_obj = compute_makespan(neighbor_schedule, processing_times)\n",
    "\n",
    "            if neighbor_obj < compute_makespan(improved_schedule, processing_times):\n",
    "                improved_schedule = neighbor_schedule\n",
    "    return improved_schedule\n",
    "\n",
    "# local search by swapping\n",
    "def local_search(schedule, processing_times):\n",
    "    num_jobs,num_machines=processing_times.shape\n",
    "    improved_schedule = schedule.copy()\n",
    "    for i in range(num_jobs-2):\n",
    "        for j in range(i+1, num_jobs):\n",
    "            neighbor_schedule = improved_schedule.copy()\n",
    "            neighbor_schedule[i], neighbor_schedule[j] = neighbor_schedule[j], neighbor_schedule[i]\n",
    "            neighbor_obj = compute_makespan(neighbor_schedule, processing_times)\n",
    "            if neighbor_obj < compute_makespan(improved_schedule, processing_times):\n",
    "                improved_schedule = neighbor_schedule\n",
    "    return improved_schedule\n",
    "\n",
    "def vnd(schedule,processing_times):\n",
    "    d_max=2\n",
    "    d=1\n",
    "    while(d<=d_max):\n",
    "        if(d==1):\n",
    "            new_schedule=N1(schedule,processing_times)\n",
    "        else:\n",
    "            new_schedule=N2(schedule,processing_times)\n",
    "        if(compute_makespan(new_schedule,processing_times)<compute_makespan(schedule,processing_times)):\n",
    "            schedule=new_schedule\n",
    "            d=1\n",
    "        else:\n",
    "            d=d+1\n",
    "    return schedule\n",
    "\n",
    "def perform_insert(schedule):\n",
    "    i=random.randint(0,len(schedule)-2)\n",
    "    j=random.randint(i+1,len(schedule))\n",
    "    schedule=list(schedule)\n",
    "    new_schedule = schedule.copy()\n",
    "    job = new_schedule.pop(i)\n",
    "    new_schedule.insert(j, job)\n",
    "    return new_schedule\n",
    "\n",
    "def swap_perturb(schedule):\n",
    "    schedule=list(schedule)\n",
    "    i, j = random.sample(range(len(schedule)), 2)\n",
    "    perturbed_schedule = schedule.copy()\n",
    "    perturbed_schedule[i], perturbed_schedule[j] = perturbed_schedule[j], perturbed_schedule[i]\n",
    "    return perturbed_schedule"
   ]
  },
  {
   "cell_type": "code",
   "execution_count": 39,
   "id": "41f0c504",
   "metadata": {},
   "outputs": [],
   "source": [
    "#Main\n",
    "def GVNS(schedule,processing_times,max_iter):\n",
    "    best_schedule=schedule\n",
    "    for ii in range(max_iter):\n",
    "        kmax=2\n",
    "        k=1\n",
    "        while(k<=kmax):\n",
    "            if(k==1):\n",
    "                new_schedule=perform_insert(schedule)\n",
    "            else:\n",
    "                new_schedule=swap_perturb(schedule)\n",
    "\n",
    "            new_new_schedule=vnd(new_schedule,processing_times)\n",
    "            if(compute_makespan(new_new_schedule,processing_times)<compute_makespan(schedule,processing_times)):\n",
    "                schedule=new_new_schedule\n",
    "                k=1\n",
    "            else:\n",
    "                k=k+1\n",
    "        if(compute_makespan(schedule,processing_times)<compute_makespan(best_schedule,processing_times)):\n",
    "            best_schedule=schedule\n",
    "    return best_schedule\n",
    "            "
   ]
  },
  {
   "attachments": {},
   "cell_type": "markdown",
   "id": "29e37859",
   "metadata": {},
   "source": [
    "## **Tests et analyse**  <a class=\"anchor\" id=\"section_3_2\"></a>"
   ]
  },
  {
   "attachments": {},
   "cell_type": "markdown",
   "id": "7ea08e69",
   "metadata": {},
   "source": [
    "### **Sur l'instance aléatoire**"
   ]
  },
  {
   "cell_type": "code",
   "execution_count": 40,
   "id": "9353123a",
   "metadata": {},
   "outputs": [
    {
     "data": {
      "image/png": "[encoded data removed]",
      "text/plain": [
       "<Figure size 640x480 with 1 Axes>"
      ]
     },
     "metadata": {},
     "output_type": "display_data"
    }
   ],
   "source": [
    "instance=FmCmax.FmCmax_Instance.read_txt(\"../TP02-Heuristiques/data/random_instance.txt\")\n",
    "processing_times = np.array(instance.P)\n",
    "max_iter = 500\n",
    "#Run the algorithms\n",
    "schedule_ham, makespan_ham = heuristique_Ham(processing_times)\n",
    "schedule_gvns_ham = GVNS(schedule_ham,processing_times,max_iter)\n",
    "makespan_gvns_ham = compute_makespan(schedule_gvns_ham,processing_times)\n",
    "schedule_neh, makespan_neh = heuristique_NEH(processing_times)\n",
    "schedule_gvns_neh = GVNS(schedule_neh,processing_times,max_iter)\n",
    "makespan_gvns_neh = compute_makespan(schedule_gvns_neh,processing_times)\n",
    "schedule_cds, makespan_cds = heuristique_CDS(processing_times)\n",
    "schedule_gvns_cds = GVNS(schedule_cds,processing_times,max_iter)\n",
    "makespan_gvns_cds = compute_makespan(schedule_gvns_cds,processing_times)\n",
    "\n",
    "# Plot the results as a bar chart\n",
    "labels = ['Ham', 'FVNS + Ham', 'NEH', 'GVNS + NEH','CDS','GVNS + CDS']\n",
    "makespans = [makespan_ham, makespan_gvns_ham, makespan_neh, makespan_gvns_neh,makespan_cds,makespan_gvns_cds]\n",
    "colors = ['tab:red','tab:blue','tab:red','tab:blue','tab:red','tab:blue']\n",
    "\n",
    "plt.bar(labels, makespans, color=colors)\n",
    "plt.ylabel('Makespan')\n",
    "plt.title('Comparaison des solutions pour différentes initialisations et optimisations')\n",
    "\n",
    "plt.xticks(fontsize=8)\n",
    "# Set the minimum value of the y-axis to 1000\n",
    "plt.ylim(bottom=1000)\n",
    "\n",
    "# Add the values as text above the bars\n",
    "for i, v in enumerate(makespans):\n",
    "    plt.text(i, v + 1, str(v), ha='center')\n",
    "\n",
    "plt.show()"
   ]
  },
  {
   "attachments": {},
   "cell_type": "markdown",
   "id": "4a748a07",
   "metadata": {},
   "source": [
    "### **Sur les instances de Taillard**"
   ]
  },
  {
   "attachments": {},
   "cell_type": "markdown",
   "id": "f7b9c8f1",
   "metadata": {},
   "source": [
    "### Nombre d'itérations et déviation "
   ]
  },
  {
   "attachments": {},
   "cell_type": "markdown",
   "id": "be40fec8",
   "metadata": {},
   "source": [
    "Nous avons commencé par étuduer l'effet du nombre d'itérations sur la déviation obtenue :"
   ]
  },
  {
   "cell_type": "code",
   "execution_count": 41,
   "id": "30a804e3",
   "metadata": {},
   "outputs": [],
   "source": [
    "max_iter=100\n",
    "processing_times = np.array(taillard[0][\"P\"]).transpose()\n",
    "upper_bound = taillard[0][\"ub\"]\n",
    "iter=[]\n",
    "dev=[]\n",
    "times=[]\n",
    "for max_iter in range(100,1000,100):\n",
    "    iter.append(max_iter)\n",
    "    schedule_neh, makespan_neh = heuristique_NEH(processing_times)\n",
    "    schedule_gvns_neh = GVNS(schedule_neh,processing_times,max_iter)\n",
    "    makespan_gvns_neh = compute_makespan(schedule_gvns_neh,processing_times)\n",
    "    dev.append(100*(makespan_gvns_neh-upper_bound)/upper_bound)\n",
    "\n"
   ]
  },
  {
   "cell_type": "code",
   "execution_count": 42,
   "id": "1b65b5a2",
   "metadata": {},
   "outputs": [
    {
     "data": {
      "image/png": "[encoded data removed]",
      "text/plain": [
       "<Figure size 640x480 with 1 Axes>"
      ]
     },
     "metadata": {},
     "output_type": "display_data"
    }
   ],
   "source": [
    "# Create a figure and axis object\n",
    "fig, ax = plt.subplots()\n",
    "\n",
    "# Plot the data\n",
    "ax.plot(iter, dev)\n",
    "\n",
    "# Add axis labels and a title\n",
    "ax.set_xlabel('Nombre ditérations')\n",
    "ax.set_ylabel('Déviation')\n",
    "ax.set_title('Variation de la déviation trouvée par ILS en fonction du nombre ditérations')\n",
    "\n",
    "# Display the graph\n",
    "plt.show()"
   ]
  },
  {
   "attachments": {},
   "cell_type": "markdown",
   "id": "e8fecda3",
   "metadata": {},
   "source": [
    "**Interprétation :** ous remrquons que la méthode donne une déviation inférieure à zéro voire nulle pour quelques cas quelque soit le nombre d'itérations."
   ]
  },
  {
   "attachments": {},
   "cell_type": "markdown",
   "id": "47e367e2",
   "metadata": {},
   "source": [
    "De meme, nous avons abservé l'amélioration de la déviation obtenue par GVNS par rapport aux différentes initialisation heuristiques sur les 10 premières istances de Taillard :"
   ]
  },
  {
   "cell_type": "code",
   "execution_count": null,
   "id": "64d31c5d",
   "metadata": {},
   "outputs": [],
   "source": [
    "f =  open(\"../TP02-Heuristiques/data/Taillard.pkl\", \"rb\")\n",
    "taillard = pickle.load(f)\n",
    "max_iter=500\n",
    "dev_Ham=[]\n",
    "dev_NEH=[]\n",
    "dev_CDS=[]\n",
    "dev_ham_gvns=[]\n",
    "dev_neh_gvns=[]\n",
    "dev_cds_gvns=[]\n",
    "times_gvns=[]\n",
    "instances=list(range(1,11))\n",
    "for i in range(10):\n",
    "    processing_times = np.array(taillard[i][\"P\"]).transpose()\n",
    "    upper_bound = taillard[i][\"ub\"]\n",
    "    schedule_ham, makespan_ham = heuristique_Ham(processing_times)\n",
    "    schedule_gvns_ham = GVNS(schedule_ham,processing_times,max_iter)\n",
    "    makespan_gvns_ham = compute_makespan(schedule_gvns_ham,processing_times)\n",
    "    schedule_neh, makespan_neh = heuristique_NEH(processing_times)\n",
    "    schedule_gvns_neh = GVNS(schedule_neh,processing_times,max_iter)\n",
    "    makespan_gvns_neh = compute_makespan(schedule_gvns_neh,processing_times)\n",
    "    schedule_cds, makespan_cds = heuristique_CDS(processing_times)\n",
    "    start_time = time.time() \n",
    "    schedule_gvns_cds = GVNS(schedule_cds,processing_times,max_iter)\n",
    "    end_time = time.time() \n",
    "    elapsed_time = end_time - start_time\n",
    "    times_gvns.append(elapsed_time)\n",
    "    makespan_gvns_cds = compute_makespan(schedule_gvns_cds,processing_times)\n",
    "    dev_Ham.append(100*(makespan_ham-upper_bound)/upper_bound)\n",
    "    dev_NEH.append(100*(makespan_neh-upper_bound)/upper_bound)\n",
    "    dev_CDS.append(100*(makespan_cds-upper_bound)/upper_bound)\n",
    "    dev_ham_gvns.append(100*(makespan_gvns_ham-upper_bound)/upper_bound)\n",
    "    dev_neh_gvns.append(100*(makespan_gvns_neh-upper_bound)/upper_bound)\n",
    "    dev_cds_gvns.append(100*(makespan_gvns_cds-upper_bound)/upper_bound)"
   ]
  },
  {
   "attachments": {},
   "cell_type": "markdown",
   "id": "d2cf3278",
   "metadata": {},
   "source": [
    "#### Résultats"
   ]
  },
  {
   "cell_type": "code",
   "execution_count": 15,
   "id": "b5dbb94b",
   "metadata": {},
   "outputs": [],
   "source": [
    "dev_neh_gvns=[0.0,\n",
    " 0.004415011037527594,\n",
    " 0.01572617946345976,\n",
    " 0.004640371229698376,\n",
    " -0.0008090614886731392,\n",
    " 0.0,\n",
    " 0.009685230024213076,\n",
    " 0.0,\n",
    " 0.0,\n",
    " 0.0]\n",
    "dev_ham_gvns= [0.0,\n",
    " 0.07358351729212656,\n",
    " 1.572617946345976,\n",
    " 0.07733952049497294,\n",
    " -0.08090614886731392,\n",
    " 0.0,\n",
    " 0.9685230024213076,\n",
    " 0.0,\n",
    " 0.0,\n",
    " 0.0]\n",
    "dev_cds_gvns=[0.0,\n",
    "  0.07358351729212656,\n",
    "  0.64754856614246065,\n",
    "  0.30935808197989174,\n",
    "  -0.08090614886731392,\n",
    "  0.0,\n",
    "  0.9685230024213076,\n",
    "  0.0,\n",
    "  0.0,\n",
    "  0.0]\n",
    "times_gvns=[194.25770711898804,\n",
    "  184.45941352844238,\n",
    "  231.95963430404663,\n",
    "  261.47199273109436,\n",
    "  279.78384041786194,\n",
    "  302.4761984348297,\n",
    "  297.67465567588806,\n",
    "  344.6593589782715,\n",
    "  278.51966404914856,\n",
    "  311.37041330337524]\n"
   ]
  },
  {
   "cell_type": "code",
   "execution_count": 29,
   "id": "3f949c82",
   "metadata": {},
   "outputs": [
    {
     "data": {
      "text/html": [
       "        <script type=\"text/javascript\">\n",
       "        window.PlotlyConfig = {MathJaxConfig: 'local'};\n",
       "        if (window.MathJax && window.MathJax.Hub && window.MathJax.Hub.Config) {window.MathJax.Hub.Config({SVG: {font: \"STIX-Web\"}});}\n",
       "        if (typeof require !== 'undefined') {\n",
       "        require.undef(\"plotly\");\n",
       "        requirejs.config({\n",
       "            paths: {\n",
       "                'plotly': ['https://cdn.plot.ly/plotly-2.12.1.min']\n",
       "            }\n",
       "        });\n",
       "        require(['plotly'], function(Plotly) {\n",
       "            window._Plotly = Plotly;\n",
       "        });\n",
       "        }\n",
       "        </script>\n",
       "        "
      ]
     },
     "metadata": {},
     "output_type": "display_data"
    },
    {
     "data": {
      "application/vnd.plotly.v1+json": {
       "config": {
        "plotlyServerURL": "https://plot.ly"
       },
       "data": [
        {
         "marker": {
          "color": "#176ab4"
         },
         "name": "Ham",
         "type": "bar",
         "x": [
          1,
          2,
          3,
          4,
          5,
          6,
          7,
          8,
          9,
          10
         ],
         "y": [
          12.44131455399061,
          9.492273730684326,
          30.157261794634596,
          19.56689868522815,
          11.245954692556634,
          11.548117154811715,
          16.707021791767556,
          23.217247097844112,
          25.040650406504064,
          17.32851985559567
         ]
        },
        {
         "marker": {
          "color": "#4b9cd3"
         },
         "name": "Ham+GVNS",
         "type": "bar",
         "x": [
          1,
          2,
          3,
          4,
          5,
          6,
          7,
          8,
          9,
          10
         ],
         "y": [
          0,
          0.07358351729212656,
          1.572617946345976,
          0.07733952049497295,
          -0.08090614886731393,
          0,
          0.9685230024213076,
          0,
          0,
          0
         ]
        },
        {
         "marker": {
          "color": "#6c3483"
         },
         "name": "CDS",
         "type": "bar",
         "x": [
          1,
          2,
          3,
          4,
          5,
          6,
          7,
          8,
          9,
          10
         ],
         "y": [
          8.763693270735525,
          4.7829286239882265,
          15.541165587419057,
          9.667440061871616,
          7.038834951456311,
          9.790794979079498,
          12.429378531073446,
          11.194029850746269,
          10.56910569105691,
          5.054151624548736
         ]
        },
        {
         "marker": {
          "color": "#9b59b6"
         },
         "name": "CDS+GVNS",
         "type": "bar",
         "x": [
          1,
          2,
          3,
          4,
          5,
          6,
          7,
          8,
          9,
          10
         ],
         "y": [
          0,
          0.07358351729212656,
          0.6475485661424607,
          0.30935808197989173,
          -0.08090614886731393,
          0,
          0.9685230024213076,
          0,
          0,
          0
         ]
        },
        {
         "marker": {
          "color": "#6b9c34"
         },
         "name": "NEH",
         "type": "bar",
         "x": [
          1,
          2,
          3,
          4,
          5,
          6,
          7,
          8,
          9,
          10
         ],
         "y": [
          0.6259780907668232,
          0.44150110375275936,
          7.215541165587419,
          2.474864655839134,
          5.58252427184466,
          2.7615062761506275,
          3.1476997578692494,
          1.4096185737976783,
          4.959349593495935,
          3.88086642599278
         ]
        },
        {
         "marker": {
          "color": "#8cc63f"
         },
         "name": "NEH+GVNS",
         "type": "bar",
         "x": [
          1,
          2,
          3,
          4,
          5,
          6,
          7,
          8,
          9,
          10
         ],
         "y": [
          0,
          0.004415011037527594,
          0.01572617946345976,
          0.004640371229698376,
          -0.0008090614886731392,
          0,
          0.009685230024213076,
          0,
          0,
          0
         ]
        }
       ],
       "layout": {
        "barmode": "group",
        "template": {
         "data": {
          "bar": [
           {
            "error_x": {
             "color": "#2a3f5f"
            },
            "error_y": {
             "color": "#2a3f5f"
            },
            "marker": {
             "line": {
              "color": "#E5ECF6",
              "width": 0.5
             },
             "pattern": {
              "fillmode": "overlay",
              "size": 10,
              "solidity": 0.2
             }
            },
            "type": "bar"
           }
          ],
          "barpolar": [
           {
            "marker": {
             "line": {
              "color": "#E5ECF6",
              "width": 0.5
             },
             "pattern": {
              "fillmode": "overlay",
              "size": 10,
              "solidity": 0.2
             }
            },
            "type": "barpolar"
           }
          ],
          "carpet": [
           {
            "aaxis": {
             "endlinecolor": "#2a3f5f",
             "gridcolor": "white",
             "linecolor": "white",
             "minorgridcolor": "white",
             "startlinecolor": "#2a3f5f"
            },
            "baxis": {
             "endlinecolor": "#2a3f5f",
             "gridcolor": "white",
             "linecolor": "white",
             "minorgridcolor": "white",
             "startlinecolor": "#2a3f5f"
            },
            "type": "carpet"
           }
          ],
          "choropleth": [
           {
            "colorbar": {
             "outlinewidth": 0,
             "ticks": ""
            },
            "type": "choropleth"
           }
          ],
          "contour": [
           {
            "colorbar": {
             "outlinewidth": 0,
             "ticks": ""
            },
            "colorscale": [
             [
              0,
              "#0d0887"
             ],
             [
              0.1111111111111111,
              "#46039f"
             ],
             [
              0.2222222222222222,
              "#7201a8"
             ],
             [
              0.3333333333333333,
              "#9c179e"
             ],
             [
              0.4444444444444444,
              "#bd3786"
             ],
             [
              0.5555555555555556,
              "#d8576b"
             ],
             [
              0.6666666666666666,
              "#ed7953"
             ],
             [
              0.7777777777777778,
              "#fb9f3a"
             ],
             [
              0.8888888888888888,
              "#fdca26"
             ],
             [
              1,
              "#f0f921"
             ]
            ],
            "type": "contour"
           }
          ],
          "contourcarpet": [
           {
            "colorbar": {
             "outlinewidth": 0,
             "ticks": ""
            },
            "type": "contourcarpet"
           }
          ],
          "heatmap": [
           {
            "colorbar": {
             "outlinewidth": 0,
             "ticks": ""
            },
            "colorscale": [
             [
              0,
              "#0d0887"
             ],
             [
              0.1111111111111111,
              "#46039f"
             ],
             [
              0.2222222222222222,
              "#7201a8"
             ],
             [
              0.3333333333333333,
              "#9c179e"
             ],
             [
              0.4444444444444444,
              "#bd3786"
             ],
             [
              0.5555555555555556,
              "#d8576b"
             ],
             [
              0.6666666666666666,
              "#ed7953"
             ],
             [
              0.7777777777777778,
              "#fb9f3a"
             ],
             [
              0.8888888888888888,
              "#fdca26"
             ],
             [
              1,
              "#f0f921"
             ]
            ],
            "type": "heatmap"
           }
          ],
          "heatmapgl": [
           {
            "colorbar": {
             "outlinewidth": 0,
             "ticks": ""
            },
            "colorscale": [
             [
              0,
              "#0d0887"
             ],
             [
              0.1111111111111111,
              "#46039f"
             ],
             [
              0.2222222222222222,
              "#7201a8"
             ],
             [
              0.3333333333333333,
              "#9c179e"
             ],
             [
              0.4444444444444444,
              "#bd3786"
             ],
             [
              0.5555555555555556,
              "#d8576b"
             ],
             [
              0.6666666666666666,
              "#ed7953"
             ],
             [
              0.7777777777777778,
              "#fb9f3a"
             ],
             [
              0.8888888888888888,
              "#fdca26"
             ],
             [
              1,
              "#f0f921"
             ]
            ],
            "type": "heatmapgl"
           }
          ],
          "histogram": [
           {
            "marker": {
             "pattern": {
              "fillmode": "overlay",
              "size": 10,
              "solidity": 0.2
             }
            },
            "type": "histogram"
           }
          ],
          "histogram2d": [
           {
            "colorbar": {
             "outlinewidth": 0,
             "ticks": ""
            },
            "colorscale": [
             [
              0,
              "#0d0887"
             ],
             [
              0.1111111111111111,
              "#46039f"
             ],
             [
              0.2222222222222222,
              "#7201a8"
             ],
             [
              0.3333333333333333,
              "#9c179e"
             ],
             [
              0.4444444444444444,
              "#bd3786"
             ],
             [
              0.5555555555555556,
              "#d8576b"
             ],
             [
              0.6666666666666666,
              "#ed7953"
             ],
             [
              0.7777777777777778,
              "#fb9f3a"
             ],
             [
              0.8888888888888888,
              "#fdca26"
             ],
             [
              1,
              "#f0f921"
             ]
            ],
            "type": "histogram2d"
           }
          ],
          "histogram2dcontour": [
           {
            "colorbar": {
             "outlinewidth": 0,
             "ticks": ""
            },
            "colorscale": [
             [
              0,
              "#0d0887"
             ],
             [
              0.1111111111111111,
              "#46039f"
             ],
             [
              0.2222222222222222,
              "#7201a8"
             ],
             [
              0.3333333333333333,
              "#9c179e"
             ],
             [
              0.4444444444444444,
              "#bd3786"
             ],
             [
              0.5555555555555556,
              "#d8576b"
             ],
             [
              0.6666666666666666,
              "#ed7953"
             ],
             [
              0.7777777777777778,
              "#fb9f3a"
             ],
             [
              0.8888888888888888,
              "#fdca26"
             ],
             [
              1,
              "#f0f921"
             ]
            ],
            "type": "histogram2dcontour"
           }
          ],
          "mesh3d": [
           {
            "colorbar": {
             "outlinewidth": 0,
             "ticks": ""
            },
            "type": "mesh3d"
           }
          ],
          "parcoords": [
           {
            "line": {
             "colorbar": {
              "outlinewidth": 0,
              "ticks": ""
             }
            },
            "type": "parcoords"
           }
          ],
          "pie": [
           {
            "automargin": true,
            "type": "pie"
           }
          ],
          "scatter": [
           {
            "fillpattern": {
             "fillmode": "overlay",
             "size": 10,
             "solidity": 0.2
            },
            "type": "scatter"
           }
          ],
          "scatter3d": [
           {
            "line": {
             "colorbar": {
              "outlinewidth": 0,
              "ticks": ""
             }
            },
            "marker": {
             "colorbar": {
              "outlinewidth": 0,
              "ticks": ""
             }
            },
            "type": "scatter3d"
           }
          ],
          "scattercarpet": [
           {
            "marker": {
             "colorbar": {
              "outlinewidth": 0,
              "ticks": ""
             }
            },
            "type": "scattercarpet"
           }
          ],
          "scattergeo": [
           {
            "marker": {
             "colorbar": {
              "outlinewidth": 0,
              "ticks": ""
             }
            },
            "type": "scattergeo"
           }
          ],
          "scattergl": [
           {
            "marker": {
             "colorbar": {
              "outlinewidth": 0,
              "ticks": ""
             }
            },
            "type": "scattergl"
           }
          ],
          "scattermapbox": [
           {
            "marker": {
             "colorbar": {
              "outlinewidth": 0,
              "ticks": ""
             }
            },
            "type": "scattermapbox"
           }
          ],
          "scatterpolar": [
           {
            "marker": {
             "colorbar": {
              "outlinewidth": 0,
              "ticks": ""
             }
            },
            "type": "scatterpolar"
           }
          ],
          "scatterpolargl": [
           {
            "marker": {
             "colorbar": {
              "outlinewidth": 0,
              "ticks": ""
             }
            },
            "type": "scatterpolargl"
           }
          ],
          "scatterternary": [
           {
            "marker": {
             "colorbar": {
              "outlinewidth": 0,
              "ticks": ""
             }
            },
            "type": "scatterternary"
           }
          ],
          "surface": [
           {
            "colorbar": {
             "outlinewidth": 0,
             "ticks": ""
            },
            "colorscale": [
             [
              0,
              "#0d0887"
             ],
             [
              0.1111111111111111,
              "#46039f"
             ],
             [
              0.2222222222222222,
              "#7201a8"
             ],
             [
              0.3333333333333333,
              "#9c179e"
             ],
             [
              0.4444444444444444,
              "#bd3786"
             ],
             [
              0.5555555555555556,
              "#d8576b"
             ],
             [
              0.6666666666666666,
              "#ed7953"
             ],
             [
              0.7777777777777778,
              "#fb9f3a"
             ],
             [
              0.8888888888888888,
              "#fdca26"
             ],
             [
              1,
              "#f0f921"
             ]
            ],
            "type": "surface"
           }
          ],
          "table": [
           {
            "cells": {
             "fill": {
              "color": "#EBF0F8"
             },
             "line": {
              "color": "white"
             }
            },
            "header": {
             "fill": {
              "color": "#C8D4E3"
             },
             "line": {
              "color": "white"
             }
            },
            "type": "table"
           }
          ]
         },
         "layout": {
          "annotationdefaults": {
           "arrowcolor": "#2a3f5f",
           "arrowhead": 0,
           "arrowwidth": 1
          },
          "autotypenumbers": "strict",
          "coloraxis": {
           "colorbar": {
            "outlinewidth": 0,
            "ticks": ""
           }
          },
          "colorscale": {
           "diverging": [
            [
             0,
             "#8e0152"
            ],
            [
             0.1,
             "#c51b7d"
            ],
            [
             0.2,
             "#de77ae"
            ],
            [
             0.3,
             "#f1b6da"
            ],
            [
             0.4,
             "#fde0ef"
            ],
            [
             0.5,
             "#f7f7f7"
            ],
            [
             0.6,
             "#e6f5d0"
            ],
            [
             0.7,
             "#b8e186"
            ],
            [
             0.8,
             "#7fbc41"
            ],
            [
             0.9,
             "#4d9221"
            ],
            [
             1,
             "#276419"
            ]
           ],
           "sequential": [
            [
             0,
             "#0d0887"
            ],
            [
             0.1111111111111111,
             "#46039f"
            ],
            [
             0.2222222222222222,
             "#7201a8"
            ],
            [
             0.3333333333333333,
             "#9c179e"
            ],
            [
             0.4444444444444444,
             "#bd3786"
            ],
            [
             0.5555555555555556,
             "#d8576b"
            ],
            [
             0.6666666666666666,
             "#ed7953"
            ],
            [
             0.7777777777777778,
             "#fb9f3a"
            ],
            [
             0.8888888888888888,
             "#fdca26"
            ],
            [
             1,
             "#f0f921"
            ]
           ],
           "sequentialminus": [
            [
             0,
             "#0d0887"
            ],
            [
             0.1111111111111111,
             "#46039f"
            ],
            [
             0.2222222222222222,
             "#7201a8"
            ],
            [
             0.3333333333333333,
             "#9c179e"
            ],
            [
             0.4444444444444444,
             "#bd3786"
            ],
            [
             0.5555555555555556,
             "#d8576b"
            ],
            [
             0.6666666666666666,
             "#ed7953"
            ],
            [
             0.7777777777777778,
             "#fb9f3a"
            ],
            [
             0.8888888888888888,
             "#fdca26"
            ],
            [
             1,
             "#f0f921"
            ]
           ]
          },
          "colorway": [
           "#636efa",
           "#EF553B",
           "#00cc96",
           "#ab63fa",
           "#FFA15A",
           "#19d3f3",
           "#FF6692",
           "#B6E880",
           "#FF97FF",
           "#FECB52"
          ],
          "font": {
           "color": "#2a3f5f"
          },
          "geo": {
           "bgcolor": "white",
           "lakecolor": "white",
           "landcolor": "#E5ECF6",
           "showlakes": true,
           "showland": true,
           "subunitcolor": "white"
          },
          "hoverlabel": {
           "align": "left"
          },
          "hovermode": "closest",
          "mapbox": {
           "style": "light"
          },
          "paper_bgcolor": "white",
          "plot_bgcolor": "#E5ECF6",
          "polar": {
           "angularaxis": {
            "gridcolor": "white",
            "linecolor": "white",
            "ticks": ""
           },
           "bgcolor": "#E5ECF6",
           "radialaxis": {
            "gridcolor": "white",
            "linecolor": "white",
            "ticks": ""
           }
          },
          "scene": {
           "xaxis": {
            "backgroundcolor": "#E5ECF6",
            "gridcolor": "white",
            "gridwidth": 2,
            "linecolor": "white",
            "showbackground": true,
            "ticks": "",
            "zerolinecolor": "white"
           },
           "yaxis": {
            "backgroundcolor": "#E5ECF6",
            "gridcolor": "white",
            "gridwidth": 2,
            "linecolor": "white",
            "showbackground": true,
            "ticks": "",
            "zerolinecolor": "white"
           },
           "zaxis": {
            "backgroundcolor": "#E5ECF6",
            "gridcolor": "white",
            "gridwidth": 2,
            "linecolor": "white",
            "showbackground": true,
            "ticks": "",
            "zerolinecolor": "white"
           }
          },
          "shapedefaults": {
           "line": {
            "color": "#2a3f5f"
           }
          },
          "ternary": {
           "aaxis": {
            "gridcolor": "white",
            "linecolor": "white",
            "ticks": ""
           },
           "baxis": {
            "gridcolor": "white",
            "linecolor": "white",
            "ticks": ""
           },
           "bgcolor": "#E5ECF6",
           "caxis": {
            "gridcolor": "white",
            "linecolor": "white",
            "ticks": ""
           }
          },
          "title": {
           "x": 0.05
          },
          "xaxis": {
           "automargin": true,
           "gridcolor": "white",
           "linecolor": "white",
           "ticks": "",
           "title": {
            "standoff": 15
           },
           "zerolinecolor": "white",
           "zerolinewidth": 2
          },
          "yaxis": {
           "automargin": true,
           "gridcolor": "white",
           "linecolor": "white",
           "ticks": "",
           "title": {
            "standoff": 15
           },
           "zerolinecolor": "white",
           "zerolinewidth": 2
          }
         }
        },
        "title": {
         "text": "Déviations obtenues par GVNS avec différentes initialisations heuristiques"
        },
        "xaxis": {
         "tickangle": -45,
         "title": {
          "text": "Instance"
         }
        },
        "yaxis": {
         "title": {
          "text": "Deviation"
         }
        }
       }
      },
      "text/html": [
       "<div>                            <div id=\"a51182d9-41c9-4c13-95ee-e3033499e949\" class=\"plotly-graph-div\" style=\"height:525px; width:100%;\"></div>            <script type=\"text/javascript\">                require([\"plotly\"], function(Plotly) {                    window.PLOTLYENV=window.PLOTLYENV || {};                                    if (document.getElementById(\"a51182d9-41c9-4c13-95ee-e3033499e949\")) {                    Plotly.newPlot(                        \"a51182d9-41c9-4c13-95ee-e3033499e949\",                        [{\"marker\":{\"color\":\"#176ab4\"},\"name\":\"Ham\",\"x\":[1,2,3,4,5,6,7,8,9,10],\"y\":[12.44131455399061,9.492273730684326,30.157261794634596,19.56689868522815,11.245954692556634,11.548117154811715,16.707021791767556,23.217247097844112,25.040650406504064,17.32851985559567],\"type\":\"bar\"},{\"marker\":{\"color\":\"#4b9cd3\"},\"name\":\"Ham+GVNS\",\"x\":[1,2,3,4,5,6,7,8,9,10],\"y\":[0.0,0.07358351729212656,1.572617946345976,0.07733952049497295,-0.08090614886731393,0.0,0.9685230024213076,0.0,0.0,0.0],\"type\":\"bar\"},{\"marker\":{\"color\":\"#6c3483\"},\"name\":\"CDS\",\"x\":[1,2,3,4,5,6,7,8,9,10],\"y\":[8.763693270735525,4.7829286239882265,15.541165587419057,9.667440061871616,7.038834951456311,9.790794979079498,12.429378531073446,11.194029850746269,10.56910569105691,5.054151624548736],\"type\":\"bar\"},{\"marker\":{\"color\":\"#9b59b6\"},\"name\":\"CDS+GVNS\",\"x\":[1,2,3,4,5,6,7,8,9,10],\"y\":[0.0,0.07358351729212656,0.6475485661424607,0.30935808197989173,-0.08090614886731393,0.0,0.9685230024213076,0.0,0.0,0.0],\"type\":\"bar\"},{\"marker\":{\"color\":\"#6b9c34\"},\"name\":\"NEH\",\"x\":[1,2,3,4,5,6,7,8,9,10],\"y\":[0.6259780907668232,0.44150110375275936,7.215541165587419,2.474864655839134,5.58252427184466,2.7615062761506275,3.1476997578692494,1.4096185737976783,4.959349593495935,3.88086642599278],\"type\":\"bar\"},{\"marker\":{\"color\":\"#8cc63f\"},\"name\":\"NEH+GVNS\",\"x\":[1,2,3,4,5,6,7,8,9,10],\"y\":[0.0,0.004415011037527594,0.01572617946345976,0.004640371229698376,-0.0008090614886731392,0.0,0.009685230024213076,0.0,0.0,0.0],\"type\":\"bar\"}],                        {\"template\":{\"data\":{\"histogram2dcontour\":[{\"type\":\"histogram2dcontour\",\"colorbar\":{\"outlinewidth\":0,\"ticks\":\"\"},\"colorscale\":[[0.0,\"#0d0887\"],[0.1111111111111111,\"#46039f\"],[0.2222222222222222,\"#7201a8\"],[0.3333333333333333,\"#9c179e\"],[0.4444444444444444,\"#bd3786\"],[0.5555555555555556,\"#d8576b\"],[0.6666666666666666,\"#ed7953\"],[0.7777777777777778,\"#fb9f3a\"],[0.8888888888888888,\"#fdca26\"],[1.0,\"#f0f921\"]]}],\"choropleth\":[{\"type\":\"choropleth\",\"colorbar\":{\"outlinewidth\":0,\"ticks\":\"\"}}],\"histogram2d\":[{\"type\":\"histogram2d\",\"colorbar\":{\"outlinewidth\":0,\"ticks\":\"\"},\"colorscale\":[[0.0,\"#0d0887\"],[0.1111111111111111,\"#46039f\"],[0.2222222222222222,\"#7201a8\"],[0.3333333333333333,\"#9c179e\"],[0.4444444444444444,\"#bd3786\"],[0.5555555555555556,\"#d8576b\"],[0.6666666666666666,\"#ed7953\"],[0.7777777777777778,\"#fb9f3a\"],[0.8888888888888888,\"#fdca26\"],[1.0,\"#f0f921\"]]}],\"heatmap\":[{\"type\":\"heatmap\",\"colorbar\":{\"outlinewidth\":0,\"ticks\":\"\"},\"colorscale\":[[0.0,\"#0d0887\"],[0.1111111111111111,\"#46039f\"],[0.2222222222222222,\"#7201a8\"],[0.3333333333333333,\"#9c179e\"],[0.4444444444444444,\"#bd3786\"],[0.5555555555555556,\"#d8576b\"],[0.6666666666666666,\"#ed7953\"],[0.7777777777777778,\"#fb9f3a\"],[0.8888888888888888,\"#fdca26\"],[1.0,\"#f0f921\"]]}],\"heatmapgl\":[{\"type\":\"heatmapgl\",\"colorbar\":{\"outlinewidth\":0,\"ticks\":\"\"},\"colorscale\":[[0.0,\"#0d0887\"],[0.1111111111111111,\"#46039f\"],[0.2222222222222222,\"#7201a8\"],[0.3333333333333333,\"#9c179e\"],[0.4444444444444444,\"#bd3786\"],[0.5555555555555556,\"#d8576b\"],[0.6666666666666666,\"#ed7953\"],[0.7777777777777778,\"#fb9f3a\"],[0.8888888888888888,\"#fdca26\"],[1.0,\"#f0f921\"]]}],\"contourcarpet\":[{\"type\":\"contourcarpet\",\"colorbar\":{\"outlinewidth\":0,\"ticks\":\"\"}}],\"contour\":[{\"type\":\"contour\",\"colorbar\":{\"outlinewidth\":0,\"ticks\":\"\"},\"colorscale\":[[0.0,\"#0d0887\"],[0.1111111111111111,\"#46039f\"],[0.2222222222222222,\"#7201a8\"],[0.3333333333333333,\"#9c179e\"],[0.4444444444444444,\"#bd3786\"],[0.5555555555555556,\"#d8576b\"],[0.6666666666666666,\"#ed7953\"],[0.7777777777777778,\"#fb9f3a\"],[0.8888888888888888,\"#fdca26\"],[1.0,\"#f0f921\"]]}],\"surface\":[{\"type\":\"surface\",\"colorbar\":{\"outlinewidth\":0,\"ticks\":\"\"},\"colorscale\":[[0.0,\"#0d0887\"],[0.1111111111111111,\"#46039f\"],[0.2222222222222222,\"#7201a8\"],[0.3333333333333333,\"#9c179e\"],[0.4444444444444444,\"#bd3786\"],[0.5555555555555556,\"#d8576b\"],[0.6666666666666666,\"#ed7953\"],[0.7777777777777778,\"#fb9f3a\"],[0.8888888888888888,\"#fdca26\"],[1.0,\"#f0f921\"]]}],\"mesh3d\":[{\"type\":\"mesh3d\",\"colorbar\":{\"outlinewidth\":0,\"ticks\":\"\"}}],\"scatter\":[{\"fillpattern\":{\"fillmode\":\"overlay\",\"size\":10,\"solidity\":0.2},\"type\":\"scatter\"}],\"parcoords\":[{\"type\":\"parcoords\",\"line\":{\"colorbar\":{\"outlinewidth\":0,\"ticks\":\"\"}}}],\"scatterpolargl\":[{\"type\":\"scatterpolargl\",\"marker\":{\"colorbar\":{\"outlinewidth\":0,\"ticks\":\"\"}}}],\"bar\":[{\"error_x\":{\"color\":\"#2a3f5f\"},\"error_y\":{\"color\":\"#2a3f5f\"},\"marker\":{\"line\":{\"color\":\"#E5ECF6\",\"width\":0.5},\"pattern\":{\"fillmode\":\"overlay\",\"size\":10,\"solidity\":0.2}},\"type\":\"bar\"}],\"scattergeo\":[{\"type\":\"scattergeo\",\"marker\":{\"colorbar\":{\"outlinewidth\":0,\"ticks\":\"\"}}}],\"scatterpolar\":[{\"type\":\"scatterpolar\",\"marker\":{\"colorbar\":{\"outlinewidth\":0,\"ticks\":\"\"}}}],\"histogram\":[{\"marker\":{\"pattern\":{\"fillmode\":\"overlay\",\"size\":10,\"solidity\":0.2}},\"type\":\"histogram\"}],\"scattergl\":[{\"type\":\"scattergl\",\"marker\":{\"colorbar\":{\"outlinewidth\":0,\"ticks\":\"\"}}}],\"scatter3d\":[{\"type\":\"scatter3d\",\"line\":{\"colorbar\":{\"outlinewidth\":0,\"ticks\":\"\"}},\"marker\":{\"colorbar\":{\"outlinewidth\":0,\"ticks\":\"\"}}}],\"scattermapbox\":[{\"type\":\"scattermapbox\",\"marker\":{\"colorbar\":{\"outlinewidth\":0,\"ticks\":\"\"}}}],\"scatterternary\":[{\"type\":\"scatterternary\",\"marker\":{\"colorbar\":{\"outlinewidth\":0,\"ticks\":\"\"}}}],\"scattercarpet\":[{\"type\":\"scattercarpet\",\"marker\":{\"colorbar\":{\"outlinewidth\":0,\"ticks\":\"\"}}}],\"carpet\":[{\"aaxis\":{\"endlinecolor\":\"#2a3f5f\",\"gridcolor\":\"white\",\"linecolor\":\"white\",\"minorgridcolor\":\"white\",\"startlinecolor\":\"#2a3f5f\"},\"baxis\":{\"endlinecolor\":\"#2a3f5f\",\"gridcolor\":\"white\",\"linecolor\":\"white\",\"minorgridcolor\":\"white\",\"startlinecolor\":\"#2a3f5f\"},\"type\":\"carpet\"}],\"table\":[{\"cells\":{\"fill\":{\"color\":\"#EBF0F8\"},\"line\":{\"color\":\"white\"}},\"header\":{\"fill\":{\"color\":\"#C8D4E3\"},\"line\":{\"color\":\"white\"}},\"type\":\"table\"}],\"barpolar\":[{\"marker\":{\"line\":{\"color\":\"#E5ECF6\",\"width\":0.5},\"pattern\":{\"fillmode\":\"overlay\",\"size\":10,\"solidity\":0.2}},\"type\":\"barpolar\"}],\"pie\":[{\"automargin\":true,\"type\":\"pie\"}]},\"layout\":{\"autotypenumbers\":\"strict\",\"colorway\":[\"#636efa\",\"#EF553B\",\"#00cc96\",\"#ab63fa\",\"#FFA15A\",\"#19d3f3\",\"#FF6692\",\"#B6E880\",\"#FF97FF\",\"#FECB52\"],\"font\":{\"color\":\"#2a3f5f\"},\"hovermode\":\"closest\",\"hoverlabel\":{\"align\":\"left\"},\"paper_bgcolor\":\"white\",\"plot_bgcolor\":\"#E5ECF6\",\"polar\":{\"bgcolor\":\"#E5ECF6\",\"angularaxis\":{\"gridcolor\":\"white\",\"linecolor\":\"white\",\"ticks\":\"\"},\"radialaxis\":{\"gridcolor\":\"white\",\"linecolor\":\"white\",\"ticks\":\"\"}},\"ternary\":{\"bgcolor\":\"#E5ECF6\",\"aaxis\":{\"gridcolor\":\"white\",\"linecolor\":\"white\",\"ticks\":\"\"},\"baxis\":{\"gridcolor\":\"white\",\"linecolor\":\"white\",\"ticks\":\"\"},\"caxis\":{\"gridcolor\":\"white\",\"linecolor\":\"white\",\"ticks\":\"\"}},\"coloraxis\":{\"colorbar\":{\"outlinewidth\":0,\"ticks\":\"\"}},\"colorscale\":{\"sequential\":[[0.0,\"#0d0887\"],[0.1111111111111111,\"#46039f\"],[0.2222222222222222,\"#7201a8\"],[0.3333333333333333,\"#9c179e\"],[0.4444444444444444,\"#bd3786\"],[0.5555555555555556,\"#d8576b\"],[0.6666666666666666,\"#ed7953\"],[0.7777777777777778,\"#fb9f3a\"],[0.8888888888888888,\"#fdca26\"],[1.0,\"#f0f921\"]],\"sequentialminus\":[[0.0,\"#0d0887\"],[0.1111111111111111,\"#46039f\"],[0.2222222222222222,\"#7201a8\"],[0.3333333333333333,\"#9c179e\"],[0.4444444444444444,\"#bd3786\"],[0.5555555555555556,\"#d8576b\"],[0.6666666666666666,\"#ed7953\"],[0.7777777777777778,\"#fb9f3a\"],[0.8888888888888888,\"#fdca26\"],[1.0,\"#f0f921\"]],\"diverging\":[[0,\"#8e0152\"],[0.1,\"#c51b7d\"],[0.2,\"#de77ae\"],[0.3,\"#f1b6da\"],[0.4,\"#fde0ef\"],[0.5,\"#f7f7f7\"],[0.6,\"#e6f5d0\"],[0.7,\"#b8e186\"],[0.8,\"#7fbc41\"],[0.9,\"#4d9221\"],[1,\"#276419\"]]},\"xaxis\":{\"gridcolor\":\"white\",\"linecolor\":\"white\",\"ticks\":\"\",\"title\":{\"standoff\":15},\"zerolinecolor\":\"white\",\"automargin\":true,\"zerolinewidth\":2},\"yaxis\":{\"gridcolor\":\"white\",\"linecolor\":\"white\",\"ticks\":\"\",\"title\":{\"standoff\":15},\"zerolinecolor\":\"white\",\"automargin\":true,\"zerolinewidth\":2},\"scene\":{\"xaxis\":{\"backgroundcolor\":\"#E5ECF6\",\"gridcolor\":\"white\",\"linecolor\":\"white\",\"showbackground\":true,\"ticks\":\"\",\"zerolinecolor\":\"white\",\"gridwidth\":2},\"yaxis\":{\"backgroundcolor\":\"#E5ECF6\",\"gridcolor\":\"white\",\"linecolor\":\"white\",\"showbackground\":true,\"ticks\":\"\",\"zerolinecolor\":\"white\",\"gridwidth\":2},\"zaxis\":{\"backgroundcolor\":\"#E5ECF6\",\"gridcolor\":\"white\",\"linecolor\":\"white\",\"showbackground\":true,\"ticks\":\"\",\"zerolinecolor\":\"white\",\"gridwidth\":2}},\"shapedefaults\":{\"line\":{\"color\":\"#2a3f5f\"}},\"annotationdefaults\":{\"arrowcolor\":\"#2a3f5f\",\"arrowhead\":0,\"arrowwidth\":1},\"geo\":{\"bgcolor\":\"white\",\"landcolor\":\"#E5ECF6\",\"subunitcolor\":\"white\",\"showland\":true,\"showlakes\":true,\"lakecolor\":\"white\"},\"title\":{\"x\":0.05},\"mapbox\":{\"style\":\"light\"}}},\"xaxis\":{\"tickangle\":-45,\"title\":{\"text\":\"Instance\"}},\"title\":{\"text\":\"D\\u00e9viations obtenues par GVNS avec diff\\u00e9rentes initialisations heuristiques\"},\"barmode\":\"group\",\"yaxis\":{\"title\":{\"text\":\"Deviation\"}}},                        {\"responsive\": true}                    ).then(function(){\n",
       "                            \n",
       "var gd = document.getElementById('a51182d9-41c9-4c13-95ee-e3033499e949');\n",
       "var x = new MutationObserver(function (mutations, observer) {{\n",
       "        var display = window.getComputedStyle(gd).display;\n",
       "        if (!display || display === 'none') {{\n",
       "            console.log([gd, 'removed!']);\n",
       "            Plotly.purge(gd);\n",
       "            observer.disconnect();\n",
       "        }}\n",
       "}});\n",
       "\n",
       "// Listen for the removal of the full notebook cells\n",
       "var notebookContainer = gd.closest('#notebook-container');\n",
       "if (notebookContainer) {{\n",
       "    x.observe(notebookContainer, {childList: true});\n",
       "}}\n",
       "\n",
       "// Listen for the clearing of the current output cell\n",
       "var outputEl = gd.closest('.output');\n",
       "if (outputEl) {{\n",
       "    x.observe(outputEl, {childList: true});\n",
       "}}\n",
       "\n",
       "                        })                };                });            </script>        </div>"
      ]
     },
     "metadata": {},
     "output_type": "display_data"
    }
   ],
   "source": [
    "import plotly.graph_objects as go\n",
    "from plotly.offline import iplot, init_notebook_mode\n",
    "init_notebook_mode(connected=True)\n",
    "\n",
    "\n",
    "\n",
    "fig = go.Figure()\n",
    "fig.add_trace(go.Bar(\n",
    "    x=instances,\n",
    "    y=dev_Ham,\n",
    "    name='Ham',\n",
    "    marker_color='#176ab4'\n",
    "))\n",
    "fig.add_trace(go.Bar(\n",
    "    x=instances,\n",
    "    y=dev_ham_gvns,\n",
    "    name='Ham+GVNS',\n",
    "    marker_color='#4b9cd3'\n",
    "))\n",
    "fig.add_trace(go.Bar(\n",
    "    x=instances,\n",
    "    y=dev_CDS,\n",
    "    name='CDS',\n",
    "    marker_color='#6c3483'\n",
    "))\n",
    "fig.add_trace(go.Bar(\n",
    "    x=instances,\n",
    "    y=dev_cds_gvns,\n",
    "    name='CDS+GVNS',\n",
    "    marker_color='#9b59b6'\n",
    "))\n",
    "fig.add_trace(go.Bar(\n",
    "    x=instances,\n",
    "    y=dev_NEH,\n",
    "    name='NEH',\n",
    "    marker_color='#6b9c34'\n",
    "))\n",
    "fig.add_trace(go.Bar(\n",
    "    x=instances,\n",
    "    y=dev_neh_gvns,\n",
    "    name='NEH+GVNS',\n",
    "    marker_color='#8cc63f'\n",
    "))\n",
    "\n",
    "# Here we modify the tickangle of the xaxis, resulting in rotated labels.\n",
    "fig.update_layout(barmode='group', xaxis_tickangle=-45, xaxis_title =\"Instance\", yaxis_title=\"Deviation\", title_text=\"Déviations obtenues par GVNS avec différentes initialisations heuristiques\")\n",
    "fig.show()"
   ]
  },
  {
   "attachments": {},
   "cell_type": "markdown",
   "id": "0ea5e2af",
   "metadata": {},
   "source": [
    "# **4. Procédure de recherche adaptative aléatoire et gloutonne ou Greedy Randomized Adaptive Search Procedure  (GRASP)** <a class=\"anchor\" id=\"chapter4\"></a>\n",
    "https://www.sciencedirect.com/science/article/pii/S0305054812000482?via%3Dihub"
   ]
  },
  {
   "attachments": {},
   "cell_type": "markdown",
   "id": "d2c5ccd2",
   "metadata": {},
   "source": [
    "## **Implémentation** <a class=\"anchor\" id=\"section_4_1\"></a>"
   ]
  },
  {
   "attachments": {
    "image.png": {
     "image/png": "[encoded data removed]"
    }
   },
   "cell_type": "markdown",
   "id": "4289dfd3",
   "metadata": {},
   "source": [
    "GRASP est une technique itérative d'échantillonnage aléatoire qui fournit une solution au problème posé à chaque itération.\n",
    "\n",
    "L'algorithme comporte deux phases à chaque itération : la première phase construit une solution initiale à l'aide d'une fonction gourmande aléatoire adaptative, et la seconde phase applique une procédure de recherche locale à la solution construite dans l'espoir de trouver une amélioration.\n",
    "\n",
    "Voici le pseudo code de GRASP :\n",
    "\n",
    "![image.png](attachment:image.png)\n",
    "\n"
   ]
  },
  {
   "attachments": {},
   "cell_type": "markdown",
   "id": "aaa48824",
   "metadata": {},
   "source": [
    "Dans un premier lieu, nous avons importé la version de GRASP disponible dans pyscheduling, cette version est donnée comme suit : : "
   ]
  },
  {
   "cell_type": "code",
   "execution_count": 49,
   "id": "d2b9a452",
   "metadata": {},
   "outputs": [],
   "source": [
    "from pyscheduling.Problem import Branch_Bound\n",
    "from pyscheduling.FS import FmCmax, FlowShop\n",
    "import threading\n",
    "import pickle\n",
    "import numpy as np\n",
    "from time import perf_counter\n",
    "import time\n",
    "import matplotlib.pyplot as plt\n",
    "import random\n",
    "import pyscheduling as ps\n",
    "import random\n",
    "import sys\n",
    "from functools import partial\n",
    "from math import exp\n",
    "from time import perf_counter\n",
    "from typing import Callable\n",
    "\n",
    "import pyscheduling.FS.FlowShop as FS\n",
    "import pyscheduling.Problem as Problem\n",
    "from pyscheduling.Problem import Job\n",
    "def grasp(procesing_times, p=0.5 , r=10 , n_iterations=1000):\n",
    "        \"\"\"Returns the solution using the Greedy randomized adaptive search procedure algorithm\n",
    "\n",
    "        Args:\n",
    "            instance (SingleInstance): The instance to be solved by the heuristic\n",
    "            p (float): probability of taking the greedy best solution\n",
    "            r (int): percentage of moves to consider to select the best move\n",
    "            nb_exec (int): Number of execution of the heuristic\n",
    "\n",
    "        Returns:\n",
    "            Problem.SolveResult: the solver result of the execution of the heuristic\n",
    "        \"\"\"\n",
    "        \n",
    "        instance=FmCmax.FmCmax_Instance(name='',n=10,m=5,P=procesing_times)\n",
    "        \n",
    "        startTime = perf_counter()\n",
    "        solveResult = Problem.SolveResult()\n",
    "        best_solution = None\n",
    "        for _ in range(n_iterations):\n",
    "            solution = FS.FlowShopSolution(instance)\n",
    "            remaining_jobs_list = [i for i in range(instance.n)]\n",
    "            while len(remaining_jobs_list) != 0:\n",
    "                insertions_list = []\n",
    "                for i in remaining_jobs_list:\n",
    "                    start_time, end_time = solution.simulate_insert_last(i)\n",
    "                    new_obj = solution.simulate_insert_objective(i, start_time, end_time)\n",
    "                    insertions_list.append((i, new_obj))\n",
    "\n",
    "                insertions_list.sort(key=lambda insertion: insertion[1])\n",
    "                proba = random.random()\n",
    "                if proba < p:\n",
    "                    rand_insertion = insertions_list[0]\n",
    "                else:\n",
    "                    rand_insertion = random.choice(\n",
    "                        insertions_list[0:int(instance.n * r)])\n",
    "                \n",
    "                taken_job, new_obj = rand_insertion\n",
    "                solution.job_schedule.append(Job(taken_job, 0, 0))\n",
    "                solution.compute_objective(startIndex=len(solution.job_schedule) - 1)\n",
    "                remaining_jobs_list.remove(taken_job)\n",
    "\n",
    "            solveResult.all_solutions.append(solution)\n",
    "            if not best_solution or best_solution.objective_value > solution.objective_value:\n",
    "                best_solution = solution\n",
    "\n",
    "        solveResult.best_solution = best_solution\n",
    "        solveResult.runtime = perf_counter() - startTime\n",
    "        solveResult.solve_status = Problem.SolveStatus.FEASIBLE\n",
    "        best_schedule=[]\n",
    "        [best_schedule.append(job.id) for job in solveResult.all_solutions[0].machines[1].oper_schedule]\n",
    "        return best_schedule\n"
   ]
  },
  {
   "attachments": {},
   "cell_type": "markdown",
   "id": "e4ae7466",
   "metadata": {},
   "source": [
    "Nous avons par la suite essayé d'implémenter, nous-meme, la version simplifiée proposée dans l'article : https://www.sciencedirect.com/science/article/pii/S0305054812000482?via%3Dihub\n",
    "\n",
    "Avec initialisation par **combined_destruction_construction** utilisée précédemment dans GVNS, et comme recherche locale, la meme RL utilisée dans GVNS, l'algorithme finale est le suivant : "
   ]
  },
  {
   "cell_type": "code",
   "execution_count": 11,
   "id": "3285a9af",
   "metadata": {},
   "outputs": [],
   "source": [
    "def newGRASP(schedule,processing_times,max_iter):\n",
    "    schedule=list(schedule)\n",
    "    best_schedule=schedule\n",
    "    for i in range(max_iter): \n",
    "        new_schedule=combined_destruction_construction(schedule, 1, processing_times)\n",
    "        # newnew_schedule=local_search(schedule,processing_times)\n",
    "        newnew_schedule=local_search(new_schedule,processing_times)\n",
    "        if(compute_makespan(newnew_schedule,processing_times)<compute_makespan(best_schedule,processing_times)):\n",
    "            best_schedule=newnew_schedule\n",
    "        \n",
    "    return best_schedule"
   ]
  },
  {
   "attachments": {},
   "cell_type": "markdown",
   "id": "d660ce6f",
   "metadata": {},
   "source": [
    "## **Tests er analyses** <a class=\"anchor\" id=\"section_4_2\"></a>"
   ]
  },
  {
   "attachments": {},
   "cell_type": "markdown",
   "id": "adf80d37",
   "metadata": {},
   "source": [
    "### **Instance aléatoire**"
   ]
  },
  {
   "attachments": {},
   "cell_type": "markdown",
   "id": "47028269",
   "metadata": {},
   "source": [
    "Nous avons testé les deux versions de GRASP sur l'instance aléatoire, nous avons obtenu un résultat de déviation = 21.143375680580764 par la version de pyscheduling, et une déviation presque négligeable a été obtenue par la nouvelle version de GRASP.\n",
    "\n",
    "Les paramètres sont fixés à :\n",
    "- Nombre d'itérations = 1000\n",
    "- r = 10\n",
    "- p = 0.5 "
   ]
  },
  {
   "cell_type": "code",
   "execution_count": 7,
   "id": "61fb08b9",
   "metadata": {},
   "outputs": [
    {
     "ename": "NameError",
     "evalue": "name 'grasp' is not defined",
     "output_type": "error",
     "traceback": [
      "\u001b[1;31m---------------------------------------------------------------------------\u001b[0m",
      "\u001b[1;31mNameError\u001b[0m                                 Traceback (most recent call last)",
      "\u001b[1;32m~\\AppData\\Local\\Temp\\ipykernel_7252\\1755405506.py\u001b[0m in \u001b[0;36m<module>\u001b[1;34m\u001b[0m\n\u001b[0;32m      3\u001b[0m \u001b[0mupper_bound\u001b[0m\u001b[1;33m=\u001b[0m\u001b[1;36m1102\u001b[0m\u001b[1;33m\u001b[0m\u001b[1;33m\u001b[0m\u001b[0m\n\u001b[0;32m      4\u001b[0m \u001b[1;31m#Run the algorithms\u001b[0m\u001b[1;33m\u001b[0m\u001b[1;33m\u001b[0m\u001b[0m\n\u001b[1;32m----> 5\u001b[1;33m \u001b[0mschedule_grasp\u001b[0m \u001b[1;33m=\u001b[0m \u001b[0mgrasp\u001b[0m\u001b[1;33m(\u001b[0m\u001b[0mprocessing_times\u001b[0m\u001b[1;33m)\u001b[0m\u001b[1;33m\u001b[0m\u001b[1;33m\u001b[0m\u001b[0m\n\u001b[0m\u001b[0;32m      6\u001b[0m \u001b[0mmakespan_grasp\u001b[0m \u001b[1;33m=\u001b[0m \u001b[0mcompute_makespan\u001b[0m\u001b[1;33m(\u001b[0m\u001b[0mschedule_grasp\u001b[0m\u001b[1;33m,\u001b[0m\u001b[0mprocessing_times\u001b[0m\u001b[1;33m)\u001b[0m\u001b[1;33m\u001b[0m\u001b[1;33m\u001b[0m\u001b[0m\n\u001b[0;32m      7\u001b[0m \u001b[1;33m\u001b[0m\u001b[0m\n",
      "\u001b[1;31mNameError\u001b[0m: name 'grasp' is not defined"
     ]
    }
   ],
   "source": [
    "instance=FmCmax.FmCmax_Instance.read_txt(\"../TP02-Heuristiques/data/random_instance.txt\")\n",
    "processing_times = np.array(instance.P)\n",
    "upper_bound=1102\n",
    "#Run the algorithms\n",
    "schedule_grasp = grasp(processing_times)\n",
    "makespan_grasp = compute_makespan(schedule_grasp,processing_times)\n",
    "\n",
    "print(\"-------Instance aléatoire--------\")\n",
    "print(\"Séquence obtenue :\")\n",
    "print(schedule_grasp)\n",
    "print(\"makespan :\")\n",
    "print(makespan_grasp)\n",
    "print(\"Déviation :\")\n",
    "print(100*(obj-upper_bound)/upper_bound)"
   ]
  },
  {
   "cell_type": "code",
   "execution_count": 17,
   "id": "9f00519b",
   "metadata": {},
   "outputs": [
    {
     "data": {
      "image/png": "[encoded data removed]",
      "text/plain": [
       "<Figure size 640x480 with 1 Axes>"
      ]
     },
     "metadata": {},
     "output_type": "display_data"
    }
   ],
   "source": [
    "instance=FmCmax.FmCmax_Instance.read_txt(\"../TP02-Heuristiques/data/random_instance.txt\")\n",
    "processing_times = np.array(instance.P)\n",
    "max_iter = 100\n",
    "\n",
    "#Run the algorithms\n",
    "schedule_ham, makespan_ham = heuristique_Ham(processing_times)\n",
    "schedule_newGRASP_ham = newGRASP(schedule_ham,processing_times,max_iter)\n",
    "makespan_newGRASP_ham = compute_makespan(schedule_newGRASP_ham,processing_times)\n",
    "schedule_neh, makespan_neh = heuristique_NEH(processing_times)\n",
    "schedule_newGRASP_neh = newGRASP(schedule_neh,processing_times,max_iter)\n",
    "makespan_newGRASP_neh = compute_makespan(schedule_newGRASP_neh,processing_times)\n",
    "schedule_cds, makespan_cds = heuristique_CDS(processing_times)\n",
    "schedule_newGRASP_cds = newGRASP(schedule_cds,processing_times,max_iter)\n",
    "makespan_newGRASP_cds = compute_makespan(schedule_newGRASP_cds,processing_times)\n",
    "\n",
    "# Plot the results as a bar chart\n",
    "labels = ['Ham', 'GRASP + Ham', 'NEH', 'GRASP + NEH','CDS','GRASP + CDS']\n",
    "makespans = [makespan_ham, makespan_newGRASP_ham, makespan_neh, makespan_newGRASP_neh,makespan_cds,makespan_newGRASP_cds]\n",
    "colors = ['tab:red','tab:blue','tab:red','tab:blue','tab:red','tab:blue']\n",
    "\n",
    "plt.bar(labels, makespans, color=colors)\n",
    "plt.ylabel('Makespan')\n",
    "plt.title('Comparaison des solutions pour différentes initialisations et optimisations')\n",
    "\n",
    "plt.xticks(fontsize=8)\n",
    "# Set the minimum value of the y-axis to 1000\n",
    "plt.ylim(bottom=1000)\n",
    "\n",
    "# Add the values as text above the bars\n",
    "for i, v in enumerate(makespans):\n",
    "    plt.text(i, v + 1, str(v), ha='center')\n",
    "\n",
    "plt.show()"
   ]
  },
  {
   "attachments": {},
   "cell_type": "markdown",
   "id": "3e5f8d74",
   "metadata": {},
   "source": [
    "### **Instances de Taillard**"
   ]
  },
  {
   "attachments": {},
   "cell_type": "markdown",
   "id": "a41b8a17",
   "metadata": {},
   "source": [
    "### Nombre d'itérations & déviation (pour la nouvelle version)"
   ]
  },
  {
   "cell_type": "code",
   "execution_count": 19,
   "id": "649bdfd0",
   "metadata": {},
   "outputs": [],
   "source": [
    "f =  open(\"../TP02-Heuristiques/data/Taillard.pkl\", \"rb\")\n",
    "taillard = pickle.load(f)\n",
    "max_iter=100\n",
    "processing_times = np.array(taillard[0][\"P\"]).transpose()\n",
    "upper_bound = taillard[0][\"ub\"]\n",
    "iter=[]\n",
    "dev=[]\n",
    "times=[]\n",
    "for max_iter in range(100,1000,100):\n",
    "    iter.append(max_iter)\n",
    "    schedule_neh, makespan_neh = heuristique_NEH(processing_times)\n",
    "    new_schedule = newGRASP(schedule_neh,processing_times,max_iter)\n",
    "    makespan= compute_makespan(new_schedule,processing_times)\n",
    "    dev.append(100*(makespan-upper_bound)/upper_bound)\n",
    "\n"
   ]
  },
  {
   "cell_type": "code",
   "execution_count": 20,
   "id": "e10b1d16",
   "metadata": {},
   "outputs": [
    {
     "data": {
      "image/png": "[encoded data removed]",
      "text/plain": [
       "<Figure size 640x480 with 1 Axes>"
      ]
     },
     "metadata": {},
     "output_type": "display_data"
    }
   ],
   "source": [
    "# Create a figure and axis object\n",
    "fig, ax = plt.subplots()\n",
    "\n",
    "# Plot the data\n",
    "ax.plot(iter, dev)\n",
    "\n",
    "# Add axis labels and a title\n",
    "ax.set_xlabel('Nombre ditérations')\n",
    "ax.set_ylabel('Déviation')\n",
    "ax.set_title('Variation de la déviation trouvée par GRASP en fonction du nombre ditérations')\n",
    "\n",
    "# Display the graph\n",
    "plt.show()"
   ]
  },
  {
   "attachments": {},
   "cell_type": "markdown",
   "id": "0a95bd9f",
   "metadata": {},
   "source": [
    "### Résultats obtenus par différentes méthodes d'initialisation "
   ]
  },
  {
   "cell_type": "code",
   "execution_count": 21,
   "id": "62b122cc",
   "metadata": {},
   "outputs": [],
   "source": [
    "f =  open(\"../TP02-Heuristiques/data/Taillard.pkl\", \"rb\")\n",
    "taillard = pickle.load(f)\n",
    "max_iter=500\n",
    "i=0\n",
    "dev_Ham=[]\n",
    "dev_NEH=[]\n",
    "dev_CDS=[]\n",
    "dev_ham_grasp=[]\n",
    "dev_neh_grasp=[]\n",
    "dev_cds_grasp=[]\n",
    "times_grasp=[]\n",
    "instances=list(range(1,11))\n",
    "\n",
    "for i in range(10):\n",
    "    processing_times = np.array(taillard[i][\"P\"]).transpose()\n",
    "    upper_bound = taillard[i][\"ub\"]\n",
    "    schedule_ham, makespan_ham = heuristique_Ham(processing_times)\n",
    "    schedule_grasp_ham = newGRASP(schedule_ham,processing_times,max_iter)\n",
    "    makespan_grasp_ham = compute_makespan(schedule_grasp_ham,processing_times)\n",
    "    schedule_neh, makespan_neh = heuristique_NEH(processing_times)\n",
    "    start_time = time.time()\n",
    "    schedule_grasp_neh = newGRASP(schedule_neh,processing_times,max_iter)\n",
    "    end_time = time. time()\n",
    "    elapsed_time = end_time - start_time\n",
    "    makespan_grasp_neh = compute_makespan(schedule_grasp_neh,processing_times)\n",
    "    schedule_cds, makespan_cds = heuristique_CDS(processing_times)\n",
    "    start_time = time.time() \n",
    "    schedule_grasp_cds = newGRASP(schedule_cds,processing_times,max_iter)\n",
    "    end_time = time.time() \n",
    "    elapsed_time = end_time - start_time\n",
    "    times_grasp.append(elapsed_time)\n",
    "    makespan_grasp_cds = compute_makespan(schedule_grasp_cds,processing_times)\n",
    "    dev_Ham.append(100*(makespan_ham-upper_bound)/upper_bound)\n",
    "    dev_NEH.append(100*(makespan_neh-upper_bound)/upper_bound)\n",
    "    dev_CDS.append(100*(makespan_cds-upper_bound)/upper_bound)\n",
    "    dev_ham_grasp.append(100*(makespan_grasp_ham-upper_bound)/upper_bound)\n",
    "    dev_neh_grasp.append(100*(makespan_grasp_neh-upper_bound)/upper_bound)\n",
    "    dev_cds_grasp.append(100*(makespan_grasp_cds-upper_bound)/upper_bound)"
   ]
  },
  {
   "cell_type": "code",
   "execution_count": 31,
   "id": "04b421b4",
   "metadata": {},
   "outputs": [],
   "source": [
    "dev_ham_grasp=[3.1298904538341157,\n",
    "  1.030169242089772,\n",
    "  0.9250693802035153,\n",
    "  3.480278422273782,\n",
    "  6.957928802588997,\n",
    "  1.00418410041841,\n",
    "  5.4075867635189665,\n",
    "  12.437810945273633,\n",
    "  6.260162601626016,\n",
    "  6.227436823104693]\n",
    "dev_neh_grasp=[0.6259780907668232,\n",
    "  0.44150110375275936,\n",
    "  4.717853839037928,\n",
    "  2.474864655839134,\n",
    "  3.3171521035598706,\n",
    "  2.426778242677824,\n",
    "  0.9685230024213075,\n",
    "  1.4096185737976783,\n",
    "  2.7642276422764227,\n",
    "  3.88086642599278]\n",
    "dev_cds_grasp=[3.051643192488263,\n",
    "  1.3245033112582782,\n",
    "  5.735430157261795,\n",
    "  1.6241299303944317,\n",
    "  1.132686084142395,\n",
    "  1.5899581589958158,\n",
    "  4.358353510895884,\n",
    "  7.960199004975125,\n",
    "  2.032520325203252,\n",
    "  2.0758122743682312]\n",
    "times_grasp=[36.24518656730652,\n",
    " 20.56029438972473,\n",
    " 20.441946506500244,\n",
    " 20.590385913848877,\n",
    " 20.940468072891235,\n",
    " 20.606321096420288,\n",
    " 21.341377019882202,\n",
    " 20.56865644454956,\n",
    " 20.92753529548645,\n",
    " 20.610883474349976]"
   ]
  },
  {
   "cell_type": "code",
   "execution_count": 25,
   "id": "8ba6847c",
   "metadata": {},
   "outputs": [
    {
     "name": "stdout",
     "output_type": "stream",
     "text": [
      "1 & 1278 && 12.44 && 1.49 && 8.76 && 1.49 && 0.63 && 0.63 \\\\\n",
      "2 & 1359 && 9.49 && 1.03 && 4.78 && 1.03 && 0.44 && 0.44 \\\\\n",
      "3 & 1081 && 30.16 && 6.66 && 15.54 && 8.14 && 7.22 && 6.66 \\\\\n",
      "4 & 1293 && 19.57 && 3.4 && 9.67 && 3.4 && 2.47 && 2.47 \\\\\n",
      "5 & 1236 && 11.25 && 1.78 && 7.04 && 1.78 && 5.58 && 1.78 \\\\\n",
      "6 & 1195 && 11.55 && 2.01 && 9.79 && 2.01 && 2.76 && 1.34 \\\\\n",
      "7 & 1239 && 16.71 && 1.86 && 12.43 && 1.61 && 3.15 && 1.61 \\\\\n",
      "8 & 1206 && 23.22 && 3.9 && 11.19 && 6.38 && 1.41 && 1.41 \\\\\n",
      "9 & 1230 && 25.04 && 5.12 && 10.57 && 5.12 && 4.96 && 4.96 \\\\\n",
      "10 & 1108 && 17.33 && 4.06 && 5.05 && 4.06 && 3.88 && 3.88 \\\\\n"
     ]
    }
   ],
   "source": [
    "\n",
    "for i in range(10):\n",
    "    print(i+1,\"&\",taillard[i][\"ub\"],'&&',round(dev_Ham[i],2),'&&',round(dev_ham_grasp[i],2),'&&',round(dev_CDS[i],2),'&&',round(dev_cds_grasp[i],2),'&&',round(dev_NEH[i],2),'&&',round(dev_neh_grasp[i],2),\"\\\\\\\\\")"
   ]
  },
  {
   "cell_type": "code",
   "execution_count": 27,
   "id": "134199f2",
   "metadata": {},
   "outputs": [
    {
     "name": "stdout",
     "output_type": "stream",
     "text": [
      "1 &&\n",
      "2 &&\n",
      "3 &&\n",
      "4 &&\n",
      "5 &&\n",
      "6 &&\n",
      "7 &&\n",
      "8 &&\n",
      "9 &&\n",
      "10 &&\n"
     ]
    }
   ],
   "source": [
    "for i in range(10):\n",
    "    print(i+1,\"&&\")"
   ]
  },
  {
   "cell_type": "code",
   "execution_count": 29,
   "id": "83f2cf2a",
   "metadata": {},
   "outputs": [
    {
     "name": "stdout",
     "output_type": "stream",
     "text": [
      "23.19 &&\n",
      "10.95 &&\n",
      "11.02 &&\n",
      "10.82 &&\n",
      "11.0 &&\n",
      "10.82 &&\n",
      "10.89 &&\n",
      "10.99 &&\n",
      "11.25 &&\n",
      "10.86 &&\n"
     ]
    }
   ],
   "source": [
    "\n",
    "for i in range(10):\n",
    "    print(round(times_grasp[i],2),\"&&\")\n",
    "    # print(i+1,\"&\",taillard[i][\"ub\"],'&&',round(dev_Ham[i],2),'&',dev_ham_grasp[i],'&&',round(dev_CDS[i],2),'&',dev_cds_grasp[i],'&&',round(dev_NEH[i],2),'&',dev_neh_grasp[i],\"\\\\\\\\\")"
   ]
  },
  {
   "cell_type": "code",
   "execution_count": 22,
   "id": "5d9f8325",
   "metadata": {},
   "outputs": [
    {
     "data": {
      "text/html": [
       "        <script type=\"text/javascript\">\n",
       "        window.PlotlyConfig = {MathJaxConfig: 'local'};\n",
       "        if (window.MathJax && window.MathJax.Hub && window.MathJax.Hub.Config) {window.MathJax.Hub.Config({SVG: {font: \"STIX-Web\"}});}\n",
       "        if (typeof require !== 'undefined') {\n",
       "        require.undef(\"plotly\");\n",
       "        requirejs.config({\n",
       "            paths: {\n",
       "                'plotly': ['https://cdn.plot.ly/plotly-2.12.1.min']\n",
       "            }\n",
       "        });\n",
       "        require(['plotly'], function(Plotly) {\n",
       "            window._Plotly = Plotly;\n",
       "        });\n",
       "        }\n",
       "        </script>\n",
       "        "
      ]
     },
     "metadata": {},
     "output_type": "display_data"
    },
    {
     "data": {
      "application/vnd.plotly.v1+json": {
       "config": {
        "plotlyServerURL": "https://plot.ly"
       },
       "data": [
        {
         "marker": {
          "color": "#176ab4"
         },
         "name": "Rand",
         "type": "bar",
         "x": [
          1,
          2,
          3,
          4,
          5,
          6,
          7,
          8,
          9,
          10
         ],
         "y": [
          12.44131455399061,
          9.492273730684326,
          30.157261794634596,
          19.56689868522815,
          11.245954692556634,
          11.548117154811715,
          16.707021791767556,
          23.217247097844112,
          25.040650406504064,
          17.32851985559567
         ]
        },
        {
         "marker": {
          "color": "#4b9cd3"
         },
         "name": "Rand+grasp",
         "type": "bar",
         "x": [
          1,
          2,
          3,
          4,
          5,
          6,
          7,
          8,
          9,
          10
         ],
         "y": [
          1.486697965571205,
          1.030169242089772,
          6.66049953746531,
          3.4029389017788088,
          1.779935275080906,
          2.00836820083682,
          1.8563357546408394,
          3.8971807628524044,
          5.121951219512195,
          4.061371841155235
         ]
        },
        {
         "marker": {
          "color": "#6c3483"
         },
         "name": "CDS",
         "type": "bar",
         "x": [
          1,
          2,
          3,
          4,
          5,
          6,
          7,
          8,
          9,
          10
         ],
         "y": [
          8.763693270735525,
          4.7829286239882265,
          15.541165587419057,
          9.667440061871616,
          7.038834951456311,
          9.790794979079498,
          12.429378531073446,
          11.194029850746269,
          10.56910569105691,
          5.054151624548736
         ]
        },
        {
         "marker": {
          "color": "#9b59b6"
         },
         "name": "CDS+grasp",
         "type": "bar",
         "x": [
          1,
          2,
          3,
          4,
          5,
          6,
          7,
          8,
          9,
          10
         ],
         "y": [
          1.486697965571205,
          1.030169242089772,
          8.140610545790935,
          3.4029389017788088,
          1.779935275080906,
          2.00836820083682,
          1.6142050040355125,
          6.384742951907131,
          5.121951219512195,
          4.061371841155235
         ]
        },
        {
         "marker": {
          "color": "#6b9c34"
         },
         "name": "NEH",
         "type": "bar",
         "x": [
          1,
          2,
          3,
          4,
          5,
          6,
          7,
          8,
          9,
          10
         ],
         "y": [
          0.6259780907668232,
          0.44150110375275936,
          7.215541165587419,
          2.474864655839134,
          5.58252427184466,
          2.7615062761506275,
          3.1476997578692494,
          1.4096185737976783,
          4.959349593495935,
          3.88086642599278
         ]
        },
        {
         "marker": {
          "color": "#8cc63f"
         },
         "name": "NEH+grasp",
         "type": "bar",
         "x": [
          1,
          2,
          3,
          4,
          5,
          6,
          7,
          8,
          9,
          10
         ],
         "y": [
          0.6259780907668232,
          0.44150110375275936,
          6.66049953746531,
          2.474864655839134,
          1.779935275080906,
          1.3389121338912133,
          1.6142050040355125,
          1.4096185737976783,
          4.959349593495935,
          3.88086642599278
         ]
        }
       ],
       "layout": {
        "barmode": "group",
        "template": {
         "data": {
          "bar": [
           {
            "error_x": {
             "color": "#2a3f5f"
            },
            "error_y": {
             "color": "#2a3f5f"
            },
            "marker": {
             "line": {
              "color": "#E5ECF6",
              "width": 0.5
             },
             "pattern": {
              "fillmode": "overlay",
              "size": 10,
              "solidity": 0.2
             }
            },
            "type": "bar"
           }
          ],
          "barpolar": [
           {
            "marker": {
             "line": {
              "color": "#E5ECF6",
              "width": 0.5
             },
             "pattern": {
              "fillmode": "overlay",
              "size": 10,
              "solidity": 0.2
             }
            },
            "type": "barpolar"
           }
          ],
          "carpet": [
           {
            "aaxis": {
             "endlinecolor": "#2a3f5f",
             "gridcolor": "white",
             "linecolor": "white",
             "minorgridcolor": "white",
             "startlinecolor": "#2a3f5f"
            },
            "baxis": {
             "endlinecolor": "#2a3f5f",
             "gridcolor": "white",
             "linecolor": "white",
             "minorgridcolor": "white",
             "startlinecolor": "#2a3f5f"
            },
            "type": "carpet"
           }
          ],
          "choropleth": [
           {
            "colorbar": {
             "outlinewidth": 0,
             "ticks": ""
            },
            "type": "choropleth"
           }
          ],
          "contour": [
           {
            "colorbar": {
             "outlinewidth": 0,
             "ticks": ""
            },
            "colorscale": [
             [
              0,
              "#0d0887"
             ],
             [
              0.1111111111111111,
              "#46039f"
             ],
             [
              0.2222222222222222,
              "#7201a8"
             ],
             [
              0.3333333333333333,
              "#9c179e"
             ],
             [
              0.4444444444444444,
              "#bd3786"
             ],
             [
              0.5555555555555556,
              "#d8576b"
             ],
             [
              0.6666666666666666,
              "#ed7953"
             ],
             [
              0.7777777777777778,
              "#fb9f3a"
             ],
             [
              0.8888888888888888,
              "#fdca26"
             ],
             [
              1,
              "#f0f921"
             ]
            ],
            "type": "contour"
           }
          ],
          "contourcarpet": [
           {
            "colorbar": {
             "outlinewidth": 0,
             "ticks": ""
            },
            "type": "contourcarpet"
           }
          ],
          "heatmap": [
           {
            "colorbar": {
             "outlinewidth": 0,
             "ticks": ""
            },
            "colorscale": [
             [
              0,
              "#0d0887"
             ],
             [
              0.1111111111111111,
              "#46039f"
             ],
             [
              0.2222222222222222,
              "#7201a8"
             ],
             [
              0.3333333333333333,
              "#9c179e"
             ],
             [
              0.4444444444444444,
              "#bd3786"
             ],
             [
              0.5555555555555556,
              "#d8576b"
             ],
             [
              0.6666666666666666,
              "#ed7953"
             ],
             [
              0.7777777777777778,
              "#fb9f3a"
             ],
             [
              0.8888888888888888,
              "#fdca26"
             ],
             [
              1,
              "#f0f921"
             ]
            ],
            "type": "heatmap"
           }
          ],
          "heatmapgl": [
           {
            "colorbar": {
             "outlinewidth": 0,
             "ticks": ""
            },
            "colorscale": [
             [
              0,
              "#0d0887"
             ],
             [
              0.1111111111111111,
              "#46039f"
             ],
             [
              0.2222222222222222,
              "#7201a8"
             ],
             [
              0.3333333333333333,
              "#9c179e"
             ],
             [
              0.4444444444444444,
              "#bd3786"
             ],
             [
              0.5555555555555556,
              "#d8576b"
             ],
             [
              0.6666666666666666,
              "#ed7953"
             ],
             [
              0.7777777777777778,
              "#fb9f3a"
             ],
             [
              0.8888888888888888,
              "#fdca26"
             ],
             [
              1,
              "#f0f921"
             ]
            ],
            "type": "heatmapgl"
           }
          ],
          "histogram": [
           {
            "marker": {
             "pattern": {
              "fillmode": "overlay",
              "size": 10,
              "solidity": 0.2
             }
            },
            "type": "histogram"
           }
          ],
          "histogram2d": [
           {
            "colorbar": {
             "outlinewidth": 0,
             "ticks": ""
            },
            "colorscale": [
             [
              0,
              "#0d0887"
             ],
             [
              0.1111111111111111,
              "#46039f"
             ],
             [
              0.2222222222222222,
              "#7201a8"
             ],
             [
              0.3333333333333333,
              "#9c179e"
             ],
             [
              0.4444444444444444,
              "#bd3786"
             ],
             [
              0.5555555555555556,
              "#d8576b"
             ],
             [
              0.6666666666666666,
              "#ed7953"
             ],
             [
              0.7777777777777778,
              "#fb9f3a"
             ],
             [
              0.8888888888888888,
              "#fdca26"
             ],
             [
              1,
              "#f0f921"
             ]
            ],
            "type": "histogram2d"
           }
          ],
          "histogram2dcontour": [
           {
            "colorbar": {
             "outlinewidth": 0,
             "ticks": ""
            },
            "colorscale": [
             [
              0,
              "#0d0887"
             ],
             [
              0.1111111111111111,
              "#46039f"
             ],
             [
              0.2222222222222222,
              "#7201a8"
             ],
             [
              0.3333333333333333,
              "#9c179e"
             ],
             [
              0.4444444444444444,
              "#bd3786"
             ],
             [
              0.5555555555555556,
              "#d8576b"
             ],
             [
              0.6666666666666666,
              "#ed7953"
             ],
             [
              0.7777777777777778,
              "#fb9f3a"
             ],
             [
              0.8888888888888888,
              "#fdca26"
             ],
             [
              1,
              "#f0f921"
             ]
            ],
            "type": "histogram2dcontour"
           }
          ],
          "mesh3d": [
           {
            "colorbar": {
             "outlinewidth": 0,
             "ticks": ""
            },
            "type": "mesh3d"
           }
          ],
          "parcoords": [
           {
            "line": {
             "colorbar": {
              "outlinewidth": 0,
              "ticks": ""
             }
            },
            "type": "parcoords"
           }
          ],
          "pie": [
           {
            "automargin": true,
            "type": "pie"
           }
          ],
          "scatter": [
           {
            "fillpattern": {
             "fillmode": "overlay",
             "size": 10,
             "solidity": 0.2
            },
            "type": "scatter"
           }
          ],
          "scatter3d": [
           {
            "line": {
             "colorbar": {
              "outlinewidth": 0,
              "ticks": ""
             }
            },
            "marker": {
             "colorbar": {
              "outlinewidth": 0,
              "ticks": ""
             }
            },
            "type": "scatter3d"
           }
          ],
          "scattercarpet": [
           {
            "marker": {
             "colorbar": {
              "outlinewidth": 0,
              "ticks": ""
             }
            },
            "type": "scattercarpet"
           }
          ],
          "scattergeo": [
           {
            "marker": {
             "colorbar": {
              "outlinewidth": 0,
              "ticks": ""
             }
            },
            "type": "scattergeo"
           }
          ],
          "scattergl": [
           {
            "marker": {
             "colorbar": {
              "outlinewidth": 0,
              "ticks": ""
             }
            },
            "type": "scattergl"
           }
          ],
          "scattermapbox": [
           {
            "marker": {
             "colorbar": {
              "outlinewidth": 0,
              "ticks": ""
             }
            },
            "type": "scattermapbox"
           }
          ],
          "scatterpolar": [
           {
            "marker": {
             "colorbar": {
              "outlinewidth": 0,
              "ticks": ""
             }
            },
            "type": "scatterpolar"
           }
          ],
          "scatterpolargl": [
           {
            "marker": {
             "colorbar": {
              "outlinewidth": 0,
              "ticks": ""
             }
            },
            "type": "scatterpolargl"
           }
          ],
          "scatterternary": [
           {
            "marker": {
             "colorbar": {
              "outlinewidth": 0,
              "ticks": ""
             }
            },
            "type": "scatterternary"
           }
          ],
          "surface": [
           {
            "colorbar": {
             "outlinewidth": 0,
             "ticks": ""
            },
            "colorscale": [
             [
              0,
              "#0d0887"
             ],
             [
              0.1111111111111111,
              "#46039f"
             ],
             [
              0.2222222222222222,
              "#7201a8"
             ],
             [
              0.3333333333333333,
              "#9c179e"
             ],
             [
              0.4444444444444444,
              "#bd3786"
             ],
             [
              0.5555555555555556,
              "#d8576b"
             ],
             [
              0.6666666666666666,
              "#ed7953"
             ],
             [
              0.7777777777777778,
              "#fb9f3a"
             ],
             [
              0.8888888888888888,
              "#fdca26"
             ],
             [
              1,
              "#f0f921"
             ]
            ],
            "type": "surface"
           }
          ],
          "table": [
           {
            "cells": {
             "fill": {
              "color": "#EBF0F8"
             },
             "line": {
              "color": "white"
             }
            },
            "header": {
             "fill": {
              "color": "#C8D4E3"
             },
             "line": {
              "color": "white"
             }
            },
            "type": "table"
           }
          ]
         },
         "layout": {
          "annotationdefaults": {
           "arrowcolor": "#2a3f5f",
           "arrowhead": 0,
           "arrowwidth": 1
          },
          "autotypenumbers": "strict",
          "coloraxis": {
           "colorbar": {
            "outlinewidth": 0,
            "ticks": ""
           }
          },
          "colorscale": {
           "diverging": [
            [
             0,
             "#8e0152"
            ],
            [
             0.1,
             "#c51b7d"
            ],
            [
             0.2,
             "#de77ae"
            ],
            [
             0.3,
             "#f1b6da"
            ],
            [
             0.4,
             "#fde0ef"
            ],
            [
             0.5,
             "#f7f7f7"
            ],
            [
             0.6,
             "#e6f5d0"
            ],
            [
             0.7,
             "#b8e186"
            ],
            [
             0.8,
             "#7fbc41"
            ],
            [
             0.9,
             "#4d9221"
            ],
            [
             1,
             "#276419"
            ]
           ],
           "sequential": [
            [
             0,
             "#0d0887"
            ],
            [
             0.1111111111111111,
             "#46039f"
            ],
            [
             0.2222222222222222,
             "#7201a8"
            ],
            [
             0.3333333333333333,
             "#9c179e"
            ],
            [
             0.4444444444444444,
             "#bd3786"
            ],
            [
             0.5555555555555556,
             "#d8576b"
            ],
            [
             0.6666666666666666,
             "#ed7953"
            ],
            [
             0.7777777777777778,
             "#fb9f3a"
            ],
            [
             0.8888888888888888,
             "#fdca26"
            ],
            [
             1,
             "#f0f921"
            ]
           ],
           "sequentialminus": [
            [
             0,
             "#0d0887"
            ],
            [
             0.1111111111111111,
             "#46039f"
            ],
            [
             0.2222222222222222,
             "#7201a8"
            ],
            [
             0.3333333333333333,
             "#9c179e"
            ],
            [
             0.4444444444444444,
             "#bd3786"
            ],
            [
             0.5555555555555556,
             "#d8576b"
            ],
            [
             0.6666666666666666,
             "#ed7953"
            ],
            [
             0.7777777777777778,
             "#fb9f3a"
            ],
            [
             0.8888888888888888,
             "#fdca26"
            ],
            [
             1,
             "#f0f921"
            ]
           ]
          },
          "colorway": [
           "#636efa",
           "#EF553B",
           "#00cc96",
           "#ab63fa",
           "#FFA15A",
           "#19d3f3",
           "#FF6692",
           "#B6E880",
           "#FF97FF",
           "#FECB52"
          ],
          "font": {
           "color": "#2a3f5f"
          },
          "geo": {
           "bgcolor": "white",
           "lakecolor": "white",
           "landcolor": "#E5ECF6",
           "showlakes": true,
           "showland": true,
           "subunitcolor": "white"
          },
          "hoverlabel": {
           "align": "left"
          },
          "hovermode": "closest",
          "mapbox": {
           "style": "light"
          },
          "paper_bgcolor": "white",
          "plot_bgcolor": "#E5ECF6",
          "polar": {
           "angularaxis": {
            "gridcolor": "white",
            "linecolor": "white",
            "ticks": ""
           },
           "bgcolor": "#E5ECF6",
           "radialaxis": {
            "gridcolor": "white",
            "linecolor": "white",
            "ticks": ""
           }
          },
          "scene": {
           "xaxis": {
            "backgroundcolor": "#E5ECF6",
            "gridcolor": "white",
            "gridwidth": 2,
            "linecolor": "white",
            "showbackground": true,
            "ticks": "",
            "zerolinecolor": "white"
           },
           "yaxis": {
            "backgroundcolor": "#E5ECF6",
            "gridcolor": "white",
            "gridwidth": 2,
            "linecolor": "white",
            "showbackground": true,
            "ticks": "",
            "zerolinecolor": "white"
           },
           "zaxis": {
            "backgroundcolor": "#E5ECF6",
            "gridcolor": "white",
            "gridwidth": 2,
            "linecolor": "white",
            "showbackground": true,
            "ticks": "",
            "zerolinecolor": "white"
           }
          },
          "shapedefaults": {
           "line": {
            "color": "#2a3f5f"
           }
          },
          "ternary": {
           "aaxis": {
            "gridcolor": "white",
            "linecolor": "white",
            "ticks": ""
           },
           "baxis": {
            "gridcolor": "white",
            "linecolor": "white",
            "ticks": ""
           },
           "bgcolor": "#E5ECF6",
           "caxis": {
            "gridcolor": "white",
            "linecolor": "white",
            "ticks": ""
           }
          },
          "title": {
           "x": 0.05
          },
          "xaxis": {
           "automargin": true,
           "gridcolor": "white",
           "linecolor": "white",
           "ticks": "",
           "title": {
            "standoff": 15
           },
           "zerolinecolor": "white",
           "zerolinewidth": 2
          },
          "yaxis": {
           "automargin": true,
           "gridcolor": "white",
           "linecolor": "white",
           "ticks": "",
           "title": {
            "standoff": 15
           },
           "zerolinecolor": "white",
           "zerolinewidth": 2
          }
         }
        },
        "title": {
         "text": "Déviations obtenues par grasp avec différentes initialisations heuristiques"
        },
        "xaxis": {
         "tickangle": -45,
         "title": {
          "text": "Instance"
         }
        },
        "yaxis": {
         "title": {
          "text": "Deviation (%)"
         }
        }
       }
      },
      "text/html": [
       "<div>                            <div id=\"36166cad-f0fa-41e3-b717-e827f24f7181\" class=\"plotly-graph-div\" style=\"height:525px; width:100%;\"></div>            <script type=\"text/javascript\">                require([\"plotly\"], function(Plotly) {                    window.PLOTLYENV=window.PLOTLYENV || {};                                    if (document.getElementById(\"36166cad-f0fa-41e3-b717-e827f24f7181\")) {                    Plotly.newPlot(                        \"36166cad-f0fa-41e3-b717-e827f24f7181\",                        [{\"marker\":{\"color\":\"#176ab4\"},\"name\":\"Rand\",\"x\":[1,2,3,4,5,6,7,8,9,10],\"y\":[12.44131455399061,9.492273730684326,30.157261794634596,19.56689868522815,11.245954692556634,11.548117154811715,16.707021791767556,23.217247097844112,25.040650406504064,17.32851985559567],\"type\":\"bar\"},{\"marker\":{\"color\":\"#4b9cd3\"},\"name\":\"Rand+grasp\",\"x\":[1,2,3,4,5,6,7,8,9,10],\"y\":[1.486697965571205,1.030169242089772,6.66049953746531,3.4029389017788088,1.779935275080906,2.00836820083682,1.8563357546408394,3.8971807628524044,5.121951219512195,4.061371841155235],\"type\":\"bar\"},{\"marker\":{\"color\":\"#6c3483\"},\"name\":\"CDS\",\"x\":[1,2,3,4,5,6,7,8,9,10],\"y\":[8.763693270735525,4.7829286239882265,15.541165587419057,9.667440061871616,7.038834951456311,9.790794979079498,12.429378531073446,11.194029850746269,10.56910569105691,5.054151624548736],\"type\":\"bar\"},{\"marker\":{\"color\":\"#9b59b6\"},\"name\":\"CDS+grasp\",\"x\":[1,2,3,4,5,6,7,8,9,10],\"y\":[1.486697965571205,1.030169242089772,8.140610545790935,3.4029389017788088,1.779935275080906,2.00836820083682,1.6142050040355125,6.384742951907131,5.121951219512195,4.061371841155235],\"type\":\"bar\"},{\"marker\":{\"color\":\"#6b9c34\"},\"name\":\"NEH\",\"x\":[1,2,3,4,5,6,7,8,9,10],\"y\":[0.6259780907668232,0.44150110375275936,7.215541165587419,2.474864655839134,5.58252427184466,2.7615062761506275,3.1476997578692494,1.4096185737976783,4.959349593495935,3.88086642599278],\"type\":\"bar\"},{\"marker\":{\"color\":\"#8cc63f\"},\"name\":\"NEH+grasp\",\"x\":[1,2,3,4,5,6,7,8,9,10],\"y\":[0.6259780907668232,0.44150110375275936,6.66049953746531,2.474864655839134,1.779935275080906,1.3389121338912133,1.6142050040355125,1.4096185737976783,4.959349593495935,3.88086642599278],\"type\":\"bar\"}],                        {\"template\":{\"data\":{\"histogram2dcontour\":[{\"type\":\"histogram2dcontour\",\"colorbar\":{\"outlinewidth\":0,\"ticks\":\"\"},\"colorscale\":[[0.0,\"#0d0887\"],[0.1111111111111111,\"#46039f\"],[0.2222222222222222,\"#7201a8\"],[0.3333333333333333,\"#9c179e\"],[0.4444444444444444,\"#bd3786\"],[0.5555555555555556,\"#d8576b\"],[0.6666666666666666,\"#ed7953\"],[0.7777777777777778,\"#fb9f3a\"],[0.8888888888888888,\"#fdca26\"],[1.0,\"#f0f921\"]]}],\"choropleth\":[{\"type\":\"choropleth\",\"colorbar\":{\"outlinewidth\":0,\"ticks\":\"\"}}],\"histogram2d\":[{\"type\":\"histogram2d\",\"colorbar\":{\"outlinewidth\":0,\"ticks\":\"\"},\"colorscale\":[[0.0,\"#0d0887\"],[0.1111111111111111,\"#46039f\"],[0.2222222222222222,\"#7201a8\"],[0.3333333333333333,\"#9c179e\"],[0.4444444444444444,\"#bd3786\"],[0.5555555555555556,\"#d8576b\"],[0.6666666666666666,\"#ed7953\"],[0.7777777777777778,\"#fb9f3a\"],[0.8888888888888888,\"#fdca26\"],[1.0,\"#f0f921\"]]}],\"heatmap\":[{\"type\":\"heatmap\",\"colorbar\":{\"outlinewidth\":0,\"ticks\":\"\"},\"colorscale\":[[0.0,\"#0d0887\"],[0.1111111111111111,\"#46039f\"],[0.2222222222222222,\"#7201a8\"],[0.3333333333333333,\"#9c179e\"],[0.4444444444444444,\"#bd3786\"],[0.5555555555555556,\"#d8576b\"],[0.6666666666666666,\"#ed7953\"],[0.7777777777777778,\"#fb9f3a\"],[0.8888888888888888,\"#fdca26\"],[1.0,\"#f0f921\"]]}],\"heatmapgl\":[{\"type\":\"heatmapgl\",\"colorbar\":{\"outlinewidth\":0,\"ticks\":\"\"},\"colorscale\":[[0.0,\"#0d0887\"],[0.1111111111111111,\"#46039f\"],[0.2222222222222222,\"#7201a8\"],[0.3333333333333333,\"#9c179e\"],[0.4444444444444444,\"#bd3786\"],[0.5555555555555556,\"#d8576b\"],[0.6666666666666666,\"#ed7953\"],[0.7777777777777778,\"#fb9f3a\"],[0.8888888888888888,\"#fdca26\"],[1.0,\"#f0f921\"]]}],\"contourcarpet\":[{\"type\":\"contourcarpet\",\"colorbar\":{\"outlinewidth\":0,\"ticks\":\"\"}}],\"contour\":[{\"type\":\"contour\",\"colorbar\":{\"outlinewidth\":0,\"ticks\":\"\"},\"colorscale\":[[0.0,\"#0d0887\"],[0.1111111111111111,\"#46039f\"],[0.2222222222222222,\"#7201a8\"],[0.3333333333333333,\"#9c179e\"],[0.4444444444444444,\"#bd3786\"],[0.5555555555555556,\"#d8576b\"],[0.6666666666666666,\"#ed7953\"],[0.7777777777777778,\"#fb9f3a\"],[0.8888888888888888,\"#fdca26\"],[1.0,\"#f0f921\"]]}],\"surface\":[{\"type\":\"surface\",\"colorbar\":{\"outlinewidth\":0,\"ticks\":\"\"},\"colorscale\":[[0.0,\"#0d0887\"],[0.1111111111111111,\"#46039f\"],[0.2222222222222222,\"#7201a8\"],[0.3333333333333333,\"#9c179e\"],[0.4444444444444444,\"#bd3786\"],[0.5555555555555556,\"#d8576b\"],[0.6666666666666666,\"#ed7953\"],[0.7777777777777778,\"#fb9f3a\"],[0.8888888888888888,\"#fdca26\"],[1.0,\"#f0f921\"]]}],\"mesh3d\":[{\"type\":\"mesh3d\",\"colorbar\":{\"outlinewidth\":0,\"ticks\":\"\"}}],\"scatter\":[{\"fillpattern\":{\"fillmode\":\"overlay\",\"size\":10,\"solidity\":0.2},\"type\":\"scatter\"}],\"parcoords\":[{\"type\":\"parcoords\",\"line\":{\"colorbar\":{\"outlinewidth\":0,\"ticks\":\"\"}}}],\"scatterpolargl\":[{\"type\":\"scatterpolargl\",\"marker\":{\"colorbar\":{\"outlinewidth\":0,\"ticks\":\"\"}}}],\"bar\":[{\"error_x\":{\"color\":\"#2a3f5f\"},\"error_y\":{\"color\":\"#2a3f5f\"},\"marker\":{\"line\":{\"color\":\"#E5ECF6\",\"width\":0.5},\"pattern\":{\"fillmode\":\"overlay\",\"size\":10,\"solidity\":0.2}},\"type\":\"bar\"}],\"scattergeo\":[{\"type\":\"scattergeo\",\"marker\":{\"colorbar\":{\"outlinewidth\":0,\"ticks\":\"\"}}}],\"scatterpolar\":[{\"type\":\"scatterpolar\",\"marker\":{\"colorbar\":{\"outlinewidth\":0,\"ticks\":\"\"}}}],\"histogram\":[{\"marker\":{\"pattern\":{\"fillmode\":\"overlay\",\"size\":10,\"solidity\":0.2}},\"type\":\"histogram\"}],\"scattergl\":[{\"type\":\"scattergl\",\"marker\":{\"colorbar\":{\"outlinewidth\":0,\"ticks\":\"\"}}}],\"scatter3d\":[{\"type\":\"scatter3d\",\"line\":{\"colorbar\":{\"outlinewidth\":0,\"ticks\":\"\"}},\"marker\":{\"colorbar\":{\"outlinewidth\":0,\"ticks\":\"\"}}}],\"scattermapbox\":[{\"type\":\"scattermapbox\",\"marker\":{\"colorbar\":{\"outlinewidth\":0,\"ticks\":\"\"}}}],\"scatterternary\":[{\"type\":\"scatterternary\",\"marker\":{\"colorbar\":{\"outlinewidth\":0,\"ticks\":\"\"}}}],\"scattercarpet\":[{\"type\":\"scattercarpet\",\"marker\":{\"colorbar\":{\"outlinewidth\":0,\"ticks\":\"\"}}}],\"carpet\":[{\"aaxis\":{\"endlinecolor\":\"#2a3f5f\",\"gridcolor\":\"white\",\"linecolor\":\"white\",\"minorgridcolor\":\"white\",\"startlinecolor\":\"#2a3f5f\"},\"baxis\":{\"endlinecolor\":\"#2a3f5f\",\"gridcolor\":\"white\",\"linecolor\":\"white\",\"minorgridcolor\":\"white\",\"startlinecolor\":\"#2a3f5f\"},\"type\":\"carpet\"}],\"table\":[{\"cells\":{\"fill\":{\"color\":\"#EBF0F8\"},\"line\":{\"color\":\"white\"}},\"header\":{\"fill\":{\"color\":\"#C8D4E3\"},\"line\":{\"color\":\"white\"}},\"type\":\"table\"}],\"barpolar\":[{\"marker\":{\"line\":{\"color\":\"#E5ECF6\",\"width\":0.5},\"pattern\":{\"fillmode\":\"overlay\",\"size\":10,\"solidity\":0.2}},\"type\":\"barpolar\"}],\"pie\":[{\"automargin\":true,\"type\":\"pie\"}]},\"layout\":{\"autotypenumbers\":\"strict\",\"colorway\":[\"#636efa\",\"#EF553B\",\"#00cc96\",\"#ab63fa\",\"#FFA15A\",\"#19d3f3\",\"#FF6692\",\"#B6E880\",\"#FF97FF\",\"#FECB52\"],\"font\":{\"color\":\"#2a3f5f\"},\"hovermode\":\"closest\",\"hoverlabel\":{\"align\":\"left\"},\"paper_bgcolor\":\"white\",\"plot_bgcolor\":\"#E5ECF6\",\"polar\":{\"bgcolor\":\"#E5ECF6\",\"angularaxis\":{\"gridcolor\":\"white\",\"linecolor\":\"white\",\"ticks\":\"\"},\"radialaxis\":{\"gridcolor\":\"white\",\"linecolor\":\"white\",\"ticks\":\"\"}},\"ternary\":{\"bgcolor\":\"#E5ECF6\",\"aaxis\":{\"gridcolor\":\"white\",\"linecolor\":\"white\",\"ticks\":\"\"},\"baxis\":{\"gridcolor\":\"white\",\"linecolor\":\"white\",\"ticks\":\"\"},\"caxis\":{\"gridcolor\":\"white\",\"linecolor\":\"white\",\"ticks\":\"\"}},\"coloraxis\":{\"colorbar\":{\"outlinewidth\":0,\"ticks\":\"\"}},\"colorscale\":{\"sequential\":[[0.0,\"#0d0887\"],[0.1111111111111111,\"#46039f\"],[0.2222222222222222,\"#7201a8\"],[0.3333333333333333,\"#9c179e\"],[0.4444444444444444,\"#bd3786\"],[0.5555555555555556,\"#d8576b\"],[0.6666666666666666,\"#ed7953\"],[0.7777777777777778,\"#fb9f3a\"],[0.8888888888888888,\"#fdca26\"],[1.0,\"#f0f921\"]],\"sequentialminus\":[[0.0,\"#0d0887\"],[0.1111111111111111,\"#46039f\"],[0.2222222222222222,\"#7201a8\"],[0.3333333333333333,\"#9c179e\"],[0.4444444444444444,\"#bd3786\"],[0.5555555555555556,\"#d8576b\"],[0.6666666666666666,\"#ed7953\"],[0.7777777777777778,\"#fb9f3a\"],[0.8888888888888888,\"#fdca26\"],[1.0,\"#f0f921\"]],\"diverging\":[[0,\"#8e0152\"],[0.1,\"#c51b7d\"],[0.2,\"#de77ae\"],[0.3,\"#f1b6da\"],[0.4,\"#fde0ef\"],[0.5,\"#f7f7f7\"],[0.6,\"#e6f5d0\"],[0.7,\"#b8e186\"],[0.8,\"#7fbc41\"],[0.9,\"#4d9221\"],[1,\"#276419\"]]},\"xaxis\":{\"gridcolor\":\"white\",\"linecolor\":\"white\",\"ticks\":\"\",\"title\":{\"standoff\":15},\"zerolinecolor\":\"white\",\"automargin\":true,\"zerolinewidth\":2},\"yaxis\":{\"gridcolor\":\"white\",\"linecolor\":\"white\",\"ticks\":\"\",\"title\":{\"standoff\":15},\"zerolinecolor\":\"white\",\"automargin\":true,\"zerolinewidth\":2},\"scene\":{\"xaxis\":{\"backgroundcolor\":\"#E5ECF6\",\"gridcolor\":\"white\",\"linecolor\":\"white\",\"showbackground\":true,\"ticks\":\"\",\"zerolinecolor\":\"white\",\"gridwidth\":2},\"yaxis\":{\"backgroundcolor\":\"#E5ECF6\",\"gridcolor\":\"white\",\"linecolor\":\"white\",\"showbackground\":true,\"ticks\":\"\",\"zerolinecolor\":\"white\",\"gridwidth\":2},\"zaxis\":{\"backgroundcolor\":\"#E5ECF6\",\"gridcolor\":\"white\",\"linecolor\":\"white\",\"showbackground\":true,\"ticks\":\"\",\"zerolinecolor\":\"white\",\"gridwidth\":2}},\"shapedefaults\":{\"line\":{\"color\":\"#2a3f5f\"}},\"annotationdefaults\":{\"arrowcolor\":\"#2a3f5f\",\"arrowhead\":0,\"arrowwidth\":1},\"geo\":{\"bgcolor\":\"white\",\"landcolor\":\"#E5ECF6\",\"subunitcolor\":\"white\",\"showland\":true,\"showlakes\":true,\"lakecolor\":\"white\"},\"title\":{\"x\":0.05},\"mapbox\":{\"style\":\"light\"}}},\"xaxis\":{\"tickangle\":-45,\"title\":{\"text\":\"Instance\"}},\"title\":{\"text\":\"D\\u00e9viations obtenues par grasp avec diff\\u00e9rentes initialisations heuristiques\"},\"barmode\":\"group\",\"yaxis\":{\"title\":{\"text\":\"Deviation (%)\"}}},                        {\"responsive\": true}                    ).then(function(){\n",
       "                            \n",
       "var gd = document.getElementById('36166cad-f0fa-41e3-b717-e827f24f7181');\n",
       "var x = new MutationObserver(function (mutations, observer) {{\n",
       "        var display = window.getComputedStyle(gd).display;\n",
       "        if (!display || display === 'none') {{\n",
       "            console.log([gd, 'removed!']);\n",
       "            Plotly.purge(gd);\n",
       "            observer.disconnect();\n",
       "        }}\n",
       "}});\n",
       "\n",
       "// Listen for the removal of the full notebook cells\n",
       "var notebookContainer = gd.closest('#notebook-container');\n",
       "if (notebookContainer) {{\n",
       "    x.observe(notebookContainer, {childList: true});\n",
       "}}\n",
       "\n",
       "// Listen for the clearing of the current output cell\n",
       "var outputEl = gd.closest('.output');\n",
       "if (outputEl) {{\n",
       "    x.observe(outputEl, {childList: true});\n",
       "}}\n",
       "\n",
       "                        })                };                });            </script>        </div>"
      ]
     },
     "metadata": {},
     "output_type": "display_data"
    }
   ],
   "source": [
    "import plotly.graph_objects as go\n",
    "from plotly.offline import iplot, init_notebook_mode\n",
    "init_notebook_mode(connected=True)\n",
    "\n",
    "\n",
    "\n",
    "fig = go.Figure()\n",
    "fig.add_trace(go.Bar(\n",
    "    x=instances,\n",
    "    y=dev_Ham,\n",
    "    name='Rand',\n",
    "    marker_color='#176ab4'\n",
    "))\n",
    "fig.add_trace(go.Bar(\n",
    "    x=instances,\n",
    "    y=dev_ham_grasp,\n",
    "    name='Rand+grasp',\n",
    "    marker_color='#4b9cd3'\n",
    "))\n",
    "fig.add_trace(go.Bar(\n",
    "    x=instances,\n",
    "    y=dev_CDS,\n",
    "    name='CDS',\n",
    "    marker_color='#6c3483'\n",
    "))\n",
    "fig.add_trace(go.Bar(\n",
    "    x=instances,\n",
    "    y=dev_cds_grasp,\n",
    "    name='CDS+grasp',\n",
    "    marker_color='#9b59b6'\n",
    "))\n",
    "fig.add_trace(go.Bar(\n",
    "    x=instances,\n",
    "    y=dev_NEH,\n",
    "    name='NEH',\n",
    "    marker_color='#6b9c34'\n",
    "))\n",
    "fig.add_trace(go.Bar(\n",
    "    x=instances,\n",
    "    y=dev_neh_grasp,\n",
    "    name='NEH+grasp',\n",
    "    marker_color='#8cc63f'\n",
    "))\n",
    "\n",
    "# Here we modify the tickangle of the xaxis, resulting in rotated labels.\n",
    "fig.update_layout(barmode='group', xaxis_tickangle=-45, xaxis_title =\"Instance\", yaxis_title=\"Deviation (%)\", title_text=\"Déviations obtenues par grasp avec différentes initialisations heuristiques\")\n",
    "fig.show()"
   ]
  },
  {
   "attachments": {},
   "cell_type": "markdown",
   "id": "6bbfe6a7",
   "metadata": {},
   "source": [
    "# **5. Comparaison entre les 4 algorithmes implémentés** <a class=\"anchor\" id=\"chapter5\"></a>"
   ]
  },
  {
   "attachments": {},
   "cell_type": "markdown",
   "id": "11fa51dd",
   "metadata": {},
   "source": [
    "Arrivés là, nous allons comparer entre les méthodes proposées en termes de :\n",
    "- Déviation obtenue.\n",
    "- Temps d'éxécution.\n",
    "\n",
    "En fixant les paramètres et initialisations comme suit :\n",
    "- Nombre d'itération : 500.\n",
    "- Heuristique d'initialisation : CDS.\n",
    "\n",
    "Les autres paramètres présents dans quelques algorithmes sont initialisés à défaut (ou par la meme valeur déjà utilisée dans les tests précedents)."
   ]
  },
  {
   "attachments": {},
   "cell_type": "markdown",
   "id": "ab5716cc",
   "metadata": {},
   "source": [
    "## **Temps d'exécution** <a class=\"anchor\" id=\"section_5_1\"></a>"
   ]
  },
  {
   "cell_type": "code",
   "execution_count": 33,
   "id": "45f3aa9f",
   "metadata": {},
   "outputs": [
    {
     "data": {
      "text/html": [
       "        <script type=\"text/javascript\">\n",
       "        window.PlotlyConfig = {MathJaxConfig: 'local'};\n",
       "        if (window.MathJax && window.MathJax.Hub && window.MathJax.Hub.Config) {window.MathJax.Hub.Config({SVG: {font: \"STIX-Web\"}});}\n",
       "        if (typeof require !== 'undefined') {\n",
       "        require.undef(\"plotly\");\n",
       "        requirejs.config({\n",
       "            paths: {\n",
       "                'plotly': ['https://cdn.plot.ly/plotly-2.12.1.min']\n",
       "            }\n",
       "        });\n",
       "        require(['plotly'], function(Plotly) {\n",
       "            window._Plotly = Plotly;\n",
       "        });\n",
       "        }\n",
       "        </script>\n",
       "        "
      ]
     },
     "metadata": {},
     "output_type": "display_data"
    },
    {
     "data": {
      "application/vnd.plotly.v1+json": {
       "config": {
        "plotlyServerURL": "https://plot.ly"
       },
       "data": [
        {
         "marker": {
          "color": "#176ab4"
         },
         "name": "ILS",
         "type": "bar",
         "x": [
          1,
          2,
          3,
          4,
          5,
          6,
          7,
          8,
          9,
          10
         ],
         "y": [
          10.66136360168457,
          10.905933380126953,
          10.901851415634155,
          11.176959753036499,
          10.935306310653687,
          10.87176775932312,
          11.455670595169067,
          11.43079137802124,
          11.502185344696045,
          11.302679777145386
         ]
        },
        {
         "marker": {
          "color": "#6c3483"
         },
         "name": "TS",
         "type": "bar",
         "x": [
          1,
          2,
          3,
          4,
          5,
          6,
          7,
          8,
          9,
          10
         ],
         "y": [
          4.27576208114624,
          4.288645505905151,
          4.342789173126221,
          4.261674404144287,
          4.522830247879028,
          4.448591470718384,
          4.387875556945801,
          4.366101026535034,
          4.39092755317688,
          4.408370733261108
         ]
        },
        {
         "marker": {
          "color": "#9b59b6"
         },
         "name": "GVNS",
         "type": "bar",
         "x": [
          1,
          2,
          3,
          4,
          5,
          6,
          7,
          8,
          9,
          10
         ],
         "y": [
          194.25770711898804,
          184.45941352844238,
          231.95963430404663,
          261.47199273109436,
          279.78384041786194,
          302.4761984348297,
          297.67465567588806,
          344.6593589782715,
          278.51966404914856,
          311.37041330337524
         ]
        },
        {
         "marker": {
          "color": "#6b9c34"
         },
         "name": "GRASP",
         "type": "bar",
         "x": [
          1,
          2,
          3,
          4,
          5,
          6,
          7,
          8,
          9,
          10
         ],
         "y": [
          36.24518656730652,
          20.56029438972473,
          20.441946506500244,
          20.590385913848877,
          20.940468072891235,
          20.606321096420288,
          21.341377019882202,
          20.56865644454956,
          20.92753529548645,
          20.610883474349976
         ]
        }
       ],
       "layout": {
        "barmode": "group",
        "template": {
         "data": {
          "bar": [
           {
            "error_x": {
             "color": "#2a3f5f"
            },
            "error_y": {
             "color": "#2a3f5f"
            },
            "marker": {
             "line": {
              "color": "#E5ECF6",
              "width": 0.5
             },
             "pattern": {
              "fillmode": "overlay",
              "size": 10,
              "solidity": 0.2
             }
            },
            "type": "bar"
           }
          ],
          "barpolar": [
           {
            "marker": {
             "line": {
              "color": "#E5ECF6",
              "width": 0.5
             },
             "pattern": {
              "fillmode": "overlay",
              "size": 10,
              "solidity": 0.2
             }
            },
            "type": "barpolar"
           }
          ],
          "carpet": [
           {
            "aaxis": {
             "endlinecolor": "#2a3f5f",
             "gridcolor": "white",
             "linecolor": "white",
             "minorgridcolor": "white",
             "startlinecolor": "#2a3f5f"
            },
            "baxis": {
             "endlinecolor": "#2a3f5f",
             "gridcolor": "white",
             "linecolor": "white",
             "minorgridcolor": "white",
             "startlinecolor": "#2a3f5f"
            },
            "type": "carpet"
           }
          ],
          "choropleth": [
           {
            "colorbar": {
             "outlinewidth": 0,
             "ticks": ""
            },
            "type": "choropleth"
           }
          ],
          "contour": [
           {
            "colorbar": {
             "outlinewidth": 0,
             "ticks": ""
            },
            "colorscale": [
             [
              0,
              "#0d0887"
             ],
             [
              0.1111111111111111,
              "#46039f"
             ],
             [
              0.2222222222222222,
              "#7201a8"
             ],
             [
              0.3333333333333333,
              "#9c179e"
             ],
             [
              0.4444444444444444,
              "#bd3786"
             ],
             [
              0.5555555555555556,
              "#d8576b"
             ],
             [
              0.6666666666666666,
              "#ed7953"
             ],
             [
              0.7777777777777778,
              "#fb9f3a"
             ],
             [
              0.8888888888888888,
              "#fdca26"
             ],
             [
              1,
              "#f0f921"
             ]
            ],
            "type": "contour"
           }
          ],
          "contourcarpet": [
           {
            "colorbar": {
             "outlinewidth": 0,
             "ticks": ""
            },
            "type": "contourcarpet"
           }
          ],
          "heatmap": [
           {
            "colorbar": {
             "outlinewidth": 0,
             "ticks": ""
            },
            "colorscale": [
             [
              0,
              "#0d0887"
             ],
             [
              0.1111111111111111,
              "#46039f"
             ],
             [
              0.2222222222222222,
              "#7201a8"
             ],
             [
              0.3333333333333333,
              "#9c179e"
             ],
             [
              0.4444444444444444,
              "#bd3786"
             ],
             [
              0.5555555555555556,
              "#d8576b"
             ],
             [
              0.6666666666666666,
              "#ed7953"
             ],
             [
              0.7777777777777778,
              "#fb9f3a"
             ],
             [
              0.8888888888888888,
              "#fdca26"
             ],
             [
              1,
              "#f0f921"
             ]
            ],
            "type": "heatmap"
           }
          ],
          "heatmapgl": [
           {
            "colorbar": {
             "outlinewidth": 0,
             "ticks": ""
            },
            "colorscale": [
             [
              0,
              "#0d0887"
             ],
             [
              0.1111111111111111,
              "#46039f"
             ],
             [
              0.2222222222222222,
              "#7201a8"
             ],
             [
              0.3333333333333333,
              "#9c179e"
             ],
             [
              0.4444444444444444,
              "#bd3786"
             ],
             [
              0.5555555555555556,
              "#d8576b"
             ],
             [
              0.6666666666666666,
              "#ed7953"
             ],
             [
              0.7777777777777778,
              "#fb9f3a"
             ],
             [
              0.8888888888888888,
              "#fdca26"
             ],
             [
              1,
              "#f0f921"
             ]
            ],
            "type": "heatmapgl"
           }
          ],
          "histogram": [
           {
            "marker": {
             "pattern": {
              "fillmode": "overlay",
              "size": 10,
              "solidity": 0.2
             }
            },
            "type": "histogram"
           }
          ],
          "histogram2d": [
           {
            "colorbar": {
             "outlinewidth": 0,
             "ticks": ""
            },
            "colorscale": [
             [
              0,
              "#0d0887"
             ],
             [
              0.1111111111111111,
              "#46039f"
             ],
             [
              0.2222222222222222,
              "#7201a8"
             ],
             [
              0.3333333333333333,
              "#9c179e"
             ],
             [
              0.4444444444444444,
              "#bd3786"
             ],
             [
              0.5555555555555556,
              "#d8576b"
             ],
             [
              0.6666666666666666,
              "#ed7953"
             ],
             [
              0.7777777777777778,
              "#fb9f3a"
             ],
             [
              0.8888888888888888,
              "#fdca26"
             ],
             [
              1,
              "#f0f921"
             ]
            ],
            "type": "histogram2d"
           }
          ],
          "histogram2dcontour": [
           {
            "colorbar": {
             "outlinewidth": 0,
             "ticks": ""
            },
            "colorscale": [
             [
              0,
              "#0d0887"
             ],
             [
              0.1111111111111111,
              "#46039f"
             ],
             [
              0.2222222222222222,
              "#7201a8"
             ],
             [
              0.3333333333333333,
              "#9c179e"
             ],
             [
              0.4444444444444444,
              "#bd3786"
             ],
             [
              0.5555555555555556,
              "#d8576b"
             ],
             [
              0.6666666666666666,
              "#ed7953"
             ],
             [
              0.7777777777777778,
              "#fb9f3a"
             ],
             [
              0.8888888888888888,
              "#fdca26"
             ],
             [
              1,
              "#f0f921"
             ]
            ],
            "type": "histogram2dcontour"
           }
          ],
          "mesh3d": [
           {
            "colorbar": {
             "outlinewidth": 0,
             "ticks": ""
            },
            "type": "mesh3d"
           }
          ],
          "parcoords": [
           {
            "line": {
             "colorbar": {
              "outlinewidth": 0,
              "ticks": ""
             }
            },
            "type": "parcoords"
           }
          ],
          "pie": [
           {
            "automargin": true,
            "type": "pie"
           }
          ],
          "scatter": [
           {
            "fillpattern": {
             "fillmode": "overlay",
             "size": 10,
             "solidity": 0.2
            },
            "type": "scatter"
           }
          ],
          "scatter3d": [
           {
            "line": {
             "colorbar": {
              "outlinewidth": 0,
              "ticks": ""
             }
            },
            "marker": {
             "colorbar": {
              "outlinewidth": 0,
              "ticks": ""
             }
            },
            "type": "scatter3d"
           }
          ],
          "scattercarpet": [
           {
            "marker": {
             "colorbar": {
              "outlinewidth": 0,
              "ticks": ""
             }
            },
            "type": "scattercarpet"
           }
          ],
          "scattergeo": [
           {
            "marker": {
             "colorbar": {
              "outlinewidth": 0,
              "ticks": ""
             }
            },
            "type": "scattergeo"
           }
          ],
          "scattergl": [
           {
            "marker": {
             "colorbar": {
              "outlinewidth": 0,
              "ticks": ""
             }
            },
            "type": "scattergl"
           }
          ],
          "scattermapbox": [
           {
            "marker": {
             "colorbar": {
              "outlinewidth": 0,
              "ticks": ""
             }
            },
            "type": "scattermapbox"
           }
          ],
          "scatterpolar": [
           {
            "marker": {
             "colorbar": {
              "outlinewidth": 0,
              "ticks": ""
             }
            },
            "type": "scatterpolar"
           }
          ],
          "scatterpolargl": [
           {
            "marker": {
             "colorbar": {
              "outlinewidth": 0,
              "ticks": ""
             }
            },
            "type": "scatterpolargl"
           }
          ],
          "scatterternary": [
           {
            "marker": {
             "colorbar": {
              "outlinewidth": 0,
              "ticks": ""
             }
            },
            "type": "scatterternary"
           }
          ],
          "surface": [
           {
            "colorbar": {
             "outlinewidth": 0,
             "ticks": ""
            },
            "colorscale": [
             [
              0,
              "#0d0887"
             ],
             [
              0.1111111111111111,
              "#46039f"
             ],
             [
              0.2222222222222222,
              "#7201a8"
             ],
             [
              0.3333333333333333,
              "#9c179e"
             ],
             [
              0.4444444444444444,
              "#bd3786"
             ],
             [
              0.5555555555555556,
              "#d8576b"
             ],
             [
              0.6666666666666666,
              "#ed7953"
             ],
             [
              0.7777777777777778,
              "#fb9f3a"
             ],
             [
              0.8888888888888888,
              "#fdca26"
             ],
             [
              1,
              "#f0f921"
             ]
            ],
            "type": "surface"
           }
          ],
          "table": [
           {
            "cells": {
             "fill": {
              "color": "#EBF0F8"
             },
             "line": {
              "color": "white"
             }
            },
            "header": {
             "fill": {
              "color": "#C8D4E3"
             },
             "line": {
              "color": "white"
             }
            },
            "type": "table"
           }
          ]
         },
         "layout": {
          "annotationdefaults": {
           "arrowcolor": "#2a3f5f",
           "arrowhead": 0,
           "arrowwidth": 1
          },
          "autotypenumbers": "strict",
          "coloraxis": {
           "colorbar": {
            "outlinewidth": 0,
            "ticks": ""
           }
          },
          "colorscale": {
           "diverging": [
            [
             0,
             "#8e0152"
            ],
            [
             0.1,
             "#c51b7d"
            ],
            [
             0.2,
             "#de77ae"
            ],
            [
             0.3,
             "#f1b6da"
            ],
            [
             0.4,
             "#fde0ef"
            ],
            [
             0.5,
             "#f7f7f7"
            ],
            [
             0.6,
             "#e6f5d0"
            ],
            [
             0.7,
             "#b8e186"
            ],
            [
             0.8,
             "#7fbc41"
            ],
            [
             0.9,
             "#4d9221"
            ],
            [
             1,
             "#276419"
            ]
           ],
           "sequential": [
            [
             0,
             "#0d0887"
            ],
            [
             0.1111111111111111,
             "#46039f"
            ],
            [
             0.2222222222222222,
             "#7201a8"
            ],
            [
             0.3333333333333333,
             "#9c179e"
            ],
            [
             0.4444444444444444,
             "#bd3786"
            ],
            [
             0.5555555555555556,
             "#d8576b"
            ],
            [
             0.6666666666666666,
             "#ed7953"
            ],
            [
             0.7777777777777778,
             "#fb9f3a"
            ],
            [
             0.8888888888888888,
             "#fdca26"
            ],
            [
             1,
             "#f0f921"
            ]
           ],
           "sequentialminus": [
            [
             0,
             "#0d0887"
            ],
            [
             0.1111111111111111,
             "#46039f"
            ],
            [
             0.2222222222222222,
             "#7201a8"
            ],
            [
             0.3333333333333333,
             "#9c179e"
            ],
            [
             0.4444444444444444,
             "#bd3786"
            ],
            [
             0.5555555555555556,
             "#d8576b"
            ],
            [
             0.6666666666666666,
             "#ed7953"
            ],
            [
             0.7777777777777778,
             "#fb9f3a"
            ],
            [
             0.8888888888888888,
             "#fdca26"
            ],
            [
             1,
             "#f0f921"
            ]
           ]
          },
          "colorway": [
           "#636efa",
           "#EF553B",
           "#00cc96",
           "#ab63fa",
           "#FFA15A",
           "#19d3f3",
           "#FF6692",
           "#B6E880",
           "#FF97FF",
           "#FECB52"
          ],
          "font": {
           "color": "#2a3f5f"
          },
          "geo": {
           "bgcolor": "white",
           "lakecolor": "white",
           "landcolor": "#E5ECF6",
           "showlakes": true,
           "showland": true,
           "subunitcolor": "white"
          },
          "hoverlabel": {
           "align": "left"
          },
          "hovermode": "closest",
          "mapbox": {
           "style": "light"
          },
          "paper_bgcolor": "white",
          "plot_bgcolor": "#E5ECF6",
          "polar": {
           "angularaxis": {
            "gridcolor": "white",
            "linecolor": "white",
            "ticks": ""
           },
           "bgcolor": "#E5ECF6",
           "radialaxis": {
            "gridcolor": "white",
            "linecolor": "white",
            "ticks": ""
           }
          },
          "scene": {
           "xaxis": {
            "backgroundcolor": "#E5ECF6",
            "gridcolor": "white",
            "gridwidth": 2,
            "linecolor": "white",
            "showbackground": true,
            "ticks": "",
            "zerolinecolor": "white"
           },
           "yaxis": {
            "backgroundcolor": "#E5ECF6",
            "gridcolor": "white",
            "gridwidth": 2,
            "linecolor": "white",
            "showbackground": true,
            "ticks": "",
            "zerolinecolor": "white"
           },
           "zaxis": {
            "backgroundcolor": "#E5ECF6",
            "gridcolor": "white",
            "gridwidth": 2,
            "linecolor": "white",
            "showbackground": true,
            "ticks": "",
            "zerolinecolor": "white"
           }
          },
          "shapedefaults": {
           "line": {
            "color": "#2a3f5f"
           }
          },
          "ternary": {
           "aaxis": {
            "gridcolor": "white",
            "linecolor": "white",
            "ticks": ""
           },
           "baxis": {
            "gridcolor": "white",
            "linecolor": "white",
            "ticks": ""
           },
           "bgcolor": "#E5ECF6",
           "caxis": {
            "gridcolor": "white",
            "linecolor": "white",
            "ticks": ""
           }
          },
          "title": {
           "x": 0.05
          },
          "xaxis": {
           "automargin": true,
           "gridcolor": "white",
           "linecolor": "white",
           "ticks": "",
           "title": {
            "standoff": 15
           },
           "zerolinecolor": "white",
           "zerolinewidth": 2
          },
          "yaxis": {
           "automargin": true,
           "gridcolor": "white",
           "linecolor": "white",
           "ticks": "",
           "title": {
            "standoff": 15
           },
           "zerolinecolor": "white",
           "zerolinewidth": 2
          }
         }
        },
        "title": {
         "text": "Temps d'exécution des différentes méthodes"
        },
        "xaxis": {
         "tickangle": -45,
         "title": {
          "text": "Instance"
         }
        },
        "yaxis": {
         "title": {
          "text": "Temps (s)"
         }
        }
       }
      },
      "text/html": [
       "<div>                            <div id=\"01f7dd58-9f82-4239-aad4-b095da7e66a1\" class=\"plotly-graph-div\" style=\"height:525px; width:100%;\"></div>            <script type=\"text/javascript\">                require([\"plotly\"], function(Plotly) {                    window.PLOTLYENV=window.PLOTLYENV || {};                                    if (document.getElementById(\"01f7dd58-9f82-4239-aad4-b095da7e66a1\")) {                    Plotly.newPlot(                        \"01f7dd58-9f82-4239-aad4-b095da7e66a1\",                        [{\"marker\":{\"color\":\"#176ab4\"},\"name\":\"ILS\",\"x\":[1,2,3,4,5,6,7,8,9,10],\"y\":[10.66136360168457,10.905933380126953,10.901851415634155,11.176959753036499,10.935306310653687,10.87176775932312,11.455670595169067,11.43079137802124,11.502185344696045,11.302679777145386],\"type\":\"bar\"},{\"marker\":{\"color\":\"#6c3483\"},\"name\":\"TS\",\"x\":[1,2,3,4,5,6,7,8,9,10],\"y\":[4.27576208114624,4.288645505905151,4.342789173126221,4.261674404144287,4.522830247879028,4.448591470718384,4.387875556945801,4.366101026535034,4.39092755317688,4.408370733261108],\"type\":\"bar\"},{\"marker\":{\"color\":\"#9b59b6\"},\"name\":\"GVNS\",\"x\":[1,2,3,4,5,6,7,8,9,10],\"y\":[194.25770711898804,184.45941352844238,231.95963430404663,261.47199273109436,279.78384041786194,302.4761984348297,297.67465567588806,344.6593589782715,278.51966404914856,311.37041330337524],\"type\":\"bar\"},{\"marker\":{\"color\":\"#6b9c34\"},\"name\":\"GRASP\",\"x\":[1,2,3,4,5,6,7,8,9,10],\"y\":[36.24518656730652,20.56029438972473,20.441946506500244,20.590385913848877,20.940468072891235,20.606321096420288,21.341377019882202,20.56865644454956,20.92753529548645,20.610883474349976],\"type\":\"bar\"}],                        {\"template\":{\"data\":{\"histogram2dcontour\":[{\"type\":\"histogram2dcontour\",\"colorbar\":{\"outlinewidth\":0,\"ticks\":\"\"},\"colorscale\":[[0.0,\"#0d0887\"],[0.1111111111111111,\"#46039f\"],[0.2222222222222222,\"#7201a8\"],[0.3333333333333333,\"#9c179e\"],[0.4444444444444444,\"#bd3786\"],[0.5555555555555556,\"#d8576b\"],[0.6666666666666666,\"#ed7953\"],[0.7777777777777778,\"#fb9f3a\"],[0.8888888888888888,\"#fdca26\"],[1.0,\"#f0f921\"]]}],\"choropleth\":[{\"type\":\"choropleth\",\"colorbar\":{\"outlinewidth\":0,\"ticks\":\"\"}}],\"histogram2d\":[{\"type\":\"histogram2d\",\"colorbar\":{\"outlinewidth\":0,\"ticks\":\"\"},\"colorscale\":[[0.0,\"#0d0887\"],[0.1111111111111111,\"#46039f\"],[0.2222222222222222,\"#7201a8\"],[0.3333333333333333,\"#9c179e\"],[0.4444444444444444,\"#bd3786\"],[0.5555555555555556,\"#d8576b\"],[0.6666666666666666,\"#ed7953\"],[0.7777777777777778,\"#fb9f3a\"],[0.8888888888888888,\"#fdca26\"],[1.0,\"#f0f921\"]]}],\"heatmap\":[{\"type\":\"heatmap\",\"colorbar\":{\"outlinewidth\":0,\"ticks\":\"\"},\"colorscale\":[[0.0,\"#0d0887\"],[0.1111111111111111,\"#46039f\"],[0.2222222222222222,\"#7201a8\"],[0.3333333333333333,\"#9c179e\"],[0.4444444444444444,\"#bd3786\"],[0.5555555555555556,\"#d8576b\"],[0.6666666666666666,\"#ed7953\"],[0.7777777777777778,\"#fb9f3a\"],[0.8888888888888888,\"#fdca26\"],[1.0,\"#f0f921\"]]}],\"heatmapgl\":[{\"type\":\"heatmapgl\",\"colorbar\":{\"outlinewidth\":0,\"ticks\":\"\"},\"colorscale\":[[0.0,\"#0d0887\"],[0.1111111111111111,\"#46039f\"],[0.2222222222222222,\"#7201a8\"],[0.3333333333333333,\"#9c179e\"],[0.4444444444444444,\"#bd3786\"],[0.5555555555555556,\"#d8576b\"],[0.6666666666666666,\"#ed7953\"],[0.7777777777777778,\"#fb9f3a\"],[0.8888888888888888,\"#fdca26\"],[1.0,\"#f0f921\"]]}],\"contourcarpet\":[{\"type\":\"contourcarpet\",\"colorbar\":{\"outlinewidth\":0,\"ticks\":\"\"}}],\"contour\":[{\"type\":\"contour\",\"colorbar\":{\"outlinewidth\":0,\"ticks\":\"\"},\"colorscale\":[[0.0,\"#0d0887\"],[0.1111111111111111,\"#46039f\"],[0.2222222222222222,\"#7201a8\"],[0.3333333333333333,\"#9c179e\"],[0.4444444444444444,\"#bd3786\"],[0.5555555555555556,\"#d8576b\"],[0.6666666666666666,\"#ed7953\"],[0.7777777777777778,\"#fb9f3a\"],[0.8888888888888888,\"#fdca26\"],[1.0,\"#f0f921\"]]}],\"surface\":[{\"type\":\"surface\",\"colorbar\":{\"outlinewidth\":0,\"ticks\":\"\"},\"colorscale\":[[0.0,\"#0d0887\"],[0.1111111111111111,\"#46039f\"],[0.2222222222222222,\"#7201a8\"],[0.3333333333333333,\"#9c179e\"],[0.4444444444444444,\"#bd3786\"],[0.5555555555555556,\"#d8576b\"],[0.6666666666666666,\"#ed7953\"],[0.7777777777777778,\"#fb9f3a\"],[0.8888888888888888,\"#fdca26\"],[1.0,\"#f0f921\"]]}],\"mesh3d\":[{\"type\":\"mesh3d\",\"colorbar\":{\"outlinewidth\":0,\"ticks\":\"\"}}],\"scatter\":[{\"fillpattern\":{\"fillmode\":\"overlay\",\"size\":10,\"solidity\":0.2},\"type\":\"scatter\"}],\"parcoords\":[{\"type\":\"parcoords\",\"line\":{\"colorbar\":{\"outlinewidth\":0,\"ticks\":\"\"}}}],\"scatterpolargl\":[{\"type\":\"scatterpolargl\",\"marker\":{\"colorbar\":{\"outlinewidth\":0,\"ticks\":\"\"}}}],\"bar\":[{\"error_x\":{\"color\":\"#2a3f5f\"},\"error_y\":{\"color\":\"#2a3f5f\"},\"marker\":{\"line\":{\"color\":\"#E5ECF6\",\"width\":0.5},\"pattern\":{\"fillmode\":\"overlay\",\"size\":10,\"solidity\":0.2}},\"type\":\"bar\"}],\"scattergeo\":[{\"type\":\"scattergeo\",\"marker\":{\"colorbar\":{\"outlinewidth\":0,\"ticks\":\"\"}}}],\"scatterpolar\":[{\"type\":\"scatterpolar\",\"marker\":{\"colorbar\":{\"outlinewidth\":0,\"ticks\":\"\"}}}],\"histogram\":[{\"marker\":{\"pattern\":{\"fillmode\":\"overlay\",\"size\":10,\"solidity\":0.2}},\"type\":\"histogram\"}],\"scattergl\":[{\"type\":\"scattergl\",\"marker\":{\"colorbar\":{\"outlinewidth\":0,\"ticks\":\"\"}}}],\"scatter3d\":[{\"type\":\"scatter3d\",\"line\":{\"colorbar\":{\"outlinewidth\":0,\"ticks\":\"\"}},\"marker\":{\"colorbar\":{\"outlinewidth\":0,\"ticks\":\"\"}}}],\"scattermapbox\":[{\"type\":\"scattermapbox\",\"marker\":{\"colorbar\":{\"outlinewidth\":0,\"ticks\":\"\"}}}],\"scatterternary\":[{\"type\":\"scatterternary\",\"marker\":{\"colorbar\":{\"outlinewidth\":0,\"ticks\":\"\"}}}],\"scattercarpet\":[{\"type\":\"scattercarpet\",\"marker\":{\"colorbar\":{\"outlinewidth\":0,\"ticks\":\"\"}}}],\"carpet\":[{\"aaxis\":{\"endlinecolor\":\"#2a3f5f\",\"gridcolor\":\"white\",\"linecolor\":\"white\",\"minorgridcolor\":\"white\",\"startlinecolor\":\"#2a3f5f\"},\"baxis\":{\"endlinecolor\":\"#2a3f5f\",\"gridcolor\":\"white\",\"linecolor\":\"white\",\"minorgridcolor\":\"white\",\"startlinecolor\":\"#2a3f5f\"},\"type\":\"carpet\"}],\"table\":[{\"cells\":{\"fill\":{\"color\":\"#EBF0F8\"},\"line\":{\"color\":\"white\"}},\"header\":{\"fill\":{\"color\":\"#C8D4E3\"},\"line\":{\"color\":\"white\"}},\"type\":\"table\"}],\"barpolar\":[{\"marker\":{\"line\":{\"color\":\"#E5ECF6\",\"width\":0.5},\"pattern\":{\"fillmode\":\"overlay\",\"size\":10,\"solidity\":0.2}},\"type\":\"barpolar\"}],\"pie\":[{\"automargin\":true,\"type\":\"pie\"}]},\"layout\":{\"autotypenumbers\":\"strict\",\"colorway\":[\"#636efa\",\"#EF553B\",\"#00cc96\",\"#ab63fa\",\"#FFA15A\",\"#19d3f3\",\"#FF6692\",\"#B6E880\",\"#FF97FF\",\"#FECB52\"],\"font\":{\"color\":\"#2a3f5f\"},\"hovermode\":\"closest\",\"hoverlabel\":{\"align\":\"left\"},\"paper_bgcolor\":\"white\",\"plot_bgcolor\":\"#E5ECF6\",\"polar\":{\"bgcolor\":\"#E5ECF6\",\"angularaxis\":{\"gridcolor\":\"white\",\"linecolor\":\"white\",\"ticks\":\"\"},\"radialaxis\":{\"gridcolor\":\"white\",\"linecolor\":\"white\",\"ticks\":\"\"}},\"ternary\":{\"bgcolor\":\"#E5ECF6\",\"aaxis\":{\"gridcolor\":\"white\",\"linecolor\":\"white\",\"ticks\":\"\"},\"baxis\":{\"gridcolor\":\"white\",\"linecolor\":\"white\",\"ticks\":\"\"},\"caxis\":{\"gridcolor\":\"white\",\"linecolor\":\"white\",\"ticks\":\"\"}},\"coloraxis\":{\"colorbar\":{\"outlinewidth\":0,\"ticks\":\"\"}},\"colorscale\":{\"sequential\":[[0.0,\"#0d0887\"],[0.1111111111111111,\"#46039f\"],[0.2222222222222222,\"#7201a8\"],[0.3333333333333333,\"#9c179e\"],[0.4444444444444444,\"#bd3786\"],[0.5555555555555556,\"#d8576b\"],[0.6666666666666666,\"#ed7953\"],[0.7777777777777778,\"#fb9f3a\"],[0.8888888888888888,\"#fdca26\"],[1.0,\"#f0f921\"]],\"sequentialminus\":[[0.0,\"#0d0887\"],[0.1111111111111111,\"#46039f\"],[0.2222222222222222,\"#7201a8\"],[0.3333333333333333,\"#9c179e\"],[0.4444444444444444,\"#bd3786\"],[0.5555555555555556,\"#d8576b\"],[0.6666666666666666,\"#ed7953\"],[0.7777777777777778,\"#fb9f3a\"],[0.8888888888888888,\"#fdca26\"],[1.0,\"#f0f921\"]],\"diverging\":[[0,\"#8e0152\"],[0.1,\"#c51b7d\"],[0.2,\"#de77ae\"],[0.3,\"#f1b6da\"],[0.4,\"#fde0ef\"],[0.5,\"#f7f7f7\"],[0.6,\"#e6f5d0\"],[0.7,\"#b8e186\"],[0.8,\"#7fbc41\"],[0.9,\"#4d9221\"],[1,\"#276419\"]]},\"xaxis\":{\"gridcolor\":\"white\",\"linecolor\":\"white\",\"ticks\":\"\",\"title\":{\"standoff\":15},\"zerolinecolor\":\"white\",\"automargin\":true,\"zerolinewidth\":2},\"yaxis\":{\"gridcolor\":\"white\",\"linecolor\":\"white\",\"ticks\":\"\",\"title\":{\"standoff\":15},\"zerolinecolor\":\"white\",\"automargin\":true,\"zerolinewidth\":2},\"scene\":{\"xaxis\":{\"backgroundcolor\":\"#E5ECF6\",\"gridcolor\":\"white\",\"linecolor\":\"white\",\"showbackground\":true,\"ticks\":\"\",\"zerolinecolor\":\"white\",\"gridwidth\":2},\"yaxis\":{\"backgroundcolor\":\"#E5ECF6\",\"gridcolor\":\"white\",\"linecolor\":\"white\",\"showbackground\":true,\"ticks\":\"\",\"zerolinecolor\":\"white\",\"gridwidth\":2},\"zaxis\":{\"backgroundcolor\":\"#E5ECF6\",\"gridcolor\":\"white\",\"linecolor\":\"white\",\"showbackground\":true,\"ticks\":\"\",\"zerolinecolor\":\"white\",\"gridwidth\":2}},\"shapedefaults\":{\"line\":{\"color\":\"#2a3f5f\"}},\"annotationdefaults\":{\"arrowcolor\":\"#2a3f5f\",\"arrowhead\":0,\"arrowwidth\":1},\"geo\":{\"bgcolor\":\"white\",\"landcolor\":\"#E5ECF6\",\"subunitcolor\":\"white\",\"showland\":true,\"showlakes\":true,\"lakecolor\":\"white\"},\"title\":{\"x\":0.05},\"mapbox\":{\"style\":\"light\"}}},\"xaxis\":{\"tickangle\":-45,\"title\":{\"text\":\"Instance\"}},\"title\":{\"text\":\"Temps d'ex\\u00e9cution des diff\\u00e9rentes m\\u00e9thodes\"},\"barmode\":\"group\",\"yaxis\":{\"title\":{\"text\":\"Temps (s)\"}}},                        {\"responsive\": true}                    ).then(function(){\n",
       "                            \n",
       "var gd = document.getElementById('01f7dd58-9f82-4239-aad4-b095da7e66a1');\n",
       "var x = new MutationObserver(function (mutations, observer) {{\n",
       "        var display = window.getComputedStyle(gd).display;\n",
       "        if (!display || display === 'none') {{\n",
       "            console.log([gd, 'removed!']);\n",
       "            Plotly.purge(gd);\n",
       "            observer.disconnect();\n",
       "        }}\n",
       "}});\n",
       "\n",
       "// Listen for the removal of the full notebook cells\n",
       "var notebookContainer = gd.closest('#notebook-container');\n",
       "if (notebookContainer) {{\n",
       "    x.observe(notebookContainer, {childList: true});\n",
       "}}\n",
       "\n",
       "// Listen for the clearing of the current output cell\n",
       "var outputEl = gd.closest('.output');\n",
       "if (outputEl) {{\n",
       "    x.observe(outputEl, {childList: true});\n",
       "}}\n",
       "\n",
       "                        })                };                });            </script>        </div>"
      ]
     },
     "metadata": {},
     "output_type": "display_data"
    }
   ],
   "source": [
    "import plotly.graph_objects as go\n",
    "from plotly.offline import iplot, init_notebook_mode\n",
    "init_notebook_mode(connected=True)\n",
    "\n",
    "\n",
    "\n",
    "fig = go.Figure()\n",
    "fig.add_trace(go.Bar(\n",
    "    x=instances,\n",
    "    y=times_ils,\n",
    "    name='ILS',\n",
    "    marker_color='#176ab4'\n",
    "))\n",
    "fig.add_trace(go.Bar(\n",
    "    x=instances,\n",
    "    y=times_ts,\n",
    "    name='TS',\n",
    "    marker_color='#6c3483'\n",
    "))\n",
    "fig.add_trace(go.Bar(\n",
    "    x=instances,\n",
    "    y=times_gvns,\n",
    "    name='GVNS',\n",
    "    marker_color='#9b59b6'\n",
    "))\n",
    "fig.add_trace(go.Bar(\n",
    "    x=instances,\n",
    "    y=times_grasp,\n",
    "    name='GRASP',\n",
    "    marker_color='#6b9c34'\n",
    "))\n",
    "\n",
    "# Here we modify the tickangle of the xaxis, resulting in rotated labels.\n",
    "fig.update_layout(barmode='group', xaxis_tickangle=-45, xaxis_title =\"Instance\", yaxis_title=\"Temps (s)\", title_text=\"Temps d'exécution des différentes méthodes\")\n",
    "fig.show()"
   ]
  },
  {
   "attachments": {},
   "cell_type": "markdown",
   "id": "7611395f",
   "metadata": {},
   "source": [
    "## **Déviation** <a class=\"anchor\" id=\"section_5_2\"></a>"
   ]
  },
  {
   "cell_type": "code",
   "execution_count": 34,
   "id": "66bd184e",
   "metadata": {},
   "outputs": [
    {
     "data": {
      "text/html": [
       "        <script type=\"text/javascript\">\n",
       "        window.PlotlyConfig = {MathJaxConfig: 'local'};\n",
       "        if (window.MathJax && window.MathJax.Hub && window.MathJax.Hub.Config) {window.MathJax.Hub.Config({SVG: {font: \"STIX-Web\"}});}\n",
       "        if (typeof require !== 'undefined') {\n",
       "        require.undef(\"plotly\");\n",
       "        requirejs.config({\n",
       "            paths: {\n",
       "                'plotly': ['https://cdn.plot.ly/plotly-2.12.1.min']\n",
       "            }\n",
       "        });\n",
       "        require(['plotly'], function(Plotly) {\n",
       "            window._Plotly = Plotly;\n",
       "        });\n",
       "        }\n",
       "        </script>\n",
       "        "
      ]
     },
     "metadata": {},
     "output_type": "display_data"
    },
    {
     "data": {
      "application/vnd.plotly.v1+json": {
       "config": {
        "plotlyServerURL": "https://plot.ly"
       },
       "data": [
        {
         "marker": {
          "color": "#176ab4"
         },
         "name": "ILS",
         "type": "bar",
         "x": [
          1,
          2,
          3,
          4,
          5,
          6,
          7,
          8,
          9,
          10
         ],
         "y": [
          3.4428794992175273,
          0.8830022075055187,
          4.717853839037928,
          6.2645011600928076,
          2.831715210355987,
          3.096234309623431,
          2.9862792574656982,
          5.555555555555555,
          4.634146341463414,
          4.783393501805054
         ]
        },
        {
         "marker": {
          "color": "#4b9cd3"
         },
         "name": "TS",
         "type": "bar",
         "x": [
          1,
          2,
          3,
          4,
          5,
          6,
          7,
          8,
          9,
          10
         ],
         "y": [
          0.1564945226917058,
          0.515084621044886,
          0.7400555041628122,
          0.6187161639597835,
          0.5663430420711975,
          1.2552301255230125,
          0.9685230024213075,
          0,
          1.7886178861788617,
          0
         ]
        },
        {
         "marker": {
          "color": "#6c3483"
         },
         "name": "GVNS",
         "type": "bar",
         "x": [
          1,
          2,
          3,
          4,
          5,
          6,
          7,
          8,
          9,
          10
         ],
         "y": [
          0,
          0.07358351729212656,
          0.6475485661424607,
          0.30935808197989173,
          -0.08090614886731393,
          0,
          0.9685230024213076,
          0,
          0,
          0
         ]
        },
        {
         "marker": {
          "color": "#9b59b6"
         },
         "name": "GRASP",
         "type": "bar",
         "x": [
          1,
          2,
          3,
          4,
          5,
          6,
          7,
          8,
          9,
          10
         ],
         "y": [
          3.051643192488263,
          1.3245033112582782,
          5.735430157261795,
          1.6241299303944317,
          1.132686084142395,
          1.5899581589958158,
          4.358353510895884,
          7.960199004975125,
          2.032520325203252,
          2.0758122743682312
         ]
        }
       ],
       "layout": {
        "barmode": "group",
        "template": {
         "data": {
          "bar": [
           {
            "error_x": {
             "color": "#2a3f5f"
            },
            "error_y": {
             "color": "#2a3f5f"
            },
            "marker": {
             "line": {
              "color": "#E5ECF6",
              "width": 0.5
             },
             "pattern": {
              "fillmode": "overlay",
              "size": 10,
              "solidity": 0.2
             }
            },
            "type": "bar"
           }
          ],
          "barpolar": [
           {
            "marker": {
             "line": {
              "color": "#E5ECF6",
              "width": 0.5
             },
             "pattern": {
              "fillmode": "overlay",
              "size": 10,
              "solidity": 0.2
             }
            },
            "type": "barpolar"
           }
          ],
          "carpet": [
           {
            "aaxis": {
             "endlinecolor": "#2a3f5f",
             "gridcolor": "white",
             "linecolor": "white",
             "minorgridcolor": "white",
             "startlinecolor": "#2a3f5f"
            },
            "baxis": {
             "endlinecolor": "#2a3f5f",
             "gridcolor": "white",
             "linecolor": "white",
             "minorgridcolor": "white",
             "startlinecolor": "#2a3f5f"
            },
            "type": "carpet"
           }
          ],
          "choropleth": [
           {
            "colorbar": {
             "outlinewidth": 0,
             "ticks": ""
            },
            "type": "choropleth"
           }
          ],
          "contour": [
           {
            "colorbar": {
             "outlinewidth": 0,
             "ticks": ""
            },
            "colorscale": [
             [
              0,
              "#0d0887"
             ],
             [
              0.1111111111111111,
              "#46039f"
             ],
             [
              0.2222222222222222,
              "#7201a8"
             ],
             [
              0.3333333333333333,
              "#9c179e"
             ],
             [
              0.4444444444444444,
              "#bd3786"
             ],
             [
              0.5555555555555556,
              "#d8576b"
             ],
             [
              0.6666666666666666,
              "#ed7953"
             ],
             [
              0.7777777777777778,
              "#fb9f3a"
             ],
             [
              0.8888888888888888,
              "#fdca26"
             ],
             [
              1,
              "#f0f921"
             ]
            ],
            "type": "contour"
           }
          ],
          "contourcarpet": [
           {
            "colorbar": {
             "outlinewidth": 0,
             "ticks": ""
            },
            "type": "contourcarpet"
           }
          ],
          "heatmap": [
           {
            "colorbar": {
             "outlinewidth": 0,
             "ticks": ""
            },
            "colorscale": [
             [
              0,
              "#0d0887"
             ],
             [
              0.1111111111111111,
              "#46039f"
             ],
             [
              0.2222222222222222,
              "#7201a8"
             ],
             [
              0.3333333333333333,
              "#9c179e"
             ],
             [
              0.4444444444444444,
              "#bd3786"
             ],
             [
              0.5555555555555556,
              "#d8576b"
             ],
             [
              0.6666666666666666,
              "#ed7953"
             ],
             [
              0.7777777777777778,
              "#fb9f3a"
             ],
             [
              0.8888888888888888,
              "#fdca26"
             ],
             [
              1,
              "#f0f921"
             ]
            ],
            "type": "heatmap"
           }
          ],
          "heatmapgl": [
           {
            "colorbar": {
             "outlinewidth": 0,
             "ticks": ""
            },
            "colorscale": [
             [
              0,
              "#0d0887"
             ],
             [
              0.1111111111111111,
              "#46039f"
             ],
             [
              0.2222222222222222,
              "#7201a8"
             ],
             [
              0.3333333333333333,
              "#9c179e"
             ],
             [
              0.4444444444444444,
              "#bd3786"
             ],
             [
              0.5555555555555556,
              "#d8576b"
             ],
             [
              0.6666666666666666,
              "#ed7953"
             ],
             [
              0.7777777777777778,
              "#fb9f3a"
             ],
             [
              0.8888888888888888,
              "#fdca26"
             ],
             [
              1,
              "#f0f921"
             ]
            ],
            "type": "heatmapgl"
           }
          ],
          "histogram": [
           {
            "marker": {
             "pattern": {
              "fillmode": "overlay",
              "size": 10,
              "solidity": 0.2
             }
            },
            "type": "histogram"
           }
          ],
          "histogram2d": [
           {
            "colorbar": {
             "outlinewidth": 0,
             "ticks": ""
            },
            "colorscale": [
             [
              0,
              "#0d0887"
             ],
             [
              0.1111111111111111,
              "#46039f"
             ],
             [
              0.2222222222222222,
              "#7201a8"
             ],
             [
              0.3333333333333333,
              "#9c179e"
             ],
             [
              0.4444444444444444,
              "#bd3786"
             ],
             [
              0.5555555555555556,
              "#d8576b"
             ],
             [
              0.6666666666666666,
              "#ed7953"
             ],
             [
              0.7777777777777778,
              "#fb9f3a"
             ],
             [
              0.8888888888888888,
              "#fdca26"
             ],
             [
              1,
              "#f0f921"
             ]
            ],
            "type": "histogram2d"
           }
          ],
          "histogram2dcontour": [
           {
            "colorbar": {
             "outlinewidth": 0,
             "ticks": ""
            },
            "colorscale": [
             [
              0,
              "#0d0887"
             ],
             [
              0.1111111111111111,
              "#46039f"
             ],
             [
              0.2222222222222222,
              "#7201a8"
             ],
             [
              0.3333333333333333,
              "#9c179e"
             ],
             [
              0.4444444444444444,
              "#bd3786"
             ],
             [
              0.5555555555555556,
              "#d8576b"
             ],
             [
              0.6666666666666666,
              "#ed7953"
             ],
             [
              0.7777777777777778,
              "#fb9f3a"
             ],
             [
              0.8888888888888888,
              "#fdca26"
             ],
             [
              1,
              "#f0f921"
             ]
            ],
            "type": "histogram2dcontour"
           }
          ],
          "mesh3d": [
           {
            "colorbar": {
             "outlinewidth": 0,
             "ticks": ""
            },
            "type": "mesh3d"
           }
          ],
          "parcoords": [
           {
            "line": {
             "colorbar": {
              "outlinewidth": 0,
              "ticks": ""
             }
            },
            "type": "parcoords"
           }
          ],
          "pie": [
           {
            "automargin": true,
            "type": "pie"
           }
          ],
          "scatter": [
           {
            "fillpattern": {
             "fillmode": "overlay",
             "size": 10,
             "solidity": 0.2
            },
            "type": "scatter"
           }
          ],
          "scatter3d": [
           {
            "line": {
             "colorbar": {
              "outlinewidth": 0,
              "ticks": ""
             }
            },
            "marker": {
             "colorbar": {
              "outlinewidth": 0,
              "ticks": ""
             }
            },
            "type": "scatter3d"
           }
          ],
          "scattercarpet": [
           {
            "marker": {
             "colorbar": {
              "outlinewidth": 0,
              "ticks": ""
             }
            },
            "type": "scattercarpet"
           }
          ],
          "scattergeo": [
           {
            "marker": {
             "colorbar": {
              "outlinewidth": 0,
              "ticks": ""
             }
            },
            "type": "scattergeo"
           }
          ],
          "scattergl": [
           {
            "marker": {
             "colorbar": {
              "outlinewidth": 0,
              "ticks": ""
             }
            },
            "type": "scattergl"
           }
          ],
          "scattermapbox": [
           {
            "marker": {
             "colorbar": {
              "outlinewidth": 0,
              "ticks": ""
             }
            },
            "type": "scattermapbox"
           }
          ],
          "scatterpolar": [
           {
            "marker": {
             "colorbar": {
              "outlinewidth": 0,
              "ticks": ""
             }
            },
            "type": "scatterpolar"
           }
          ],
          "scatterpolargl": [
           {
            "marker": {
             "colorbar": {
              "outlinewidth": 0,
              "ticks": ""
             }
            },
            "type": "scatterpolargl"
           }
          ],
          "scatterternary": [
           {
            "marker": {
             "colorbar": {
              "outlinewidth": 0,
              "ticks": ""
             }
            },
            "type": "scatterternary"
           }
          ],
          "surface": [
           {
            "colorbar": {
             "outlinewidth": 0,
             "ticks": ""
            },
            "colorscale": [
             [
              0,
              "#0d0887"
             ],
             [
              0.1111111111111111,
              "#46039f"
             ],
             [
              0.2222222222222222,
              "#7201a8"
             ],
             [
              0.3333333333333333,
              "#9c179e"
             ],
             [
              0.4444444444444444,
              "#bd3786"
             ],
             [
              0.5555555555555556,
              "#d8576b"
             ],
             [
              0.6666666666666666,
              "#ed7953"
             ],
             [
              0.7777777777777778,
              "#fb9f3a"
             ],
             [
              0.8888888888888888,
              "#fdca26"
             ],
             [
              1,
              "#f0f921"
             ]
            ],
            "type": "surface"
           }
          ],
          "table": [
           {
            "cells": {
             "fill": {
              "color": "#EBF0F8"
             },
             "line": {
              "color": "white"
             }
            },
            "header": {
             "fill": {
              "color": "#C8D4E3"
             },
             "line": {
              "color": "white"
             }
            },
            "type": "table"
           }
          ]
         },
         "layout": {
          "annotationdefaults": {
           "arrowcolor": "#2a3f5f",
           "arrowhead": 0,
           "arrowwidth": 1
          },
          "autotypenumbers": "strict",
          "coloraxis": {
           "colorbar": {
            "outlinewidth": 0,
            "ticks": ""
           }
          },
          "colorscale": {
           "diverging": [
            [
             0,
             "#8e0152"
            ],
            [
             0.1,
             "#c51b7d"
            ],
            [
             0.2,
             "#de77ae"
            ],
            [
             0.3,
             "#f1b6da"
            ],
            [
             0.4,
             "#fde0ef"
            ],
            [
             0.5,
             "#f7f7f7"
            ],
            [
             0.6,
             "#e6f5d0"
            ],
            [
             0.7,
             "#b8e186"
            ],
            [
             0.8,
             "#7fbc41"
            ],
            [
             0.9,
             "#4d9221"
            ],
            [
             1,
             "#276419"
            ]
           ],
           "sequential": [
            [
             0,
             "#0d0887"
            ],
            [
             0.1111111111111111,
             "#46039f"
            ],
            [
             0.2222222222222222,
             "#7201a8"
            ],
            [
             0.3333333333333333,
             "#9c179e"
            ],
            [
             0.4444444444444444,
             "#bd3786"
            ],
            [
             0.5555555555555556,
             "#d8576b"
            ],
            [
             0.6666666666666666,
             "#ed7953"
            ],
            [
             0.7777777777777778,
             "#fb9f3a"
            ],
            [
             0.8888888888888888,
             "#fdca26"
            ],
            [
             1,
             "#f0f921"
            ]
           ],
           "sequentialminus": [
            [
             0,
             "#0d0887"
            ],
            [
             0.1111111111111111,
             "#46039f"
            ],
            [
             0.2222222222222222,
             "#7201a8"
            ],
            [
             0.3333333333333333,
             "#9c179e"
            ],
            [
             0.4444444444444444,
             "#bd3786"
            ],
            [
             0.5555555555555556,
             "#d8576b"
            ],
            [
             0.6666666666666666,
             "#ed7953"
            ],
            [
             0.7777777777777778,
             "#fb9f3a"
            ],
            [
             0.8888888888888888,
             "#fdca26"
            ],
            [
             1,
             "#f0f921"
            ]
           ]
          },
          "colorway": [
           "#636efa",
           "#EF553B",
           "#00cc96",
           "#ab63fa",
           "#FFA15A",
           "#19d3f3",
           "#FF6692",
           "#B6E880",
           "#FF97FF",
           "#FECB52"
          ],
          "font": {
           "color": "#2a3f5f"
          },
          "geo": {
           "bgcolor": "white",
           "lakecolor": "white",
           "landcolor": "#E5ECF6",
           "showlakes": true,
           "showland": true,
           "subunitcolor": "white"
          },
          "hoverlabel": {
           "align": "left"
          },
          "hovermode": "closest",
          "mapbox": {
           "style": "light"
          },
          "paper_bgcolor": "white",
          "plot_bgcolor": "#E5ECF6",
          "polar": {
           "angularaxis": {
            "gridcolor": "white",
            "linecolor": "white",
            "ticks": ""
           },
           "bgcolor": "#E5ECF6",
           "radialaxis": {
            "gridcolor": "white",
            "linecolor": "white",
            "ticks": ""
           }
          },
          "scene": {
           "xaxis": {
            "backgroundcolor": "#E5ECF6",
            "gridcolor": "white",
            "gridwidth": 2,
            "linecolor": "white",
            "showbackground": true,
            "ticks": "",
            "zerolinecolor": "white"
           },
           "yaxis": {
            "backgroundcolor": "#E5ECF6",
            "gridcolor": "white",
            "gridwidth": 2,
            "linecolor": "white",
            "showbackground": true,
            "ticks": "",
            "zerolinecolor": "white"
           },
           "zaxis": {
            "backgroundcolor": "#E5ECF6",
            "gridcolor": "white",
            "gridwidth": 2,
            "linecolor": "white",
            "showbackground": true,
            "ticks": "",
            "zerolinecolor": "white"
           }
          },
          "shapedefaults": {
           "line": {
            "color": "#2a3f5f"
           }
          },
          "ternary": {
           "aaxis": {
            "gridcolor": "white",
            "linecolor": "white",
            "ticks": ""
           },
           "baxis": {
            "gridcolor": "white",
            "linecolor": "white",
            "ticks": ""
           },
           "bgcolor": "#E5ECF6",
           "caxis": {
            "gridcolor": "white",
            "linecolor": "white",
            "ticks": ""
           }
          },
          "title": {
           "x": 0.05
          },
          "xaxis": {
           "automargin": true,
           "gridcolor": "white",
           "linecolor": "white",
           "ticks": "",
           "title": {
            "standoff": 15
           },
           "zerolinecolor": "white",
           "zerolinewidth": 2
          },
          "yaxis": {
           "automargin": true,
           "gridcolor": "white",
           "linecolor": "white",
           "ticks": "",
           "title": {
            "standoff": 15
           },
           "zerolinecolor": "white",
           "zerolinewidth": 2
          }
         }
        },
        "title": {
         "text": "Déviations obtenues par les différentes méthodes"
        },
        "xaxis": {
         "tickangle": -45,
         "title": {
          "text": "Instance"
         }
        },
        "yaxis": {
         "title": {
          "text": "Déviation"
         }
        }
       }
      },
      "text/html": [
       "<div>                            <div id=\"2132bb08-d830-4a98-b8b9-e2c69bf328b2\" class=\"plotly-graph-div\" style=\"height:525px; width:100%;\"></div>            <script type=\"text/javascript\">                require([\"plotly\"], function(Plotly) {                    window.PLOTLYENV=window.PLOTLYENV || {};                                    if (document.getElementById(\"2132bb08-d830-4a98-b8b9-e2c69bf328b2\")) {                    Plotly.newPlot(                        \"2132bb08-d830-4a98-b8b9-e2c69bf328b2\",                        [{\"marker\":{\"color\":\"#176ab4\"},\"name\":\"ILS\",\"x\":[1,2,3,4,5,6,7,8,9,10],\"y\":[3.4428794992175273,0.8830022075055187,4.717853839037928,6.2645011600928076,2.831715210355987,3.096234309623431,2.9862792574656982,5.555555555555555,4.634146341463414,4.783393501805054],\"type\":\"bar\"},{\"marker\":{\"color\":\"#4b9cd3\"},\"name\":\"TS\",\"x\":[1,2,3,4,5,6,7,8,9,10],\"y\":[0.1564945226917058,0.515084621044886,0.7400555041628122,0.6187161639597835,0.5663430420711975,1.2552301255230125,0.9685230024213075,0.0,1.7886178861788617,0.0],\"type\":\"bar\"},{\"marker\":{\"color\":\"#6c3483\"},\"name\":\"GVNS\",\"x\":[1,2,3,4,5,6,7,8,9,10],\"y\":[0.0,0.07358351729212656,0.6475485661424607,0.30935808197989173,-0.08090614886731393,0.0,0.9685230024213076,0.0,0.0,0.0],\"type\":\"bar\"},{\"marker\":{\"color\":\"#9b59b6\"},\"name\":\"GRASP\",\"x\":[1,2,3,4,5,6,7,8,9,10],\"y\":[3.051643192488263,1.3245033112582782,5.735430157261795,1.6241299303944317,1.132686084142395,1.5899581589958158,4.358353510895884,7.960199004975125,2.032520325203252,2.0758122743682312],\"type\":\"bar\"}],                        {\"template\":{\"data\":{\"histogram2dcontour\":[{\"type\":\"histogram2dcontour\",\"colorbar\":{\"outlinewidth\":0,\"ticks\":\"\"},\"colorscale\":[[0.0,\"#0d0887\"],[0.1111111111111111,\"#46039f\"],[0.2222222222222222,\"#7201a8\"],[0.3333333333333333,\"#9c179e\"],[0.4444444444444444,\"#bd3786\"],[0.5555555555555556,\"#d8576b\"],[0.6666666666666666,\"#ed7953\"],[0.7777777777777778,\"#fb9f3a\"],[0.8888888888888888,\"#fdca26\"],[1.0,\"#f0f921\"]]}],\"choropleth\":[{\"type\":\"choropleth\",\"colorbar\":{\"outlinewidth\":0,\"ticks\":\"\"}}],\"histogram2d\":[{\"type\":\"histogram2d\",\"colorbar\":{\"outlinewidth\":0,\"ticks\":\"\"},\"colorscale\":[[0.0,\"#0d0887\"],[0.1111111111111111,\"#46039f\"],[0.2222222222222222,\"#7201a8\"],[0.3333333333333333,\"#9c179e\"],[0.4444444444444444,\"#bd3786\"],[0.5555555555555556,\"#d8576b\"],[0.6666666666666666,\"#ed7953\"],[0.7777777777777778,\"#fb9f3a\"],[0.8888888888888888,\"#fdca26\"],[1.0,\"#f0f921\"]]}],\"heatmap\":[{\"type\":\"heatmap\",\"colorbar\":{\"outlinewidth\":0,\"ticks\":\"\"},\"colorscale\":[[0.0,\"#0d0887\"],[0.1111111111111111,\"#46039f\"],[0.2222222222222222,\"#7201a8\"],[0.3333333333333333,\"#9c179e\"],[0.4444444444444444,\"#bd3786\"],[0.5555555555555556,\"#d8576b\"],[0.6666666666666666,\"#ed7953\"],[0.7777777777777778,\"#fb9f3a\"],[0.8888888888888888,\"#fdca26\"],[1.0,\"#f0f921\"]]}],\"heatmapgl\":[{\"type\":\"heatmapgl\",\"colorbar\":{\"outlinewidth\":0,\"ticks\":\"\"},\"colorscale\":[[0.0,\"#0d0887\"],[0.1111111111111111,\"#46039f\"],[0.2222222222222222,\"#7201a8\"],[0.3333333333333333,\"#9c179e\"],[0.4444444444444444,\"#bd3786\"],[0.5555555555555556,\"#d8576b\"],[0.6666666666666666,\"#ed7953\"],[0.7777777777777778,\"#fb9f3a\"],[0.8888888888888888,\"#fdca26\"],[1.0,\"#f0f921\"]]}],\"contourcarpet\":[{\"type\":\"contourcarpet\",\"colorbar\":{\"outlinewidth\":0,\"ticks\":\"\"}}],\"contour\":[{\"type\":\"contour\",\"colorbar\":{\"outlinewidth\":0,\"ticks\":\"\"},\"colorscale\":[[0.0,\"#0d0887\"],[0.1111111111111111,\"#46039f\"],[0.2222222222222222,\"#7201a8\"],[0.3333333333333333,\"#9c179e\"],[0.4444444444444444,\"#bd3786\"],[0.5555555555555556,\"#d8576b\"],[0.6666666666666666,\"#ed7953\"],[0.7777777777777778,\"#fb9f3a\"],[0.8888888888888888,\"#fdca26\"],[1.0,\"#f0f921\"]]}],\"surface\":[{\"type\":\"surface\",\"colorbar\":{\"outlinewidth\":0,\"ticks\":\"\"},\"colorscale\":[[0.0,\"#0d0887\"],[0.1111111111111111,\"#46039f\"],[0.2222222222222222,\"#7201a8\"],[0.3333333333333333,\"#9c179e\"],[0.4444444444444444,\"#bd3786\"],[0.5555555555555556,\"#d8576b\"],[0.6666666666666666,\"#ed7953\"],[0.7777777777777778,\"#fb9f3a\"],[0.8888888888888888,\"#fdca26\"],[1.0,\"#f0f921\"]]}],\"mesh3d\":[{\"type\":\"mesh3d\",\"colorbar\":{\"outlinewidth\":0,\"ticks\":\"\"}}],\"scatter\":[{\"fillpattern\":{\"fillmode\":\"overlay\",\"size\":10,\"solidity\":0.2},\"type\":\"scatter\"}],\"parcoords\":[{\"type\":\"parcoords\",\"line\":{\"colorbar\":{\"outlinewidth\":0,\"ticks\":\"\"}}}],\"scatterpolargl\":[{\"type\":\"scatterpolargl\",\"marker\":{\"colorbar\":{\"outlinewidth\":0,\"ticks\":\"\"}}}],\"bar\":[{\"error_x\":{\"color\":\"#2a3f5f\"},\"error_y\":{\"color\":\"#2a3f5f\"},\"marker\":{\"line\":{\"color\":\"#E5ECF6\",\"width\":0.5},\"pattern\":{\"fillmode\":\"overlay\",\"size\":10,\"solidity\":0.2}},\"type\":\"bar\"}],\"scattergeo\":[{\"type\":\"scattergeo\",\"marker\":{\"colorbar\":{\"outlinewidth\":0,\"ticks\":\"\"}}}],\"scatterpolar\":[{\"type\":\"scatterpolar\",\"marker\":{\"colorbar\":{\"outlinewidth\":0,\"ticks\":\"\"}}}],\"histogram\":[{\"marker\":{\"pattern\":{\"fillmode\":\"overlay\",\"size\":10,\"solidity\":0.2}},\"type\":\"histogram\"}],\"scattergl\":[{\"type\":\"scattergl\",\"marker\":{\"colorbar\":{\"outlinewidth\":0,\"ticks\":\"\"}}}],\"scatter3d\":[{\"type\":\"scatter3d\",\"line\":{\"colorbar\":{\"outlinewidth\":0,\"ticks\":\"\"}},\"marker\":{\"colorbar\":{\"outlinewidth\":0,\"ticks\":\"\"}}}],\"scattermapbox\":[{\"type\":\"scattermapbox\",\"marker\":{\"colorbar\":{\"outlinewidth\":0,\"ticks\":\"\"}}}],\"scatterternary\":[{\"type\":\"scatterternary\",\"marker\":{\"colorbar\":{\"outlinewidth\":0,\"ticks\":\"\"}}}],\"scattercarpet\":[{\"type\":\"scattercarpet\",\"marker\":{\"colorbar\":{\"outlinewidth\":0,\"ticks\":\"\"}}}],\"carpet\":[{\"aaxis\":{\"endlinecolor\":\"#2a3f5f\",\"gridcolor\":\"white\",\"linecolor\":\"white\",\"minorgridcolor\":\"white\",\"startlinecolor\":\"#2a3f5f\"},\"baxis\":{\"endlinecolor\":\"#2a3f5f\",\"gridcolor\":\"white\",\"linecolor\":\"white\",\"minorgridcolor\":\"white\",\"startlinecolor\":\"#2a3f5f\"},\"type\":\"carpet\"}],\"table\":[{\"cells\":{\"fill\":{\"color\":\"#EBF0F8\"},\"line\":{\"color\":\"white\"}},\"header\":{\"fill\":{\"color\":\"#C8D4E3\"},\"line\":{\"color\":\"white\"}},\"type\":\"table\"}],\"barpolar\":[{\"marker\":{\"line\":{\"color\":\"#E5ECF6\",\"width\":0.5},\"pattern\":{\"fillmode\":\"overlay\",\"size\":10,\"solidity\":0.2}},\"type\":\"barpolar\"}],\"pie\":[{\"automargin\":true,\"type\":\"pie\"}]},\"layout\":{\"autotypenumbers\":\"strict\",\"colorway\":[\"#636efa\",\"#EF553B\",\"#00cc96\",\"#ab63fa\",\"#FFA15A\",\"#19d3f3\",\"#FF6692\",\"#B6E880\",\"#FF97FF\",\"#FECB52\"],\"font\":{\"color\":\"#2a3f5f\"},\"hovermode\":\"closest\",\"hoverlabel\":{\"align\":\"left\"},\"paper_bgcolor\":\"white\",\"plot_bgcolor\":\"#E5ECF6\",\"polar\":{\"bgcolor\":\"#E5ECF6\",\"angularaxis\":{\"gridcolor\":\"white\",\"linecolor\":\"white\",\"ticks\":\"\"},\"radialaxis\":{\"gridcolor\":\"white\",\"linecolor\":\"white\",\"ticks\":\"\"}},\"ternary\":{\"bgcolor\":\"#E5ECF6\",\"aaxis\":{\"gridcolor\":\"white\",\"linecolor\":\"white\",\"ticks\":\"\"},\"baxis\":{\"gridcolor\":\"white\",\"linecolor\":\"white\",\"ticks\":\"\"},\"caxis\":{\"gridcolor\":\"white\",\"linecolor\":\"white\",\"ticks\":\"\"}},\"coloraxis\":{\"colorbar\":{\"outlinewidth\":0,\"ticks\":\"\"}},\"colorscale\":{\"sequential\":[[0.0,\"#0d0887\"],[0.1111111111111111,\"#46039f\"],[0.2222222222222222,\"#7201a8\"],[0.3333333333333333,\"#9c179e\"],[0.4444444444444444,\"#bd3786\"],[0.5555555555555556,\"#d8576b\"],[0.6666666666666666,\"#ed7953\"],[0.7777777777777778,\"#fb9f3a\"],[0.8888888888888888,\"#fdca26\"],[1.0,\"#f0f921\"]],\"sequentialminus\":[[0.0,\"#0d0887\"],[0.1111111111111111,\"#46039f\"],[0.2222222222222222,\"#7201a8\"],[0.3333333333333333,\"#9c179e\"],[0.4444444444444444,\"#bd3786\"],[0.5555555555555556,\"#d8576b\"],[0.6666666666666666,\"#ed7953\"],[0.7777777777777778,\"#fb9f3a\"],[0.8888888888888888,\"#fdca26\"],[1.0,\"#f0f921\"]],\"diverging\":[[0,\"#8e0152\"],[0.1,\"#c51b7d\"],[0.2,\"#de77ae\"],[0.3,\"#f1b6da\"],[0.4,\"#fde0ef\"],[0.5,\"#f7f7f7\"],[0.6,\"#e6f5d0\"],[0.7,\"#b8e186\"],[0.8,\"#7fbc41\"],[0.9,\"#4d9221\"],[1,\"#276419\"]]},\"xaxis\":{\"gridcolor\":\"white\",\"linecolor\":\"white\",\"ticks\":\"\",\"title\":{\"standoff\":15},\"zerolinecolor\":\"white\",\"automargin\":true,\"zerolinewidth\":2},\"yaxis\":{\"gridcolor\":\"white\",\"linecolor\":\"white\",\"ticks\":\"\",\"title\":{\"standoff\":15},\"zerolinecolor\":\"white\",\"automargin\":true,\"zerolinewidth\":2},\"scene\":{\"xaxis\":{\"backgroundcolor\":\"#E5ECF6\",\"gridcolor\":\"white\",\"linecolor\":\"white\",\"showbackground\":true,\"ticks\":\"\",\"zerolinecolor\":\"white\",\"gridwidth\":2},\"yaxis\":{\"backgroundcolor\":\"#E5ECF6\",\"gridcolor\":\"white\",\"linecolor\":\"white\",\"showbackground\":true,\"ticks\":\"\",\"zerolinecolor\":\"white\",\"gridwidth\":2},\"zaxis\":{\"backgroundcolor\":\"#E5ECF6\",\"gridcolor\":\"white\",\"linecolor\":\"white\",\"showbackground\":true,\"ticks\":\"\",\"zerolinecolor\":\"white\",\"gridwidth\":2}},\"shapedefaults\":{\"line\":{\"color\":\"#2a3f5f\"}},\"annotationdefaults\":{\"arrowcolor\":\"#2a3f5f\",\"arrowhead\":0,\"arrowwidth\":1},\"geo\":{\"bgcolor\":\"white\",\"landcolor\":\"#E5ECF6\",\"subunitcolor\":\"white\",\"showland\":true,\"showlakes\":true,\"lakecolor\":\"white\"},\"title\":{\"x\":0.05},\"mapbox\":{\"style\":\"light\"}}},\"xaxis\":{\"tickangle\":-45,\"title\":{\"text\":\"Instance\"}},\"title\":{\"text\":\"D\\u00e9viations obtenues par les diff\\u00e9rentes m\\u00e9thodes\"},\"barmode\":\"group\",\"yaxis\":{\"title\":{\"text\":\"D\\u00e9viation\"}}},                        {\"responsive\": true}                    ).then(function(){\n",
       "                            \n",
       "var gd = document.getElementById('2132bb08-d830-4a98-b8b9-e2c69bf328b2');\n",
       "var x = new MutationObserver(function (mutations, observer) {{\n",
       "        var display = window.getComputedStyle(gd).display;\n",
       "        if (!display || display === 'none') {{\n",
       "            console.log([gd, 'removed!']);\n",
       "            Plotly.purge(gd);\n",
       "            observer.disconnect();\n",
       "        }}\n",
       "}});\n",
       "\n",
       "// Listen for the removal of the full notebook cells\n",
       "var notebookContainer = gd.closest('#notebook-container');\n",
       "if (notebookContainer) {{\n",
       "    x.observe(notebookContainer, {childList: true});\n",
       "}}\n",
       "\n",
       "// Listen for the clearing of the current output cell\n",
       "var outputEl = gd.closest('.output');\n",
       "if (outputEl) {{\n",
       "    x.observe(outputEl, {childList: true});\n",
       "}}\n",
       "\n",
       "                        })                };                });            </script>        </div>"
      ]
     },
     "metadata": {},
     "output_type": "display_data"
    }
   ],
   "source": [
    "import plotly.graph_objects as go\n",
    "from plotly.offline import iplot, init_notebook_mode\n",
    "init_notebook_mode(connected=True)\n",
    "\n",
    "\n",
    "\n",
    "fig = go.Figure()\n",
    "fig.add_trace(go.Bar(\n",
    "    x=instances,\n",
    "    y=dev_cds_ils,\n",
    "    name='ILS',\n",
    "    marker_color='#176ab4'\n",
    "))\n",
    "fig.add_trace(go.Bar(\n",
    "    x=instances,\n",
    "    y=dev_cds_ts,\n",
    "    name='TS',\n",
    "    marker_color='#4b9cd3'\n",
    "))\n",
    "fig.add_trace(go.Bar(\n",
    "    x=instances,\n",
    "    y=dev_cds_gvns,\n",
    "    name='GVNS',\n",
    "    marker_color='#6c3483'\n",
    "))\n",
    "fig.add_trace(go.Bar(\n",
    "    x=instances,\n",
    "    y=dev_cds_grasp,\n",
    "    name='GRASP',\n",
    "    marker_color='#9b59b6'\n",
    "))\n",
    "\n",
    "# Here we modify the tickangle of the xaxis, resulting in rotated labels.\n",
    "fig.update_layout(barmode='group', xaxis_tickangle=-45, xaxis_title =\"Instance\", yaxis_title=\"Déviation\", title_text=\"Déviations obtenues par les différentes méthodes\")\n",
    "fig.show()"
   ]
  }
 ],
 "metadata": {
  "kernelspec": {
   "display_name": "Python 3 (ipykernel)",
   "language": "python",
   "name": "python3"
  },
  "language_info": {
   "codemirror_mode": {
    "name": "ipython",
    "version": 3
   },
   "file_extension": ".py",
   "mimetype": "text/x-python",
   "name": "python",
   "nbconvert_exporter": "python",
   "pygments_lexer": "ipython3",
   "version": "3.9.13"
  }
 },
 "nbformat": 4,
 "nbformat_minor": 5
}
